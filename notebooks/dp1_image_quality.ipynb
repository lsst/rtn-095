{
 "cells": [
  {
   "cell_type": "markdown",
   "id": "44436a0a-710e-47ee-88cb-60e3339552e5",
   "metadata": {
    "execution": {
     "iopub.execute_input": "2025-04-24T18:13:21.893995Z",
     "iopub.status.busy": "2025-04-24T18:13:21.893582Z",
     "iopub.status.idle": "2025-04-24T18:13:21.896321Z",
     "shell.execute_reply": "2025-04-24T18:13:21.895928Z",
     "shell.execute_reply.started": "2025-04-24T18:13:21.893971Z"
    }
   },
   "source": [
    "<img align=\"left\" src = https://project.lsst.org/sites/default/files/Rubin-O-Logo_0.png width=250 style=\"padding: 10px\"\n",
    "alt=\"Rubin Observatory logo, a graphical representation of turning stars into data.\"> <br><br>\n",
    "**Description:** Generate delivered image quality plots for DP1 data. <br>\n",
    "**Authors:** Original version for LSSTComCam: Keith Bechtol. Modified version for DP1:  Leanne Guy, <br>\n",
    "**Last verified to run:** 2025-05-25 <br>\n",
    "**LSST Science Pipelines version:** v29.0.1<br>\n",
    "**Container size:** medium <br>"
   ]
  },
  {
   "cell_type": "code",
   "execution_count": null,
   "id": "3136a0f3-5372-400c-b748-48c4f25709b4",
   "metadata": {},
   "outputs": [],
   "source": [
    "import numpy as np\n",
    "import pandas as pd\n",
    "import matplotlib.pyplot as plt\n",
    "from statsmodels.distributions.empirical_distribution import ECDF\n",
    "\n",
    "from lsst.daf.butler import Butler\n",
    "import lsst.geom\n",
    "\n",
    "# Set a standard figure size to use\n",
    "from lsst.utils.plotting import publication_plots\n",
    "from lsst.utils.plotting import get_multiband_plot_colors, get_multiband_plot_symbols, get_multiband_plot_linestyles"
   ]
  },
  {
   "cell_type": "code",
   "execution_count": null,
   "id": "1b411f13-4886-4280-83ba-244682d4eb81",
   "metadata": {},
   "outputs": [],
   "source": [
    "instrument = 'LSSTComCam'\n",
    "collections = ['LSSTComCam/raw/all', \n",
    "               'LSSTComCam/DP1/defaults', \n",
    "               'LSSTComCam/runs/DRP/DP1/v29_0_0/DM-50260' ]\n",
    "skymap = 'lsst_cells_v1'\n",
    "butler = Butler(\"/repo/dp1\",\n",
    "                instrument=instrument, \n",
    "                collections=collections, \n",
    "                skymap=skymap)"
   ]
  },
  {
   "cell_type": "code",
   "execution_count": null,
   "id": "8584dc5f-108d-4053-98a0-251ff39c99ec",
   "metadata": {},
   "outputs": [],
   "source": [
    "# Applying the Rubin DP1 paper custom style sheet to all of the graphs to be created in this notebook\n",
    "publication_plots.set_rubin_plotstyle()\n",
    "bands_dict = publication_plots.get_band_dicts()\n",
    "colors = get_multiband_plot_colors()\n",
    "bands = colors.keys()  # important to get the right order for plot legends\n",
    "%matplotlib inline"
   ]
  },
  {
   "cell_type": "code",
   "execution_count": null,
   "id": "4dee93c9-69d0-4641-a526-b5c6b4c1bba9",
   "metadata": {},
   "outputs": [],
   "source": [
    "# Force to unpushed updated color scheme.\n",
    "colors ={\"u\": \"#48A8D4\",\n",
    "         \"g\": \"#31DE1F\",\n",
    "         \"r\": \"#B52626\",\n",
    "         \"i\": \"#2915A4\",\n",
    "         \"z\": \"#AD03EA\",\n",
    "         \"y\": \"#2D0201\",\n",
    "}\n",
    "bands = colors.keys()  # important to get the right order for plot legends"
   ]
  },
  {
   "cell_type": "code",
   "execution_count": null,
   "id": "a9fd2572-a3e8-44b8-b53d-4dcb298258fc",
   "metadata": {},
   "outputs": [],
   "source": [
    "visit_detector_table = butler.get(\"visit_detector_table\", storageClass=\"DataFrame\")"
   ]
  },
  {
   "cell_type": "code",
   "execution_count": null,
   "id": "5aa2e7e9-1175-4acd-b9d7-3e3864d0f61e",
   "metadata": {},
   "outputs": [],
   "source": [
    "# Extract and format data for analysis\n",
    "df = visit_detector_table[['detectorId','visitId', 'band', 'psfSigma','seeing']].copy()\n",
    "df[\"psfFwhm\"]=df[\"psfSigma\"]*2.355*0.2\n",
    "df"
   ]
  },
  {
   "cell_type": "code",
   "execution_count": null,
   "id": "591e91f9-7293-4a07-af68-820b1bed2df6",
   "metadata": {},
   "outputs": [],
   "source": [
    "# Best delivered IQ\n",
    "min_row = df.loc[df['psfFwhm'].idxmin()]\n",
    "min_row"
   ]
  },
  {
   "cell_type": "code",
   "execution_count": null,
   "id": "22a418b7-ec72-40b9-b99a-039c86d47aeb",
   "metadata": {},
   "outputs": [],
   "source": [
    "# This is very low -- 0.135 arcsec seeing is not physical.\n",
    "# How should these be treated in the analysis? \n",
    "rows = df[df['visitId'] == 2024112400119]\n",
    "rows"
   ]
  },
  {
   "cell_type": "code",
   "execution_count": null,
   "id": "1cfbb3be-e2e9-4b04-a054-9420a78a875f",
   "metadata": {},
   "outputs": [],
   "source": [
    "# This is clearly non-physical \n",
    "# Count number of visits with IQ <= 0.65 (or threshold)\n",
    "t_low = 0.5\n",
    "t_high = 0.6\n",
    "df_iq_analysis = df[(df['psfFwhm'] >= t_low) & (df['psfFwhm'] < t_high)]\n",
    "visit_detector_pairs = df_iq_analysis[['visitId', 'detectorId', 'psfFwhm']].drop_duplicates().values.tolist()\n",
    "print(f\"Visit/Dector pairs with IQ in {t_low}, {t_high}\\nID (visitId, detectorId, psfFwhm): {visit_detector_pairs}\")"
   ]
  },
  {
   "cell_type": "code",
   "execution_count": null,
   "id": "b4f601a1-0cb9-4415-844b-0451fbee2073",
   "metadata": {},
   "outputs": [],
   "source": [
    "# This is clearly non-physical \n",
    "# Current analysis -- Put a lower cut on IQ at 0.6  to exclude non-physical values \n",
    "# -- based on SITCOMTN report of 0.65 bing best IQ \n",
    "\n",
    "# remove artificial cut for analysis\n",
    "#df = df[df['psfFwhm'] >= 0.6]"
   ]
  },
  {
   "cell_type": "code",
   "execution_count": null,
   "id": "cc1c8565-dbc7-46fb-bfb0-5b4c51263f5a",
   "metadata": {},
   "outputs": [],
   "source": [
    "min_row = df.loc[df['psfFwhm'].idxmin()]\n",
    "print(f\"Best delivered image quality {min_row}\")"
   ]
  },
  {
   "cell_type": "code",
   "execution_count": null,
   "id": "b85179e5-2e73-4fff-968f-b986043d4ded",
   "metadata": {},
   "outputs": [],
   "source": [
    "# Compute all band summary statistics\n",
    "quantiles = [25, 50, 75]\n",
    "\n",
    "iq_summary_all = df['psfFwhm'].quantile([q/100 for q in quantiles]).apply(\n",
    "    lambda x: round(x, 2)).to_frame().T\n",
    "iq_summary_all['mean'] = round(df['psfFwhm'].mean(), 2)\n",
    "iq_summary_all.index = ['all']\n",
    "iq_summary_all.index.name = 'band'\n",
    "\n",
    "# Compute summary statistics by band \n",
    "iq_summary_band = df.groupby('band')['psfFwhm'].quantile(\n",
    "    [q / 100 for q in quantiles]).apply(\n",
    "    lambda x: round(x, 2)).unstack()\n",
    "iq_summary_band['mean'] = df.groupby('band')['psfFwhm'].mean().round(2)\n",
    "iq_summary_band.index.name = 'band'\n",
    "\n",
    "# Concatenate and sort and set type \n",
    "iq_summary = pd.concat([iq_summary_band, iq_summary_all])\n",
    "iq_summary = iq_summary.astype(float)\n",
    "band_order =  list(bands) +  ['all'] \n",
    "iq_summary.index = pd.CategoricalIndex(\n",
    "    iq_summary.index, categories=band_order, \n",
    "    ordered=True, name='band')\n",
    "iq_summary = iq_summary.sort_index()\n",
    "iq_summary"
   ]
  },
  {
   "cell_type": "markdown",
   "id": "86977a45-636a-4fb5-9a40-c00b62e74796",
   "metadata": {},
   "source": [
    "## Plots of the Image quality "
   ]
  },
  {
   "cell_type": "code",
   "execution_count": null,
   "id": "c28c40ec-30f1-452d-9cd1-96b1c3dd2ee5",
   "metadata": {},
   "outputs": [],
   "source": [
    "# Extract data from visit table for plotting\n",
    "data = {}\n",
    "for band in bands:\n",
    "    data[band] = np.array(df[df['band'].str.contains(band)]['psfFwhm']) "
   ]
  },
  {
   "cell_type": "code",
   "execution_count": null,
   "id": "107fb8d4-e37e-40eb-96fb-21fa1d5aabb7",
   "metadata": {},
   "outputs": [],
   "source": [
    "# IQ histogram - not for inclusion in the paper but interesting\n",
    "plt.figure()\n",
    "\n",
    "for label, d in data.items():\n",
    "    plt.hist(d, bins=20, alpha=0.5,\n",
    "             linestyle='-',\n",
    "             color = colors[label],\n",
    "             label=label)\n",
    "\n",
    "# Customize plot\n",
    "plt.xlabel('PSF FWHM [arcsec]')\n",
    "plt.ylabel('Fraction of Sensors')\n",
    "plt.grid(True)\n",
    "plt.legend()\n",
    "# plt.xlim(0, 0.9)  \n",
    "# plt.ylim(0, 500) \n",
    "\n",
    "plt.savefig(\"../figures/image_quality_histo.pdf\", \n",
    "            bbox_inches='tight',  # Trim whitespace around the figure\n",
    "            transparent=True,     # Transparent background\n",
    "            format='png')         # Explicit format specification\n",
    "plt.show()"
   ]
  },
  {
   "cell_type": "code",
   "execution_count": null,
   "id": "a3db265c-217e-4d63-9858-419b13355921",
   "metadata": {},
   "outputs": [],
   "source": [
    "# IQ ECDF\n",
    "plt.figure()\n",
    "\n",
    "for label, d in data.items():\n",
    "    ecdf = ECDF(d)\n",
    "    plt.plot(ecdf.x, ecdf.y, \n",
    "             linestyle='-',\n",
    "             color = colors[label],\n",
    "             label=label)\n",
    "\n",
    "# Customize plot\n",
    "plt.xlabel('PSF FWHM [arcsec]')\n",
    "plt.ylabel('Fraction of Sensors')\n",
    "plt.grid(True)\n",
    "plt.xlim(0.4, 2.7)\n",
    "plt.legend()\n",
    "plt.savefig(\"../figures/image_quality_ecdf.pdf\", \n",
    "            bbox_inches='tight',  # Trim whitespace around the figure\n",
    "            transparent=True,     # Transparent background\n",
    "            format='png')         # Explicit format specification\n",
    "plt.show()"
   ]
  },
  {
   "cell_type": "code",
   "execution_count": null,
   "id": "c93c6839-a90e-437c-b875-0cde884547e1",
   "metadata": {},
   "outputs": [],
   "source": [
    "# Investigate the variation by field -- expect to be minimal\n",
    "# TODO"
   ]
  },
  {
   "cell_type": "code",
   "execution_count": null,
   "id": "93a2ec06-8777-4b1d-9210-4e357aeaeb4a",
   "metadata": {},
   "outputs": [],
   "source": [
    "plt.close()"
   ]
  },
  {
   "cell_type": "markdown",
   "id": "361eb3f4-395b-4a89-b15f-f8b0a0b39dbb",
   "metadata": {},
   "source": [
    "## Write out latex tables"
   ]
  },
  {
   "cell_type": "code",
   "execution_count": null,
   "id": "877c5d5e-3589-4cba-8974-bcdb351a7400",
   "metadata": {},
   "outputs": [],
   "source": [
    "# Convert to latex format\n",
    "# Insert blank colum for nice spacing in table \n",
    "data_latex = iq_summary.drop('mean', axis=1)\n",
    "data_latex.insert(0, ' ', ' ')\n",
    "data_latex = data_latex.to_latex(index=True, \n",
    "                                       bold_rows=False, float_format='%.2f'\n",
    "                            )\n",
    "data_latex = data_latex.split(\"midrule\\n\", 1)[-1]  # Keeps the part after 'midrule'\n",
    "data_latex = data_latex.split(\"\\\\bottomrule\", 1)[0]  # Keeps the part before 'bottomrule'\n",
    "data_latex"
   ]
  },
  {
   "cell_type": "code",
   "execution_count": null,
   "id": "85868f06-1f22-42c8-93f0-f71a36362f61",
   "metadata": {},
   "outputs": [],
   "source": [
    "# Write to latex table\n",
    "with open(\"../tables/image_quality_summary.tex\", \"w\") as f:\n",
    "    f.write(r\"\"\"%%%%% This table is auto generated from data, DO NOT EDIT\n",
    "\\setlength{\\tabcolsep}{14pt} \n",
    "\\begin{deluxetable*}{ccccc}\n",
    "\\tablecaption{Image quality expressed in terms of PSF FWHM in arcseconds per band and for all bands.\n",
    "\\label{tab:image_quality} }\n",
    "\\tablehead{\n",
    "  \\colhead{\\textbf{Band}} && \\multicolumn{3}{c}{\\textbf{Quantile (\\%)}} \\\\\n",
    "  \\cline{3-5}\n",
    "   & & 25& 50& 75 \n",
    "}\n",
    "\\startdata\n",
    "\"\"\")\n",
    "    f.write(data_latex)\n",
    "    f.write(r\"\"\"\\enddata\n",
    "\\end{deluxetable*}\n",
    "\"\"\")\n",
    "f.close()"
   ]
  }
 ],
 "metadata": {
  "kernelspec": {
   "display_name": "LSST",
   "language": "python",
   "name": "lsst"
  },
  "language_info": {
   "codemirror_mode": {
    "name": "ipython",
    "version": 3
   },
   "file_extension": ".py",
   "mimetype": "text/x-python",
   "name": "python",
   "nbconvert_exporter": "python",
   "pygments_lexer": "ipython3",
   "version": "3.12.10"
  }
 },
 "nbformat": 4,
 "nbformat_minor": 5
}
