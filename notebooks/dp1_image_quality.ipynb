{
 "cells": [
  {
   "cell_type": "markdown",
   "id": "44436a0a-710e-47ee-88cb-60e3339552e5",
   "metadata": {
    "execution": {
     "iopub.execute_input": "2025-04-24T18:13:21.893995Z",
     "iopub.status.busy": "2025-04-24T18:13:21.893582Z",
     "iopub.status.idle": "2025-04-24T18:13:21.896321Z",
     "shell.execute_reply": "2025-04-24T18:13:21.895928Z",
     "shell.execute_reply.started": "2025-04-24T18:13:21.893971Z"
    }
   },
   "source": [
    "<img align=\"left\" src = https://project.lsst.org/sites/default/files/Rubin-O-Logo_0.png width=250 style=\"padding: 10px\"\n",
    "alt=\"Rubin Observatory logo, a graphical representation of turning stars into data.\"> <br><br>\n",
    "**Description:** Generate delivered image quality plots for DP1 data. <br>\n",
    "**Authors:** Original version for LSSTComCam: Keith Bechtol. Modified version for DP1:  Leanne Guy, <br>\n",
    "**Last verified to run:** 2025-05-25 <br>\n",
    "**LSST Science Pipelines version:** v29.0.1<br>\n",
    "**Container size:** medium <br>"
   ]
  },
  {
   "cell_type": "code",
   "execution_count": 1,
   "id": "3136a0f3-5372-400c-b748-48c4f25709b4",
   "metadata": {
    "execution": {
     "iopub.execute_input": "2025-06-05T16:09:13.264412Z",
     "iopub.status.busy": "2025-06-05T16:09:13.264278Z",
     "iopub.status.idle": "2025-06-05T16:09:15.297355Z",
     "shell.execute_reply": "2025-06-05T16:09:15.296863Z",
     "shell.execute_reply.started": "2025-06-05T16:09:13.264397Z"
    }
   },
   "outputs": [],
   "source": [
    "import numpy as np\n",
    "import pandas as pd\n",
    "import matplotlib.pyplot as plt\n",
    "from statsmodels.distributions.empirical_distribution import ECDF\n",
    "\n",
    "from lsst.daf.butler import Butler\n",
    "import lsst.geom\n",
    "\n",
    "# Set a standard figure size to use\n",
    "from lsst.utils.plotting import publication_plots\n",
    "from lsst.utils.plotting import get_multiband_plot_colors, get_multiband_plot_symbols, get_multiband_plot_linestyles"
   ]
  },
  {
   "cell_type": "code",
   "execution_count": 2,
   "id": "1b411f13-4886-4280-83ba-244682d4eb81",
   "metadata": {
    "execution": {
     "iopub.execute_input": "2025-06-05T16:09:15.298009Z",
     "iopub.status.busy": "2025-06-05T16:09:15.297868Z",
     "iopub.status.idle": "2025-06-05T16:09:15.606538Z",
     "shell.execute_reply": "2025-06-05T16:09:15.606024Z",
     "shell.execute_reply.started": "2025-06-05T16:09:15.297993Z"
    }
   },
   "outputs": [],
   "source": [
    "instrument = 'LSSTComCam'\n",
    "collections = ['LSSTComCam/raw/all', \n",
    "               'LSSTComCam/DP1/defaults', \n",
    "               'LSSTComCam/runs/DRP/DP1/v29_0_0/DM-50260' ]\n",
    "skymap = 'lsst_cells_v1'\n",
    "butler = Butler(\"/repo/dp1\",\n",
    "                instrument=instrument, \n",
    "                collections=collections, \n",
    "                skymap=skymap)"
   ]
  },
  {
   "cell_type": "code",
   "execution_count": 3,
   "id": "8584dc5f-108d-4053-98a0-251ff39c99ec",
   "metadata": {
    "execution": {
     "iopub.execute_input": "2025-06-05T16:09:15.607229Z",
     "iopub.status.busy": "2025-06-05T16:09:15.607082Z",
     "iopub.status.idle": "2025-06-05T16:09:15.619058Z",
     "shell.execute_reply": "2025-06-05T16:09:15.618632Z",
     "shell.execute_reply.started": "2025-06-05T16:09:15.607215Z"
    }
   },
   "outputs": [],
   "source": [
    "# Applying the Rubin DP1 paper custom style sheet to all of the graphs to be created in this notebook\n",
    "publication_plots.set_rubin_plotstyle()\n",
    "bands_dict = publication_plots.get_band_dicts()\n",
    "colors = get_multiband_plot_colors()\n",
    "bands = colors.keys()  # important to get the right order for plot legends\n",
    "%matplotlib inline"
   ]
  },
  {
   "cell_type": "code",
   "execution_count": 4,
   "id": "4dee93c9-69d0-4641-a526-b5c6b4c1bba9",
   "metadata": {
    "execution": {
     "iopub.execute_input": "2025-06-05T16:09:15.619670Z",
     "iopub.status.busy": "2025-06-05T16:09:15.619539Z",
     "iopub.status.idle": "2025-06-05T16:09:15.623288Z",
     "shell.execute_reply": "2025-06-05T16:09:15.622924Z",
     "shell.execute_reply.started": "2025-06-05T16:09:15.619656Z"
    }
   },
   "outputs": [],
   "source": [
    "# Force to unpushed updated color scheme.\n",
    "colors ={\"u\": \"#48A8D4\",\n",
    "         \"g\": \"#31DE1F\",\n",
    "         \"r\": \"#B52626\",\n",
    "         \"i\": \"#2915A4\",\n",
    "         \"z\": \"#AD03EA\",\n",
    "         \"y\": \"#2D0201\",\n",
    "}\n",
    "bands = colors.keys()  # important to get the right order for plot legends"
   ]
  },
  {
   "cell_type": "code",
   "execution_count": 5,
   "id": "a9fd2572-a3e8-44b8-b53d-4dcb298258fc",
   "metadata": {
    "execution": {
     "iopub.execute_input": "2025-06-05T16:09:15.623864Z",
     "iopub.status.busy": "2025-06-05T16:09:15.623734Z",
     "iopub.status.idle": "2025-06-05T16:09:15.843358Z",
     "shell.execute_reply": "2025-06-05T16:09:15.842900Z",
     "shell.execute_reply.started": "2025-06-05T16:09:15.623851Z"
    }
   },
   "outputs": [],
   "source": [
    "visit_detector_table = butler.get(\"visit_detector_table\", storageClass=\"DataFrame\")"
   ]
  },
  {
   "cell_type": "code",
   "execution_count": 6,
   "id": "5aa2e7e9-1175-4acd-b9d7-3e3864d0f61e",
   "metadata": {
    "execution": {
     "iopub.execute_input": "2025-06-05T16:09:15.844018Z",
     "iopub.status.busy": "2025-06-05T16:09:15.843875Z",
     "iopub.status.idle": "2025-06-05T16:09:15.854718Z",
     "shell.execute_reply": "2025-06-05T16:09:15.854406Z",
     "shell.execute_reply.started": "2025-06-05T16:09:15.844003Z"
    }
   },
   "outputs": [
    {
     "data": {
      "text/html": [
       "<div>\n",
       "<style scoped>\n",
       "    .dataframe tbody tr th:only-of-type {\n",
       "        vertical-align: middle;\n",
       "    }\n",
       "\n",
       "    .dataframe tbody tr th {\n",
       "        vertical-align: top;\n",
       "    }\n",
       "\n",
       "    .dataframe thead th {\n",
       "        text-align: right;\n",
       "    }\n",
       "</style>\n",
       "<table border=\"1\" class=\"dataframe\">\n",
       "  <thead>\n",
       "    <tr style=\"text-align: right;\">\n",
       "      <th></th>\n",
       "      <th>detectorId</th>\n",
       "      <th>visitId</th>\n",
       "      <th>band</th>\n",
       "      <th>psfSigma</th>\n",
       "      <th>seeing</th>\n",
       "      <th>psfFwhm</th>\n",
       "    </tr>\n",
       "  </thead>\n",
       "  <tbody>\n",
       "    <tr>\n",
       "      <th>0</th>\n",
       "      <td>0</td>\n",
       "      <td>2024110800245</td>\n",
       "      <td>i</td>\n",
       "      <td>1.832573</td>\n",
       "      <td>0.864554</td>\n",
       "      <td>0.863142</td>\n",
       "    </tr>\n",
       "    <tr>\n",
       "      <th>1</th>\n",
       "      <td>1</td>\n",
       "      <td>2024110800245</td>\n",
       "      <td>i</td>\n",
       "      <td>1.746872</td>\n",
       "      <td>0.823865</td>\n",
       "      <td>0.822776</td>\n",
       "    </tr>\n",
       "    <tr>\n",
       "      <th>2</th>\n",
       "      <td>2</td>\n",
       "      <td>2024110800245</td>\n",
       "      <td>i</td>\n",
       "      <td>1.789050</td>\n",
       "      <td>0.844020</td>\n",
       "      <td>0.842643</td>\n",
       "    </tr>\n",
       "    <tr>\n",
       "      <th>3</th>\n",
       "      <td>3</td>\n",
       "      <td>2024110800245</td>\n",
       "      <td>i</td>\n",
       "      <td>1.822840</td>\n",
       "      <td>0.859669</td>\n",
       "      <td>0.858558</td>\n",
       "    </tr>\n",
       "    <tr>\n",
       "      <th>4</th>\n",
       "      <td>4</td>\n",
       "      <td>2024110800245</td>\n",
       "      <td>i</td>\n",
       "      <td>1.713867</td>\n",
       "      <td>0.808050</td>\n",
       "      <td>0.807231</td>\n",
       "    </tr>\n",
       "    <tr>\n",
       "      <th>...</th>\n",
       "      <td>...</td>\n",
       "      <td>...</td>\n",
       "      <td>...</td>\n",
       "      <td>...</td>\n",
       "      <td>...</td>\n",
       "      <td>...</td>\n",
       "    </tr>\n",
       "    <tr>\n",
       "      <th>16066</th>\n",
       "      <td>4</td>\n",
       "      <td>2024121100611</td>\n",
       "      <td>r</td>\n",
       "      <td>1.650342</td>\n",
       "      <td>0.778259</td>\n",
       "      <td>0.777311</td>\n",
       "    </tr>\n",
       "    <tr>\n",
       "      <th>16067</th>\n",
       "      <td>5</td>\n",
       "      <td>2024121100611</td>\n",
       "      <td>r</td>\n",
       "      <td>1.649252</td>\n",
       "      <td>0.777973</td>\n",
       "      <td>0.776798</td>\n",
       "    </tr>\n",
       "    <tr>\n",
       "      <th>16068</th>\n",
       "      <td>6</td>\n",
       "      <td>2024121100611</td>\n",
       "      <td>r</td>\n",
       "      <td>1.622512</td>\n",
       "      <td>0.765628</td>\n",
       "      <td>0.764203</td>\n",
       "    </tr>\n",
       "    <tr>\n",
       "      <th>16069</th>\n",
       "      <td>7</td>\n",
       "      <td>2024121100611</td>\n",
       "      <td>r</td>\n",
       "      <td>1.640941</td>\n",
       "      <td>0.774048</td>\n",
       "      <td>0.772883</td>\n",
       "    </tr>\n",
       "    <tr>\n",
       "      <th>16070</th>\n",
       "      <td>8</td>\n",
       "      <td>2024121100611</td>\n",
       "      <td>r</td>\n",
       "      <td>1.629086</td>\n",
       "      <td>0.768726</td>\n",
       "      <td>0.767299</td>\n",
       "    </tr>\n",
       "  </tbody>\n",
       "</table>\n",
       "<p>16071 rows × 6 columns</p>\n",
       "</div>"
      ],
      "text/plain": [
       "       detectorId        visitId band  psfSigma    seeing   psfFwhm\n",
       "0               0  2024110800245    i  1.832573  0.864554  0.863142\n",
       "1               1  2024110800245    i  1.746872  0.823865  0.822776\n",
       "2               2  2024110800245    i  1.789050  0.844020  0.842643\n",
       "3               3  2024110800245    i  1.822840  0.859669  0.858558\n",
       "4               4  2024110800245    i  1.713867  0.808050  0.807231\n",
       "...           ...            ...  ...       ...       ...       ...\n",
       "16066           4  2024121100611    r  1.650342  0.778259  0.777311\n",
       "16067           5  2024121100611    r  1.649252  0.777973  0.776798\n",
       "16068           6  2024121100611    r  1.622512  0.765628  0.764203\n",
       "16069           7  2024121100611    r  1.640941  0.774048  0.772883\n",
       "16070           8  2024121100611    r  1.629086  0.768726  0.767299\n",
       "\n",
       "[16071 rows x 6 columns]"
      ]
     },
     "execution_count": 6,
     "metadata": {},
     "output_type": "execute_result"
    }
   ],
   "source": [
    "# Extract and format data for analysis\n",
    "df = visit_detector_table[['detectorId','visitId', 'band', 'psfSigma','seeing']].copy()\n",
    "df[\"psfFwhm\"]=df[\"psfSigma\"]*2.355*0.2\n",
    "df"
   ]
  },
  {
   "cell_type": "code",
   "execution_count": 7,
   "id": "591e91f9-7293-4a07-af68-820b1bed2df6",
   "metadata": {
    "execution": {
     "iopub.execute_input": "2025-06-05T16:09:15.855250Z",
     "iopub.status.busy": "2025-06-05T16:09:15.855119Z",
     "iopub.status.idle": "2025-06-05T16:09:15.861964Z",
     "shell.execute_reply": "2025-06-05T16:09:15.861668Z",
     "shell.execute_reply.started": "2025-06-05T16:09:15.855236Z"
    }
   },
   "outputs": [
    {
     "data": {
      "text/plain": [
       "detectorId                7\n",
       "visitId       2024112400119\n",
       "band                      i\n",
       "psfSigma           0.288675\n",
       "seeing             0.136147\n",
       "psfFwhm            0.135966\n",
       "Name: 3643, dtype: object"
      ]
     },
     "execution_count": 7,
     "metadata": {},
     "output_type": "execute_result"
    }
   ],
   "source": [
    "# Best delivered IQ\n",
    "min_row = df.loc[df['psfFwhm'].idxmin()]\n",
    "min_row"
   ]
  },
  {
   "cell_type": "code",
   "execution_count": 8,
   "id": "22a418b7-ec72-40b9-b99a-039c86d47aeb",
   "metadata": {
    "execution": {
     "iopub.execute_input": "2025-06-05T16:09:15.862599Z",
     "iopub.status.busy": "2025-06-05T16:09:15.862342Z",
     "iopub.status.idle": "2025-06-05T16:09:15.878899Z",
     "shell.execute_reply": "2025-06-05T16:09:15.878602Z",
     "shell.execute_reply.started": "2025-06-05T16:09:15.862584Z"
    }
   },
   "outputs": [
    {
     "data": {
      "text/html": [
       "<div>\n",
       "<style scoped>\n",
       "    .dataframe tbody tr th:only-of-type {\n",
       "        vertical-align: middle;\n",
       "    }\n",
       "\n",
       "    .dataframe tbody tr th {\n",
       "        vertical-align: top;\n",
       "    }\n",
       "\n",
       "    .dataframe thead th {\n",
       "        text-align: right;\n",
       "    }\n",
       "</style>\n",
       "<table border=\"1\" class=\"dataframe\">\n",
       "  <thead>\n",
       "    <tr style=\"text-align: right;\">\n",
       "      <th></th>\n",
       "      <th>detectorId</th>\n",
       "      <th>visitId</th>\n",
       "      <th>band</th>\n",
       "      <th>psfSigma</th>\n",
       "      <th>seeing</th>\n",
       "      <th>psfFwhm</th>\n",
       "    </tr>\n",
       "  </thead>\n",
       "  <tbody>\n",
       "    <tr>\n",
       "      <th>3636</th>\n",
       "      <td>0</td>\n",
       "      <td>2024112400119</td>\n",
       "      <td>i</td>\n",
       "      <td>2.357925</td>\n",
       "      <td>1.112520</td>\n",
       "      <td>1.110583</td>\n",
       "    </tr>\n",
       "    <tr>\n",
       "      <th>3637</th>\n",
       "      <td>1</td>\n",
       "      <td>2024112400119</td>\n",
       "      <td>i</td>\n",
       "      <td>2.344967</td>\n",
       "      <td>1.106029</td>\n",
       "      <td>1.104479</td>\n",
       "    </tr>\n",
       "    <tr>\n",
       "      <th>3638</th>\n",
       "      <td>2</td>\n",
       "      <td>2024112400119</td>\n",
       "      <td>i</td>\n",
       "      <td>2.326107</td>\n",
       "      <td>1.097483</td>\n",
       "      <td>1.095596</td>\n",
       "    </tr>\n",
       "    <tr>\n",
       "      <th>3639</th>\n",
       "      <td>3</td>\n",
       "      <td>2024112400119</td>\n",
       "      <td>i</td>\n",
       "      <td>2.380226</td>\n",
       "      <td>1.122648</td>\n",
       "      <td>1.121087</td>\n",
       "    </tr>\n",
       "    <tr>\n",
       "      <th>3640</th>\n",
       "      <td>4</td>\n",
       "      <td>2024112400119</td>\n",
       "      <td>i</td>\n",
       "      <td>2.380704</td>\n",
       "      <td>1.122506</td>\n",
       "      <td>1.121312</td>\n",
       "    </tr>\n",
       "    <tr>\n",
       "      <th>3641</th>\n",
       "      <td>5</td>\n",
       "      <td>2024112400119</td>\n",
       "      <td>i</td>\n",
       "      <td>2.323589</td>\n",
       "      <td>1.095907</td>\n",
       "      <td>1.094410</td>\n",
       "    </tr>\n",
       "    <tr>\n",
       "      <th>3642</th>\n",
       "      <td>6</td>\n",
       "      <td>2024112400119</td>\n",
       "      <td>i</td>\n",
       "      <td>2.521431</td>\n",
       "      <td>1.189638</td>\n",
       "      <td>1.187594</td>\n",
       "    </tr>\n",
       "    <tr>\n",
       "      <th>3643</th>\n",
       "      <td>7</td>\n",
       "      <td>2024112400119</td>\n",
       "      <td>i</td>\n",
       "      <td>0.288675</td>\n",
       "      <td>0.136147</td>\n",
       "      <td>0.135966</td>\n",
       "    </tr>\n",
       "    <tr>\n",
       "      <th>3644</th>\n",
       "      <td>8</td>\n",
       "      <td>2024112400119</td>\n",
       "      <td>i</td>\n",
       "      <td>2.675308</td>\n",
       "      <td>1.262324</td>\n",
       "      <td>1.260070</td>\n",
       "    </tr>\n",
       "  </tbody>\n",
       "</table>\n",
       "</div>"
      ],
      "text/plain": [
       "      detectorId        visitId band  psfSigma    seeing   psfFwhm\n",
       "3636           0  2024112400119    i  2.357925  1.112520  1.110583\n",
       "3637           1  2024112400119    i  2.344967  1.106029  1.104479\n",
       "3638           2  2024112400119    i  2.326107  1.097483  1.095596\n",
       "3639           3  2024112400119    i  2.380226  1.122648  1.121087\n",
       "3640           4  2024112400119    i  2.380704  1.122506  1.121312\n",
       "3641           5  2024112400119    i  2.323589  1.095907  1.094410\n",
       "3642           6  2024112400119    i  2.521431  1.189638  1.187594\n",
       "3643           7  2024112400119    i  0.288675  0.136147  0.135966\n",
       "3644           8  2024112400119    i  2.675308  1.262324  1.260070"
      ]
     },
     "execution_count": 8,
     "metadata": {},
     "output_type": "execute_result"
    }
   ],
   "source": [
    "# This is very low -- 0.135 arcsec seeing is not physical.\n",
    "# How should these be treated in the analysis? \n",
    "rows = df[df['visitId'] == 2024112400119]\n",
    "rows"
   ]
  },
  {
   "cell_type": "code",
   "execution_count": 9,
   "id": "1cfbb3be-e2e9-4b04-a054-9420a78a875f",
   "metadata": {
    "execution": {
     "iopub.execute_input": "2025-06-05T16:09:15.879398Z",
     "iopub.status.busy": "2025-06-05T16:09:15.879273Z",
     "iopub.status.idle": "2025-06-05T16:09:15.889558Z",
     "shell.execute_reply": "2025-06-05T16:09:15.889261Z",
     "shell.execute_reply.started": "2025-06-05T16:09:15.879385Z"
    }
   },
   "outputs": [
    {
     "name": "stdout",
     "output_type": "stream",
     "text": [
      "Visit/Dector pairs with IQ in 0.5, 0.6\n",
      "ID (visitId, detectorId, psfFwhm): [[2024112400274.0, 4.0, 0.599747359752655], [2024112400274.0, 5.0, 0.5870388150215149], [2024112400274.0, 6.0, 0.5765321850776672], [2024112400274.0, 7.0, 0.5760278105735779]]\n"
     ]
    }
   ],
   "source": [
    "# This is clearly non-physical \n",
    "# Count number of visits with IQ <= 0.65 (or threshold)\n",
    "t_low = 0.5\n",
    "t_high = 0.6\n",
    "df_iq_analysis = df[(df['psfFwhm'] >= t_low) & (df['psfFwhm'] < t_high)]\n",
    "visit_detector_pairs = df_iq_analysis[['visitId', 'detectorId', 'psfFwhm']].drop_duplicates().values.tolist()\n",
    "print(f\"Visit/Dector pairs with IQ in {t_low}, {t_high}\\nID (visitId, detectorId, psfFwhm): {visit_detector_pairs}\")"
   ]
  },
  {
   "cell_type": "code",
   "execution_count": 10,
   "id": "b4f601a1-0cb9-4415-844b-0451fbee2073",
   "metadata": {
    "execution": {
     "iopub.execute_input": "2025-06-05T16:09:15.891138Z",
     "iopub.status.busy": "2025-06-05T16:09:15.891005Z",
     "iopub.status.idle": "2025-06-05T16:09:15.902716Z",
     "shell.execute_reply": "2025-06-05T16:09:15.902405Z",
     "shell.execute_reply.started": "2025-06-05T16:09:15.891125Z"
    }
   },
   "outputs": [],
   "source": [
    "# This is clearly non-physical \n",
    "# Current analysis -- Put a lower cut on IQ at 0.6  to exclude non-physical values \n",
    "# -- based on SITCOMTN report of 0.65 bing best IQ \n",
    "\n",
    "# remove artificial cut for analysis\n",
    "#df = df[df['psfFwhm'] >= 0.6]"
   ]
  },
  {
   "cell_type": "code",
   "execution_count": 11,
   "id": "cc1c8565-dbc7-46fb-bfb0-5b4c51263f5a",
   "metadata": {
    "execution": {
     "iopub.execute_input": "2025-06-05T16:09:15.903166Z",
     "iopub.status.busy": "2025-06-05T16:09:15.903042Z",
     "iopub.status.idle": "2025-06-05T16:09:15.915795Z",
     "shell.execute_reply": "2025-06-05T16:09:15.915489Z",
     "shell.execute_reply.started": "2025-06-05T16:09:15.903153Z"
    }
   },
   "outputs": [
    {
     "name": "stdout",
     "output_type": "stream",
     "text": [
      "Best delivered image quality detectorId                7\n",
      "visitId       2024112400119\n",
      "band                      i\n",
      "psfSigma           0.288675\n",
      "seeing             0.136147\n",
      "psfFwhm            0.135966\n",
      "Name: 3643, dtype: object\n"
     ]
    }
   ],
   "source": [
    "min_row = df.loc[df['psfFwhm'].idxmin()]\n",
    "print(f\"Best delivered image quality {min_row}\")"
   ]
  },
  {
   "cell_type": "code",
   "execution_count": 12,
   "id": "b85179e5-2e73-4fff-968f-b986043d4ded",
   "metadata": {
    "execution": {
     "iopub.execute_input": "2025-06-05T16:09:15.916407Z",
     "iopub.status.busy": "2025-06-05T16:09:15.916162Z",
     "iopub.status.idle": "2025-06-05T16:09:15.941925Z",
     "shell.execute_reply": "2025-06-05T16:09:15.941619Z",
     "shell.execute_reply.started": "2025-06-05T16:09:15.916392Z"
    }
   },
   "outputs": [
    {
     "data": {
      "text/html": [
       "<div>\n",
       "<style scoped>\n",
       "    .dataframe tbody tr th:only-of-type {\n",
       "        vertical-align: middle;\n",
       "    }\n",
       "\n",
       "    .dataframe tbody tr th {\n",
       "        vertical-align: top;\n",
       "    }\n",
       "\n",
       "    .dataframe thead th {\n",
       "        text-align: right;\n",
       "    }\n",
       "</style>\n",
       "<table border=\"1\" class=\"dataframe\">\n",
       "  <thead>\n",
       "    <tr style=\"text-align: right;\">\n",
       "      <th></th>\n",
       "      <th>0.25</th>\n",
       "      <th>0.5</th>\n",
       "      <th>0.75</th>\n",
       "      <th>mean</th>\n",
       "    </tr>\n",
       "    <tr>\n",
       "      <th>band</th>\n",
       "      <th></th>\n",
       "      <th></th>\n",
       "      <th></th>\n",
       "      <th></th>\n",
       "    </tr>\n",
       "  </thead>\n",
       "  <tbody>\n",
       "    <tr>\n",
       "      <th>u</th>\n",
       "      <td>1.34</td>\n",
       "      <td>1.48</td>\n",
       "      <td>1.67</td>\n",
       "      <td>1.54</td>\n",
       "    </tr>\n",
       "    <tr>\n",
       "      <th>g</th>\n",
       "      <td>1.07</td>\n",
       "      <td>1.17</td>\n",
       "      <td>1.29</td>\n",
       "      <td>1.20</td>\n",
       "    </tr>\n",
       "    <tr>\n",
       "      <th>r</th>\n",
       "      <td>0.99</td>\n",
       "      <td>1.12</td>\n",
       "      <td>1.22</td>\n",
       "      <td>1.11</td>\n",
       "    </tr>\n",
       "    <tr>\n",
       "      <th>i</th>\n",
       "      <td>0.92</td>\n",
       "      <td>1.03</td>\n",
       "      <td>1.13</td>\n",
       "      <td>1.03</td>\n",
       "    </tr>\n",
       "    <tr>\n",
       "      <th>z</th>\n",
       "      <td>0.98</td>\n",
       "      <td>1.11</td>\n",
       "      <td>1.21</td>\n",
       "      <td>1.10</td>\n",
       "    </tr>\n",
       "    <tr>\n",
       "      <th>y</th>\n",
       "      <td>0.94</td>\n",
       "      <td>1.01</td>\n",
       "      <td>1.10</td>\n",
       "      <td>1.03</td>\n",
       "    </tr>\n",
       "    <tr>\n",
       "      <th>all</th>\n",
       "      <td>1.00</td>\n",
       "      <td>1.12</td>\n",
       "      <td>1.25</td>\n",
       "      <td>1.14</td>\n",
       "    </tr>\n",
       "  </tbody>\n",
       "</table>\n",
       "</div>"
      ],
      "text/plain": [
       "      0.25   0.5  0.75  mean\n",
       "band                        \n",
       "u     1.34  1.48  1.67  1.54\n",
       "g     1.07  1.17  1.29  1.20\n",
       "r     0.99  1.12  1.22  1.11\n",
       "i     0.92  1.03  1.13  1.03\n",
       "z     0.98  1.11  1.21  1.10\n",
       "y     0.94  1.01  1.10  1.03\n",
       "all   1.00  1.12  1.25  1.14"
      ]
     },
     "execution_count": 12,
     "metadata": {},
     "output_type": "execute_result"
    }
   ],
   "source": [
    "# Compute all band summary statistics\n",
    "quantiles = [25, 50, 75]\n",
    "\n",
    "iq_summary_all = df['psfFwhm'].quantile([q/100 for q in quantiles]).apply(\n",
    "    lambda x: round(x, 2)).to_frame().T\n",
    "iq_summary_all['mean'] = round(df['psfFwhm'].mean(), 2)\n",
    "iq_summary_all.index = ['all']\n",
    "iq_summary_all.index.name = 'band'\n",
    "\n",
    "# Compute summary statistics by band \n",
    "iq_summary_band = df.groupby('band')['psfFwhm'].quantile(\n",
    "    [q / 100 for q in quantiles]).apply(\n",
    "    lambda x: round(x, 2)).unstack()\n",
    "iq_summary_band['mean'] = df.groupby('band')['psfFwhm'].mean().round(2)\n",
    "iq_summary_band.index.name = 'band'\n",
    "\n",
    "# Concatenate and sort and set type \n",
    "iq_summary = pd.concat([iq_summary_band, iq_summary_all])\n",
    "iq_summary = iq_summary.astype(float)\n",
    "band_order =  list(bands) +  ['all'] \n",
    "iq_summary.index = pd.CategoricalIndex(\n",
    "    iq_summary.index, categories=band_order, \n",
    "    ordered=True, name='band')\n",
    "iq_summary = iq_summary.sort_index()\n",
    "iq_summary"
   ]
  },
  {
   "cell_type": "code",
   "execution_count": 13,
   "id": "877c5d5e-3589-4cba-8974-bcdb351a7400",
   "metadata": {
    "execution": {
     "iopub.execute_input": "2025-06-05T16:09:15.942401Z",
     "iopub.status.busy": "2025-06-05T16:09:15.942276Z",
     "iopub.status.idle": "2025-06-05T16:09:16.001405Z",
     "shell.execute_reply": "2025-06-05T16:09:16.001060Z",
     "shell.execute_reply.started": "2025-06-05T16:09:15.942388Z"
    }
   },
   "outputs": [
    {
     "data": {
      "text/plain": [
       "'u &   & 1.34 & 1.48 & 1.67 \\\\\\\\\\ng &   & 1.07 & 1.17 & 1.29 \\\\\\\\\\nr &   & 0.99 & 1.12 & 1.22 \\\\\\\\\\ni &   & 0.92 & 1.03 & 1.13 \\\\\\\\\\nz &   & 0.98 & 1.11 & 1.21 \\\\\\\\\\ny &   & 0.94 & 1.01 & 1.10 \\\\\\\\\\nall &   & 1.00 & 1.12 & 1.25 \\\\\\\\\\n'"
      ]
     },
     "execution_count": 13,
     "metadata": {},
     "output_type": "execute_result"
    }
   ],
   "source": [
    "# Convert to latex format\n",
    "# Insert blank colum for nice spacing in table \n",
    "data_latex = iq_summary.drop('mean', axis=1)\n",
    "data_latex.insert(0, ' ', ' ')\n",
    "data_latex = data_latex.to_latex(index=True, \n",
    "                                       bold_rows=False, float_format='%.2f'\n",
    "                            )\n",
    "data_latex = data_latex.split(\"midrule\\n\", 1)[-1]  # Keeps the part after 'midrule'\n",
    "data_latex = data_latex.split(\"\\\\bottomrule\", 1)[0]  # Keeps the part before 'bottomrule'\n",
    "data_latex"
   ]
  },
  {
   "cell_type": "code",
   "execution_count": 14,
   "id": "85868f06-1f22-42c8-93f0-f71a36362f61",
   "metadata": {
    "execution": {
     "iopub.execute_input": "2025-06-05T16:09:16.002098Z",
     "iopub.status.busy": "2025-06-05T16:09:16.001829Z",
     "iopub.status.idle": "2025-06-05T16:09:16.009659Z",
     "shell.execute_reply": "2025-06-05T16:09:16.009349Z",
     "shell.execute_reply.started": "2025-06-05T16:09:16.002082Z"
    }
   },
   "outputs": [],
   "source": [
    "# Write to latex table\n",
    "with open(\"../tables/image_quality_summary.tex\", \"w\") as f:\n",
    "    f.write(r\"\"\"%%%%% This table is auto generated from data, DO NOT EDIT\n",
    "\\setlength{\\tabcolsep}{14pt} \n",
    "\\begin{deluxetable*}{ccccc}\n",
    "\\tablecaption{Image quality expressed in terms of PSF FWHM in arcseconds per band and for all bands.\n",
    "\\label{tab:image_quality} }\n",
    "\\tablehead{\n",
    "  \\colhead{\\textbf{Band}} && \\multicolumn{3}{c}{\\textbf{Quantile (\\%)}} \\\\\n",
    "  \\cline{3-5}\n",
    "   & & 25& 50& 75 \n",
    "}\n",
    "\\startdata\n",
    "\"\"\")\n",
    "    f.write(data_latex)\n",
    "    f.write(r\"\"\"\\enddata\n",
    "\\end{deluxetable*}\n",
    "\"\"\")\n",
    "f.close()"
   ]
  },
  {
   "cell_type": "markdown",
   "id": "86977a45-636a-4fb5-9a40-c00b62e74796",
   "metadata": {},
   "source": [
    "## Plots of the Image quality "
   ]
  },
  {
   "cell_type": "code",
   "execution_count": 15,
   "id": "c28c40ec-30f1-452d-9cd1-96b1c3dd2ee5",
   "metadata": {
    "execution": {
     "iopub.execute_input": "2025-06-05T16:09:16.010127Z",
     "iopub.status.busy": "2025-06-05T16:09:16.010006Z",
     "iopub.status.idle": "2025-06-05T16:09:16.062206Z",
     "shell.execute_reply": "2025-06-05T16:09:16.061871Z",
     "shell.execute_reply.started": "2025-06-05T16:09:16.010114Z"
    }
   },
   "outputs": [],
   "source": [
    "# Extract data from visit table for plotting\n",
    "data = {}\n",
    "for band in bands:\n",
    "    data[band] = np.array(df[df['band'].str.contains(band)]['psfFwhm']) "
   ]
  },
  {
   "cell_type": "code",
   "execution_count": 16,
   "id": "107fb8d4-e37e-40eb-96fb-21fa1d5aabb7",
   "metadata": {
    "execution": {
     "iopub.execute_input": "2025-06-05T16:09:16.062696Z",
     "iopub.status.busy": "2025-06-05T16:09:16.062568Z",
     "iopub.status.idle": "2025-06-05T16:09:16.614260Z",
     "shell.execute_reply": "2025-06-05T16:09:16.613912Z",
     "shell.execute_reply.started": "2025-06-05T16:09:16.062682Z"
    }
   },
   "outputs": [
    {
     "data": {
      "image/png": "[encoded data removed]",
      "text/plain": [
       "<Figure size 960x720 with 1 Axes>"
      ]
     },
     "metadata": {},
     "output_type": "display_data"
    }
   ],
   "source": [
    "# IQ histogram - not for inclusion in the paper but interesting\n",
    "plt.figure()\n",
    "\n",
    "for label, d in data.items():\n",
    "    plt.hist(d, bins=20, alpha=0.5,\n",
    "             linestyle='-',\n",
    "             color = colors[label],\n",
    "             label=label)\n",
    "\n",
    "# Customize plot\n",
    "plt.xlabel('PSF FWHM [arcsec]')\n",
    "plt.ylabel('Fraction of Sensors')\n",
    "plt.grid(True)\n",
    "plt.legend()\n",
    "# plt.xlim(0, 0.9)  \n",
    "# plt.ylim(0, 500) \n",
    "\n",
    "plt.savefig(\"../figures/image_quality_histo.pdf\", \n",
    "            bbox_inches='tight',  # Trim whitespace around the figure\n",
    "            transparent=True,     # Transparent background\n",
    "            format='png')         # Explicit format specification\n",
    "plt.show()"
   ]
  },
  {
   "cell_type": "code",
   "execution_count": 17,
   "id": "a3db265c-217e-4d63-9858-419b13355921",
   "metadata": {
    "execution": {
     "iopub.execute_input": "2025-06-05T16:09:16.614825Z",
     "iopub.status.busy": "2025-06-05T16:09:16.614686Z",
     "iopub.status.idle": "2025-06-05T16:09:16.980142Z",
     "shell.execute_reply": "2025-06-05T16:09:16.979789Z",
     "shell.execute_reply.started": "2025-06-05T16:09:16.614810Z"
    }
   },
   "outputs": [
    {
     "data": {
      "image/png": "[encoded data removed]",
      "text/plain": [
       "<Figure size 960x720 with 1 Axes>"
      ]
     },
     "metadata": {},
     "output_type": "display_data"
    }
   ],
   "source": [
    "# IQ ECDF\n",
    "plt.figure()\n",
    "\n",
    "for label, d in data.items():\n",
    "    ecdf = ECDF(d)\n",
    "    plt.plot(ecdf.x, ecdf.y, \n",
    "             linestyle='-',\n",
    "             color = colors[label],\n",
    "             label=label)\n",
    "\n",
    "# Customize plot\n",
    "plt.xlabel('PSF FWHM [arcsec]')\n",
    "plt.ylabel('Fraction of Sensors')\n",
    "plt.grid(True)\n",
    "plt.xlim(0.4, 2.7)\n",
    "plt.legend()\n",
    "plt.savefig(\"../figures/image_quality_ecdf.pdf\", \n",
    "            bbox_inches='tight',  # Trim whitespace around the figure\n",
    "            transparent=True,     # Transparent background\n",
    "            format='png')         # Explicit format specification\n",
    "plt.show()"
   ]
  },
  {
   "cell_type": "code",
   "execution_count": 18,
   "id": "c93c6839-a90e-437c-b875-0cde884547e1",
   "metadata": {
    "execution": {
     "iopub.execute_input": "2025-06-05T16:09:16.980732Z",
     "iopub.status.busy": "2025-06-05T16:09:16.980592Z",
     "iopub.status.idle": "2025-06-05T16:09:16.982748Z",
     "shell.execute_reply": "2025-06-05T16:09:16.982421Z",
     "shell.execute_reply.started": "2025-06-05T16:09:16.980718Z"
    }
   },
   "outputs": [],
   "source": [
    "# Investigate the variation by field -- expect to be minimal\n",
    "# TODO"
   ]
  },
  {
   "cell_type": "code",
   "execution_count": 19,
   "id": "93a2ec06-8777-4b1d-9210-4e357aeaeb4a",
   "metadata": {
    "execution": {
     "iopub.execute_input": "2025-06-05T16:09:16.983240Z",
     "iopub.status.busy": "2025-06-05T16:09:16.983118Z",
     "iopub.status.idle": "2025-06-05T16:09:17.013072Z",
     "shell.execute_reply": "2025-06-05T16:09:17.012718Z",
     "shell.execute_reply.started": "2025-06-05T16:09:16.983228Z"
    }
   },
   "outputs": [],
   "source": [
    "plt.close()"
   ]
  }
 ],
 "metadata": {
  "kernelspec": {
   "display_name": "LSST",
   "language": "python",
   "name": "lsst"
  },
  "language_info": {
   "codemirror_mode": {
    "name": "ipython",
    "version": 3
   },
   "file_extension": ".py",
   "mimetype": "text/x-python",
   "name": "python",
   "nbconvert_exporter": "python",
   "pygments_lexer": "ipython3",
   "version": "3.12.10"
  }
 },
 "nbformat": 4,
 "nbformat_minor": 5
}
