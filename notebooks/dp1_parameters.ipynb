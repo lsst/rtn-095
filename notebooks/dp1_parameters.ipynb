{
 "cells": [
  {
   "cell_type": "markdown",
   "id": "c64d08e5-e937-4730-9f17-41f82a2f72a3",
   "metadata": {
    "execution": {
     "iopub.execute_input": "2025-05-14T21:45:06.489598Z",
     "iopub.status.busy": "2025-05-14T21:45:06.489384Z",
     "iopub.status.idle": "2025-05-14T21:45:06.493264Z",
     "shell.execute_reply": "2025-05-14T21:45:06.492736Z",
     "shell.execute_reply.started": "2025-05-14T21:45:06.489583Z"
    }
   },
   "source": [
    "<img align=\"left\" src = https://project.lsst.org/sites/default/files/Rubin-O-Logo_0.png width=250 style=\"padding: 10px\"\n",
    "alt=\"Rubin Observatory logo, a graphical representation of turning stars into data.\"> <br><br>\n",
    "**Description:** Generate parameters for the _Rubin Observatory DP1_ paper. <br>\n",
    "**Authors:** Leanne Guy <br>\n",
    "**Last verified to run:** 2025-05-14 <br>\n",
    "**LSST Science Pipelines version:** v29.0.0<br>\n",
    "**Container size:** medium <br>"
   ]
  },
  {
   "cell_type": "markdown",
   "id": "e3d0573f-1451-45ef-89cc-8285b3c2a595",
   "metadata": {},
   "source": [
    "# DP1 parameters"
   ]
  },
  {
   "cell_type": "markdown",
   "id": "36f63acb-86a9-42e8-b250-081cae56973b",
   "metadata": {},
   "source": [
    "## Setup"
   ]
  },
  {
   "cell_type": "code",
   "execution_count": 47,
   "id": "1778b266-a138-4a2e-9c16-afd87f48c2e8",
   "metadata": {
    "execution": {
     "iopub.execute_input": "2025-05-15T17:55:33.915506Z",
     "iopub.status.busy": "2025-05-15T17:55:33.915111Z",
     "iopub.status.idle": "2025-05-15T17:55:36.140859Z",
     "shell.execute_reply": "2025-05-15T17:55:36.140278Z",
     "shell.execute_reply.started": "2025-05-15T17:55:33.915488Z"
    }
   },
   "outputs": [],
   "source": [
    "! pip install inflect > /dev/null 2>&1"
   ]
  },
  {
   "cell_type": "code",
   "execution_count": 45,
   "id": "89a6c063-c0a5-47ea-813f-0446375850f1",
   "metadata": {
    "execution": {
     "iopub.execute_input": "2025-05-15T17:54:32.636835Z",
     "iopub.status.busy": "2025-05-15T17:54:32.636534Z",
     "iopub.status.idle": "2025-05-15T17:54:32.639579Z",
     "shell.execute_reply": "2025-05-15T17:54:32.639187Z",
     "shell.execute_reply.started": "2025-05-15T17:54:32.636819Z"
    }
   },
   "outputs": [],
   "source": [
    "# Generic python packages\n",
    "import os\n",
    "import csv\n",
    "import requests\n",
    "import yaml\n",
    "import numpy as np\n",
    "import pandas as pd\n",
    "import numpy as np\n",
    "from pathlib import Path\n",
    "\n",
    "\n",
    "# LSST Science Pipelines \n",
    "from lsst.daf.butler import Butler\n",
    "\n",
    "# RSP\n",
    "from lsst.rsp import get_tap_service\n",
    "\n",
    "import warnings\n",
    "warnings.filterwarnings(\"ignore\")"
   ]
  },
  {
   "cell_type": "markdown",
   "id": "68c53da7-1c5a-486b-bb94-3615c00ab8e9",
   "metadata": {},
   "source": [
    "### Define utility functions"
   ]
  },
  {
   "cell_type": "code",
   "execution_count": null,
   "id": "915036ae-e1f0-4b5b-9d9f-344ba98623cb",
   "metadata": {},
   "outputs": [],
   "source": [
    "# Custom formatter: no trailing zeros if not needed\n",
    "def custom_float(x):\n",
    "    if isinstance(x, float):\n",
    "        s = f\"{x:.3f}\" #.rstrip('0').rstrip('.')\n",
    "        return s\n",
    "    return x"
   ]
  },
  {
   "cell_type": "code",
   "execution_count": null,
   "id": "cfcb7f3b-0200-48da-a295-1e801bbd41ea",
   "metadata": {},
   "outputs": [],
   "source": [
    "# Function to round to N significant figures\n",
    "def round_sf(x, sig=3):\n",
    "    return np.round(x, sig - int(np.floor(np.log10(abs(x)))) - 1)"
   ]
  },
  {
   "cell_type": "code",
   "execution_count": 56,
   "id": "3e8167f5-0a51-4440-8494-7056e1e91ee3",
   "metadata": {
    "execution": {
     "iopub.execute_input": "2025-05-15T17:57:46.538168Z",
     "iopub.status.busy": "2025-05-15T17:57:46.537907Z",
     "iopub.status.idle": "2025-05-15T17:57:46.541090Z",
     "shell.execute_reply": "2025-05-15T17:57:46.540632Z",
     "shell.execute_reply.started": "2025-05-15T17:57:46.538153Z"
    }
   },
   "outputs": [],
   "source": [
    "# Template for a parameter\n",
    "def format_param(key, value):\n",
    "    return f\"\\\\newcommand{{\\\\{key}}}{{{value}\\\\xspace}}\""
   ]
  },
  {
   "cell_type": "markdown",
   "id": "897de5a6-f805-4b3a-8663-4b6fb0892e4e",
   "metadata": {},
   "source": [
    "### Set up DP1 Butler"
   ]
  },
  {
   "cell_type": "code",
   "execution_count": 29,
   "id": "42ccfd55-11a5-4c73-9603-6ce816ecd87c",
   "metadata": {
    "execution": {
     "iopub.execute_input": "2025-05-15T17:46:05.949170Z",
     "iopub.status.busy": "2025-05-15T17:46:05.948637Z",
     "iopub.status.idle": "2025-05-15T17:46:06.522467Z",
     "shell.execute_reply": "2025-05-15T17:46:06.521958Z",
     "shell.execute_reply.started": "2025-05-15T17:46:05.949151Z"
    }
   },
   "outputs": [],
   "source": [
    "instrument = 'LSSTComCam'\n",
    "collections = ['LSSTComCam/DP1/defaults', \n",
    "               'LSSTComCam/runs/DRP/DP1/v29_0_0/DM-50260',\n",
    "               'skymaps', ]\n",
    "skymap = 'lsst_cells_v1'\n",
    "butler = Butler(\"/repo/dp1\",\n",
    "                instrument=instrument, \n",
    "                collections=collections, \n",
    "                skymap=skymap)\n",
    "registry = butler.registry\n",
    "skymap = butler.get('skyMap', skymap=skymap)"
   ]
  },
  {
   "cell_type": "code",
   "execution_count": 1,
   "id": "5a92f517-ea4d-4431-a05c-a15abfca9c43",
   "metadata": {
    "execution": {
     "iopub.execute_input": "2025-05-15T17:34:08.243149Z",
     "iopub.status.busy": "2025-05-15T17:34:08.242850Z",
     "iopub.status.idle": "2025-05-15T17:34:08.402305Z",
     "shell.execute_reply": "2025-05-15T17:34:08.401950Z",
     "shell.execute_reply.started": "2025-05-15T17:34:08.243133Z"
    }
   },
   "outputs": [],
   "source": [
    "## Consdb\n",
    "# Use the consdb TAP_ service \n",
    "from lsst.rsp import get_tap_service\n",
    "\n",
    "cdb = get_tap_service(\"consdbtap\")\n",
    "assert cdb is not None"
   ]
  },
  {
   "cell_type": "code",
   "execution_count": 2,
   "id": "499c6b1c-aa51-478b-8e55-f18c2bef7d28",
   "metadata": {
    "execution": {
     "iopub.execute_input": "2025-05-15T17:34:39.739241Z",
     "iopub.status.busy": "2025-05-15T17:34:39.739023Z",
     "iopub.status.idle": "2025-05-15T17:34:39.859353Z",
     "shell.execute_reply": "2025-05-15T17:34:39.858997Z",
     "shell.execute_reply.started": "2025-05-15T17:34:39.739227Z"
    }
   },
   "outputs": [
    {
     "data": {
      "text/html": [
       "<div><i>Table length=13</i>\n",
       "<table id=\"table140329935466240\" class=\"table-striped table-bordered table-condensed\">\n",
       "<thead><tr><th>description</th><th>schema_name</th><th>table_index</th><th>table_name</th><th>table_type</th><th>utype</th></tr></thead>\n",
       "<thead><tr><th>str512</th><th>str512</th><th>int32</th><th>str64</th><th>str8</th><th>str512</th></tr></thead>\n",
       "<tr><td>Information from observatory systems about each detector (CCD) within each raw image taken</td><td>cdb_lsstcomcam</td><td>0</td><td>cdb_lsstcomcam.ccdexposure</td><td>table</td><td></td></tr>\n",
       "<tr><td>Information from the Camera Control System about each detector (CCD) within each raw image taken</td><td>cdb_lsstcomcam</td><td>0</td><td>cdb_lsstcomcam.ccdexposure_camera</td><td>table</td><td></td></tr>\n",
       "<tr><td>Flexible key/value metadata about each detector (CCD) within each raw image taken; used for development and engineering purposes</td><td>cdb_lsstcomcam</td><td>0</td><td>cdb_lsstcomcam.ccdexposure_flexdata</td><td>table</td><td></td></tr>\n",
       "<tr><td>Key names and value types used in the ccdexposure_flexdata table</td><td>cdb_lsstcomcam</td><td>0</td><td>cdb_lsstcomcam.ccdexposure_flexdata_schema</td><td>table</td><td></td></tr>\n",
       "<tr><td>Information from Summit Rapid Analysis about each detector (CCD) within each raw image taken</td><td>cdb_lsstcomcam</td><td>0</td><td>cdb_lsstcomcam.ccdexposure_quicklook</td><td>table</td><td></td></tr>\n",
       "<tr><td>Information from observatory systems about each detector (CCD) within each visit in visit system 1 (visit per exposure); describes detectors in processed visit images (or calibrated exposures)</td><td>cdb_lsstcomcam</td><td>0</td><td>cdb_lsstcomcam.ccdvisit1</td><td>table</td><td></td></tr>\n",
       "<tr><td>Information from Summit Rapid Analysis about each detector (CCD) within each visit in visit system 1 (visit per exposure); describes detectors in processed visit images (or calibrated exposures)</td><td>cdb_lsstcomcam</td><td>0</td><td>cdb_lsstcomcam.ccdvisit1_quicklook</td><td>table</td><td></td></tr>\n",
       "<tr><td>Information from observatory systems about each raw image taken</td><td>cdb_lsstcomcam</td><td>0</td><td>cdb_lsstcomcam.exposure</td><td>table</td><td></td></tr>\n",
       "<tr><td>Flexible key/value metadata about each raw image taken; used for development and engineering purposes</td><td>cdb_lsstcomcam</td><td>0</td><td>cdb_lsstcomcam.exposure_flexdata</td><td>table</td><td></td></tr>\n",
       "<tr><td>Key names and value types used in the exposure_flexdata table</td><td>cdb_lsstcomcam</td><td>0</td><td>cdb_lsstcomcam.exposure_flexdata_schema</td><td>table</td><td></td></tr>\n",
       "<tr><td>Information from Summit Rapid Analysis about each raw image taken</td><td>cdb_lsstcomcam</td><td>0</td><td>cdb_lsstcomcam.exposure_quicklook</td><td>table</td><td></td></tr>\n",
       "<tr><td>Information from observatory systems about each visit in visit system 1 (visit per exposure); describes processed visit images (or calibrated exposures)</td><td>cdb_lsstcomcam</td><td>0</td><td>cdb_lsstcomcam.visit1</td><td>table</td><td></td></tr>\n",
       "<tr><td>Information from Summit Rapid Analysis about each visit in visit system 1 (visit per exposure); describes processed visit images (or calibrated exposures)</td><td>cdb_lsstcomcam</td><td>0</td><td>cdb_lsstcomcam.visit1_quicklook</td><td>table</td><td></td></tr>\n",
       "</table></div>"
      ],
      "text/plain": [
       "<Table length=13>\n",
       "                                                                                           description                                                                                             ...\n",
       "                                                                                              str512                                                                                               ...\n",
       "-------------------------------------------------------------------------------------------------------------------------------------------------------------------------------------------------- ...\n",
       "                                                                                                        Information from observatory systems about each detector (CCD) within each raw image taken ...\n",
       "                                                                                                  Information from the Camera Control System about each detector (CCD) within each raw image taken ...\n",
       "                                                                  Flexible key/value metadata about each detector (CCD) within each raw image taken; used for development and engineering purposes ...\n",
       "                                                                                                                                  Key names and value types used in the ccdexposure_flexdata table ...\n",
       "                                                                                                      Information from Summit Rapid Analysis about each detector (CCD) within each raw image taken ...\n",
       "  Information from observatory systems about each detector (CCD) within each visit in visit system 1 (visit per exposure); describes detectors in processed visit images (or calibrated exposures) ...\n",
       "Information from Summit Rapid Analysis about each detector (CCD) within each visit in visit system 1 (visit per exposure); describes detectors in processed visit images (or calibrated exposures) ...\n",
       "                                                                                                                                   Information from observatory systems about each raw image taken ...\n",
       "                                                                                             Flexible key/value metadata about each raw image taken; used for development and engineering purposes ...\n",
       "                                                                                                                                     Key names and value types used in the exposure_flexdata table ...\n",
       "                                                                                                                                 Information from Summit Rapid Analysis about each raw image taken ...\n",
       "                                          Information from observatory systems about each visit in visit system 1 (visit per exposure); describes processed visit images (or calibrated exposures) ...\n",
       "                                        Information from Summit Rapid Analysis about each visit in visit system 1 (visit per exposure); describes processed visit images (or calibrated exposures) ..."
      ]
     },
     "execution_count": 2,
     "metadata": {},
     "output_type": "execute_result"
    }
   ],
   "source": [
    "# Look at the cdb_lsstcomcam schema\n",
    "query = \"SELECT * FROM tap_schema.tables \" \\\n",
    "        \"WHERE tap_schema.tables.schema_name = 'cdb_lsstcomcam'\" \\\n",
    "        \"ORDER BY table_index ASC\"\n",
    "tables = cdb.search(query).to_table()\n",
    "tables"
   ]
  },
  {
   "cell_type": "markdown",
   "id": "fbe4b005-e095-4d67-b899-cfd36ec04406",
   "metadata": {},
   "source": [
    "# Compute parameters"
   ]
  },
  {
   "cell_type": "code",
   "execution_count": 50,
   "id": "0decda00-b7d8-4ccd-8fb3-90ee33a0d565",
   "metadata": {
    "execution": {
     "iopub.execute_input": "2025-05-15T17:56:21.073074Z",
     "iopub.status.busy": "2025-05-15T17:56:21.072858Z",
     "iopub.status.idle": "2025-05-15T17:56:21.075956Z",
     "shell.execute_reply": "2025-05-15T17:56:21.075451Z",
     "shell.execute_reply.started": "2025-05-15T17:56:21.073058Z"
    }
   },
   "outputs": [],
   "source": [
    "# params dictionary\n",
    "params = {}"
   ]
  },
  {
   "cell_type": "code",
   "execution_count": 53,
   "id": "07e1a744-ea35-48a5-8093-31178aa22732",
   "metadata": {
    "execution": {
     "iopub.execute_input": "2025-05-15T17:57:29.696034Z",
     "iopub.status.busy": "2025-05-15T17:57:29.695719Z",
     "iopub.status.idle": "2025-05-15T17:57:30.685767Z",
     "shell.execute_reply": "2025-05-15T17:57:30.685305Z",
     "shell.execute_reply.started": "2025-05-15T17:57:29.696017Z"
    }
   },
   "outputs": [],
   "source": [
    "# Extract filter and pointing information about the fileds from the DP1 exposures in the Butler\n",
    "exposures = registry.queryDimensionRecords('exposure')\n",
    "exp_df = pd.DataFrame(columns=['id', 'target', 'physical_filter','ra', 'dec'])\n",
    "for count, info in enumerate(exposures):\n",
    "    try:\n",
    "        exp_df.loc[count] = [info.id, info.target_name, info.physical_filter, \n",
    "                         info.tracking_ra, info.tracking_dec,]\n",
    "    except: \n",
    "        print(\">>>   Unexpected error:\", sys.exc_info()[0])\n",
    "\n",
    "# slew_icrs is the ECDFS field -- combine them\n",
    "exp_df.loc[exp_df['target'] == 'slew_icrs', 'target'] = 'ECDFS'\n",
    "dp1_fields = exp_df.target.unique()\n",
    "\n",
    "params[\"nfields\"] = len(dp1_fields)"
   ]
  },
  {
   "cell_type": "code",
   "execution_count": 58,
   "id": "944c1725-fe96-4533-809c-d7a5dec9fd7a",
   "metadata": {
    "execution": {
     "iopub.execute_input": "2025-05-15T17:58:33.468726Z",
     "iopub.status.busy": "2025-05-15T17:58:33.468502Z",
     "iopub.status.idle": "2025-05-15T17:58:33.489063Z",
     "shell.execute_reply": "2025-05-15T17:58:33.488630Z",
     "shell.execute_reply.started": "2025-05-15T17:58:33.468710Z"
    }
   },
   "outputs": [],
   "source": [
    "parameters_filepath = str(Path('../parameters.tex').resolve())\n",
    "with open(parameters_filepath, \"w\") as file:\n",
    "    for key, value in params.items():\n",
    "        formatted_line = format_param(key, value)\n",
    "        file.write(formatted_line + \"\\n\")"
   ]
  },
  {
   "cell_type": "code",
   "execution_count": null,
   "id": "1d3a30f8-6164-4c25-b2c4-2ad5a4f10218",
   "metadata": {},
   "outputs": [],
   "source": [
    "# Close parameters file\n",
    "params.close()"
   ]
  }
 ],
 "metadata": {
  "kernelspec": {
   "display_name": "LSST",
   "language": "python",
   "name": "lsst"
  },
  "language_info": {
   "codemirror_mode": {
    "name": "ipython",
    "version": 3
   },
   "file_extension": ".py",
   "mimetype": "text/x-python",
   "name": "python",
   "nbconvert_exporter": "python",
   "pygments_lexer": "ipython3",
   "version": "3.12.10"
  }
 },
 "nbformat": 4,
 "nbformat_minor": 5
}
