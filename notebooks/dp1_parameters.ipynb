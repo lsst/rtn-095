{
 "cells": [
  {
   "cell_type": "markdown",
   "id": "c64d08e5-e937-4730-9f17-41f82a2f72a3",
   "metadata": {
    "execution": {
     "iopub.execute_input": "2025-05-14T21:45:06.489598Z",
     "iopub.status.busy": "2025-05-14T21:45:06.489384Z",
     "iopub.status.idle": "2025-05-14T21:45:06.493264Z",
     "shell.execute_reply": "2025-05-14T21:45:06.492736Z",
     "shell.execute_reply.started": "2025-05-14T21:45:06.489583Z"
    }
   },
   "source": [
    "<img align=\"left\" src = https://project.lsst.org/sites/default/files/Rubin-O-Logo_0.png width=250 style=\"padding: 10px\"\n",
    "alt=\"Rubin Observatory logo, a graphical representation of turning stars into data.\"> <br><br>\n",
    "**Description:** Generate parameters for the _Rubin Observatory DP1_ paper. <br>\n",
    "**Authors:** Leanne Guy, James Mullaney <br>\n",
    "**Last verified to run:** 2025-07-17 <br>\n",
    "**LSST Science Pipelines version:** v29.1.1<br>\n",
    "**Container size:** Large <br>"
   ]
  },
  {
   "cell_type": "markdown",
   "id": "e3d0573f-1451-45ef-89cc-8285b3c2a595",
   "metadata": {},
   "source": [
    "# DP1 parameters"
   ]
  },
  {
   "cell_type": "markdown",
   "id": "36f63acb-86a9-42e8-b250-081cae56973b",
   "metadata": {},
   "source": [
    "## Setup"
   ]
  },
  {
   "cell_type": "code",
   "execution_count": null,
   "id": "1778b266-a138-4a2e-9c16-afd87f48c2e8",
   "metadata": {},
   "outputs": [],
   "source": [
    "! pip install inflect > /dev/null 2>&1\n",
    "! pip install haversine > /dev/null 2>&1"
   ]
  },
  {
   "cell_type": "code",
   "execution_count": null,
   "id": "89a6c063-c0a5-47ea-813f-0446375850f1",
   "metadata": {},
   "outputs": [],
   "source": [
    "# Generic python packages\n",
    "import os\n",
    "import csv\n",
    "import requests\n",
    "import yaml\n",
    "import numpy as np\n",
    "import pandas as pd\n",
    "import numpy as np\n",
    "from pathlib import Path\n",
    "from haversine import haversine, Unit\n",
    "from astropy import units as u\n",
    "\n",
    "# LSST Science Pipelines \n",
    "from lsst.daf.butler import Butler\n",
    "\n",
    "# RSP\n",
    "from lsst.rsp import get_tap_service\n",
    "\n",
    "import warnings\n",
    "warnings.filterwarnings(\"ignore\")"
   ]
  },
  {
   "cell_type": "markdown",
   "id": "68c53da7-1c5a-486b-bb94-3615c00ab8e9",
   "metadata": {},
   "source": [
    "## Define utility functions"
   ]
  },
  {
   "cell_type": "code",
   "execution_count": null,
   "id": "f9988cc6e40a7864",
   "metadata": {
    "ExecuteTime": {
     "end_time": "2025-07-13T22:21:49.669479Z",
     "start_time": "2025-07-13T22:21:49.666742Z"
    }
   },
   "outputs": [],
   "source": [
    "bands = ['u', 'g', 'r', 'i', 'z', 'y']"
   ]
  },
  {
   "cell_type": "code",
   "execution_count": null,
   "id": "93bbe850-7bdc-468a-9d96-aa2dd0ca9436",
   "metadata": {},
   "outputs": [],
   "source": [
    "# Create a dictionary to convert numbers to words.\n",
    "# Used for those numbers best expressed in words.\n",
    "def num2word(num):\n",
    "    '''\n",
    "    Converts select integer values into their word equivalent.\n",
    "    If the integer is not one of the select values, then the integer\n",
    "    is returned as a string to ensure consistent return type.\n",
    "    '''\n",
    "    num2wordDict = {1: 'One', 2: 'Two', 3: 'Three', 4: 'Four', 5: 'Five', \\\n",
    "                    6: 'Six', 7: 'Seven', 8: 'Eight', 9: 'Nine', 10: 'Ten', \\\n",
    "                    11: 'Eleven', 12: 'Twelve', 13: 'Thirteen', 14: 'Fourteen', \\\n",
    "                    15: 'Fifteen', 16: 'Sixteen', 17: 'Seventeen', 18: 'Eighteen', \\\n",
    "                    19: 'Nineteen', 20: 'Twenty', 30: 'Thirty', 40: 'Forty', \\\n",
    "                    50: 'Fifty', 60: 'Sixty', 70: 'Seventy', 80: 'Eighty', \\\n",
    "                    90: 'Ninety', 0: 'Zero'}\n",
    "    if num in num2wordDict:\n",
    "        return num2wordDict[num]\n",
    "    else:\n",
    "        return str(num)"
   ]
  },
  {
   "cell_type": "code",
   "execution_count": null,
   "id": "cfcb7f3b-0200-48da-a295-1e801bbd41ea",
   "metadata": {},
   "outputs": [],
   "source": [
    "# Function to round to N significant figures\n",
    "def round_sf(x, sig=3):\n",
    "    return np.round(x, sig - int(np.floor(np.log10(abs(x)))) - 1)"
   ]
  },
  {
   "cell_type": "code",
   "execution_count": null,
   "id": "d722aa47-56ba-4331-aca5-0d8989151df2",
   "metadata": {},
   "outputs": [],
   "source": [
    "def formatParameter(params, name):\n",
    "    '''\n",
    "    Formats a named parameter ready for write-out to tex file.\n",
    "    '''\n",
    "\n",
    "    value = params[0][name]\n",
    "\n",
    "    if isinstance(value, float):\n",
    "        value = f'{value:.3f}'.rstrip('0').rstrip('.')\n",
    "\n",
    "    if name in params[1]:\n",
    "        unit = params[1][name]\n",
    "        if unit[0:7] not in ['\\\\arcsec', '\\\\arcmin', '\\\\degree']:\n",
    "            unit = f'\\\\xspace {unit}'\n",
    "    else:\n",
    "        unit = ''\n",
    "\n",
    "    return f'\\\\newcommand{{\\\\{name}}}{{{value}{unit}\\\\xspace}}\\n'"
   ]
  },
  {
   "cell_type": "code",
   "execution_count": null,
   "id": "d004161d-1ad5-4487-91d5-4cabc08b5145",
   "metadata": {},
   "outputs": [],
   "source": [
    "def addParameter(params, name, value, unit=None, **kwargs):\n",
    "\n",
    "    '''\n",
    "    Adds a named parameter to the params tuple of dictionaries.\n",
    "\n",
    "    Ensures that the namings between the values and units dictionaries are consistent.\n",
    "    '''\n",
    "\n",
    "    if 'sig' in kwargs:\n",
    "        value = round_sf(value, **kwargs)\n",
    "\n",
    "    params[0][name] = value\n",
    "    if unit:\n",
    "        params[1][name] = unit\n",
    "\n",
    "    return params"
   ]
  },
  {
   "cell_type": "code",
   "execution_count": null,
   "id": "3a9d0c0d-11f4-4918-969b-bb592394869c",
   "metadata": {},
   "outputs": [],
   "source": [
    "def imageStats(params, imageType):\n",
    "    '''\n",
    "    Given an image dataset type name, add the following to the params:\n",
    "    - Number of dataset types in DP1;\n",
    "    - HDD size of the first instance of the dataset type in MB;\n",
    "    - Number of pixels in each x/y dimension;\n",
    "    - Platescale of image;\n",
    "    - On-sky field of view of image, both in x/y and area.\n",
    "    '''\n",
    "\n",
    "    imageName = imageType.replace('_', '')\n",
    "\n",
    "    # Number of images:\n",
    "    refs = list(registry.queryDatasets(imageType))\n",
    "    params = addParameter(params, f'n{imageName}s', len(list(refs)))\n",
    "\n",
    "    # Image HDD size:\n",
    "    filepath = butler.getURI(refs[0])\n",
    "    roughFileSize = round_sf(os.path.getsize(filepath.path) / 1e6, sig=2)\n",
    "    params = addParameter(params, f'{imageName}hdd', f'{roughFileSize:.0f}', unit='MB')\n",
    "\n",
    "    # Number of pixels\n",
    "    image = butler.get(refs[0])\n",
    "    params = addParameter(params, f'n{imageName}pixx', image.getDimensions().x)\n",
    "    params = addParameter(params, f'n{imageName}pixy', image.getDimensions().y)\n",
    "\n",
    "    # Platescale:\n",
    "    platescale = image.getWcs().getPixelScale().asArcseconds()\n",
    "    params = addParameter(params, f'{imageName}platescale', f'{platescale:.1f}', unit='\\\\arcsec per pixel')\n",
    "\n",
    "    # Field of view\n",
    "    fovx = image.getDimensions().x * image.getWcs().getPixelScale().asDegrees()\n",
    "    fovy = image.getDimensions().y * image.getWcs().getPixelScale().asDegrees()\n",
    "    params = addParameter(params, f'{imageName}fovx', f'{fovx:.2f}', unit='\\\\degree')\n",
    "    params = addParameter(params, f'{imageName}fovy', f'{fovy:.2f}', unit='\\\\degree')\n",
    "    area = fovx * fovy\n",
    "    roughArea = round_sf(area, sig=3)\n",
    "    params = addParameter(params, f'{imageName}fov', f'{roughArea:.3f}', unit='deg$^2$')\n",
    "\n",
    "    return params"
   ]
  },
  {
   "cell_type": "markdown",
   "id": "897de5a6-f805-4b3a-8663-4b6fb0892e4e",
   "metadata": {},
   "source": [
    "## Set up DP1 Butler"
   ]
  },
  {
   "cell_type": "code",
   "execution_count": null,
   "id": "42ccfd55-11a5-4c73-9603-6ce816ecd87c",
   "metadata": {},
   "outputs": [],
   "source": [
    "instrument = 'LSSTComCam'\n",
    "collections = ['LSSTComCam/DP1/defaults', \n",
    "               'LSSTComCam/runs/DRP/DP1/v29_0_0/DM-50260',\n",
    "               'skymaps', ]\n",
    "skymapName = 'lsst_cells_v1'\n",
    "butler = Butler(\"/repo/dp1\",\n",
    "                instrument=instrument, \n",
    "                collections=collections, \n",
    "                skymap=skymapName)\n",
    "registry = butler.registry\n",
    "skymap = butler.get('skyMap', skymap=skymapName)"
   ]
  },
  {
   "cell_type": "code",
   "execution_count": null,
   "id": "5a92f517-ea4d-4431-a05c-a15abfca9c43",
   "metadata": {},
   "outputs": [],
   "source": [
    "## Consdb\n",
    "cdb = get_tap_service(\"consdbtap\")\n",
    "assert cdb is not None"
   ]
  },
  {
   "cell_type": "markdown",
   "id": "1ec678dd-0a07-4b88-b105-37cba09b6f70",
   "metadata": {},
   "source": [
    "## Set up parameters dictionary"
   ]
  },
  {
   "cell_type": "code",
   "execution_count": null,
   "id": "0decda00-b7d8-4ccd-8fb3-90ee33a0d565",
   "metadata": {},
   "outputs": [],
   "source": [
    "# Use a tuple of Python dicts to hold parameter values and units.\n",
    "# The first dict in the tuple holds values, the second holds units.\n",
    "\n",
    "# The dictionary keys are the names of the parameters in the parameter.tex files,\n",
    "# but without the leading backslash.\n",
    "\n",
    "# Pass the params tuple to the addParameter function to add a parameter value\n",
    "# with an optional unit.\n",
    "params = (dict(), dict())"
   ]
  },
  {
   "cell_type": "markdown",
   "id": "23bdf430-697a-40ef-8f88-96d9c8b7f7f2",
   "metadata": {},
   "source": [
    "## Add the parameters in the manualParameters.csv file.\n",
    "There are some parameters that either can't be generated automatically, or take a long time to compute. Such parameters are contained in the `../manualParameters.csv` file, which is read-in using the following block. \n",
    "\n",
    "In the case of the those parameters that take a long time to compute, the code blocks to generate them can be found toward the bottom of this notebook. To re-calculate these parameters, the corresponding line should be removed from the `../manualParameters.csv` file. \n"
   ]
  },
  {
   "cell_type": "code",
   "execution_count": null,
   "id": "e15ac5ac-117b-47bb-9958-11d384b92934",
   "metadata": {},
   "outputs": [],
   "source": [
    "with open('../manualParameters.csv', newline='') as f:\n",
    "    reader = csv.reader(f, delimiter=',')\n",
    "    for line in reader:\n",
    "        if line[2] == '':\n",
    "            line[2]=None\n",
    "        params = addParameter(params, line[0], line[1], unit=line[2])"
   ]
  },
  {
   "cell_type": "markdown",
   "id": "fbe4b005-e095-4d67-b899-cfd36ec04406",
   "metadata": {},
   "source": [
    "## Compute parameters"
   ]
  },
  {
   "cell_type": "markdown",
   "id": "53674e26-a02b-496a-b1ef-4e2bc995eadc",
   "metadata": {},
   "source": [
    "### Information about the observing campaign:"
   ]
  },
  {
   "cell_type": "code",
   "execution_count": null,
   "id": "bac83d7c-be64-459d-b04f-f2097ebf667d",
   "metadata": {},
   "outputs": [],
   "source": [
    "# Number of visits:\n",
    "visitRecords = registry.queryDimensionRecords('visit')\n",
    "params = addParameter(params, 'nvisits', len(list(visitRecords)))\n",
    "\n",
    "# Number of exposures. This should be the same as the number of visits.\n",
    "exposureRecords = registry.queryDimensionRecords('exposure')\n",
    "params = addParameter(params, 'nexposures', len(list(visitRecords)))               \n",
    "\n",
    "# Number of target fields:\n",
    "# Note: slew_icrs covered ECDFS, so they are the same field:\n",
    "fields = set([record.target_name for record in exposureRecords if record.target_name != 'slew_icrs'])\n",
    "params = addParameter(params, 'nfields', num2word(len(fields)).lower())\n",
    "\n",
    "# First and last date of DP1 observations:\n",
    "visit_table = butler.get('visit_table')\n",
    "firstVisitTime = min(visit_table['obsStart'])\n",
    "lastVisitTime = max(visit_table['obsStart'])\n",
    "lastVisitNight = lastVisitTime - np.timedelta64(1,'D') # The last night started the date before the last observation datetime. \n",
    "params = addParameter(params, 'dponestartdate', np.datetime_as_string(firstVisitTime, unit='D'))\n",
    "params = addParameter(params, 'dponeenddate', np.datetime_as_string(lastVisitNight, unit='D'))\n",
    "\n",
    "# Median exposure time (non u-band):\n",
    "u_selection = visit_table['band'] == 'u'\n",
    "params = addParameter(params, 'exposuretime', f'{np.median(visit_table['expTime'][~u_selection]):.0f}', unit='s')\n",
    "\n",
    "# Median u-band exposure time:\n",
    "params = addParameter(params, 'exposuretimeuband', f'{np.median(visit_table['expTime'][u_selection]):.0f}', unit='s')"
   ]
  },
  {
   "cell_type": "markdown",
   "id": "1f51cb3a-b2be-4e06-8fe2-6e56ceeb1f47",
   "metadata": {},
   "source": [
    "### Observation quality"
   ]
  },
  {
   "cell_type": "code",
   "execution_count": null,
   "id": "c7c22d33-3675-414a-a925-dfd14e3a0639",
   "metadata": {},
   "outputs": [],
   "source": [
    "# Best seeing:\n",
    "visit_detector_table = butler.get('visit_detector_table')\n",
    "minSeeing = np.min(visit_detector_table['seeing'][visit_detector_table['nPsfStar']>100])\n",
    "params = addParameter(params, 'bestimagequality', minSeeing, unit='\\\\arcsec', sig=2)\n",
    "\n",
    "# Median seeing:\n",
    "medSeeing = np.median(visit_detector_table['seeing'][visit_detector_table['nPsfStar']>100])\n",
    "params = addParameter(params, 'medianimagequalityallbands', medSeeing, unit='\\\\arcsec', sig=3)"
   ]
  },
  {
   "cell_type": "markdown",
   "id": "97548554-a2a6-424c-8cf7-7c3829372414",
   "metadata": {},
   "source": [
    "### Statistics for different types of image dataset"
   ]
  },
  {
   "cell_type": "code",
   "execution_count": null,
   "id": "b19f2feb-3cf2-468e-9129-0132aa7532ae",
   "metadata": {},
   "outputs": [],
   "source": [
    "datasetNames = ['raw',\n",
    "                'visit_image',\n",
    "                'deep_coadd',\n",
    "                'template_coadd',\n",
    "                'difference_image',\n",
    "               ]\n",
    "for datasetName in datasetNames:\n",
    "    params = imageStats(params, datasetName)\n",
    "\n",
    "# The total number of pixels in a single deep_coadd image:\n",
    "params = addParameter(params, 'ndeepcoaddpixtotal',\n",
    "                      params[0]['ndeepcoaddpixx']*params[0]['ndeepcoaddpixy']/1e6,\n",
    "                      sig=3, unit='million')"
   ]
  },
  {
   "cell_type": "markdown",
   "id": "1e318ce7-caff-4e51-8bce-e2dba6b69fcd",
   "metadata": {},
   "source": [
    "### Skymap data "
   ]
  },
  {
   "cell_type": "code",
   "execution_count": null,
   "id": "57b1ce48-7752-48b0-8635-800614fc3f8f",
   "metadata": {},
   "outputs": [],
   "source": [
    "# Total number of tracts across the entire sky:\n",
    "params = addParameter(params, 'ntotaltracts', len(skymap))\n",
    "\n",
    "# The number of tracts covered by DP1:\n",
    "tractRecords = list(registry.queryDimensionRecords('tract', where='visit > 0'))\n",
    "tractIds = set([record.id for record in tractRecords])\n",
    "params = addParameter(params, 'ntracts', len(tractIds))\n",
    "params = addParameter(params, 'ncoveredtracts', len(tractIds))\n",
    "\n",
    "# Area of each tract:\n",
    "tract = skymap.generateTract(9000)\n",
    "verticesInDegrees = [(vertex[0].asDegrees()%360 - 180, vertex[1].asDegrees()) for vertex in tract.getVertexList()]\n",
    "tractArea = (\n",
    "    haversine(verticesInDegrees[0][::-1], verticesInDegrees[1][::-1], unit=Unit.DEGREES) * \n",
    "    haversine(verticesInDegrees[1][::-1], verticesInDegrees[2][::-1], unit=Unit.DEGREES)\n",
    ")\n",
    "roughTractArea = round_sf(tractArea, sig=2)\n",
    "params = addParameter(params, 'tractarea', f'{roughTractArea:.1f}', unit='deg$^2$')\n",
    "\n",
    "# Number of patches:\n",
    "numXPatches, numYPatches = skymap[0].getNumPatches()\n",
    "numPatches = numXPatches * numYPatches\n",
    "params = addParameter(params, 'npatchx', numXPatches)\n",
    "params = addParameter(params, 'npatchy', numYPatches)\n",
    "params = addParameter(params, 'npatch', numPatches)\n",
    "\n",
    "# Area of each patch:\n",
    "patchArea = (tractArea / numPatches)\n",
    "roughPatchArea = round_sf(patchArea, sig=2)\n",
    "params = addParameter(params, 'innerpatcharea', f'{roughPatchArea:.3f}', unit='deg$^2$')\n",
    "\n",
    "refs = list(registry.queryDatasets('deep_coadd'))\n",
    "coadd = butler.get(refs[0])\n",
    "fovx = coadd.getDimensions().x * coadd.getWcs().getPixelScale().asDegrees()\n",
    "fovy = coadd.getDimensions().y * coadd.getWcs().getPixelScale().asDegrees()\n",
    "roughOuterArea = round_sf(fovx * fovy, sig=2)\n",
    "params = addParameter(params, 'outerpatcharea', f'{roughOuterArea:.3f}', unit='deg$^2$')"
   ]
  },
  {
   "cell_type": "markdown",
   "id": "33e92c7a-f206-4351-a4cb-ba0939429134",
   "metadata": {},
   "source": [
    "### Visit image selection criteria for incorporation into deep coadd"
   ]
  },
  {
   "cell_type": "code",
   "execution_count": null,
   "id": "1787c83f-8d65-43e6-8211-11bcf9cdd486",
   "metadata": {},
   "outputs": [],
   "source": [
    "# The seeing criterion is communicated in the config file: \n",
    "refs = list(registry.queryDatasets('selectDeepCoaddVisits_config'))\n",
    "config = butler.get(refs[0])\n",
    "params = addParameter(params, 'deepcoaddmaxfwhm', config.maxPsfFwhm, sig=2, unit='\\\\arcsec')"
   ]
  },
  {
   "cell_type": "markdown",
   "id": "9b3d981f-d61e-4f62-9bda-53e15c18af3a",
   "metadata": {},
   "source": [
    "## Survey property maps"
   ]
  },
  {
   "cell_type": "code",
   "execution_count": null,
   "id": "8e24f40f-bc3c-456b-95d6-849adde4396b",
   "metadata": {},
   "outputs": [],
   "source": [
    "# Find all HealSparseMap dataset types matching a pattern\n",
    "allSuveyPropMaps = []\n",
    "for datasetType in butler.registry.queryDatasetTypes():\n",
    "    if registry.queryDatasets(datasetType).any(\n",
    "        execute=False, exact=False):\n",
    "        if (datasetType.storageClass.name == \"HealSparseMap\"):\n",
    "            allSuveyPropMaps.append(datasetType.name)\n",
    "            #print(f\"Name: {datasetType.name}, Dimensions: {datasetType.dimensions}, Storage Classs: {datasetType.storageClass}\")\n",
    "print(f\"Total of {len(allSuveyPropMaps)} survey properyy maps in DP1 \")\n",
    "params = addParameter(params, 'nsurveypropertymaps',len(allSuveyPropMaps))"
   ]
  },
  {
   "cell_type": "markdown",
   "id": "f760bd8c-a902-4b78-abc0-f84cb5ef73e1",
   "metadata": {},
   "source": [
    "### The number of datasets of each type of catalog "
   ]
  },
  {
   "cell_type": "code",
   "execution_count": null,
   "id": "a4198ae0-ec3a-4049-8f9a-bea0ff7ef628",
   "metadata": {},
   "outputs": [],
   "source": [
    "refs = list(registry.queryDatasets('source'))\n",
    "params = addParameter(params, 'nsourcecatalogs', num2word(len(refs)).lower())\n",
    "\n",
    "refs = list(registry.queryDatasets('object'))\n",
    "params = addParameter(params, 'nobjectcatalogs', num2word(len(refs)).lower())\n",
    "\n",
    "refs = list(registry.queryDatasets('dia_object'))\n",
    "params = addParameter(params, 'ndiaobjectcatalogs', num2word(len(refs)).lower())\n",
    "\n",
    "refs = list(registry.queryDatasets('dia_source'))\n",
    "params = addParameter(params, 'ndiasourcecatalogs', num2word(len(refs)).lower())\n",
    "\n",
    "refs = list(registry.queryDatasets('ss_source'))\n",
    "params = addParameter(params, 'nsolarsystemsourcecatalogs', num2word(len(refs)).lower())\n",
    "\n",
    "refs = list(registry.queryDatasets('visit_table'))\n",
    "params = addParameter(params, 'nvisitsummarytables', num2word(len(refs)).lower())\n",
    "\n",
    "refs = list(registry.queryDatasets('visit_detector_table'))\n",
    "params = addParameter(params, 'nvisitdetectorsummarytables', num2word(len(refs)).lower())\n",
    "\n",
    "refs = list(registry.queryDatasets('object_forced_source'))\n",
    "params = addParameter(params, 'nobjectforcedcatalogs', num2word(len(refs)).lower())\n",
    "\n",
    "refs = list(registry.queryDatasets('dia_object_forced_source'))\n",
    "params = addParameter(params, 'ndiaobjectforcedcatalogs', num2word(len(refs)).lower())"
   ]
  },
  {
   "cell_type": "markdown",
   "id": "b1de5d11-79d4-41f7-9308-4365d0ba7196",
   "metadata": {},
   "source": [
    "### The number of entries in the visit, visit detector, and solar system source tables "
   ]
  },
  {
   "cell_type": "code",
   "execution_count": null,
   "id": "8b5b5f93-e535-40b0-a442-bc3e76a0a10a",
   "metadata": {},
   "outputs": [],
   "source": [
    "# There is only one of each of these dataset types:\n",
    "refs = list(registry.queryDatasets('visit_table'))\n",
    "table = butler.get(refs[0])\n",
    "params = addParameter(params, 'nvisitsummaries', len(table))\n",
    "\n",
    "refs = list(registry.queryDatasets('visit_detector_table'))\n",
    "table = butler.get(refs[0])\n",
    "params = addParameter(params, 'nvisitdetectorsummaries', len(table))\n",
    "\n",
    "refs = list(registry.queryDatasets('ss_source'))\n",
    "catalog = butler.get(refs[0]) # There is only 1 ss_source catalog in DP1.\n",
    "params = addParameter(params, 'nsolarsystemsources', len(catalog))\n",
    "\n",
    "refs = list(registry.queryDatasets('ss_object'))\n",
    "catalog = butler.get(refs[0])\n",
    "params = addParameter(params, 'nsolarsystemobjects', len(catalog))"
   ]
  },
  {
<<<<<<< HEAD
=======
   "cell_type": "code",
   "execution_count": null,
   "id": "b10befa4-5872-4a14-81cb-5d423cc7e4b6",
   "metadata": {},
   "outputs": [],
   "source": [
    "refs = list(registry.queryDatasets('ss_source'))\n",
    "catalog = butler.get(refs[0]) # There is only 1 ss_source catalog in DP1."
   ]
  },
  {
>>>>>>> d256ac4 (Add ECDFS depth calc to parameters nb)
   "cell_type": "markdown",
   "id": "0e47fb34-b5f7-4d53-9927-50f9c4e6b643",
   "metadata": {},
   "source": [
    "## Miscalleneous"
   ]
  },
  {
   "cell_type": "markdown",
   "id": "8ad38062-b1cd-49e6-a21f-d681af3a7fca",
   "metadata": {},
   "source": [
    "#### The number of raws that failed processing to visit images"
   ]
  },
  {
   "cell_type": "code",
   "execution_count": null,
   "id": "abcaa8df-64dd-466d-92ee-c17a0de9272b",
   "metadata": {},
   "outputs": [],
   "source": [
    "# Report the number of failed raw-to-visit_image processings as the difference in the\n",
    "# number of raws and the number of visit_images.\n",
    "params = addParameter(params, 'nsfpfails', params[0]['nraws'] - params[0]['nvisitimages'])"
   ]
  },
  {
   "cell_type": "markdown",
   "id": "c53bc52e-1790-4172-87a4-78ecf5c21bfd",
   "metadata": {},
   "source": [
    "## Longer calculations\n",
    "The following code blocks take more than a few seconds to run, in some cases many minutes. They run only if the respective parameter does not already exist in the params tuple, i.e., they have been removed from the \"add by hand\" block above. "
   ]
  },
  {
   "cell_type": "markdown",
   "id": "b1982b7f-04e4-49f7-a656-8f9d3372cd6f",
   "metadata": {},
   "source": [
    "### Total area covered by DP1"
   ]
  },
  {
   "cell_type": "code",
   "execution_count": null,
   "id": "3f548de3-9fa5-4e09-abfb-6fe8ba538b5b",
   "metadata": {},
   "outputs": [],
   "source": [
    "# Takes around 10 minutes to run:\n",
    "if 'totalarea' not in params[0]:\n",
    "    coaddRefs = list(registry.queryDatasets('deep_coadd', where=\"band = 'r'\"))\n",
    "    pixcount = 0\n",
    "    for coaddRef in coaddRefs:\n",
    "        im = butler.get('deep_coadd.mask', dataId = coaddRef.dataId)\n",
    "        pixcount +=  im.array.size - np.sum((im.array & im.getPlaneBitMask('NO_DATA')) > 0)\n",
    "    area = pixcount * ((0.2 / 3600)**2)\n",
    "\n",
    "    params = addParameter('totalarea', f'{np.round(area):.0f}', unit='deg$^2$')"
   ]
  },
  {
   "cell_type": "markdown",
   "id": "3299fa0d-1e87-4af6-a9af-23d898c59a1c",
   "metadata": {},
   "source": [
    "### Total number of objects"
   ]
  },
  {
   "cell_type": "code",
   "execution_count": null,
   "id": "377f68f8-3bcd-4022-997c-5871adbe1d88",
   "metadata": {},
   "outputs": [],
   "source": [
    "# Takes around 8s to run:\n",
    "if 'nobjects' not in params[0]:\n",
    "\n",
    "    runningTotal = 0\n",
    "    refs = list(registry.queryDatasets('object'))\n",
    "    for ref in refs:\n",
    "        catalog = butler.get(ref, parameters = {'columns':'objectId'})\n",
    "        runningTotal += len(catalog)\n",
    "\n",
    "    params = addParameter(params, 'nobjects', runningTotal/1e6, sig=2, unit='million')"
   ]
  },
  {
   "cell_type": "markdown",
   "id": "fa6f399e-2e09-40c3-87e0-ece0f5186b10",
   "metadata": {},
   "source": [
    "### Total number of sources"
   ]
  },
  {
   "cell_type": "code",
   "execution_count": null,
   "id": "e84b88c8-8397-447b-ab83-ad750248d904",
   "metadata": {},
   "outputs": [],
   "source": [
    "# Takes around 2m to run:\n",
    "if 'nsources' not in params[0]:\n",
    "\n",
    "    refs = list(registry.queryDatasets('source'))\n",
    "    runningTotal = 0\n",
    "    for ref in refs:\n",
    "        catalog = butler.get(ref, parameters = {'columns':'sourceId'})\n",
    "        runningTotal += len(catalog)\n",
    "\n",
    "    params = addParameter(params, 'nsources', runningTotal/1e6, sig=2, unit='million')"
   ]
  },
  {
   "cell_type": "markdown",
   "id": "781c6d05-9d52-40c9-a166-51a752b11486",
   "metadata": {},
   "source": [
    "### Total number of DIA objects"
   ]
  },
  {
   "cell_type": "code",
   "execution_count": null,
   "id": "7ba4f05b-4d65-425f-872b-b097cd55a1d5",
   "metadata": {},
   "outputs": [],
   "source": [
    "# Takes less than a second, but placed here to group with similar tasks:\n",
    "if 'ndiaobjects' not in params[0]:\n",
    "\n",
    "    refs = list(registry.queryDatasets('dia_object'))\n",
    "    runningTotal = 0\n",
    "    for ref in refs:\n",
    "        catalog = butler.get(ref, parameters = {'columns':'diaObjectId'})\n",
    "        runningTotal += len(catalog)\n",
    "\n",
    "    params = addParameter(params, 'ndiaobjects', runningTotal/1e6, sig=2, unit='million')"
   ]
  },
  {
   "cell_type": "markdown",
   "id": "6d91c638-5145-4768-8b0c-83ec90879d77",
   "metadata": {},
   "source": [
    "### Total number of DIA sources"
   ]
  },
  {
   "cell_type": "code",
   "execution_count": null,
   "id": "e1d87419-0a37-4b55-9991-a57d074fe4b2",
   "metadata": {},
   "outputs": [],
   "source": [
    "# Takes less than a second, but placed here to group with similar tasks:\n",
    "if 'ndiasources' not in params[0]:\n",
    "\n",
    "    refs = list(registry.queryDatasets('dia_source'))\n",
    "    runningTotal = 0\n",
    "    for ref in refs:\n",
    "        catalog = butler.get(ref, parameters = {'columns':'diaSourceId'})\n",
    "        runningTotal += len(catalog)\n",
    "\n",
    "    params = addParameter(params, 'ndiasources', runningTotal/1e6, sig=2, unit='million')"
   ]
  },
  {
   "cell_type": "markdown",
   "id": "df2b1c2b-c5e4-4de9-a20c-45fa903c070b",
   "metadata": {},
   "source": [
    "### Total number of forced objects and sources"
   ]
  },
  {
   "cell_type": "code",
   "execution_count": null,
   "id": "94480c41-8ee0-437b-976d-700631061024",
   "metadata": {},
   "outputs": [],
   "source": [
    "# Takes around 15s to run:\n",
    "if 'nforcedsources' not in params[0]:\n",
    "\n",
    "    refs = list(registry.queryDatasets('object_forced_source'))\n",
    "    runningTotalSrc = 0\n",
    "    runningTotalObj = 0\n",
    "    for ref in refs:\n",
    "        catalog = butler.get(ref, parameters = {'columns':'objectId'})\n",
    "        runningTotalSrc += len(catalog)\n",
    "        runningTotalObj += len(catalog.to_pandas()['objectId'].unique())\n",
    "\n",
    "    params = addParameter(params, 'nforcedsources', runningTotalSrc/1e6, sig=3, unit='million')\n",
    "    params = addParameter(params, 'nforcedobjects', runningTotalObj/1e6, sig=2, unit='million')"
   ]
  },
  {
   "cell_type": "markdown",
   "id": "d0da6188-c9d9-4078-a916-697f38f2678a",
   "metadata": {},
   "source": [
    "### Total number of DIA forced objects and sources"
   ]
  },
  {
   "cell_type": "code",
   "execution_count": null,
   "id": "d80ca41e-0f0f-4e7b-a0db-6c44b037b7fe",
   "metadata": {},
   "outputs": [],
   "source": [
    "# Takes around 1m30s to run:\n",
    "if 'ndiaforcedsources' not in params[0]:\n",
    "\n",
    "    refs = list(registry.queryDatasets('dia_object_forced_source'))\n",
    "    runningTotalSrc = 0\n",
    "    runningTotalObj = 0\n",
    "    for ref in refs:\n",
    "        catalog = butler.get(ref, parameters = {'columns':'diaObjectId'})\n",
    "        runningTotalSrc += len(catalog)\n",
    "        runningTotalObj += len(catalog.to_pandas()['diaObjectId'].unique())\n",
    "\n",
    "    params = addParameter(params, 'ndiaforcedsources', runningTotalSrc/1e6, sig=3, unit='million')\n",
    "    params = addParameter(params, 'ndiaforcedobjects', runningTotalObj/1e6, sig=2, unit='million')"
   ]
  },
  {
   "cell_type": "markdown",
   "id": "be1027a3-d81c-45c4-9b34-808c80ad91e3",
   "metadata": {},
   "source": [
    "### Total number of extended objects"
   ]
  },
  {
   "cell_type": "code",
   "execution_count": null,
   "id": "862da2d7-7718-4ad8-a2ad-5c3951bc5fc5",
   "metadata": {},
   "outputs": [],
   "source": [
    "# Takes around 10s to run:\n",
    "if 'nextendedobjects' not in params[0].keys():\n",
    "\n",
    "    nGals = 0\n",
    "    nStars = 0\n",
    "    nAll = 0 \n",
    "\n",
    "    refs = list(registry.queryDatasets('object'))\n",
    "    columns = [band + '_extendedness' for band in ['u', 'g', 'r', 'i', 'z', 'y']]\n",
    "    for ref in refs:\n",
    "        objectTable = butler.get(ref, parameters = {'columns':columns})\n",
    "        if len(objectTable) > 0:\n",
    "            galSelection = (\n",
    "                ((objectTable['u_extendedness'] > 0.5) & ~objectTable['u_extendedness'].mask) |\n",
    "                ((objectTable['g_extendedness'] > 0.5) & ~objectTable['g_extendedness'].mask)  |\n",
    "                ((objectTable['r_extendedness'] > 0.5) & ~objectTable['r_extendedness'].mask)  |\n",
    "                ((objectTable['i_extendedness'] > 0.5) & ~objectTable['i_extendedness'].mask)  |\n",
    "                ((objectTable['z_extendedness'] > 0.5) & ~objectTable['z_extendedness'].mask)  |\n",
    "                ((objectTable['y_extendedness'] > 0.5) & ~objectTable['y_extendedness'].mask) \n",
    "            )\n",
    "            nGals += np.sum(galSelection.data)\n",
    "\n",
    "            starSelection = (\n",
    "                ((objectTable['u_extendedness'] <= 0.5) & ~objectTable['u_extendedness'].mask) &\n",
    "                ((objectTable['g_extendedness'] <= 0.5) & ~objectTable['g_extendedness'].mask)  &\n",
    "                ((objectTable['r_extendedness'] <= 0.5) & ~objectTable['r_extendedness'].mask)  &\n",
    "                ((objectTable['i_extendedness'] <= 0.5) & ~objectTable['i_extendedness'].mask)  &\n",
    "                ((objectTable['z_extendedness'] <= 0.5) & ~objectTable['z_extendedness'].mask)  &\n",
    "                ((objectTable['y_extendedness'] <= 0.5) & ~objectTable['y_extendedness'].mask) \n",
    "            )\n",
    "            nStars += np.sum(starSelection.data)\n",
    "\n",
    "    params = addParameter(params, 'nextendedobjects', nGals/1e6, sig=2, unit='million')"
   ]
  },
  {
   "cell_type": "markdown",
   "id": "d8472c81",
   "metadata": {},
   "source": [
    "### The total number of visit_images that went into coadds\n",
    "In other words, the number that passed the various selection criteria:"
   ]
  },
  {
   "cell_type": "code",
   "execution_count": null,
   "id": "56b628a0-2c11-4998-a4ef-49bf3aa05abf",
   "metadata": {},
   "outputs": [],
   "source": [
    "# Takes around 5m to run:\n",
    "# deep_coadd_input_map isn't available in the public data release.\n",
    "if 'ndeepcoaddvisitimages' not in params[0].keys():\n",
    "    refs = list(registry.queryDatasets('deep_coadd_input_map'))  \n",
    "\n",
    "    visitDetectorPairs = set()\n",
    "    for ref in refs:\n",
    "        inputMap = butler.get(ref)\n",
    "        keyRoots = [key[:5] for key in inputMap.metadata if key.startswith(\"B\") & key.endswith('CCD')]\n",
    "        visitDetectorPairs.update({(inputMap.metadata[keyRoot+'VIS'],inputMap.metadata[keyRoot+'CCD']) for keyRoot in keyRoots})\n",
    "    params = addParameter(params, 'ndeepcoaddvisitimages', len(visitDetectorPairs))"
   ]
  },
  {
   "cell_type": "code",
   "execution_count": null,
   "id": "b33f8357-ae3b-45fc-bd6e-e35f5b7d4989",
   "metadata": {},
   "outputs": [],
   "source": [
    "# Takes around 1m30s to run.\n",
    "\n",
    "# This method is not as robust as the above (it assumes all visit_images from a selected visit are used),\n",
    "# but the equivalent of `deep_coadd_input_map` doesn't exist for template coadds.\n",
    "\n",
    "# template_coadd_visit_selection isn't available in the public data release.\n",
    "if 'ntemplatecoaddvisitimages' not in params[0].keys():\n",
    "    refs = list(registry.queryDatasets('template_coadd_visit_selection'))\n",
    "\n",
    "    visits = set()\n",
    "    for ref in refs:\n",
    "        inputVisits = butler.get(ref)\n",
    "        visits.update({key for (key,value) in inputVisits.items() if value})\n",
    "\n",
    "    nTemplateCoaddInputs = 0\n",
    "    for visit in visits:\n",
    "        nTemplateCoaddInputs += len(list(registry.queryDatasets('visit_image', visit=visit, instrument='LSSTComCam')))\n",
    "    params = addParameter(params, 'ntemplatecoaddvisitimages', nTemplateCoaddInputs)"
   ]
  },
  {
   "cell_type": "markdown",
   "id": "23203be2-9cf8-4ebb-a71b-d4a7a86574d1",
   "metadata": {},
   "source": [
    "### The 5sigma depth of the deepest field - ECDFS - in each band"
   ]
  },
  {
   "cell_type": "code",
   "execution_count": null,
   "id": "d9d8fe37-af26-494e-a240-e9c0911b3a2b",
   "metadata": {},
   "outputs": [],
   "source": [
<<<<<<< HEAD
    "tracts = []\n",
=======
    "# This could not be tested when it was written due to the w/c 7 July USDF outage.\n",
    "\n",
    "tracts = []\n",
    "bands = ['u','g','r','i','z','y']\n",
    "\n",
>>>>>>> d256ac4 (Add ECDFS depth calc to parameters nb)
    "with butler.query() as base_query:\n",
    "    processed_visit_query = base_query.join_dataset_search(\"visit_summary\").where(\"visit.target_name = 'ECDFS'\")\n",
    "    for row in processed_visit_query.general([\"tract\"]):\n",
    "        tracts.append(row[\"tract\"])\n",
    "\n",
    "for band in bands:\n",
    "    mags = np.array([])\n",
    "    for tract in tracts:\n",
    "        columns = [f'{band}_psfFlux',\n",
    "                   f'{band}_psfFluxErr',\n",
    "                   f'{band}_psfFlux_flag',\n",
    "                   f'{band}_extendedness']\n",
    "        table = butler.get('object',\n",
    "                           tract=tract,\n",
    "                           skymap='lsst_cells_v1',\n",
    "                           parameters={'columns':columns})\n",
    "        sn = table[f'{band}_psfFlux'] / table[f'{band}_psfFluxErr']\n",
    "        if len(table) > 0:\n",
    "            starSelection = (\n",
    "                (~table[f'{band}_psfFlux_flag']) &\n",
    "                (table[f'{band}_extendedness'] <= 0.5) &\n",
    "                ~table[f'{band}_extendedness'].mask &\n",
    "                (sn > 4.9) &\n",
    "                (sn < 5.1))\n",
    "            mags = np.append(mags,(table[starSelection][f'{band}_psfFlux'] * u.nJy).to_value(u.ABmag))\n",
    "    params = addParameter(params, f'{band}depth', np.median(mags), sig=4)"
   ]
  },
  {
   "cell_type": "markdown",
   "id": "7e56ff65-6be8-41e0-8bae-96b4a14f22bf",
   "metadata": {},
   "source": [
    "## Write the parameters to file"
   ]
  },
  {
   "cell_type": "code",
   "execution_count": null,
   "id": "53a111fe-34a3-46f4-9ea4-197b604fa357",
   "metadata": {},
   "outputs": [],
   "source": [
    "with open(\"../parameters.tex\", \"w\") as f:\n",
    "    f.write('% These parameters are automatically generated by the dp1_parameters notebook.\\n')\n",
    "    f.write('% Do NOT manually edit this file.\\n')\n",
    "    f.write('% If you need to change/add a parameter, please edit the dp1_parameters notebook and re-run it.\\n\\n')\n",
    "    for name in params[0]:\n",
    "        f.write(formatParameter(params, name))\n",
    "f.close()"
   ]
  },
  {
   "cell_type": "code",
   "execution_count": null,
   "id": "91bb640c-2f8c-4c3c-9dd1-170452f3b8b0",
   "metadata": {},
   "outputs": [],
   "source": []
  }
 ],
 "metadata": {
  "kernelspec": {
   "display_name": "LSST",
   "language": "python",
   "name": "lsst"
  },
  "language_info": {
   "codemirror_mode": {
    "name": "ipython",
    "version": 3
   },
   "file_extension": ".py",
   "mimetype": "text/x-python",
   "name": "python",
   "nbconvert_exporter": "python",
   "pygments_lexer": "ipython3",
   "version": "3.12.11"
  }
 },
 "nbformat": 4,
 "nbformat_minor": 5
}
