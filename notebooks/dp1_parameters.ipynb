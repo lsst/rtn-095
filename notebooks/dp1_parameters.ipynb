{
 "cells": [
  {
   "cell_type": "markdown",
   "id": "c64d08e5-e937-4730-9f17-41f82a2f72a3",
   "metadata": {
    "execution": {
     "iopub.execute_input": "2025-05-14T21:45:06.489598Z",
     "iopub.status.busy": "2025-05-14T21:45:06.489384Z",
     "iopub.status.idle": "2025-05-14T21:45:06.493264Z",
     "shell.execute_reply": "2025-05-14T21:45:06.492736Z",
     "shell.execute_reply.started": "2025-05-14T21:45:06.489583Z"
    }
   },
   "source": [
    "<img align=\"left\" src = https://project.lsst.org/sites/default/files/Rubin-O-Logo_0.png width=250 style=\"padding: 10px\"\n",
    "alt=\"Rubin Observatory logo, a graphical representation of turning stars into data.\"> <br><br>\n",
    "**Description:** Generate parameters for the _Rubin Observatory DP1_ paper. <br>\n",
    "**Authors:** Leanne Guy, James Mullaney <br>\n",
    "**Last verified to run:** 2025-05-14 <br>\n",
    "**LSST Science Pipelines version:** v29.0.0<br>\n",
    "**Container size:** medium <br>"
   ]
  },
  {
   "cell_type": "markdown",
   "id": "e3d0573f-1451-45ef-89cc-8285b3c2a595",
   "metadata": {},
   "source": [
    "# DP1 parameters"
   ]
  },
  {
   "cell_type": "markdown",
   "id": "36f63acb-86a9-42e8-b250-081cae56973b",
   "metadata": {},
   "source": [
    "## Setup"
   ]
  },
  {
   "cell_type": "code",
   "execution_count": 1,
   "id": "1778b266-a138-4a2e-9c16-afd87f48c2e8",
   "metadata": {
    "execution": {
     "iopub.execute_input": "2025-05-23T08:36:37.452602Z",
     "iopub.status.busy": "2025-05-23T08:36:37.452323Z",
     "iopub.status.idle": "2025-05-23T08:36:39.496428Z",
     "shell.execute_reply": "2025-05-23T08:36:39.495748Z",
     "shell.execute_reply.started": "2025-05-23T08:36:37.452586Z"
    }
   },
   "outputs": [],
   "source": [
    "! pip install inflect > /dev/null 2>&1"
   ]
  },
  {
   "cell_type": "code",
   "execution_count": 2,
   "id": "89a6c063-c0a5-47ea-813f-0446375850f1",
   "metadata": {
    "execution": {
     "iopub.execute_input": "2025-05-23T08:36:39.497488Z",
     "iopub.status.busy": "2025-05-23T08:36:39.497339Z",
     "iopub.status.idle": "2025-05-23T08:36:40.683571Z",
     "shell.execute_reply": "2025-05-23T08:36:40.683049Z",
     "shell.execute_reply.started": "2025-05-23T08:36:39.497472Z"
    }
   },
   "outputs": [],
   "source": [
    "# Generic python packages\n",
    "import os\n",
    "import csv\n",
    "import requests\n",
    "import yaml\n",
    "import numpy as np\n",
    "import pandas as pd\n",
    "import numpy as np\n",
    "from pathlib import Path\n",
    "\n",
    "\n",
    "# LSST Science Pipelines \n",
    "from lsst.daf.butler import Butler\n",
    "\n",
    "# RSP\n",
    "from lsst.rsp import get_tap_service\n",
    "\n",
    "import warnings\n",
    "warnings.filterwarnings(\"ignore\")"
   ]
  },
  {
   "cell_type": "markdown",
   "id": "68c53da7-1c5a-486b-bb94-3615c00ab8e9",
   "metadata": {},
   "source": [
    "## Define utility functions"
   ]
  },
  {
   "cell_type": "code",
   "execution_count": 3,
   "id": "93bbe850-7bdc-468a-9d96-aa2dd0ca9436",
   "metadata": {
    "execution": {
     "iopub.execute_input": "2025-05-23T08:36:49.735015Z",
     "iopub.status.busy": "2025-05-23T08:36:49.734421Z",
     "iopub.status.idle": "2025-05-23T08:36:49.739606Z",
     "shell.execute_reply": "2025-05-23T08:36:49.739180Z",
     "shell.execute_reply.started": "2025-05-23T08:36:49.734986Z"
    }
   },
   "outputs": [],
   "source": [
    "# Create a dictionary to convert numbers to words.\n",
    "# Used for those numbers best expressed in words.\n",
    "num2word = {1: 'One', 2: 'Two', 3: 'Three', 4: 'Four', 5: 'Five', \\\n",
    "            6: 'Six', 7: 'Seven', 8: 'Eight', 9: 'Nine', 10: 'Ten', \\\n",
    "            11: 'Eleven', 12: 'Twelve', 13: 'Thirteen', 14: 'Fourteen', \\\n",
    "            15: 'Fifteen', 16: 'Sixteen', 17: 'Seventeen', 18: 'Eighteen', \\\n",
    "            19: 'Nineteen', 20: 'Twenty', 30: 'Thirty', 40: 'Forty', \\\n",
    "            50: 'Fifty', 60: 'Sixty', 70: 'Seventy', 80: 'Eighty', \\\n",
    "            90: 'Ninety', 0: 'Zero'}    "
   ]
  },
  {
   "cell_type": "code",
   "execution_count": 4,
   "id": "cfcb7f3b-0200-48da-a295-1e801bbd41ea",
   "metadata": {
    "execution": {
     "iopub.execute_input": "2025-05-23T08:36:49.858120Z",
     "iopub.status.busy": "2025-05-23T08:36:49.857486Z",
     "iopub.status.idle": "2025-05-23T08:36:49.860612Z",
     "shell.execute_reply": "2025-05-23T08:36:49.860210Z",
     "shell.execute_reply.started": "2025-05-23T08:36:49.858089Z"
    }
   },
   "outputs": [],
   "source": [
    "# Function to round to N significant figures\n",
    "def round_sf(x, sig=3):\n",
    "    return np.round(x, sig - int(np.floor(np.log10(abs(x)))) - 1)"
   ]
  },
  {
   "cell_type": "code",
   "execution_count": 5,
   "id": "d722aa47-56ba-4331-aca5-0d8989151df2",
   "metadata": {
    "execution": {
     "iopub.execute_input": "2025-05-23T08:36:49.995934Z",
     "iopub.status.busy": "2025-05-23T08:36:49.995518Z",
     "iopub.status.idle": "2025-05-23T08:36:49.998996Z",
     "shell.execute_reply": "2025-05-23T08:36:49.998616Z",
     "shell.execute_reply.started": "2025-05-23T08:36:49.995919Z"
    }
   },
   "outputs": [],
   "source": [
    "def formatParameter(params, name):\n",
    "    '''\n",
    "    Formats a named parameter ready for write-out to tex file.\n",
    "    '''\n",
    "    \n",
    "    value = params[0][name]\n",
    "\n",
    "    if isinstance(value, float):\n",
    "        value = f'{value:.3f}'.rstrip('0').rstrip('.')\n",
    "    \n",
    "    if name in params[1]:\n",
    "        unit = params[1][name]\n",
    "        if unit not in ['\\\\arcsec', '\\\\arcmin']:\n",
    "            unit = f'\\\\xspace {unit}'\n",
    "    else:\n",
    "        unit = ''\n",
    "        \n",
    "    return f'\\\\newcommand{{\\\\{name}}}{{{value}{unit}\\\\xspace}}\\n'"
   ]
  },
  {
   "cell_type": "code",
   "execution_count": 6,
   "id": "d004161d-1ad5-4487-91d5-4cabc08b5145",
   "metadata": {
    "execution": {
     "iopub.execute_input": "2025-05-23T08:36:50.128003Z",
     "iopub.status.busy": "2025-05-23T08:36:50.127649Z",
     "iopub.status.idle": "2025-05-23T08:36:50.131010Z",
     "shell.execute_reply": "2025-05-23T08:36:50.130603Z",
     "shell.execute_reply.started": "2025-05-23T08:36:50.127984Z"
    }
   },
   "outputs": [],
   "source": [
    "def addParameter(params, name, value, unit=None, **kwargs):\n",
    "\n",
    "    '''\n",
    "    Adds a named parameter to the params tuple of dictionaries.\n",
    "\n",
    "    Ensures that the namings between the values and units dictionaries are consistent.\n",
    "    '''\n",
    "    \n",
    "    if 'sig' in kwargs:\n",
    "        value = round_sf(value, **kwargs)\n",
    "    \n",
    "    params[0][name] = value\n",
    "    if unit:\n",
    "        params[1][name] = unit\n",
    "    \n",
    "    return params"
   ]
  },
  {
   "cell_type": "code",
   "execution_count": 7,
   "id": "3a9d0c0d-11f4-4918-969b-bb592394869c",
   "metadata": {
    "execution": {
     "iopub.execute_input": "2025-05-23T08:36:50.262675Z",
     "iopub.status.busy": "2025-05-23T08:36:50.262242Z",
     "iopub.status.idle": "2025-05-23T08:36:50.267641Z",
     "shell.execute_reply": "2025-05-23T08:36:50.267191Z",
     "shell.execute_reply.started": "2025-05-23T08:36:50.262656Z"
    }
   },
   "outputs": [],
   "source": [
    "def imageStats(params, imageType):\n",
    "    '''\n",
    "    Given an image dataset type name, add the following to the params:\n",
    "    - Number of dataset types in DP1;\n",
    "    - HDD size of the first instance of the dataset type in MB;\n",
    "    - Number of pixels in each x/y dimension;\n",
    "    - Platescale of image;\n",
    "    - On-sky field of view of image, both in x/y and area.  \n",
    "    '''\n",
    "    \n",
    "    imageName = imageType.replace('_', '')\n",
    "    \n",
    "    # Number of images:\n",
    "    refs = list(registry.queryDatasets(imageType))\n",
    "    params = addParameter(params, f'n{imageName}s', len(list(refs)))\n",
    "    \n",
    "    # Image HDD size:\n",
    "    filepath = butler.getURI(refs[0])\n",
    "    roughFileSize = round_sf(os.path.getsize(filepath.path) / 1e6, sig=2)\n",
    "    params = addParameter(params, f'{imageName}hdd', f'{roughFileSize:.0f}', unit='MB')\n",
    "\n",
    "    # Number of pixels\n",
    "    image = butler.get(refs[0])\n",
    "    params = addParameter(params, f'n{imageName}pixx', image.getDimensions().x)\n",
    "    params = addParameter(params, f'n{imageName}pixy', image.getDimensions().y)\n",
    "    \n",
    "    # Platescale:\n",
    "    platescale = image.getWcs().getPixelScale().asArcseconds()\n",
    "    params = addParameter(params, f'{imageName}platescale', f'{platescale:.1f}', unit='arcsec. per pixel')\n",
    "    \n",
    "    # Field of view\n",
    "    fovx = image.getDimensions().x * image.getWcs().getPixelScale().asArcminutes()\n",
    "    fovy = image.getDimensions().y * image.getWcs().getPixelScale().asArcminutes()\n",
    "    params = addParameter(params, f'{imageName}fovx', f'{fovx:.0f}', unit='\\\\arcmin')\n",
    "    params = addParameter(params, f'{imageName}fovy', f'{fovy:.0f}', unit='\\\\arcmin')\n",
    "    area = fovx * fovy\n",
    "    roughArea = round_sf(area, sig=3)\n",
    "    params = addParameter(params, f'{imageName}fov', f'{roughArea:.0f}', unit='sq. arcmin.')\n",
    "\n",
    "    return params"
   ]
  },
  {
   "cell_type": "markdown",
   "id": "897de5a6-f805-4b3a-8663-4b6fb0892e4e",
   "metadata": {},
   "source": [
    "## Set up DP1 Butler"
   ]
  },
  {
   "cell_type": "code",
   "execution_count": 8,
   "id": "42ccfd55-11a5-4c73-9603-6ce816ecd87c",
   "metadata": {
    "execution": {
     "iopub.execute_input": "2025-05-23T08:36:52.277930Z",
     "iopub.status.busy": "2025-05-23T08:36:52.277636Z",
     "iopub.status.idle": "2025-05-23T08:36:52.894025Z",
     "shell.execute_reply": "2025-05-23T08:36:52.893490Z",
     "shell.execute_reply.started": "2025-05-23T08:36:52.277913Z"
    }
   },
   "outputs": [],
   "source": [
    "instrument = 'LSSTComCam'\n",
    "collections = ['LSSTComCam/DP1/defaults', \n",
    "               'LSSTComCam/runs/DRP/DP1/v29_0_0/DM-50260',\n",
    "               'skymaps', ]\n",
    "skymapName = 'lsst_cells_v1'\n",
    "butler = Butler(\"/repo/dp1\",\n",
    "                instrument=instrument, \n",
    "                collections=collections, \n",
    "                skymap=skymapName)\n",
    "registry = butler.registry\n",
    "skymap = butler.get('skyMap', skymap=skymapName)"
   ]
  },
  {
   "cell_type": "code",
   "execution_count": 9,
   "id": "5a92f517-ea4d-4431-a05c-a15abfca9c43",
   "metadata": {
    "execution": {
     "iopub.execute_input": "2025-05-23T08:36:52.895171Z",
     "iopub.status.busy": "2025-05-23T08:36:52.894781Z",
     "iopub.status.idle": "2025-05-23T08:36:53.066076Z",
     "shell.execute_reply": "2025-05-23T08:36:53.065572Z",
     "shell.execute_reply.started": "2025-05-23T08:36:52.895156Z"
    }
   },
   "outputs": [],
   "source": [
    "## Consdb\n",
    "cdb = get_tap_service(\"consdbtap\")\n",
    "assert cdb is not None"
   ]
  },
  {
   "cell_type": "markdown",
   "id": "1ec678dd-0a07-4b88-b105-37cba09b6f70",
   "metadata": {},
   "source": [
    "## Set up parameters dictionary"
   ]
  },
  {
   "cell_type": "code",
   "execution_count": 10,
   "id": "0decda00-b7d8-4ccd-8fb3-90ee33a0d565",
   "metadata": {
    "execution": {
     "iopub.execute_input": "2025-05-22T09:48:00.438521Z",
     "iopub.status.busy": "2025-05-22T09:48:00.438140Z",
     "iopub.status.idle": "2025-05-22T09:48:00.441434Z",
     "shell.execute_reply": "2025-05-22T09:48:00.440896Z",
     "shell.execute_reply.started": "2025-05-22T09:48:00.438502Z"
    }
   },
   "outputs": [],
   "source": [
    "# Use a tuple of Python dicts to hold parameter values and units.\n",
    "# The first dict in the tuple holds values, the second holds units.\n",
    "\n",
    "# The dictionary keys are the names of the parameters in the parameter.tex files,\n",
    "# but without the leading backslash.\n",
    "\n",
    "# Pass the params tuple to the addParameter function to add a parameter value\n",
    "# with an optional unit.\n",
    "params = (dict(), dict())"
   ]
  },
  {
   "cell_type": "markdown",
   "id": "23bdf430-697a-40ef-8f88-96d9c8b7f7f2",
   "metadata": {},
   "source": [
    "## Add the parameters in the manualParameters.csv file.\n",
    "There are some parameters that either can't be generated automatically, or take a long time to compute. Such parameters are contained in the `../manualParameters.csv` file, which is read-in using the following block. \n",
    "\n",
    "In the case of the those parameters that take a long time to compute, the code blocks to generate them can be found toward the bottom of this notebook. To re-calculate these parameters, the corresponding line should be removed from the `../manualParameters.csv` file. \n"
   ]
  },
  {
   "cell_type": "code",
   "execution_count": 11,
   "id": "e15ac5ac-117b-47bb-9958-11d384b92934",
   "metadata": {
    "execution": {
     "iopub.execute_input": "2025-05-22T09:48:02.332109Z",
     "iopub.status.busy": "2025-05-22T09:48:02.331793Z",
     "iopub.status.idle": "2025-05-22T09:48:02.335553Z",
     "shell.execute_reply": "2025-05-22T09:48:02.335166Z",
     "shell.execute_reply.started": "2025-05-22T09:48:02.332082Z"
    }
   },
   "outputs": [],
   "source": [
    "with open('../manualParameters.csv', newline='') as f:\n",
    "    reader = csv.reader(f, delimiter=',')\n",
    "    for line in reader:\n",
    "        if line[2] == '':\n",
    "            line[2]=None\n",
    "        params = addParameter(params, line[0], line[1], unit=line[2])"
   ]
  },
  {
   "cell_type": "markdown",
   "id": "fbe4b005-e095-4d67-b899-cfd36ec04406",
   "metadata": {},
   "source": [
    "## Compute parameters"
   ]
  },
  {
   "cell_type": "markdown",
   "id": "53674e26-a02b-496a-b1ef-4e2bc995eadc",
   "metadata": {},
   "source": [
    "### Information about the observing campaign:"
   ]
  },
  {
   "cell_type": "code",
   "execution_count": 12,
   "id": "bac83d7c-be64-459d-b04f-f2097ebf667d",
   "metadata": {
    "execution": {
     "iopub.execute_input": "2025-05-22T09:48:05.590765Z",
     "iopub.status.busy": "2025-05-22T09:48:05.590478Z",
     "iopub.status.idle": "2025-05-22T09:48:06.635140Z",
     "shell.execute_reply": "2025-05-22T09:48:06.634606Z",
     "shell.execute_reply.started": "2025-05-22T09:48:05.590739Z"
    }
   },
   "outputs": [],
   "source": [
    "# Number of visits:\n",
    "visitRecords = registry.queryDimensionRecords('visit')\n",
    "params = addParameter(params, 'nvisits', len(list(visitRecords)))\n",
    "\n",
    "# Number of exposures. This should be the same as the number of visits.\n",
    "exposureRecords = registry.queryDimensionRecords('exposure')\n",
    "params = addParameter(params, 'nexposures', len(list(visitRecords)))               \n",
    "\n",
    "# Number of target fields:\n",
    "# Note: slew_icrs covered ECDFS, so they are the same field:\n",
    "fields = set([record.target_name for record in exposureRecords if record.target_name != 'slew_icrs'])\n",
    "params = addParameter(params, 'nfields', num2word[len(fields)].lower())\n",
    "\n",
    "# First and last date of DP1 observations:\n",
    "visit_table = butler.get('visit_table')\n",
    "firstVisitTime = min(visit_table['obsStart'])\n",
    "lastVisitTime = max(visit_table['obsStart'])\n",
    "lastVisitNight = lastVisitTime - np.timedelta64(1,'D') # The last night started the date before the last observation datetime. \n",
    "params = addParameter(params, 'dponestartdate', np.datetime_as_string(firstVisitTime, unit='D'))\n",
    "params = addParameter(params, 'dponeenddate', np.datetime_as_string(lastVisitNight, unit='D'))\n",
    "\n",
    "# Median exposure time:\n",
    "params = addParameter(params, 'exposuretime', f'{np.median(visit_table['expTime']):.0f}', unit='s')"
   ]
  },
  {
   "cell_type": "markdown",
   "id": "1f51cb3a-b2be-4e06-8fe2-6e56ceeb1f47",
   "metadata": {},
   "source": [
    "### Observation quality"
   ]
  },
  {
   "cell_type": "code",
   "execution_count": 13,
   "id": "c7c22d33-3675-414a-a925-dfd14e3a0639",
   "metadata": {
    "execution": {
     "iopub.execute_input": "2025-05-22T09:48:09.250111Z",
     "iopub.status.busy": "2025-05-22T09:48:09.249780Z",
     "iopub.status.idle": "2025-05-22T09:48:10.378474Z",
     "shell.execute_reply": "2025-05-22T09:48:10.377982Z",
     "shell.execute_reply.started": "2025-05-22T09:48:09.250083Z"
    }
   },
   "outputs": [],
   "source": [
    "# Best seeing:\n",
    "visit_detector_table = butler.get('visit_detector_table')\n",
    "minSeeing = np.min(visit_detector_table['seeing'][visit_detector_table['nPsfStar']>100])\n",
    "params = addParameter(params, 'bestimagequality', minSeeing, unit='\\\\arcsec', sig=2)\n",
    "\n",
    "# Median seeing:\n",
    "medSeeing = np.median(visit_detector_table['seeing'][visit_detector_table['nPsfStar']>100])\n",
    "params = addParameter(params, 'medianimagequalityallbands', medSeeing, unit='\\\\arcsec', sig=3)"
   ]
  },
  {
   "cell_type": "markdown",
   "id": "97548554-a2a6-424c-8cf7-7c3829372414",
   "metadata": {},
   "source": [
    "### Statistics for different types of image dataset"
   ]
  },
  {
   "cell_type": "code",
   "execution_count": 14,
   "id": "b19f2feb-3cf2-468e-9129-0132aa7532ae",
   "metadata": {
    "execution": {
     "iopub.execute_input": "2025-05-21T09:33:26.094988Z",
     "iopub.status.busy": "2025-05-21T09:33:26.094843Z",
     "iopub.status.idle": "2025-05-21T09:33:35.678190Z",
     "shell.execute_reply": "2025-05-21T09:33:35.677634Z",
     "shell.execute_reply.started": "2025-05-21T09:33:26.094973Z"
    }
   },
   "outputs": [],
   "source": [
    "datasetNames = ['raw',\n",
    "                'visit_image',\n",
    "                'deep_coadd',\n",
    "                'template_coadd',\n",
    "                'difference_image',\n",
    "               ]\n",
    "for datasetName in datasetNames:\n",
    "    params = imageStats(params, datasetName)\n",
    "\n",
    "# The total number of pixels in a single deep_coadd image:\n",
    "params = addParameter(params, 'ndeepcoaddpixtotal',\n",
    "                      params[0]['ndeepcoaddpixx']*params[0]['ndeepcoaddpixy']/1e6,\n",
    "                      sig=3, unit='million')"
   ]
  },
  {
   "cell_type": "markdown",
   "id": "1e318ce7-caff-4e51-8bce-e2dba6b69fcd",
   "metadata": {},
   "source": [
    "### Skymap data "
   ]
  },
  {
   "cell_type": "code",
   "execution_count": 15,
   "id": "57b1ce48-7752-48b0-8635-800614fc3f8f",
   "metadata": {
    "execution": {
     "iopub.execute_input": "2025-05-21T09:33:35.679296Z",
     "iopub.status.busy": "2025-05-21T09:33:35.678789Z",
     "iopub.status.idle": "2025-05-21T09:33:36.143545Z",
     "shell.execute_reply": "2025-05-21T09:33:36.143002Z",
     "shell.execute_reply.started": "2025-05-21T09:33:35.679281Z"
    }
   },
   "outputs": [],
   "source": [
    "# Total number of tracts across the entire sky:\n",
    "params = addParameter(params, 'ntotaltracts', len(skymap))\n",
    "\n",
    "# The number of tracts covered by DP1:\n",
    "tractRecords = list(registry.queryDimensionRecords('tract', where='visit > 0'))\n",
    "tractIds = set([record.id for record in tractRecords])\n",
    "params = addParameter(params, 'ntracts', len(tractIds))\n",
    "params = addParameter(params, 'ncoveredtracts', len(tractIds))\n",
    "\n",
    "# Average area of each tract:\n",
    "skyArea = 4*np.pi*(180./np.pi)**2\n",
    "tractArea = round_sf(skyArea / len(skymap), sig=2)\n",
    "roughTractArea = round_sf(tractArea, sig=2)\n",
    "params = addParameter(params, 'tractarea', f'{roughTractArea:.1f}', unit='sq. deg.')\n",
    "\n",
    "# Number of patches:\n",
    "numXPatches, numYPatches = skymap[0].getNumPatches()\n",
    "numPatches = numXPatches * numYPatches\n",
    "params = addParameter(params, 'npatchx', numXPatches)\n",
    "params = addParameter(params, 'npatchy', numYPatches)\n",
    "params = addParameter(params, 'npatch', numPatches)\n",
    "\n",
    "# Area of each patch:\n",
    "patchArea = (tractArea / numPatches) * 3600.\n",
    "roughPatchArea = round_sf(patchArea, sig=2)\n",
    "params = addParameter(params, 'patcharea', f'{roughPatchArea:.0f}', unit='sq. arcmin.')"
   ]
  },
  {
   "cell_type": "markdown",
   "id": "33e92c7a-f206-4351-a4cb-ba0939429134",
   "metadata": {},
   "source": [
    "### Visit image selection criteria for incorporation into deep coadd"
   ]
  },
  {
   "cell_type": "code",
   "execution_count": 16,
   "id": "1787c83f-8d65-43e6-8211-11bcf9cdd486",
   "metadata": {
    "execution": {
     "iopub.execute_input": "2025-05-21T09:33:36.144225Z",
     "iopub.status.busy": "2025-05-21T09:33:36.144086Z",
     "iopub.status.idle": "2025-05-21T09:33:36.259309Z",
     "shell.execute_reply": "2025-05-21T09:33:36.258696Z",
     "shell.execute_reply.started": "2025-05-21T09:33:36.144210Z"
    }
   },
   "outputs": [],
   "source": [
    "# The seeing criterion is communicated in the config file: \n",
    "refs = list(registry.queryDatasets('selectDeepCoaddVisits_config'))\n",
    "config = butler.get(refs[0])\n",
    "params = addParameter(params, 'deepcoaddmaxfwhm', config.maxPsfFwhm, sig=2, unit='\\\\arcsec')"
   ]
  },
  {
   "cell_type": "markdown",
   "id": "f760bd8c-a902-4b78-abc0-f84cb5ef73e1",
   "metadata": {},
   "source": [
    "### The number of datasets of each type of catalog "
   ]
  },
  {
   "cell_type": "code",
   "execution_count": 17,
   "id": "a4198ae0-ec3a-4049-8f9a-bea0ff7ef628",
   "metadata": {
    "execution": {
     "iopub.execute_input": "2025-05-21T09:33:36.259976Z",
     "iopub.status.busy": "2025-05-21T09:33:36.259841Z",
     "iopub.status.idle": "2025-05-21T09:33:36.464690Z",
     "shell.execute_reply": "2025-05-21T09:33:36.464236Z",
     "shell.execute_reply.started": "2025-05-21T09:33:36.259962Z"
    }
   },
   "outputs": [],
   "source": [
    "refs = list(registry.queryDatasets('source'))\n",
    "params = addParameter(params, 'nsourcecatalogs', len(refs))\n",
    "\n",
    "refs = list(registry.queryDatasets('object'))\n",
    "params = addParameter(params, 'nobjectcatalogs', len(refs))\n",
    "\n",
    "refs = list(registry.queryDatasets('dia_object'))\n",
    "params = addParameter(params, 'ndiaobjectcatalogs', len(refs))\n",
    "\n",
    "refs = list(registry.queryDatasets('dia_source'))\n",
    "params = addParameter(params, 'ndiasourcecatalogs', len(refs))\n",
    "\n",
    "refs = list(registry.queryDatasets('ss_source'))\n",
    "params = addParameter(params, 'nsolarsystemsourcecatalogs', len(refs))\n",
    "\n",
    "refs = list(registry.queryDatasets('visit_table'))\n",
    "params = addParameter(params, 'nvisitsummarytables', len(refs))\n",
    "\n",
    "refs = list(registry.queryDatasets('visit_detector_table'))\n",
    "params = addParameter(params, 'nvisitdetectorsummarytables', len(refs))\n",
    "\n",
    "refs = list(registry.queryDatasets('object_forced_source'))\n",
    "params = addParameter(params, 'nobjectforcedcatalogs', len(refs))\n",
    "\n",
    "refs = list(registry.queryDatasets('dia_object_forced_source'))\n",
    "params = addParameter(params, 'ndiaobjectforcedcatalogs', len(refs))"
   ]
  },
  {
   "cell_type": "markdown",
   "id": "b1de5d11-79d4-41f7-9308-4365d0ba7196",
   "metadata": {},
   "source": [
    "### The number of entries in the visit, visit detector, and solar system source tables "
   ]
  },
  {
   "cell_type": "code",
   "execution_count": 18,
   "id": "8b5b5f93-e535-40b0-a442-bc3e76a0a10a",
   "metadata": {
    "execution": {
     "iopub.execute_input": "2025-05-21T09:33:36.465357Z",
     "iopub.status.busy": "2025-05-21T09:33:36.465213Z",
     "iopub.status.idle": "2025-05-21T09:33:38.627287Z",
     "shell.execute_reply": "2025-05-21T09:33:38.626740Z",
     "shell.execute_reply.started": "2025-05-21T09:33:36.465343Z"
    }
   },
   "outputs": [],
   "source": [
    "# There is only one of each of these dataset types:\n",
    "refs = list(registry.queryDatasets('visit_table'))\n",
    "table = butler.get(refs[0])\n",
    "params = addParameter(params, 'nvisitsummaries', len(table))\n",
    "\n",
    "refs = list(registry.queryDatasets('visit_detector_table'))\n",
    "table = butler.get(refs[0])\n",
    "params = addParameter(params, 'nvisitdetectorsummaries', len(table))\n",
    "\n",
    "refs = list(registry.queryDatasets('ss_source'))\n",
    "catalog = butler.get(refs[0]) # There is only 1 ss_source catalog in DP1.\n",
    "params = addParameter(params, 'nsolarsystemsources', len(catalog))"
   ]
  },
  {
   "cell_type": "markdown",
   "id": "e76755b1-f712-4488-a424-9e12c53d3e80",
   "metadata": {},
   "source": [
    "### Miscellaneous"
   ]
  },
  {
   "cell_type": "markdown",
   "id": "8ad38062-b1cd-49e6-a21f-d681af3a7fca",
   "metadata": {},
   "source": [
    "#### The number of raws that failed processing to visit images"
   ]
  },
  {
   "cell_type": "code",
   "execution_count": 19,
   "id": "abcaa8df-64dd-466d-92ee-c17a0de9272b",
   "metadata": {
    "execution": {
     "iopub.execute_input": "2025-05-21T09:33:38.629669Z",
     "iopub.status.busy": "2025-05-21T09:33:38.629409Z",
     "iopub.status.idle": "2025-05-21T09:33:38.632246Z",
     "shell.execute_reply": "2025-05-21T09:33:38.631825Z",
     "shell.execute_reply.started": "2025-05-21T09:33:38.629653Z"
    }
   },
   "outputs": [],
   "source": [
    "# Reprt the number of failed raw-to-visit_image processings as the difference in the\n",
    "# number of raws and the number of visit_images.\n",
    "params = addParameter(params, 'nsfpfails', params[0]['nraws'] - params[0]['nvisitimages'])"
   ]
  },
  {
   "cell_type": "markdown",
   "id": "c53bc52e-1790-4172-87a4-78ecf5c21bfd",
   "metadata": {},
   "source": [
    "## Longer calculations\n",
    "The following code blocks take more than a few seconds to run, in some cases many minutes. They run only if the respective parameter does not already exist in the params tuple, i.e., they have been removed from the \"add by hand\" block above. "
   ]
  },
  {
   "cell_type": "markdown",
   "id": "b1982b7f-04e4-49f7-a656-8f9d3372cd6f",
   "metadata": {},
   "source": [
    "### Total area covered by DP1"
   ]
  },
  {
   "cell_type": "code",
   "execution_count": 20,
   "id": "3f548de3-9fa5-4e09-abfb-6fe8ba538b5b",
   "metadata": {
    "execution": {
     "iopub.execute_input": "2025-05-21T09:33:38.633019Z",
     "iopub.status.busy": "2025-05-21T09:33:38.632685Z",
     "iopub.status.idle": "2025-05-21T09:33:38.641445Z",
     "shell.execute_reply": "2025-05-21T09:33:38.640996Z",
     "shell.execute_reply.started": "2025-05-21T09:33:38.633003Z"
    }
   },
   "outputs": [],
   "source": [
    "# Takes around 10 minutes to run:\n",
    "if 'totalarea' not in params[0]:\n",
    "    coaddRefs = list(registry.queryDatasets('deep_coadd', where=\"band = 'r'\"))\n",
    "    pixcount = 0\n",
    "    for coaddRef in coaddRefs:\n",
    "        im = butler.get('deep_coadd.mask', dataId = coaddRef.dataId)\n",
    "        pixcount +=  im.array.size - np.sum((im.array & im.getPlaneBitMask('NO_DATA')) > 0)\n",
    "    area = pixcount * ((0.2 / 3600)**2)\n",
    "\n",
    "    params = addParameter('totalarea', f'{np.round(area):.0f}', unit='sq. deg.')"
   ]
  },
  {
   "cell_type": "markdown",
   "id": "3299fa0d-1e87-4af6-a9af-23d898c59a1c",
   "metadata": {},
   "source": [
    "### Total number of objects"
   ]
  },
  {
   "cell_type": "code",
   "execution_count": 21,
   "id": "377f68f8-3bcd-4022-997c-5871adbe1d88",
   "metadata": {
    "execution": {
     "iopub.execute_input": "2025-05-21T09:33:38.642240Z",
     "iopub.status.busy": "2025-05-21T09:33:38.641879Z",
     "iopub.status.idle": "2025-05-21T09:33:46.475858Z",
     "shell.execute_reply": "2025-05-21T09:33:46.475304Z",
     "shell.execute_reply.started": "2025-05-21T09:33:38.642224Z"
    }
   },
   "outputs": [],
   "source": [
    "# Takes around 8s to run:\n",
    "if 'nobjects' not in params[0]:\n",
    "\n",
    "    runningTotal = 0\n",
    "    refs = list(registry.queryDatasets('object'))\n",
    "    for ref in refs:\n",
    "        catalog = butler.get(ref, parameters = {'columns':'objectId'})\n",
    "        runningTotal += len(catalog)\n",
    "\n",
    "    params = addParameter(params, 'nobjects', runningTotal/1e6, sig=2, unit='million')"
   ]
  },
  {
   "cell_type": "markdown",
   "id": "fa6f399e-2e09-40c3-87e0-ece0f5186b10",
   "metadata": {},
   "source": [
    "### Total number of sources"
   ]
  },
  {
   "cell_type": "code",
   "execution_count": 22,
   "id": "e84b88c8-8397-447b-ab83-ad750248d904",
   "metadata": {
    "execution": {
     "iopub.execute_input": "2025-05-21T09:33:46.476590Z",
     "iopub.status.busy": "2025-05-21T09:33:46.476447Z",
     "iopub.status.idle": "2025-05-21T09:35:29.759344Z",
     "shell.execute_reply": "2025-05-21T09:35:29.758780Z",
     "shell.execute_reply.started": "2025-05-21T09:33:46.476575Z"
    }
   },
   "outputs": [],
   "source": [
    "# Takes around 1m20s to run:\n",
    "if 'nsources' not in params[0]:\n",
    "\n",
    "    refs = list(registry.queryDatasets('source'))\n",
    "    runningTotal = 0\n",
    "    for ref in refs:\n",
    "        catalog = butler.get(ref, parameters = {'columns':'sourceId'})\n",
    "        runningTotal += len(catalog)\n",
    "\n",
    "    params = addParameter(params, 'nsources', runningTotal/1e6, sig=2, unit='million')"
   ]
  },
  {
   "cell_type": "markdown",
   "id": "781c6d05-9d52-40c9-a166-51a752b11486",
   "metadata": {},
   "source": [
    "### Total number of DIA objects"
   ]
  },
  {
   "cell_type": "code",
   "execution_count": 23,
   "id": "7ba4f05b-4d65-425f-872b-b097cd55a1d5",
   "metadata": {
    "execution": {
     "iopub.execute_input": "2025-05-21T09:35:29.760114Z",
     "iopub.status.busy": "2025-05-21T09:35:29.759963Z",
     "iopub.status.idle": "2025-05-21T09:35:30.170840Z",
     "shell.execute_reply": "2025-05-21T09:35:30.170308Z",
     "shell.execute_reply.started": "2025-05-21T09:35:29.760099Z"
    }
   },
   "outputs": [],
   "source": [
    "# Takes less than a second, but placed here to group with similar tasks:\n",
    "if 'ndiaobjects' not in params[0]:\n",
    "\n",
    "    refs = list(registry.queryDatasets('dia_object'))\n",
    "    runningTotal = 0\n",
    "    for ref in refs:\n",
    "        catalog = butler.get(ref, parameters = {'columns':'diaObjectId'})\n",
    "        runningTotal += len(catalog)\n",
    "\n",
    "    params = addParameter(params, 'ndiaobjects', runningTotal/1e6, sig=2, unit='million')"
   ]
  },
  {
   "cell_type": "markdown",
   "id": "6d91c638-5145-4768-8b0c-83ec90879d77",
   "metadata": {},
   "source": [
    "### Total number of DIA sources"
   ]
  },
  {
   "cell_type": "code",
   "execution_count": 24,
   "id": "e1d87419-0a37-4b55-9991-a57d074fe4b2",
   "metadata": {
    "execution": {
     "iopub.execute_input": "2025-05-21T09:35:30.171590Z",
     "iopub.status.busy": "2025-05-21T09:35:30.171440Z",
     "iopub.status.idle": "2025-05-21T09:35:30.598982Z",
     "shell.execute_reply": "2025-05-21T09:35:30.598290Z",
     "shell.execute_reply.started": "2025-05-21T09:35:30.171574Z"
    }
   },
   "outputs": [],
   "source": [
    "# Takes less than a second, but placed here to group with similar tasks:\n",
    "if 'ndiasources' not in params[0]:\n",
    "\n",
    "    refs = list(registry.queryDatasets('dia_source'))\n",
    "    runningTotal = 0\n",
    "    for ref in refs:\n",
    "        catalog = butler.get(ref, parameters = {'columns':'diaSourceId'})\n",
    "        runningTotal += len(catalog)\n",
    "\n",
    "    params = addParameter(params, 'ndiasources', runningTotal/1e6, sig=2, unit='million')"
   ]
  },
  {
   "cell_type": "markdown",
   "id": "df2b1c2b-c5e4-4de9-a20c-45fa903c070b",
   "metadata": {},
   "source": [
    "### Total number of forced objects and sources"
   ]
  },
  {
   "cell_type": "code",
   "execution_count": 25,
   "id": "94480c41-8ee0-437b-976d-700631061024",
   "metadata": {
    "execution": {
     "iopub.execute_input": "2025-05-21T09:35:30.599783Z",
     "iopub.status.busy": "2025-05-21T09:35:30.599625Z",
     "iopub.status.idle": "2025-05-21T09:35:48.530496Z",
     "shell.execute_reply": "2025-05-21T09:35:48.530026Z",
     "shell.execute_reply.started": "2025-05-21T09:35:30.599767Z"
    }
   },
   "outputs": [],
   "source": [
    "# Takes around 15s to run:\n",
    "if 'nforcedsources' not in params[0]:\n",
    "\n",
    "    refs = list(registry.queryDatasets('object_forced_source'))\n",
    "    runningTotalSrc = 0\n",
    "    runningTotalObj = 0\n",
    "    for ref in refs:\n",
    "        catalog = butler.get(ref, parameters = {'columns':'objectId'})\n",
    "        runningTotalSrc += len(catalog)\n",
    "        runningTotalObj += len(catalog.to_pandas()['objectId'].unique())\n",
    "\n",
    "    params = addParameter(params, 'nforcedsources', runningTotalSrc/1e6, sig=3, unit='million')\n",
    "    params = addParameter(params, 'nforcedobjects', runningTotalObj/1e6, sig=2, unit='million')"
   ]
  },
  {
   "cell_type": "markdown",
   "id": "d0da6188-c9d9-4078-a916-697f38f2678a",
   "metadata": {},
   "source": [
    "### Total number of DIA forced objects and sources"
   ]
  },
  {
   "cell_type": "code",
   "execution_count": 26,
   "id": "d80ca41e-0f0f-4e7b-a0db-6c44b037b7fe",
   "metadata": {
    "execution": {
     "iopub.execute_input": "2025-05-21T09:35:48.531169Z",
     "iopub.status.busy": "2025-05-21T09:35:48.531018Z",
     "iopub.status.idle": "2025-05-21T09:37:13.557508Z",
     "shell.execute_reply": "2025-05-21T09:37:13.556942Z",
     "shell.execute_reply.started": "2025-05-21T09:35:48.531154Z"
    }
   },
   "outputs": [],
   "source": [
    "# Takes around 1m30s to run:\n",
    "if 'ndiaforcedsources' not in params[0]:\n",
    "\n",
    "    refs = list(registry.queryDatasets('dia_object_forced_source'))\n",
    "    runningTotalSrc = 0\n",
    "    runningTotalObj = 0\n",
    "    for ref in refs:\n",
    "        catalog = butler.get(ref, parameters = {'columns':'diaObjectId'})\n",
    "        runningTotalSrc += len(catalog)\n",
    "        runningTotalObj += len(catalog.to_pandas()['diaObjectId'].unique())\n",
    "\n",
    "    params = addParameter(params, 'ndiaforcedsources', runningTotalSrc/1e6, sig=3, unit='million')\n",
    "    params = addParameter(params, 'ndiaforcedobjects', runningTotalObj/1e6, sig=2, unit='million')"
   ]
  },
  {
   "cell_type": "markdown",
   "id": "be1027a3-d81c-45c4-9b34-808c80ad91e3",
   "metadata": {},
   "source": [
    "### Total number of extended objects"
   ]
  },
  {
   "cell_type": "code",
   "execution_count": 27,
   "id": "862da2d7-7718-4ad8-a2ad-5c3951bc5fc5",
   "metadata": {
    "execution": {
     "iopub.execute_input": "2025-05-21T09:37:13.558278Z",
     "iopub.status.busy": "2025-05-21T09:37:13.558132Z",
     "iopub.status.idle": "2025-05-21T09:37:22.144544Z",
     "shell.execute_reply": "2025-05-21T09:37:22.143962Z",
     "shell.execute_reply.started": "2025-05-21T09:37:13.558263Z"
    }
   },
   "outputs": [],
   "source": [
    "# Takes around 10s to run:\n",
    "if 'nextendedobjects' not in params[0].keys():\n",
    "\n",
    "    nGals = 0\n",
    "    nStars = 0\n",
    "    nAll = 0 \n",
    "\n",
    "    refs = list(registry.queryDatasets('object'))\n",
    "    columns = [band + '_extendedness' for band in ['u', 'g', 'r', 'i', 'z', 'y']]\n",
    "    for ref in refs:\n",
    "        objectTable = butler.get(ref, parameters = {'columns':columns})\n",
    "        if len(objectTable) > 0:\n",
    "            galSelection = (\n",
    "                ((objectTable['u_extendedness'] > 0.5) & ~objectTable['u_extendedness'].mask) |\n",
    "                ((objectTable['g_extendedness'] > 0.5) & ~objectTable['g_extendedness'].mask)  |\n",
    "                ((objectTable['r_extendedness'] > 0.5) & ~objectTable['r_extendedness'].mask)  |\n",
    "                ((objectTable['i_extendedness'] > 0.5) & ~objectTable['i_extendedness'].mask)  |\n",
    "                ((objectTable['z_extendedness'] > 0.5) & ~objectTable['z_extendedness'].mask)  |\n",
    "                ((objectTable['y_extendedness'] > 0.5) & ~objectTable['y_extendedness'].mask) \n",
    "            )\n",
    "            nGals += np.sum(galSelection.data)\n",
    "\n",
    "            starSelection = (\n",
    "                ((objectTable['u_extendedness'] <= 0.5) & ~objectTable['u_extendedness'].mask) &\n",
    "                ((objectTable['g_extendedness'] <= 0.5) & ~objectTable['g_extendedness'].mask)  &\n",
    "                ((objectTable['r_extendedness'] <= 0.5) & ~objectTable['r_extendedness'].mask)  &\n",
    "                ((objectTable['i_extendedness'] <= 0.5) & ~objectTable['i_extendedness'].mask)  &\n",
    "                ((objectTable['z_extendedness'] <= 0.5) & ~objectTable['z_extendedness'].mask)  &\n",
    "                ((objectTable['y_extendedness'] <= 0.5) & ~objectTable['y_extendedness'].mask) \n",
    "            )\n",
    "            nStars += np.sum(starSelection.data)\n",
    "\n",
    "    params = addParameter(params, 'nextendedobjects', nGals/1e6, sig=2, unit='million')"
   ]
  },
  {
   "cell_type": "markdown",
   "id": "7e56ff65-6be8-41e0-8bae-96b4a14f22bf",
   "metadata": {},
   "source": [
    "## Write the parameters to file"
   ]
  },
  {
   "cell_type": "code",
   "execution_count": 28,
   "id": "53a111fe-34a3-46f4-9ea4-197b604fa357",
   "metadata": {
    "execution": {
     "iopub.execute_input": "2025-05-21T09:37:22.145282Z",
     "iopub.status.busy": "2025-05-21T09:37:22.145134Z",
     "iopub.status.idle": "2025-05-21T09:37:22.149985Z",
     "shell.execute_reply": "2025-05-21T09:37:22.149471Z",
     "shell.execute_reply.started": "2025-05-21T09:37:22.145268Z"
    }
   },
   "outputs": [],
   "source": [
    "with open(\"../parameters.tex\", \"w\") as f:\n",
    "    f.write('% These parameters are automatically generated by the dp1_parameters notebook.\\n')\n",
    "    f.write('% Do NOT manually edit this file.\\n')\n",
    "    f.write('% If you need to change/add a parameter, please edit the dp1_parameters notebook and re-run it.\\n\\n')\n",
    "    for name in params[0]:\n",
    "        f.write(formatParameter(params, name))\n",
    "f.close()"
   ]
  },
  {
   "cell_type": "markdown",
   "id": "62ff2c55-e974-4cfd-8f14-e39788554548",
   "metadata": {},
   "source": [
    "## ConsDB access "
   ]
  },
  {
   "cell_type": "code",
   "execution_count": 15,
   "id": "7ed45e13-8e5c-41a2-bc60-6578210cbcc6",
   "metadata": {
    "execution": {
     "iopub.execute_input": "2025-05-23T08:44:03.742125Z",
     "iopub.status.busy": "2025-05-23T08:44:03.741879Z",
     "iopub.status.idle": "2025-05-23T08:44:03.744643Z",
     "shell.execute_reply": "2025-05-23T08:44:03.744278Z",
     "shell.execute_reply.started": "2025-05-23T08:44:03.742108Z"
    }
   },
   "outputs": [],
   "source": [
    "# Date range for campaign\n",
    "#list_butler = []\n",
    "#query = '''SELECT * FROM cdb_lsstcomcam'''\n",
    "#exposures = cdb.search(query).to_table().to_pandas()\n",
    "#exposures.columns\n",
    "#exposures['day_obs'].unique()"
   ]
  },
  {
   "cell_type": "code",
   "execution_count": 14,
   "id": "7fbbf811-4652-4cde-a5ed-43899d882fed",
   "metadata": {
    "execution": {
     "iopub.execute_input": "2025-05-23T08:43:56.796971Z",
     "iopub.status.busy": "2025-05-23T08:43:56.796759Z",
     "iopub.status.idle": "2025-05-23T08:43:56.799704Z",
     "shell.execute_reply": "2025-05-23T08:43:56.799316Z",
     "shell.execute_reply.started": "2025-05-23T08:43:56.796955Z"
    }
   },
   "outputs": [],
   "source": [
    "#from lsst.rsp import get_tap_service\n",
    "\n",
    "#cdb = get_tap_service(\"consdbtap\")\n",
    "#assert cdb is not None\n",
    "#query = 'SELECT * FROM tap_schema.schemas'\n",
    "#results = cdb.search(query).to_table()"
   ]
  },
  {
   "cell_type": "code",
   "execution_count": null,
   "id": "26a5fcc3-5cde-49a6-bcca-b3216920d7d7",
   "metadata": {},
   "outputs": [],
   "source": []
  }
 ],
 "metadata": {
  "kernelspec": {
   "display_name": "LSST",
   "language": "python",
   "name": "lsst"
  },
  "language_info": {
   "codemirror_mode": {
    "name": "ipython",
    "version": 3
   },
   "file_extension": ".py",
   "mimetype": "text/x-python",
   "name": "python",
   "nbconvert_exporter": "python",
   "pygments_lexer": "ipython3",
   "version": "3.12.10"
  }
 },
 "nbformat": 4,
 "nbformat_minor": 5
}
