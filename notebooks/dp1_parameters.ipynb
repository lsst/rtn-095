{
 "cells": [
  {
   "cell_type": "markdown",
   "id": "c64d08e5-e937-4730-9f17-41f82a2f72a3",
   "metadata": {
    "execution": {
     "iopub.execute_input": "2025-05-14T21:45:06.489598Z",
     "iopub.status.busy": "2025-05-14T21:45:06.489384Z",
     "iopub.status.idle": "2025-05-14T21:45:06.493264Z",
     "shell.execute_reply": "2025-05-14T21:45:06.492736Z",
     "shell.execute_reply.started": "2025-05-14T21:45:06.489583Z"
    }
   },
   "source": [
    "<img align=\"left\" src = https://project.lsst.org/sites/default/files/Rubin-O-Logo_0.png width=250 style=\"padding: 10px\"\n",
    "alt=\"Rubin Observatory logo, a graphical representation of turning stars into data.\"> <br><br>\n",
    "**Description:** Generate parameters for the _Rubin Observatory DP1_ paper. <br>\n",
    "**Authors:** Leanne Guy <br>\n",
    "**Last verified to run:** 2025-05-14 <br>\n",
    "**LSST Science Pipelines version:** v29.0.0<br>\n",
    "**Container size:** medium <br>"
   ]
  },
  {
   "cell_type": "markdown",
   "id": "e3d0573f-1451-45ef-89cc-8285b3c2a595",
   "metadata": {},
   "source": [
    "# DP1 parameters"
   ]
  },
  {
   "cell_type": "markdown",
   "id": "36f63acb-86a9-42e8-b250-081cae56973b",
   "metadata": {},
   "source": [
    "## Setup"
   ]
  },
  {
   "cell_type": "code",
   "execution_count": null,
   "id": "1778b266-a138-4a2e-9c16-afd87f48c2e8",
   "metadata": {},
   "outputs": [],
   "source": [
    "! pip install inflect > /dev/null 2>&1"
   ]
  },
  {
   "cell_type": "code",
   "execution_count": null,
   "id": "89a6c063-c0a5-47ea-813f-0446375850f1",
   "metadata": {},
   "outputs": [],
   "source": [
    "# Generic python packages\n",
    "import os\n",
    "import csv\n",
    "import requests\n",
    "import yaml\n",
    "import numpy as np\n",
    "import pandas as pd\n",
    "import numpy as np\n",
    "from pathlib import Path\n",
    "\n",
    "\n",
    "# LSST Science Pipelines \n",
    "from lsst.daf.butler import Butler\n",
    "\n",
    "# RSP\n",
    "from lsst.rsp import get_tap_service\n",
    "\n",
    "import warnings\n",
    "warnings.filterwarnings(\"ignore\")"
   ]
  },
  {
   "cell_type": "markdown",
   "id": "68c53da7-1c5a-486b-bb94-3615c00ab8e9",
   "metadata": {},
   "source": [
    "### Define utility functions"
   ]
  },
  {
   "cell_type": "code",
   "execution_count": null,
   "id": "915036ae-e1f0-4b5b-9d9f-344ba98623cb",
   "metadata": {},
   "outputs": [],
   "source": [
    "# Custom formatter: no trailing zeros if not needed\n",
    "def custom_float(x):\n",
    "    if isinstance(x, float):\n",
    "        s = f\"{x:.3f}\" #.rstrip('0').rstrip('.')\n",
    "        return s\n",
    "    return x"
   ]
  },
  {
   "cell_type": "code",
   "execution_count": null,
   "id": "cfcb7f3b-0200-48da-a295-1e801bbd41ea",
   "metadata": {},
   "outputs": [],
   "source": [
    "# Function to round to N significant figures\n",
    "def round_sf(x, sig=3):\n",
    "    return np.round(x, sig - int(np.floor(np.log10(abs(x)))) - 1)"
   ]
  },
  {
   "cell_type": "code",
   "execution_count": null,
   "id": "3e8167f5-0a51-4440-8494-7056e1e91ee3",
   "metadata": {},
   "outputs": [],
   "source": [
    "# Template for a parameter\n",
    "def format_param(key, value):\n",
    "    return f\"\\\\newcommand{{\\\\{key}}}{{{value}\\\\xspace}}\""
   ]
  },
  {
   "cell_type": "markdown",
   "id": "897de5a6-f805-4b3a-8663-4b6fb0892e4e",
   "metadata": {},
   "source": [
    "### Set up DP1 Butler"
   ]
  },
  {
   "cell_type": "code",
   "execution_count": null,
   "id": "42ccfd55-11a5-4c73-9603-6ce816ecd87c",
   "metadata": {},
   "outputs": [],
   "source": [
    "instrument = 'LSSTComCam'\n",
    "collections = ['LSSTComCam/DP1/defaults', \n",
    "               'LSSTComCam/runs/DRP/DP1/v29_0_0/DM-50260',\n",
    "               'skymaps', ]\n",
    "skymap = 'lsst_cells_v1'\n",
    "butler = Butler(\"/repo/dp1\",\n",
    "                instrument=instrument, \n",
    "                collections=collections, \n",
    "                skymap=skymap)\n",
    "registry = butler.registry\n",
    "skymap = butler.get('skyMap', skymap=skymap)"
   ]
  },
  {
   "cell_type": "code",
   "execution_count": null,
   "id": "5a92f517-ea4d-4431-a05c-a15abfca9c43",
   "metadata": {},
   "outputs": [],
   "source": [
    "## Consdb\n",
    "cdb = get_tap_service(\"consdbtap\")\n",
    "assert cdb is not None"
   ]
  },
  {
   "cell_type": "code",
   "execution_count": null,
   "id": "499c6b1c-aa51-478b-8e55-f18c2bef7d28",
   "metadata": {},
   "outputs": [],
   "source": [
    "# Look at the cdb_lsstcomcam schema\n",
    "query = '''SELECT * FROM tap_schema.tables \n",
    "        WHERE tap_schema.tables.schema_name = 'cdb_lsstcomcam' \n",
    "        AND table_name not like '*_flexdata'\n",
    "        ORDER BY table_index ASC\n",
    "        '''\n",
    "tables = cdb.search(query).to_table()\n",
    "tables"
   ]
  },
  {
   "cell_type": "markdown",
   "id": "1ec678dd-0a07-4b88-b105-37cba09b6f70",
   "metadata": {},
   "source": [
    "# Set up paramters dictionary"
   ]
  },
  {
   "cell_type": "code",
   "execution_count": null,
   "id": "0decda00-b7d8-4ccd-8fb3-90ee33a0d565",
   "metadata": {},
   "outputs": [],
   "source": [
    "# params dictionary\n",
    "params = {}"
   ]
  },
  {
   "cell_type": "markdown",
   "id": "fbe4b005-e095-4d67-b899-cfd36ec04406",
   "metadata": {},
   "source": [
    "# Compute parameters"
   ]
  },
  {
   "cell_type": "code",
   "execution_count": null,
   "id": "7ed45e13-8e5c-41a2-bc60-6578210cbcc6",
   "metadata": {},
   "outputs": [],
   "source": [
    "# Date range for campaign\n",
    "list_butler = []\n",
    "query = '''SELECT * FROM cdb_lsstcomcam.exposure\n",
    "where esposure_id in list_butler\n",
    "ORDER BY day_obs DESC\n",
    "        '''\n",
    "exposures = cdb.search(query).to_table().to_pandas()\n",
    "exposures.columns\n",
    "#exposures['day_obs'].unique()"
   ]
  },
  {
   "cell_type": "code",
   "execution_count": null,
   "id": "07e1a744-ea35-48a5-8093-31178aa22732",
   "metadata": {},
   "outputs": [],
   "source": [
    "# Extract filter and pointing information about the fileds from the DP1 exposures in the Butler\n",
    "exposures = registry.queryDimensionRecords('exposure')\n",
    "exp_df = pd.DataFrame(columns=['id', 'target', 'physical_filter','ra', 'dec'])\n",
    "for count, info in enumerate(exposures):\n",
    "    try:\n",
    "        exp_df.loc[count] = [info.id, info.target_name, info.physical_filter, \n",
    "                         info.tracking_ra, info.tracking_dec,]\n",
    "    except: \n",
    "        print(\">>>   Unexpected error:\", sys.exc_info()[0])\n",
    "\n",
    "# slew_icrs is the ECDFS field -- combine them\n",
    "exp_df.loc[exp_df['target'] == 'slew_icrs', 'target'] = 'ECDFS'\n",
    "dp1_fields = exp_df.target.unique()\n",
    "\n",
    "params[\"nfields\"] = len(dp1_fields)"
   ]
  },
  {
   "cell_type": "markdown",
   "id": "570f8035-6f87-48ee-91e4-d53308d7f936",
   "metadata": {},
   "source": [
    "# Write the paramters to file in latex format"
   ]
  },
  {
   "cell_type": "code",
   "execution_count": null,
   "id": "944c1725-fe96-4533-809c-d7a5dec9fd7a",
   "metadata": {},
   "outputs": [],
   "source": [
    "parameters_filepath = str(Path('../parameters.tex').resolve())\n",
    "with open(parameters_filepath, \"w\") as file:\n",
    "    file.write(\"%%%%% This table is auto generated from data, DO NOT EDIT\" + \"\\n\")\n",
    "    for key, value in params.items():\n",
    "        formatted_line = format_param(key, value)\n",
    "        file.write(formatted_line + \"\\n\")"
   ]
  }
 ],
 "metadata": {
  "kernelspec": {
   "display_name": "LSST",
   "language": "python",
   "name": "lsst"
  },
  "language_info": {
   "codemirror_mode": {
    "name": "ipython",
    "version": 3
   },
   "file_extension": ".py",
   "mimetype": "text/x-python",
   "name": "python",
   "nbconvert_exporter": "python",
   "pygments_lexer": "ipython3",
   "version": "3.12.10"
  }
 },
 "nbformat": 4,
 "nbformat_minor": 5
}
