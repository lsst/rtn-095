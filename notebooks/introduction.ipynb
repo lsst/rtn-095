{
 "cells": [
  {
   "cell_type": "markdown",
   "id": "86a40f29-85f3-4bb8-8275-fc97347505f0",
   "metadata": {},
   "source": [
    "# Data and figures for the introduction"
   ]
  },
  {
   "cell_type": "code",
   "execution_count": 2,
   "id": "c184eb6b-8445-40e6-ad23-f79be163065b",
   "metadata": {
    "execution": {
     "iopub.execute_input": "2025-03-24T23:10:55.280714Z",
     "iopub.status.busy": "2025-03-24T23:10:55.280597Z",
     "iopub.status.idle": "2025-03-24T23:10:55.283143Z",
     "shell.execute_reply": "2025-03-24T23:10:55.282786Z",
     "shell.execute_reply.started": "2025-03-24T23:10:55.280703Z"
    }
   },
   "outputs": [],
   "source": [
    "# Generic python packages\n",
    "import os\n",
    "\n",
    "import numpy as np\n",
    "import pylab as plt\n",
    "import astropy.time\n",
    "import pandas as pd\n",
    "\n",
    "from lsst.summit.utils import ConsDbClient\n",
    "from lsst.summit.utils.utils import computeCcdExposureId\n",
    "\n",
    "# LSST Science Pipelines (Stack) packages\n",
    "from lsst.daf.butler import Butler\n",
    "import lsst.afw.display as afwDisplay\n",
    "afwDisplay.setDefaultBackend('matplotlib')\n",
    "\n",
    "# Set a standard figure size to use\n",
    "plt.rcParams['figure.figsize'] = (8.0, 8.0)"
   ]
  },
  {
   "cell_type": "markdown",
   "id": "b7ac9c0f-52b4-4380-88bd-61f0257434b3",
   "metadata": {},
   "source": [
    "### Utility Functions"
   ]
  },
  {
   "cell_type": "code",
   "execution_count": 3,
   "id": "d5cdeee6-8a42-4c11-b927-e3c406fe1b95",
   "metadata": {
    "execution": {
     "iopub.execute_input": "2025-03-24T23:10:55.283643Z",
     "iopub.status.busy": "2025-03-24T23:10:55.283527Z",
     "iopub.status.idle": "2025-03-24T23:10:55.292647Z",
     "shell.execute_reply": "2025-03-24T23:10:55.292335Z",
     "shell.execute_reply.started": "2025-03-24T23:10:55.283632Z"
    }
   },
   "outputs": [],
   "source": [
    "%matplotlib inline"
   ]
  },
  {
   "cell_type": "code",
   "execution_count": 4,
   "id": "a459c43d-df7b-4e13-a9f8-f579073bfffd",
   "metadata": {
    "execution": {
     "iopub.execute_input": "2025-03-24T23:10:55.293108Z",
     "iopub.status.busy": "2025-03-24T23:10:55.292991Z",
     "iopub.status.idle": "2025-03-24T23:10:55.295117Z",
     "shell.execute_reply": "2025-03-24T23:10:55.294808Z",
     "shell.execute_reply.started": "2025-03-24T23:10:55.293096Z"
    }
   },
   "outputs": [],
   "source": [
    "def to_day_obs_int(dayobs):\n",
    "    return int(dayobs.replace('-', ''))"
   ]
  },
  {
   "cell_type": "markdown",
   "id": "a6fc8694-7d43-4620-bbeb-6b1300fbcda1",
   "metadata": {},
   "source": [
    "# Butler"
   ]
  },
  {
   "cell_type": "code",
   "execution_count": 5,
   "id": "8c7ce631-9686-4cf2-85ca-3676ad258d73",
   "metadata": {
    "execution": {
     "iopub.execute_input": "2025-03-24T23:10:55.295597Z",
     "iopub.status.busy": "2025-03-24T23:10:55.295481Z",
     "iopub.status.idle": "2025-03-24T23:10:55.300097Z",
     "shell.execute_reply": "2025-03-24T23:10:55.299787Z",
     "shell.execute_reply.started": "2025-03-24T23:10:55.295586Z"
    }
   },
   "outputs": [],
   "source": [
    "repo = '/repo/main'\n",
    "instrument = 'LSSTComCam'"
   ]
  },
  {
   "cell_type": "code",
   "execution_count": 6,
   "id": "fd6065ad-3e07-46ce-91a9-3ae64ce18c56",
   "metadata": {
    "execution": {
     "iopub.execute_input": "2025-03-24T23:10:55.300703Z",
     "iopub.status.busy": "2025-03-24T23:10:55.300578Z",
     "iopub.status.idle": "2025-03-24T23:10:55.305424Z",
     "shell.execute_reply": "2025-03-24T23:10:55.305126Z",
     "shell.execute_reply.started": "2025-03-24T23:10:55.300692Z"
    }
   },
   "outputs": [],
   "source": [
    "# LSSTComCam DP1 DRP Pilot run \n",
    "collection = 'LSSTComCam/runs/DRP/DP1/w_2025_09/DM-49235'"
   ]
  },
  {
   "cell_type": "code",
   "execution_count": 7,
   "id": "cdd79522-b807-47ac-9ec6-3653557cd522",
   "metadata": {
    "execution": {
     "iopub.execute_input": "2025-03-24T23:10:55.305927Z",
     "iopub.status.busy": "2025-03-24T23:10:55.305807Z",
     "iopub.status.idle": "2025-03-24T23:10:55.310229Z",
     "shell.execute_reply": "2025-03-24T23:10:55.309924Z",
     "shell.execute_reply.started": "2025-03-24T23:10:55.305917Z"
    }
   },
   "outputs": [],
   "source": [
    "# LSSTComCam DP1 DRP new upcoming pilot\n",
    "# collection = 'LSSTComCam/runs/DRP/DP1/X/DM-49592'"
   ]
  },
  {
   "cell_type": "code",
   "execution_count": 8,
   "id": "3612366b-fa48-44b0-b978-662c92aa0bdb",
   "metadata": {
    "execution": {
     "iopub.execute_input": "2025-03-24T23:10:55.311522Z",
     "iopub.status.busy": "2025-03-24T23:10:55.311338Z",
     "iopub.status.idle": "2025-03-24T23:10:55.658218Z",
     "shell.execute_reply": "2025-03-24T23:10:55.657798Z",
     "shell.execute_reply.started": "2025-03-24T23:10:55.311511Z"
    }
   },
   "outputs": [],
   "source": [
    "butler = Butler(repo, collections=collection, instrument=instrument)\n",
    "registry = butler.registry"
   ]
  },
  {
   "cell_type": "code",
   "execution_count": null,
   "id": "4d6b024e-8dbf-4038-badf-8fc14b9c0033",
   "metadata": {},
   "outputs": [],
   "source": []
  },
  {
   "cell_type": "markdown",
   "id": "6bee05d9-2874-4f81-abe8-8a4b3f272863",
   "metadata": {},
   "source": [
    "# Consolidated database"
   ]
  },
  {
   "cell_type": "code",
   "execution_count": 9,
   "id": "fd41731a-f85e-4f37-9485-f9b6fc30b9b3",
   "metadata": {
    "execution": {
     "iopub.execute_input": "2025-03-24T23:10:55.658947Z",
     "iopub.status.busy": "2025-03-24T23:10:55.658673Z",
     "iopub.status.idle": "2025-03-24T23:10:55.661091Z",
     "shell.execute_reply": "2025-03-24T23:10:55.660747Z",
     "shell.execute_reply.started": "2025-03-24T23:10:55.658932Z"
    }
   },
   "outputs": [],
   "source": [
    "# Consolidated db endpoint\n",
    "consdb_url = \"http://consdb-pq.consdb:8080/consdb\"\n",
    "os.environ[\"LSST_CONSDB_PQ_URL\"] = consdb_url\n",
    "os.environ[\"no_proxy\"] += \",.consdb\""
   ]
  },
  {
   "cell_type": "code",
   "execution_count": 10,
   "id": "ab8cdf8e-793e-43c6-9016-a89666664f4e",
   "metadata": {
    "execution": {
     "iopub.execute_input": "2025-03-24T23:10:55.661568Z",
     "iopub.status.busy": "2025-03-24T23:10:55.661449Z",
     "iopub.status.idle": "2025-03-24T23:10:55.668476Z",
     "shell.execute_reply": "2025-03-24T23:10:55.668105Z",
     "shell.execute_reply.started": "2025-03-24T23:10:55.661557Z"
    }
   },
   "outputs": [
    {
     "data": {
      "text/plain": [
       "'http://consdb-pq.consdb:8080/consdb'"
      ]
     },
     "execution_count": 10,
     "metadata": {},
     "output_type": "execute_result"
    }
   ],
   "source": [
    "# Consdb Client -- the URL can be passed as a parameter or is taken from the env var set above\n",
    "consdb = ConsDbClient()\n",
    "#?consdb\n",
    "consdb.url"
   ]
  },
  {
   "cell_type": "code",
   "execution_count": 11,
   "id": "bb48bbc4-9350-49e1-99f6-bd43c68455a4",
   "metadata": {
    "execution": {
     "iopub.execute_input": "2025-03-24T23:10:55.669012Z",
     "iopub.status.busy": "2025-03-24T23:10:55.668887Z",
     "iopub.status.idle": "2025-03-24T23:10:55.681115Z",
     "shell.execute_reply": "2025-03-24T23:10:55.680768Z",
     "shell.execute_reply.started": "2025-03-24T23:10:55.669001Z"
    }
   },
   "outputs": [
    {
     "name": "stdout",
     "output_type": "stream",
     "text": [
      "schemas:\n",
      " ['latiss', 'lsstcam', 'lsstcamsim', 'lsstcomcam', 'lsstcomcamsim', 'startrackerfast', 'startrackernarrow', 'startrackerwide']\n"
     ]
    }
   ],
   "source": [
    "# Get the instruments/schemas in the consdb \n",
    "schemas = consdb.schema()\n",
    "print(f'schemas:\\n', schemas) "
   ]
  },
  {
   "cell_type": "code",
   "execution_count": null,
   "id": "a771fb0b-0655-4291-a4f9-38fd372d3080",
   "metadata": {},
   "outputs": [],
   "source": [
    "# ComCam on-sky start and end dates\n",
    "day_obs_start = to_day_obs_int(\"2024-10-24\")\n",
    "day_obs_end = to_day_obs_int(\"2024-12-11\")"
   ]
  },
  {
   "cell_type": "code",
   "execution_count": 39,
   "id": "4dca9efb-f660-4b98-a2fc-e8df11ff1915",
   "metadata": {
    "execution": {
     "iopub.execute_input": "2025-03-24T23:26:00.447303Z",
     "iopub.status.busy": "2025-03-24T23:26:00.447014Z",
     "iopub.status.idle": "2025-03-24T23:26:00.449801Z",
     "shell.execute_reply": "2025-03-24T23:26:00.449319Z",
     "shell.execute_reply.started": "2025-03-24T23:26:00.447288Z"
    }
   },
   "outputs": [],
   "source": [
    "# Instrument\n",
    "instrument = 'lsstcomcam'"
   ]
  },
  {
   "cell_type": "code",
   "execution_count": 40,
   "id": "753c2681-3db8-4778-9c12-dfa0d2c51765",
   "metadata": {
    "execution": {
     "iopub.execute_input": "2025-03-24T23:26:02.696507Z",
     "iopub.status.busy": "2025-03-24T23:26:02.696218Z",
     "iopub.status.idle": "2025-03-24T23:26:03.440392Z",
     "shell.execute_reply": "2025-03-24T23:26:03.439996Z",
     "shell.execute_reply.started": "2025-03-24T23:26:02.696493Z"
    }
   },
   "outputs": [],
   "source": [
    "# Get all visits taken during the on-sky campaign\n",
    "table = 'exposure'\n",
    "visits_query = f'''\n",
    "SELECT * FROM cdb_{instrument}.{table} \n",
    "WHERE day_obs >= '{day_obs_start}' \n",
    "AND day_obs <= '{day_obs_end}'\n",
    "'''\n",
    "visits_comcam = consdb.query(visits_query).to_pandas()\n",
    "assert len(visits_comcam) == len(visits_comcam['exposure_id'].unique())"
   ]
  },
  {
   "cell_type": "code",
   "execution_count": 41,
   "id": "04266fba-e1a4-4d00-a4f3-7cead9ea2a61",
   "metadata": {
    "execution": {
     "iopub.execute_input": "2025-03-24T23:26:07.616919Z",
     "iopub.status.busy": "2025-03-24T23:26:07.616712Z",
     "iopub.status.idle": "2025-03-24T23:26:07.619859Z",
     "shell.execute_reply": "2025-03-24T23:26:07.619536Z",
     "shell.execute_reply.started": "2025-03-24T23:26:07.616905Z"
    }
   },
   "outputs": [
    {
     "data": {
      "text/plain": [
       "'Total number of visits taken during the ComCam on-sky capaign was 15342'"
      ]
     },
     "execution_count": 41,
     "metadata": {},
     "output_type": "execute_result"
    }
   ],
   "source": [
    "f\"Total number of visits taken during the ComCam on-sky capaign was {len(visits_comcam)}\""
   ]
  },
  {
   "cell_type": "code",
   "execution_count": 43,
   "id": "486047d3-3cf1-47ce-927f-3cfa31e693e1",
   "metadata": {
    "execution": {
     "iopub.execute_input": "2025-03-24T23:26:55.353994Z",
     "iopub.status.busy": "2025-03-24T23:26:55.353647Z",
     "iopub.status.idle": "2025-03-24T23:26:55.356975Z",
     "shell.execute_reply": "2025-03-24T23:26:55.356713Z",
     "shell.execute_reply.started": "2025-03-24T23:26:55.353980Z"
    }
   },
   "outputs": [
    {
     "data": {
      "text/plain": [
       "array(['r', 'i', 'u', 'other', 'g', 'z', 'y', 'none'], dtype=object)"
      ]
     },
     "execution_count": 43,
     "metadata": {},
     "output_type": "execute_result"
    }
   ],
   "source": [
    "# Visits per band\n",
    "visits_comcam['band'].unique()"
   ]
  },
  {
   "cell_type": "code",
   "execution_count": 55,
   "id": "b8da8a4f-ff38-45ab-82dc-22701b358736",
   "metadata": {
    "execution": {
     "iopub.execute_input": "2025-03-24T23:35:59.004360Z",
     "iopub.status.busy": "2025-03-24T23:35:59.004042Z",
     "iopub.status.idle": "2025-03-24T23:35:59.009880Z",
     "shell.execute_reply": "2025-03-24T23:35:59.009596Z",
     "shell.execute_reply.started": "2025-03-24T23:35:59.004345Z"
    }
   },
   "outputs": [
    {
     "data": {
      "text/html": [
       "<div>\n",
       "<style scoped>\n",
       "    .dataframe tbody tr th:only-of-type {\n",
       "        vertical-align: middle;\n",
       "    }\n",
       "\n",
       "    .dataframe tbody tr th {\n",
       "        vertical-align: top;\n",
       "    }\n",
       "\n",
       "    .dataframe thead th {\n",
       "        text-align: right;\n",
       "    }\n",
       "</style>\n",
       "<table border=\"1\" class=\"dataframe\">\n",
       "  <thead>\n",
       "    <tr style=\"text-align: right;\">\n",
       "      <th></th>\n",
       "      <th>exposure_id</th>\n",
       "    </tr>\n",
       "    <tr>\n",
       "      <th>band</th>\n",
       "      <th></th>\n",
       "    </tr>\n",
       "  </thead>\n",
       "  <tbody>\n",
       "    <tr>\n",
       "      <th>g</th>\n",
       "      <td>1869</td>\n",
       "    </tr>\n",
       "    <tr>\n",
       "      <th>i</th>\n",
       "      <td>804</td>\n",
       "    </tr>\n",
       "    <tr>\n",
       "      <th>none</th>\n",
       "      <td>270</td>\n",
       "    </tr>\n",
       "    <tr>\n",
       "      <th>other</th>\n",
       "      <td>90</td>\n",
       "    </tr>\n",
       "    <tr>\n",
       "      <th>r</th>\n",
       "      <td>10585</td>\n",
       "    </tr>\n",
       "    <tr>\n",
       "      <th>u</th>\n",
       "      <td>417</td>\n",
       "    </tr>\n",
       "    <tr>\n",
       "      <th>y</th>\n",
       "      <td>435</td>\n",
       "    </tr>\n",
       "    <tr>\n",
       "      <th>z</th>\n",
       "      <td>872</td>\n",
       "    </tr>\n",
       "  </tbody>\n",
       "</table>\n",
       "</div>"
      ],
      "text/plain": [
       "       exposure_id\n",
       "band              \n",
       "g             1869\n",
       "i              804\n",
       "none           270\n",
       "other           90\n",
       "r            10585\n",
       "u              417\n",
       "y              435\n",
       "z              872"
      ]
     },
     "execution_count": 55,
     "metadata": {},
     "output_type": "execute_result"
    }
   ],
   "source": [
    "# Number of visits per band\n",
    "visits_comcam[['exposure_id', 'band']].groupby(['band']).count()\n"
   ]
  },
  {
   "cell_type": "code",
   "execution_count": null,
   "id": "76c56a46-3b5f-4e2e-ba3e-f7b695cf34c6",
   "metadata": {},
   "outputs": [],
   "source": []
  }
 ],
 "metadata": {
  "kernelspec": {
   "display_name": "LSST",
   "language": "python",
   "name": "lsst"
  },
  "language_info": {
   "codemirror_mode": {
    "name": "ipython",
    "version": 3
   },
   "file_extension": ".py",
   "mimetype": "text/x-python",
   "name": "python",
   "nbconvert_exporter": "python",
   "pygments_lexer": "ipython3",
   "version": "3.12.9"
  }
 },
 "nbformat": 4,
 "nbformat_minor": 5
}
