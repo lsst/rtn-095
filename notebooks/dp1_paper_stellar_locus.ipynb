{
 "cells": [
  {
   "cell_type": "code",
   "execution_count": null,
   "id": "9917c91b-0de8-4337-bf37-7e47646bb1a4",
   "metadata": {},
   "outputs": [],
   "source": [
    "import numpy as np\n",
    "import matplotlib.pyplot as plt\n",
    "from astropy.table import Table\n",
    "import astropy.units as units\n",
    "from lsst.rsp import get_tap_service, retrieve_query\n",
    "from lsst.utils.plotting import set_rubin_plotstyle, stars_cmap\n",
    "from matplotlib import gridspec\n",
    "import matplotlib.patheffects as pathEffects\n",
    "import matplotlib.ticker as ticker"
   ]
  },
  {
   "cell_type": "code",
   "execution_count": null,
   "id": "8d118972-4bb3-4d05-b65c-7e7a1549eabe",
   "metadata": {},
   "outputs": [],
   "source": [
    "service = get_tap_service(\"tap\")"
   ]
  },
  {
   "cell_type": "code",
   "execution_count": null,
   "id": "b12ecc67-15ab-4988-a307-1bea2e210928",
   "metadata": {},
   "outputs": [],
   "source": [
    "query = \"SELECT coord_ra, coord_dec, \"\\\n",
    "        \"scisql_nanojanskyToAbMag(u_psfFlux) as umag, scisql_nanojanskyToAbMagSigma(u_psfFlux, u_psfFluxErr) as umagErr, u_psfFlux_flag, \"\\\n",
    "        \"scisql_nanojanskyToAbMag(g_psfFlux) as gmag, scisql_nanojanskyToAbMagSigma(g_psfFlux, g_psfFluxErr) as gmagErr, g_psfFlux_flag, \"\\\n",
    "        \"scisql_nanojanskyToAbMag(r_psfFlux) as rmag, scisql_nanojanskyToAbMagSigma(r_psfFlux, r_psfFluxErr) as rmagErr, r_psfFlux_flag, \"\\\n",
    "        \"scisql_nanojanskyToAbMag(i_psfFlux) as imag, scisql_nanojanskyToAbMagSigma(i_psfFlux, i_psfFluxErr) as imagErr, i_psfFlux_flag, \"\\\n",
    "        \"scisql_nanojanskyToAbMag(z_psfFlux) as zmag, scisql_nanojanskyToAbMagSigma(z_psfFlux, z_psfFluxErr) as zmagErr, z_psfFlux_flag, \"\\\n",
    "        \"scisql_nanojanskyToAbMag(y_psfFlux) as ymag, scisql_nanojanskyToAbMagSigma(y_psfFlux, y_psfFluxErr) as ymagErr, y_psfFlux_flag \"\\\n",
    "        \"FROM dp1.Object \"\\\n",
    "        \"WHERE refExtendedness < 0.5 AND scisql_nanojanskyToAbMagSigma(i_psfFlux, i_psfFluxErr) < 0.2\"\n",
    "job = service.submit_job(query)\n",
    "print('Job URL is', job.url)\n",
    "print('Job phase is', job.phase)\n",
    "job.run()"
   ]
  },
  {
   "cell_type": "code",
   "execution_count": null,
   "id": "27f5b94a-d147-43b1-b821-37fbd3dafcfb",
   "metadata": {},
   "outputs": [],
   "source": [
    "job.wait(phases=['COMPLETED', 'ERROR'])\n",
    "print('Job phase is', job.phase)"
   ]
  },
  {
   "cell_type": "code",
   "execution_count": null,
   "id": "db69abf8-ecf3-47f7-ba27-12ae5fee09f9",
   "metadata": {},
   "outputs": [],
   "source": [
    "results = job.fetch_result().to_table()\n",
    "print(len(results))"
   ]
  },
  {
   "cell_type": "code",
   "execution_count": null,
   "id": "b8b7471d-1068-47fe-836f-76fa2774bfbd",
   "metadata": {},
   "outputs": [],
   "source": [
    "set_rubin_plotstyle()"
   ]
  },
  {
   "cell_type": "code",
   "execution_count": null,
   "id": "290931d5-2347-4513-ba73-67f8e3ff08c4",
   "metadata": {},
   "outputs": [],
   "source": [
    "cmap = stars_cmap()\n"
   ]
  },
  {
   "cell_type": "code",
   "execution_count": null,
   "id": "cfd662d8-61ee-4c5c-9d49-0c56297d3aa7",
   "metadata": {},
   "outputs": [],
   "source": [
    "fig = plt.figure(figsize=(8, 8))\n",
    "gs = gridspec.GridSpec(16, 16, hspace=0.01, wspace=0.01)\n",
    "\n",
    "# Define axes\n",
    "ax_main = fig.add_subplot(gs[4:, :])\n",
    "cax = fig.add_subplot(gs[4:, 15])  # colorbar axis\n",
    "use, = np.where((results[\"imagErr\"] < 0.02) & ~results[\"g_psfFlux_flag\"] & ~results[\"r_psfFlux_flag\"] & ~results[\"i_psfFlux_flag\"])\n",
    "print(\"Number of stars in plot: \", use.size)\n",
    "hb = ax_main.hexbin(results[\"gmag\"][use] - results[\"rmag\"][use], results[\"rmag\"][use] - results[\"imag\"][use], bins=\"log\", extent=[-0.2, 2, -0.2, 2.0], gridsize=400, cmap=stars_cmap())\n",
    "ax_main.set_xlabel(\"g - r (mag)\")\n",
    "ax_main.set_ylabel(\"r - i (mag)\")\n",
    "cb = fig.colorbar(hb, cax=cax, format=\"%.0f\")\n",
    "label=\"Points Per Bin\"\n",
    "text = cax.text(0.5, 0.5, label, color=\"k\", \n",
    "                rotation=\"vertical\", \n",
    "                transform=cax.transAxes, \n",
    "                ha=\"center\",\n",
    "                va=\"center\", \n",
    "                fontsize=12)\n",
    "text.set_path_effects([pathEffects.Stroke(linewidth=3, foreground=\"w\"), pathEffects.Normal()])\n",
    "plt.savefig(\n",
    "    \"dp1_stellar_locus_gri.pdf\", \n",
    "    bbox_inches=\"tight\",  # Trim whitespace around the figure\n",
    "    transparent=True,     # Transparent background\n",
    "    format=\"pdf\",         # Explicit format specification\n",
    ")\n",
    "plt.show()\n"
   ]
  },
  {
   "cell_type": "code",
   "execution_count": null,
   "id": "26b6040b-dda7-4e19-a399-0b67a5e92fd2",
   "metadata": {},
   "outputs": [],
   "source": [
    "fig = plt.figure(figsize=(8, 8))\n",
    "gs = gridspec.GridSpec(16, 16, hspace=0.01, wspace=0.01)\n",
    "\n",
    "# Define axes\n",
    "ax_main = fig.add_subplot(gs[4:, :])\n",
    "cax = fig.add_subplot(gs[4:, 15])  # colorbar axis\n",
    "use, = np.where((results[\"imagErr\"] < 0.02) & ~results[\"r_psfFlux_flag\"] & ~results[\"i_psfFlux_flag\"] & ~results[\"z_psfFlux_flag\"])\n",
    "print(\"Number of stars in plot: \", use.size)\n",
    "hb = ax_main.hexbin(results[\"rmag\"][use] - results[\"imag\"][use], results[\"imag\"][use] - results[\"zmag\"][use], bins=\"log\", extent=[-0.2, 2, -0.2, 1.0], gridsize=400, cmap=stars_cmap())\n",
    "ax_main.set_xlabel(\"r - i (mag)\")\n",
    "ax_main.set_ylabel(\"i - z (mag)\")\n",
    "cb = fig.colorbar(hb, cax=cax, format=\"%.0f\")\n",
    "label=\"Points Per Bin\"\n",
    "text = cax.text(0.5, 0.5, label, color=\"k\", \n",
    "                rotation=\"vertical\", \n",
    "                transform=cax.transAxes, \n",
    "                ha=\"center\",\n",
    "                va=\"center\", \n",
    "                fontsize=12)\n",
    "text.set_path_effects([pathEffects.Stroke(linewidth=3, foreground=\"w\"), pathEffects.Normal()])\n",
    "plt.savefig(\n",
    "    \"dp1_stellar_locus_riz.pdf\", \n",
    "    bbox_inches=\"tight\",  # Trim whitespace around the figure\n",
    "    transparent=True,     # Transparent background\n",
    "    format=\"pdf\",         # Explicit format specification\n",
    ")\n",
    "plt.show()\n"
   ]
  },
  {
   "cell_type": "code",
   "execution_count": null,
   "id": "a3564512-98e4-4712-bcdc-b0794cc2f648",
   "metadata": {},
   "outputs": [],
   "source": [
    "def custom_formatter(x, pos):\n",
    "    return f\"{x:.0f}\"\n",
    "\n",
    "fig = plt.figure(figsize=(8, 8))\n",
    "gs = gridspec.GridSpec(16, 16, hspace=0.01, wspace=0.01)\n",
    "\n",
    "# Define axes\n",
    "ax_main = fig.add_subplot(gs[4:, :])\n",
    "cax = fig.add_subplot(gs[4:, 15])  # colorbar axis\n",
    "use, = np.where((results[\"umagErr\"] < 0.05) & ~results[\"u_psfFlux_flag\"] & ~results[\"g_psfFlux_flag\"] & ~results[\"r_psfFlux_flag\"])\n",
    "print(\"Number of stars in plot: \", use.size)\n",
    "hb = ax_main.hexbin(results[\"umag\"][use] - results[\"gmag\"][use], results[\"gmag\"][use] - results[\"rmag\"][use], bins=\"log\", extent=[0.5, 2.7, -0.2, 1.5], gridsize=400, cmap=stars_cmap())\n",
    "ax_main.set_xlabel(\"u - g (mag)\")\n",
    "ax_main.set_ylabel(\"g - r (mag)\")\n",
    "cb = fig.colorbar(hb, cax=cax, format=ticker.FuncFormatter(custom_formatter))\n",
    "label=\"Points Per Bin\"\n",
    "text = cax.text(0.5, 0.5, label, color=\"k\", \n",
    "                rotation=\"vertical\", \n",
    "                transform=cax.transAxes, \n",
    "                ha=\"center\",\n",
    "                va=\"center\", \n",
    "                fontsize=12)\n",
    "text.set_path_effects([pathEffects.Stroke(linewidth=3, foreground=\"w\"), pathEffects.Normal()])\n",
    "plt.savefig(\n",
    "    \"dp1_stellar_locus_ugr.pdf\", \n",
    "    bbox_inches=\"tight\",  # Trim whitespace around the figure\n",
    "    transparent=True,     # Transparent background\n",
    "    format=\"pdf\",         # Explicit format specification\n",
    ")\n",
    "plt.show()\n"
   ]
  },
  {
   "cell_type": "code",
   "execution_count": null,
   "id": "90282b8d-81e8-4f86-b0b1-3c1d98b08df5",
   "metadata": {},
   "outputs": [],
   "source": []
  }
 ],
 "metadata": {
  "kernelspec": {
   "display_name": "LSST",
   "language": "python",
   "name": "lsst"
  },
  "language_info": {
   "codemirror_mode": {
    "name": "ipython",
    "version": 3
   },
   "file_extension": ".py",
   "mimetype": "text/x-python",
   "name": "python",
   "nbconvert_exporter": "python",
   "pygments_lexer": "ipython3",
   "version": "3.12.11"
  }
 },
 "nbformat": 4,
 "nbformat_minor": 5
}
