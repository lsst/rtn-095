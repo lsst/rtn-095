{
 "cells": [
  {
   "cell_type": "code",
   "execution_count": null,
   "id": "437911f3-bb18-4104-8552-4d4e4e1bef96",
   "metadata": {},
   "outputs": [],
   "source": [
    "import numpy as np\n",
    "import matplotlib.pyplot as plt"
   ]
  },
  {
   "cell_type": "markdown",
   "id": "9906e35e-8788-4f18-a9c4-cd1298d7538e",
   "metadata": {},
   "source": [
    "# Butler\n",
    "\n",
    "Load data for all of the visits included in DP1"
   ]
  },
  {
   "cell_type": "code",
   "execution_count": null,
   "id": "89e9d770-56b7-445b-aa2c-7faffa4bac57",
   "metadata": {},
   "outputs": [],
   "source": [
    "from lsst.daf.butler import Butler\n",
    "\n",
    "repo=\"/repo/main\"\n",
    "collection=\"LSSTComCam/runs/DRP/DP1/w_2025_10/DM-49359\"\n",
    "butler = Butler(repo, collections=collection)"
   ]
  },
  {
   "cell_type": "code",
   "execution_count": null,
   "id": "2186f1f4-b2ae-4d28-bcd4-67b622e99a3b",
   "metadata": {},
   "outputs": [],
   "source": [
    "registry = butler.registry"
   ]
  },
  {
   "cell_type": "code",
   "execution_count": null,
   "id": "f14d1c0b-9ee2-407d-8948-d67c9602615c",
   "metadata": {
    "scrolled": true
   },
   "outputs": [],
   "source": [
    "\"\"\"\n",
    "# Determine which dataset types exist in the collection\n",
    "for datasetType in registry.queryDatasetTypes():\n",
    "    if registry.queryDatasets(datasetType, collections=collection).any(execute=False, exact=False):\n",
    "        # Limit search results to the data products\n",
    "        if ('_config' not in datasetType.name) and ('_log' not in datasetType.name) and ('_metadata' not in datasetType.name) and ('_resource_usage' not in datasetType.name):\n",
    "            print(datasetType)\n",
    "\"\"\""
   ]
  },
  {
   "cell_type": "code",
   "execution_count": null,
   "id": "2f0a7643-6362-43d1-af0d-b332a574cef0",
   "metadata": {},
   "outputs": [],
   "source": [
    "refs = list(butler.registry.queryDatasets('finalVisitSummary'))"
   ]
  },
  {
   "cell_type": "code",
   "execution_count": null,
   "id": "3002cc3b-17de-4304-8760-19d25c86284f",
   "metadata": {},
   "outputs": [],
   "source": [
    "len(refs)"
   ]
  },
  {
   "cell_type": "code",
   "execution_count": null,
   "id": "9a64889b-09c7-49d5-b351-91be5dcbbb56",
   "metadata": {},
   "outputs": [],
   "source": [
    "refs = list(butler.registry.queryDatasets('visitTable'))"
   ]
  },
  {
   "cell_type": "code",
   "execution_count": null,
   "id": "1b746243-f2f8-40fd-8fac-1b2a675ab52f",
   "metadata": {},
   "outputs": [],
   "source": [
    "len(refs)"
   ]
  },
  {
   "cell_type": "code",
   "execution_count": null,
   "id": "b4312456-a0ad-41d8-a0e9-59d3d3614083",
   "metadata": {},
   "outputs": [],
   "source": [
    "visitTable = butler.get(refs[0])"
   ]
  },
  {
   "cell_type": "code",
   "execution_count": null,
   "id": "b5d6926d-c0cd-4ecb-a7e6-5903a792f936",
   "metadata": {},
   "outputs": [],
   "source": [
    "visitTable.columns"
   ]
  },
  {
   "cell_type": "code",
   "execution_count": null,
   "id": "99d47b3c-55a2-4179-8975-914b4624ce4e",
   "metadata": {},
   "outputs": [],
   "source": [
    "visitTable['obsStart']"
   ]
  },
  {
   "cell_type": "code",
   "execution_count": null,
   "id": "0162455e-2bfe-4709-a408-070b750e5d78",
   "metadata": {},
   "outputs": [],
   "source": [
    "visitTable['visitId']"
   ]
  },
  {
   "cell_type": "markdown",
   "id": "505aa660-1b63-437d-b047-b2804970f33d",
   "metadata": {},
   "source": [
    "# Consolidated Database\n",
    "\n",
    "Not strictly necessary, but a consistency check for the visits that make it into DP1"
   ]
  },
  {
   "cell_type": "code",
   "execution_count": null,
   "id": "655d9c2d-2d50-4370-9730-2ea9493617ff",
   "metadata": {},
   "outputs": [],
   "source": [
    "import os\n",
    "os.environ[\"no_proxy\"] += \",.consdb\"\n",
    "\n",
    "from lsst.summit.utils import ConsDbClient\n",
    "\n",
    "client = ConsDbClient(\"http://consdb-pq.consdb:8080/consdb\")"
   ]
  },
  {
   "cell_type": "code",
   "execution_count": null,
   "id": "67fbd80b-56f1-4f50-a080-b3658facae23",
   "metadata": {},
   "outputs": [],
   "source": [
    "instrument = 'lsstcomcam'"
   ]
  },
  {
   "cell_type": "code",
   "execution_count": null,
   "id": "ec62a9fd-7d4e-4800-926f-9be86ae87fcd",
   "metadata": {},
   "outputs": [],
   "source": [
    "visits_query = f'''\n",
    "    SELECT \n",
    "        * \n",
    "    FROM \n",
    "        cdb_{instrument}.visit1 \n",
    "    WHERE \n",
    "        science_program in ('BLOCK-320', 'PP-SURVEY', 'BLOCK-T248', 'BLOCK-T277')\n",
    "'''\n",
    "\n",
    "visits = client.query(visits_query).to_pandas()"
   ]
  },
  {
   "cell_type": "code",
   "execution_count": null,
   "id": "dce9a2a2-7147-45e9-a017-c40f85e8dac0",
   "metadata": {},
   "outputs": [],
   "source": [
    "len(visits)"
   ]
  },
  {
   "cell_type": "code",
   "execution_count": null,
   "id": "af885a30-1e81-4702-8594-e165af42cc82",
   "metadata": {},
   "outputs": [],
   "source": [
    "visits['visit_id']"
   ]
  },
  {
   "cell_type": "markdown",
   "id": "79738e3d-5fd1-42dc-925b-a45ba33adace",
   "metadata": {
    "execution": {
     "iopub.execute_input": "2025-04-27T02:54:32.437589Z",
     "iopub.status.busy": "2025-04-27T02:54:32.437314Z",
     "iopub.status.idle": "2025-04-27T02:54:32.440081Z",
     "shell.execute_reply": "2025-04-27T02:54:32.439718Z",
     "shell.execute_reply.started": "2025-04-27T02:54:32.437573Z"
    }
   },
   "source": [
    "# Analysis\n",
    "\n",
    "Unfortunately, the metadata conventions for target names evolved during the ComCam on-sky campaign. As a first step, use a spatial match to associate visits with targets."
   ]
  },
  {
   "cell_type": "code",
   "execution_count": null,
   "id": "8c8f7e81-d7ee-44e2-9c39-e7be9812111c",
   "metadata": {},
   "outputs": [],
   "source": [
    "bands = {'u': '#0c71ff', 'g': '#49be61', 'r': '#c61c00', 'i': '#ffc200', 'z': '#f341a2', 'y': '#5d0000'}"
   ]
  },
  {
   "cell_type": "code",
   "execution_count": null,
   "id": "df5f032e-25e8-402d-bfa1-42c154d00958",
   "metadata": {},
   "outputs": [],
   "source": [
    "plt.figure()\n",
    "plt.scatter(visitTable['ra'], visitTable['dec'])\n",
    "plt.xlabel('RA (deg)')\n",
    "plt.ylabel('dec (deg)')"
   ]
  },
  {
   "cell_type": "code",
   "execution_count": null,
   "id": "98c8a8fd-3284-4cbe-841e-1541996ed2c1",
   "metadata": {},
   "outputs": [],
   "source": [
    "len(np.intersect1d(visits['visit_id'], visitTable['visitId']))"
   ]
  },
  {
   "cell_type": "code",
   "execution_count": null,
   "id": "eed3d202-892f-44e1-a66b-c9f6977fb223",
   "metadata": {},
   "outputs": [],
   "source": [
    "assert len(np.intersect1d(visits['visit_id'], visitTable['visitId'])) == len(visitTable)"
   ]
  },
  {
   "cell_type": "code",
   "execution_count": null,
   "id": "fbd6105f-dce1-4281-a948-398ab0ed32a6",
   "metadata": {},
   "outputs": [],
   "source": [
    "visits_coord = SkyCoord(visitTable['ra'], visitTable['dec'], unit='deg', frame='icrs')"
   ]
  },
  {
   "cell_type": "code",
   "execution_count": null,
   "id": "21824d0a-7008-4dc1-81b3-d879b26dc462",
   "metadata": {},
   "outputs": [],
   "source": [
    "from astropy.coordinates import SkyCoord\n",
    "from astroplan import FixedTarget\n",
    "\n",
    "targets = [\n",
    "    FixedTarget(SkyCoord(6.022329,-72.081444, unit='deg', frame='icrs'), name='47_Tuc'),\n",
    "    FixedTarget(SkyCoord(37.9, 7.0, unit='deg', frame='icrs'), name='Rubin_SV_38_7'),\n",
    "    FixedTarget(SkyCoord(39.9971, -34.4492, unit='deg', frame='icrs'), name='Fornax_dSph'),\n",
    "    FixedTarget(SkyCoord(53.125, -28.1, unit='deg', frame='icrs'), name='ECDFS'),\n",
    "    FixedTarget(SkyCoord(59.1004, -48.73, unit='deg', frame='icrs'), name='EDFS_ComCam'),\n",
    "    FixedTarget(SkyCoord(95.0, -25.0, unit='deg', frame='icrs'), name='Rubin_SV_095_-25'),\n",
    "    FixedTarget(SkyCoord(106.23, -10.51, unit='deg', frame='icrs'), name='Seagull'),\n",
    "]"
   ]
  },
  {
   "cell_type": "code",
   "execution_count": null,
   "id": "5c63d421-7bc9-4416-9d8a-e26b2063141b",
   "metadata": {},
   "outputs": [],
   "source": [
    "target_column = np.empty(len(visitTable), dtype=\"S20\")\n",
    "\n",
    "for target in targets:\n",
    "    angsep = target.coord.separation(visits_coord).deg\n",
    "    selection_angle = angsep < 2.\n",
    "\n",
    "    target_column[selection_angle] = target.name"
   ]
  },
  {
   "cell_type": "code",
   "execution_count": null,
   "id": "8579701d-839c-4a73-a581-1652d9f7510d",
   "metadata": {},
   "outputs": [],
   "source": [
    "np.unique(target_column)"
   ]
  },
  {
   "cell_type": "code",
   "execution_count": null,
   "id": "24474e48-3200-40ec-ba19-ab62b21a9562",
   "metadata": {},
   "outputs": [],
   "source": [
    "target_column.astype(str)"
   ]
  },
  {
   "cell_type": "code",
   "execution_count": null,
   "id": "8a2f9f49-5c8f-4012-9e8d-bfba235e0339",
   "metadata": {},
   "outputs": [],
   "source": [
    "visitTable['target'] = target_column.astype(str)"
   ]
  },
  {
   "cell_type": "code",
   "execution_count": null,
   "id": "a9f4ca5d-708d-435d-9424-1736c75bcc7b",
   "metadata": {},
   "outputs": [],
   "source": [
    "visitTable['target'].value_counts()"
   ]
  },
  {
   "cell_type": "code",
   "execution_count": null,
   "id": "ad31a451-bd14-443a-92b9-d93fd0dc39e5",
   "metadata": {},
   "outputs": [],
   "source": [
    "visitTable"
   ]
  },
  {
   "cell_type": "markdown",
   "id": "7b2114be-f7c3-4576-b988-f1784becc259",
   "metadata": {},
   "source": [
    "# Plots"
   ]
  },
  {
   "cell_type": "code",
   "execution_count": null,
   "id": "02cb9107-5b75-45d5-aa9a-42169822d434",
   "metadata": {},
   "outputs": [],
   "source": [
    "plt.figure(figsize=(12, 5))\n",
    "\n",
    "for ii, target in enumerate(targets):\n",
    "    selection_target = (visitTable['target'] == target.name)\n",
    "    \n",
    "    for jj, band in enumerate(bands):\n",
    "\n",
    "        if ii == 0:\n",
    "            label = band\n",
    "        else:\n",
    "            label = None\n",
    "        \n",
    "        selection_band = (visitTable['band'] == band)\n",
    "        selection = (selection_target & selection_band)\n",
    "        y = np.tile(ii, np.sum(selection)) - (jj * 0.12) + 0.3\n",
    "        plt.scatter(visitTable['expMidptMJD'][selection], y, c=bands[band], marker='o', label=label)\n",
    "\n",
    "plt.yticks(np.arange(len(targets)), [t.name for t in targets])\n",
    "plt.xlabel('MJD')\n",
    "\n",
    "plt.grid(axis='x', c='0.8', lw=1)\n",
    "plt.gca().set_axisbelow(True)\n",
    "\n",
    "for y in (np.arange(0, len(targets)) + 0.5):\n",
    "    plt.axhline(y, c='0.8', lw=1)\n",
    "\n",
    "plt.ylim(-0.5, len(targets) - 0.5)\n",
    "\n",
    "plt.legend(loc='center left', bbox_to_anchor=(1., 0.5))"
   ]
  },
  {
   "cell_type": "code",
   "execution_count": null,
   "id": "fde43d51-60bb-45f0-adc3-41f2e166d57d",
   "metadata": {},
   "outputs": [],
   "source": [
    "#plt.figure()\n",
    "#plt.hist(visitTable['expMidptMJD'], bins=50) #, cumulative='true')"
   ]
  },
  {
   "cell_type": "code",
   "execution_count": null,
   "id": "ba7cf5e8-c038-4a55-ae15-aa9ffabbd44b",
   "metadata": {},
   "outputs": [],
   "source": [
    "plt.figure()\n",
    "for band in bands:\n",
    "    selection_band = (visitTable['band'] == band)\n",
    "    plt.scatter(visitTable['expMidptMJD'][selection_band], visitTable['expMidptMJD'][selection_band] % 1, marker='_', c=bands[band], label=band)\n",
    "\n",
    "plt.legend(loc='center left', bbox_to_anchor=(1., 0.5))\n",
    "\n",
    "plt.xlabel('MJD')\n",
    "plt.ylabel('Fractional Day')"
   ]
  },
  {
   "cell_type": "code",
   "execution_count": null,
   "id": "c5fb6a12-9676-4ef8-9043-987dde12117b",
   "metadata": {},
   "outputs": [],
   "source": []
  }
 ],
 "metadata": {
  "kernelspec": {
   "display_name": "LSST",
   "language": "python",
   "name": "lsst"
  },
  "language_info": {
   "codemirror_mode": {
    "name": "ipython",
    "version": 3
   },
   "file_extension": ".py",
   "mimetype": "text/x-python",
   "name": "python",
   "nbconvert_exporter": "python",
   "pygments_lexer": "ipython3",
   "version": "3.12.10"
  }
 },
 "nbformat": 4,
 "nbformat_minor": 5
}
