{
 "cells": [
  {
   "cell_type": "markdown",
   "id": "9206c08d-cddd-47d1-85e0-030313ce76df",
   "metadata": {
    "execution": {
     "iopub.execute_input": "2025-04-26T14:04:37.951583Z",
     "iopub.status.busy": "2025-04-26T14:04:37.951379Z",
     "iopub.status.idle": "2025-04-26T14:04:37.954436Z",
     "shell.execute_reply": "2025-04-26T14:04:37.954004Z",
     "shell.execute_reply.started": "2025-04-26T14:04:37.951567Z"
    }
   },
   "source": [
    "# DP1 ComCam Standard Bandpasses\n",
    "\n",
    "This notebook still uses the embargo repo and needs to be updated to the DP1 repo when the \n",
    "data are included in the DP1 repo. "
   ]
  },
  {
   "cell_type": "code",
   "execution_count": null,
   "id": "344f0e69-8708-409f-a5b2-fcaa05ae8959",
   "metadata": {},
   "outputs": [],
   "source": [
    "import numpy as np\n",
    "import matplotlib.pyplot as plt\n",
    "import logging\n",
    "\n",
    "from lsst.daf.butler import Butler,  CollectionType\n",
    "import lsst.geom\n",
    "from lsst.utils.plotting import publication_plots\n",
    "from lsst.utils.plotting import get_multiband_plot_colors, get_multiband_plot_symbols"
   ]
  },
  {
   "cell_type": "code",
   "execution_count": null,
   "id": "7d83a759-5cf9-4744-aa67-f98b14754e49",
   "metadata": {},
   "outputs": [],
   "source": [
    "# Ignore botocore credential messages\n",
    "logging.getLogger('botocore.httpchecksum').setLevel(logging.WARNING)\n",
    "logging.getLogger(\"aiobotocore.credentials\").setLevel(logging.WARNING)"
   ]
  },
  {
   "cell_type": "code",
   "execution_count": null,
   "id": "1f55b35f-8cae-43b9-933c-5ee7acfe8555",
   "metadata": {},
   "outputs": [],
   "source": [
    "# Set publication style\n",
    "publication_plots.set_rubin_plotstyle()\n",
    "colors = get_multiband_plot_colors()\n",
    "bands = colors.keys() \n",
    "symbols = get_multiband_plot_symbols()"
   ]
  },
  {
   "cell_type": "code",
   "execution_count": null,
   "id": "1b18915d-006e-4a3d-b131-6cb87fdba69f",
   "metadata": {},
   "outputs": [],
   "source": [
    "butler = Butler(\"embargo\", instrument=\"LSSTComCam\", \n",
    "                collections = ['LSSTComCam/runs/DRP/DP1-RC1/w_2025_02/DM-48371',\n",
    "                               'u/erykoff/LSSTComCam/DM-47303/lookuptable'])"
   ]
  },
  {
   "cell_type": "code",
   "execution_count": null,
   "id": "6dd4a6bb-2fb7-4ab8-ab8f-7d2437b9acf3",
   "metadata": {},
   "outputs": [],
   "source": [
    "# Get the unique set of physical filters used for ComCam   \n",
    "# Change to 'visit_table\" for DP1 \n",
    "physical_filters= butler.get(\"visitTable\", \n",
    "                        parameters={\"columns\":['physical_filter']},\n",
    "                        storageClass='DataFrame').physical_filter.unique()\n",
    "\n",
    "# Sorted in band order for plotting\n",
    "physical_filters = sorted(\n",
    "    physical_filters,\n",
    "    key=lambda x: list(bands).index(x[0]) if x[0] in list(bands) else len(bands)\n",
    ")\n",
    "physical_filters"
   ]
  },
  {
   "cell_type": "code",
   "execution_count": null,
   "id": "9c14001c-3ba8-47e7-882e-86a55dd1551b",
   "metadata": {},
   "outputs": [],
   "source": [
    "# Compute throughputs over the LSST wavelength\n",
    "wavelengths = np.linspace(3000.0, 11000.0, num=1000)\n",
    "throughputs = {}\n",
    "for pf in physical_filters:\n",
    "    std_bp = butler.get(\"fgcm_standard_passband\", physical_filter=pf)\n",
    "    throughputs[pf] = std_bp.sampleAt(lsst.geom.Point2D(0, 0), wavelengths)    "
   ]
  },
  {
   "cell_type": "code",
   "execution_count": null,
   "id": "1ee88af1-8397-4c6b-9864-5304b0e46301",
   "metadata": {},
   "outputs": [],
   "source": [
    "# Plot \n",
    "plt.figure()\n",
    "for label, d in throughputs.items():\n",
    "    plt.plot(wavelengths, d,\n",
    "             color = colors[label[0]],\n",
    "             label=label)\n",
    "    \n",
    "# Add axis labels and title\n",
    "plt.xlabel('Wavelength (nm)')  \n",
    "plt.ylabel('Standard Bandpass')\n",
    "\n",
    "# Annotate with band label\n",
    "plt.text(3600, 0.06, 'u')\n",
    "plt.text(4700, 0.22, 'g')\n",
    "plt.text(6200, 0.28, 'r')\n",
    "plt.text(7400, 0.30, 'i')\n",
    "plt.text(8600, 0.22, 'z')\n",
    "plt.text(9600, 0.12, 'y')\n",
    "\n",
    "plt.savefig(\"../figures/comcam_std_bandpasses.pdf\", \n",
    "            bbox_inches='tight', transparent=True, format='pdf')         "
   ]
  },
  {
   "cell_type": "code",
   "execution_count": null,
   "id": "f6c8fdd7-8db4-48a1-8696-0ea766ff7249",
   "metadata": {},
   "outputs": [],
   "source": [
    "# Only close the figure after saving\n",
    "plt.close()"
   ]
  }
 ],
 "metadata": {
  "kernelspec": {
   "display_name": "LSST",
   "language": "python",
   "name": "lsst"
  },
  "language_info": {
   "codemirror_mode": {
    "name": "ipython",
    "version": 3
   },
   "file_extension": ".py",
   "mimetype": "text/x-python",
   "name": "python",
   "nbconvert_exporter": "python",
   "pygments_lexer": "ipython3",
   "version": "3.12.10"
  }
 },
 "nbformat": 4,
 "nbformat_minor": 5
}
