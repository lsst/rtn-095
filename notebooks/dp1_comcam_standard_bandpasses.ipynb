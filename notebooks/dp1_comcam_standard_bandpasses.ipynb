{
 "cells": [
  {
   "cell_type": "markdown",
   "id": "dea39b49-4f78-469c-9abb-7f3cac9f9a0a",
   "metadata": {
    "execution": {
     "iopub.execute_input": "2025-06-25T04:10:03.933777Z",
     "iopub.status.busy": "2025-06-25T04:10:03.933438Z",
     "iopub.status.idle": "2025-06-25T04:10:03.942401Z",
     "shell.execute_reply": "2025-06-25T04:10:03.941869Z",
     "shell.execute_reply.started": "2025-06-25T04:10:03.933757Z"
    }
   },
   "source": [
    "<img align=\"left\" src = https://project.lsst.org/sites/default/files/Rubin-O-Logo_0.png width=250 style=\"padding: 10px\"\n",
    "alt=\"Rubin Observatory logo, a graphical representation of turning stars into data.\"> <br><br>\n",
    "**Description:** DP1 ComCam Standard Bandpasses <br>\n",
    "**Authors:** Eli Rykoff, Leanne Guy, Erfan Nourbakhsh <br>\n",
    "**Last verified to run:** 2025-08-19 <br>\n",
    "**LSST Science Pipelines version:** v29.1<br>\n",
    "**Container size:** medium <br>"
   ]
  },
  {
   "cell_type": "code",
   "execution_count": null,
   "id": "344f0e69-8708-409f-a5b2-fcaa05ae8959",
   "metadata": {
    "execution": {
     "iopub.execute_input": "2025-08-28T01:12:58.210601Z",
     "iopub.status.busy": "2025-08-28T01:12:58.210339Z",
     "iopub.status.idle": "2025-08-28T01:12:59.596104Z",
     "shell.execute_reply": "2025-08-28T01:12:59.595576Z",
     "shell.execute_reply.started": "2025-08-28T01:12:58.210586Z"
    }
   },
   "outputs": [],
   "source": [
    "import matplotlib.pyplot as plt\n",
    "import numpy as np\n",
    "from lsst.daf.butler import Butler\n",
    "from lsst.utils.plotting import get_multiband_plot_colors, publication_plots\n",
    "from matplotlib import colors as mcolors\n",
    "from matplotlib import patheffects as pe\n",
    "from matplotlib.colors import LinearSegmentedColormap"
   ]
  },
  {
   "cell_type": "code",
   "execution_count": 2,
   "id": "6b9d7d89-b4a7-4804-9c83-7ba2e3ef3494",
   "metadata": {
    "execution": {
     "iopub.execute_input": "2025-08-28T01:12:59.596769Z",
     "iopub.status.busy": "2025-08-28T01:12:59.596627Z",
     "iopub.status.idle": "2025-08-28T01:13:00.702707Z",
     "shell.execute_reply": "2025-08-28T01:13:00.702068Z",
     "shell.execute_reply.started": "2025-08-28T01:12:59.596754Z"
    }
   },
   "outputs": [
    {
     "name": "stdout",
     "output_type": "stream",
     "text": [
      "Recommended\n",
      "lsst_distrib          gc675d380bf+d086b35ba1 \tcurrent o_latest v29_1_1 v29_1_1_rc1 setup\n"
     ]
    }
   ],
   "source": [
    "! echo $IMAGE_DESCRIPTION\n",
    "! eups list -s | grep lsst_distrib"
   ]
  },
  {
   "cell_type": "code",
   "execution_count": null,
   "id": "1f55b35f-8cae-43b9-933c-5ee7acfe8555",
   "metadata": {
    "execution": {
     "iopub.execute_input": "2025-08-28T01:13:00.703570Z",
     "iopub.status.busy": "2025-08-28T01:13:00.703407Z",
     "iopub.status.idle": "2025-08-28T01:13:00.709865Z",
     "shell.execute_reply": "2025-08-28T01:13:00.709131Z",
     "shell.execute_reply.started": "2025-08-28T01:13:00.703551Z"
    }
   },
   "outputs": [],
   "source": [
    "# Set publication style\n",
    "publication_plots.set_rubin_plotstyle()\n",
    "colors = get_multiband_plot_colors()\n",
    "bands = colors.keys()\n",
    "\n",
    "# Set fill style (\"solid\" or \"gradient\")\n",
    "fill = \"gradient\"\n",
    "\n",
    "# Whether to include labels in the legend or put them on top of the curves\n",
    "labels_in_legend = False"
   ]
  },
  {
   "cell_type": "code",
   "execution_count": null,
   "id": "9a44e5b1-a2b7-4230-bfbf-332f862b6ef1",
   "metadata": {
    "execution": {
     "iopub.execute_input": "2025-08-28T01:13:00.710866Z",
     "iopub.status.busy": "2025-08-28T01:13:00.710713Z",
     "iopub.status.idle": "2025-08-28T01:13:01.132512Z",
     "shell.execute_reply": "2025-08-28T01:13:01.131947Z",
     "shell.execute_reply.started": "2025-08-28T01:13:00.710851Z"
    }
   },
   "outputs": [],
   "source": [
    "skymapName = \"lsst_cells_v1\"\n",
    "instrument=\"LSSTComCam\"\n",
    "collections=[\n",
    "    \"LSSTComCam/DP1/defaults\",\n",
    "    \"LSSTComCam/DP1\",\n",
    "    \"skymaps\"]\n",
    "butler = Butler(\"/repo/dp1_prep\", instrument=\"LSSTComCam\",\n",
    "                collections=collections,\n",
    "                skymap=skymapName)\n",
    "registry = butler.registry"
   ]
  },
  {
   "cell_type": "code",
   "execution_count": null,
   "id": "cf623e84-d501-41ca-b052-57838d429e9e",
   "metadata": {
    "execution": {
     "iopub.execute_input": "2025-08-28T01:13:01.134579Z",
     "iopub.status.busy": "2025-08-28T01:13:01.134313Z",
     "iopub.status.idle": "2025-08-28T01:13:01.161625Z",
     "shell.execute_reply": "2025-08-28T01:13:01.161210Z",
     "shell.execute_reply.started": "2025-08-28T01:13:01.134562Z"
    }
   },
   "outputs": [
    {
     "data": {
      "text/plain": [
       "[DatasetType('standard_passband', {band, instrument}, ArrowAstropy)]"
      ]
     },
     "execution_count": 5,
     "metadata": {},
     "output_type": "execute_result"
    }
   ],
   "source": [
    "# Find the right dataset type\n",
    "dstype_regex = \"*band*\"\n",
    "dsTypes = [datasetType for datasetType in registry.queryDatasetTypes(dstype_regex)]\n",
    "dsTypes"
   ]
  },
  {
   "cell_type": "code",
   "execution_count": 6,
   "id": "9c14001c-3ba8-47e7-882e-86a55dd1551b",
   "metadata": {
    "execution": {
     "iopub.execute_input": "2025-08-28T01:13:01.162237Z",
     "iopub.status.busy": "2025-08-28T01:13:01.162091Z",
     "iopub.status.idle": "2025-08-28T01:13:02.052144Z",
     "shell.execute_reply": "2025-08-28T01:13:02.051524Z",
     "shell.execute_reply.started": "2025-08-28T01:13:01.162221Z"
    }
   },
   "outputs": [],
   "source": [
    "# Get the throughputs for ComCam filters by band not 'physical_filter' \n",
    "# Conceptual passbands, not pieces of glass\n",
    "throughputs = {}\n",
    "for band in bands:\n",
    "    std_bp = butler.get(\"standard_passband\", band=band)\n",
    "    throughputs[band] = std_bp"
   ]
  },
  {
   "cell_type": "code",
   "execution_count": null,
   "id": "c23e88a5",
   "metadata": {},
   "outputs": [],
   "source": [
    "# A utility function to plot the gradient under the curve.\n",
    "def plot_gradient(ax, color, band, wavelengths, tputs, alpha=0.5):\n",
    "    # Create a vertical gradient under the curve.\n",
    "    cmap = LinearSegmentedColormap.from_list(\"grad\", [\"white\", color])\n",
    "\n",
    "    # Create the gradient image.\n",
    "    grad = ax.imshow(\n",
    "        np.linspace(0, 1, 2000).reshape(-1, 1),\n",
    "        cmap=cmap,\n",
    "        norm=mcolors.PowerNorm(gamma=0.64),\n",
    "        extent=[wavelengths.min(), wavelengths.max(), 0, tputs.max()],\n",
    "        aspect=\"auto\",\n",
    "        origin=\"lower\",\n",
    "        alpha=alpha,\n",
    "        zorder=1\n",
    "    )\n",
    "\n",
    "    # Clip the gradient image to the area under the curve.\n",
    "    poly = ax.fill_between(wavelengths, 0, tputs, alpha=0)\n",
    "    grad.set_clip_path(poly.get_paths()[0], transform=ax.transData)\n",
    "    poly.remove()"
   ]
  },
  {
   "cell_type": "code",
   "execution_count": null,
   "id": "1ee88af1-8397-4c6b-9864-5304b0e46301",
   "metadata": {
    "execution": {
     "iopub.execute_input": "2025-08-28T01:13:02.053153Z",
     "iopub.status.busy": "2025-08-28T01:13:02.052765Z",
     "iopub.status.idle": "2025-08-28T01:13:02.699790Z",
     "shell.execute_reply": "2025-08-28T01:13:02.699280Z",
     "shell.execute_reply.started": "2025-08-28T01:13:02.053136Z"
    }
   },
   "outputs": [],
   "source": [
    "# Plot the standard bandpasses.\n",
    "if labels_in_legend:\n",
    "    fig, ax = plt.subplots()  # i.e. figsize: 6.4, 4.8\n",
    "else:\n",
    "    fig, ax = plt.subplots(figsize=(6.4, 4))\n",
    "\n",
    "for i, (band, std_bp) in enumerate(throughputs.items()):\n",
    "    color = colors[band[0]]\n",
    "    wavelengths = std_bp[\"wavelength\"]\n",
    "    tputs = std_bp[\"throughput\"]\n",
    "    ax.plot(wavelengths, tputs, lw=1.0, color=color, alpha=0.95, zorder=2)\n",
    "\n",
    "    if fill == \"solid\":\n",
    "        ax.fill_between(wavelengths, tputs, 0, where=tputs > 0, color=color, alpha=0.3, zorder=1)\n",
    "    elif fill == \"gradient\":\n",
    "        plot_gradient(ax, color, band, wavelengths, tputs, alpha=0.5)\n",
    "\n",
    "    # Place a band label somewhere in the middle of each wavelength range.\n",
    "    label_wl = np.average(wavelengths, weights=tputs)\n",
    "    idx = np.argmin(np.abs(wavelengths - label_wl))\n",
    "    color = colors[band[0]]\n",
    "    offset = 0.052 if band[0] in [\"u\", \"y\"] else 0.03\n",
    "    ax.text(wavelengths[idx], tputs[idx] + offset, band[0],\n",
    "            fontsize=13, fontweight=\"normal\", color=color,\n",
    "            ha=\"center\", va=\"bottom\", alpha=1,\n",
    "            path_effects=[\n",
    "                pe.Stroke(linewidth=0.7, foreground=color, alpha=0.7),\n",
    "                pe.Normal()\n",
    "            ],\n",
    "            zorder=3)\n",
    "\n",
    "# Add axis labels and adjust limits.\n",
    "ax.set_xlabel(\"Wavelength (nm)\", fontsize=13, labelpad=11)\n",
    "ax.set_ylabel(\"Standard Bandpass\", fontsize=13, labelpad=9)\n",
    "ax.xaxis.set_major_locator(plt.MaxNLocator(nbins=8, prune=None))\n",
    "ax.yaxis.set_major_locator(plt.MaxNLocator(nbins=4, prune=None))\n",
    "ax.set_xlim(3000, 11000)\n",
    "\n",
    "if labels_in_legend:\n",
    "    plt.ylim(0, 0.75)\n",
    "    plt.legend(\n",
    "        loc=\"upper center\", ncols=6, bbox_to_anchor=(0.05, 0.48, 0.88, 0.48), mode=\"expand\", handlelength=3\n",
    "    )\n",
    "else:\n",
    "    ax.set_ylim(0, 0.7)\n",
    "\n",
    "plt.savefig(\"../figures/dp1_comcam_std_bandpasses.pdf\",\n",
    "            bbox_inches=\"tight\", transparent=True, format=\"pdf\")"
   ]
  },
  {
   "cell_type": "code",
   "execution_count": 8,
   "id": "f6c8fdd7-8db4-48a1-8696-0ea766ff7249",
   "metadata": {
    "execution": {
     "iopub.execute_input": "2025-08-28T01:13:02.701282Z",
     "iopub.status.busy": "2025-08-28T01:13:02.700756Z",
     "iopub.status.idle": "2025-08-28T01:13:02.703879Z",
     "shell.execute_reply": "2025-08-28T01:13:02.703490Z",
     "shell.execute_reply.started": "2025-08-28T01:13:02.701265Z"
    }
   },
   "outputs": [],
   "source": [
    "# Only close the figure after saving\n",
    "plt.close()"
   ]
  }
 ],
 "metadata": {
  "kernelspec": {
   "display_name": "LSST",
   "language": "python",
   "name": "lsst"
  },
  "language_info": {
   "codemirror_mode": {
    "name": "ipython",
    "version": 3
   },
   "file_extension": ".py",
   "mimetype": "text/x-python",
   "name": "python",
   "nbconvert_exporter": "python",
   "pygments_lexer": "ipython3",
   "version": "3.12.11"
  }
 },
 "nbformat": 4,
 "nbformat_minor": 5
}
