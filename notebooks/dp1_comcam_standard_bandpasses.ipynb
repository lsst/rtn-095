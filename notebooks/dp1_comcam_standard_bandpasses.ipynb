{
 "cells": [
  {
   "cell_type": "markdown",
   "id": "dea39b49-4f78-469c-9abb-7f3cac9f9a0a",
   "metadata": {
    "execution": {
     "iopub.execute_input": "2025-06-25T04:10:03.933777Z",
     "iopub.status.busy": "2025-06-25T04:10:03.933438Z",
     "iopub.status.idle": "2025-06-25T04:10:03.942401Z",
     "shell.execute_reply": "2025-06-25T04:10:03.941869Z",
     "shell.execute_reply.started": "2025-06-25T04:10:03.933757Z"
    }
   },
   "source": [
    "<img align=\"left\" src = https://project.lsst.org/sites/default/files/Rubin-O-Logo_0.png width=250 style=\"padding: 10px\"\n",
    "alt=\"Rubin Observatory logo, a graphical representation of turning stars into data.\"> <br><br>\n",
    "**Description:** DP1 ComCam Standard Bandpasse <br>\n",
    "**Authors:** Eli Rykoff, Leanne Guy, <br>\n",
    "**Last verified to run:** 2025-06-24 <br>\n",
    "**LSST Science Pipelines version:** v29.1<br>\n",
    "**Container size:** medium <br>"
   ]
  },
  {
   "cell_type": "code",
   "execution_count": null,
   "id": "344f0e69-8708-409f-a5b2-fcaa05ae8959",
   "metadata": {},
   "outputs": [],
   "source": [
    "import matplotlib.pyplot as plt\n",
    "\n",
    "from lsst.daf.butler import Butler\n",
    "from lsst.utils.plotting import publication_plots\n",
    "from lsst.utils.plotting import get_multiband_plot_colors, get_multiband_plot_symbols"
   ]
  },
  {
   "cell_type": "code",
   "execution_count": null,
   "id": "1f55b35f-8cae-43b9-933c-5ee7acfe8555",
   "metadata": {},
   "outputs": [],
   "source": [
    "# Set publication style\n",
    "publication_plots.set_rubin_plotstyle()\n",
    "colors = get_multiband_plot_colors()\n",
    "bands = colors.keys() \n",
    "symbols = get_multiband_plot_symbols()"
   ]
  },
  {
   "cell_type": "code",
   "execution_count": null,
   "id": "9a44e5b1-a2b7-4230-bfbf-332f862b6ef1",
   "metadata": {},
   "outputs": [],
   "source": [
    "collections = ['LSSTComCam/DP1',\n",
    "               'LSSTComCam/DP1/defaults']\n",
    "butler = Butler(\"/repo/dp1\", instrument=\"LSSTComCam\", collections=collections)"
   ]
  },
  {
   "cell_type": "code",
   "execution_count": null,
   "id": "9c14001c-3ba8-47e7-882e-86a55dd1551b",
   "metadata": {},
   "outputs": [],
   "source": [
    "# Get the throughputs for ComCam filters\n",
    "throughputs = {}\n",
    "for band in bands:\n",
    "    std_bp = butler.get(\"standard_passband\", band=band)\n",
    "    throughputs[band] = std_bp"
   ]
  },
  {
   "cell_type": "code",
   "execution_count": null,
   "id": "1ee88af1-8397-4c6b-9864-5304b0e46301",
   "metadata": {},
   "outputs": [],
   "source": [
    "# Plot \n",
    "plt.figure()\n",
    "for band, std_bp in throughputs.items():\n",
    "    \n",
    "    plt.plot(std_bp['wavelength'], std_bp['throughput'],\n",
    "             color = colors[band[0]],\n",
    "             label=band)\n",
    "\n",
    "# Force a y-axis zero \n",
    "plt.ylim(0)\n",
    "\n",
    "# Add axis labels and title\n",
    "plt.xlabel('Wavelength (nm)')  \n",
    "plt.ylabel('Standard Bandpass (\\%)')\n",
    "\n",
    "# Annotate with band label\n",
    "plt.text(360, 0.06, 'u')\n",
    "plt.text(470, 0.22, 'g')\n",
    "plt.text(620, 0.28, 'r')\n",
    "plt.text(740, 0.30, 'i')\n",
    "plt.text(860, 0.22, 'z')\n",
    "plt.text(960, 0.12, 'y')\n",
    "\n",
    "plt.savefig(\"../figures/dp1_comcam_std_bandpasses.pdf\", \n",
    "            bbox_inches='tight', transparent=True, format='pdf')         "
   ]
  },
  {
   "cell_type": "code",
   "execution_count": null,
   "id": "f6c8fdd7-8db4-48a1-8696-0ea766ff7249",
   "metadata": {},
   "outputs": [],
   "source": [
    "# Only close the figure after saving\n",
    "plt.close()"
   ]
  }
 ],
 "metadata": {
  "kernelspec": {
   "display_name": "LSST",
   "language": "python",
   "name": "lsst"
  },
  "language_info": {
   "codemirror_mode": {
    "name": "ipython",
    "version": 3
   },
   "file_extension": ".py",
   "mimetype": "text/x-python",
   "name": "python",
   "nbconvert_exporter": "python",
   "pygments_lexer": "ipython3",
   "version": "3.12.11"
  }
 },
 "nbformat": 4,
 "nbformat_minor": 5
}
