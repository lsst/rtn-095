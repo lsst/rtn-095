{
 "cells": [
  {
   "cell_type": "markdown",
   "id": "062ea44c-9f60-4559-b9b0-c014d64e86f2",
   "metadata": {},
   "source": [
    "<img align=\"left\" src = https://project.lsst.org/sites/default/files/Rubin-O-Logo_0.png width=250 style=\"padding: 10px\"\n",
    "alt=\"Rubin Observatory logo, a graphical representation of turning stars into data.\"> <br><br>\n",
    "**Description:** Generate simple tables for the _Rubin Observatory DP1_ paper. <br>\n",
    "**Authors:** James Mullaney <br>\n",
    "**Last verified to run:** 2025-05-14 <br>\n",
    "**LSST Science Pipelines version:** v29.0.0<br>\n",
    "**Container size:** medium <br>"
   ]
  },
  {
   "cell_type": "markdown",
   "id": "2ba91708-7d3a-4033-9d0f-1a15903a0cbe",
   "metadata": {},
   "source": [
    "# Simple Table Generation\n",
    "Some tables in the DP1 paper draw in a lot of data and necessitate their own notebooks. However, there are a number of relatively \"simple\" tables that can all be generated in a single notebook."
   ]
  },
  {
   "cell_type": "markdown",
   "id": "88732af7-c524-4d16-b956-80fc0584220f",
   "metadata": {},
   "source": [
    "## Setup"
   ]
  },
  {
   "cell_type": "code",
   "execution_count": 1,
   "id": "73adc1a2-8d06-4a8e-82a3-848b5918280c",
   "metadata": {
    "execution": {
     "iopub.execute_input": "2025-06-05T10:59:39.720748Z",
     "iopub.status.busy": "2025-06-05T10:59:39.720387Z",
     "iopub.status.idle": "2025-06-05T10:59:40.792690Z",
     "shell.execute_reply": "2025-06-05T10:59:40.792216Z",
     "shell.execute_reply.started": "2025-06-05T10:59:39.720729Z"
    }
   },
   "outputs": [],
   "source": [
    "from lsst.daf.butler import Butler\n",
    "from collections import defaultdict\n",
    "import numpy as np\n",
    "import copy"
   ]
  },
  {
   "cell_type": "markdown",
   "id": "f1f21b2e-0506-482d-8b8c-b99e125dfca8",
   "metadata": {},
   "source": [
    "## DP1 Butler"
   ]
  },
  {
   "cell_type": "code",
   "execution_count": 2,
   "id": "758d8c2d-0138-4c89-84bc-7d25c2d0cc4a",
   "metadata": {
    "execution": {
     "iopub.execute_input": "2025-06-05T10:59:43.171279Z",
     "iopub.status.busy": "2025-06-05T10:59:43.171055Z",
     "iopub.status.idle": "2025-06-05T10:59:43.959467Z",
     "shell.execute_reply": "2025-06-05T10:59:43.958824Z",
     "shell.execute_reply.started": "2025-06-05T10:59:43.171262Z"
    }
   },
   "outputs": [],
   "source": [
    "instrument = 'LSSTComCam'\n",
    "collections = ['LSSTComCam/DP1/defaults', \n",
    "               'LSSTComCam/runs/DRP/DP1/v29_0_0/DM-50260',\n",
    "               'skymaps', ]\n",
    "skymap = 'lsst_cells_v1'\n",
    "butler = Butler(\"/repo/dp1\",\n",
    "                instrument=instrument, \n",
    "                collections=collections, \n",
    "                skymap=skymap)\n",
    "registry = butler.registry\n",
    "skymap = butler.get('skyMap', skymap=skymap)"
   ]
  },
  {
   "cell_type": "markdown",
   "id": "46e98174-f2aa-44ca-9e66-7be31a090ffe",
   "metadata": {},
   "source": [
    "## Tables"
   ]
  },
  {
   "cell_type": "markdown",
   "id": "66d88995-d73b-4916-b600-cb29a0614374",
   "metadata": {},
   "source": [
    "### Available dimensions"
   ]
  },
  {
   "cell_type": "code",
   "execution_count": 3,
   "id": "f1668186-3246-42bb-9772-3fbfe96fc2b4",
   "metadata": {
    "execution": {
     "iopub.execute_input": "2025-06-04T08:38:47.618333Z",
     "iopub.status.busy": "2025-06-04T08:38:47.617859Z",
     "iopub.status.idle": "2025-06-04T08:38:47.688209Z",
     "shell.execute_reply": "2025-06-04T08:38:47.687668Z",
     "shell.execute_reply.started": "2025-06-04T08:38:47.618317Z"
    }
   },
   "outputs": [],
   "source": [
    "dimensionDescriptions = {\n",
    "    'day_obs':'A day and night of observations that rolls over during daylight hours.',\n",
    "    'visit':\"A sequence of observations processed together; synonymous with ``exposure'' in DP1.\", \n",
    "    'exposure':'A single exposure of all nine ComCam detectors.',\n",
    "    'detector':'A ComCam detector.',\n",
    "    'skymap':'A set of tracts and patches that subdivide the sky into rectangular regions with simple projections and intentional overlaps.',\n",
    "    'tract':'A large rectangular region of the sky.',\n",
    "    'patch':'A rectangular region within a tract.',\n",
    "    'physical_filter':'An astronomical filter',\n",
    "    'band':'An astronomicial wave band.',\n",
    "}\n",
    "\n",
    "detectors = [record.id for record in list(registry.queryDimensionRecords('detector'))]\n",
    "skymap = list(registry.queryDimensionRecords('skymap'))[0].name\n",
    "patches = set([record.id for record in list(registry.queryDimensionRecords('patch', datasets='template_coadd'))])\n",
    "dimensionValues = {\n",
    "    'day_obs':'YYYYMMDD',\n",
    "    'visit':'YYYYMMDD\\\\#\\\\#\\\\#\\\\#\\\\#',\n",
    "    'exposure':'YYYYMMDD\\\\#\\\\#\\\\#\\\\#\\\\#',\n",
    "    'detector':f'{min(detectors)} - {max(detectors)}',\n",
    "    'skymap':f'\\\\texttt{{{skymap.replace('_','\\\\_')}}}',\n",
    "    'tract':'See Table X',\n",
    "    'patch':f'{min(patches)} - {max(patches)}',\n",
    "    'physical_filter': 'u_02, g_01, i_06, r_03, z_03, y_04',\n",
    "    'band':'u, g, r, i, z, y',\n",
    "}"
   ]
  },
  {
   "cell_type": "code",
   "execution_count": 4,
   "id": "25213647-b2b0-43de-8d09-4243f14d4203",
   "metadata": {
    "execution": {
     "iopub.execute_input": "2025-06-04T08:38:47.688953Z",
     "iopub.status.busy": "2025-06-04T08:38:47.688791Z",
     "iopub.status.idle": "2025-06-04T08:38:47.693474Z",
     "shell.execute_reply": "2025-06-04T08:38:47.693043Z",
     "shell.execute_reply.started": "2025-06-04T08:38:47.688925Z"
    }
   },
   "outputs": [],
   "source": [
    "with open(\"../tables/dp1_dimension_summary.tex\", \"w\") as f:\n",
    "    f.write(r\"\"\"%%%%% This table is auto generated from data, DO NOT EDIT\n",
    "\\begin{deluxetable}{lp{3.5cm}p{8cm}}\n",
    "\\caption{Descriptions of and valid values for the key data dimensions in DP1. \n",
    "\\label{tab:dp1_dimensions} }\n",
    "\\tablehead{\n",
    "  \\colhead{\\textbf{Dimension}} & \\colhead{\\textbf{Format/Valid values}} & \\colhead{\\textbf{Description}}\\\\ \n",
    "}\n",
    "\\startdata\n",
    "\"\"\")\n",
    "    for dimension in dimensionValues:\n",
    "        latexName = dimension.replace('_', '\\\\_')\n",
    "        f.write(f'\\\\texttt{{{latexName}}}&{dimensionValues[dimension]}&{dimensionDescriptions[dimension]}\\\\\\\\\\n')\n",
    "    f.write(r\"\"\"\\enddata\n",
    "\\tablecomments{YYYYMMDD signifies date and \\# signifies a single 0-9 digit.}\n",
    "\\end{deluxetable}\n",
    "\"\"\")\n",
    "f.close()"
   ]
  },
  {
   "cell_type": "markdown",
   "id": "54e52d59-c167-43ea-9fd7-8a13d82409c2",
   "metadata": {},
   "source": [
    "### Tracts covering each field"
   ]
  },
  {
   "cell_type": "code",
   "execution_count": 5,
   "id": "7ec12532-3558-4d12-9008-d0db1b4a72b5",
   "metadata": {
    "execution": {
     "iopub.execute_input": "2025-06-04T08:38:47.694125Z",
     "iopub.status.busy": "2025-06-04T08:38:47.693959Z",
     "iopub.status.idle": "2025-06-04T08:38:47.864518Z",
     "shell.execute_reply": "2025-06-04T08:38:47.863974Z",
     "shell.execute_reply.started": "2025-06-04T08:38:47.694111Z"
    }
   },
   "outputs": [],
   "source": [
    "fields = defaultdict(set)\n",
    "with butler.query() as base_query:\n",
    "    processed_visit_query = base_query.join_dataset_search(\"visit_summary\")\n",
    "    for row in processed_visit_query.general([\"tract\", \"visit\"], \"visit.target_name\"):\n",
    "        fields[row[\"visit.target_name\"]].add(row[\"visit\"])"
   ]
  },
  {
   "cell_type": "code",
   "execution_count": 6,
   "id": "d92c9ef4-8022-4a23-bb52-198e37fe5da8",
   "metadata": {
    "execution": {
     "iopub.execute_input": "2025-06-04T08:38:47.865329Z",
     "iopub.status.busy": "2025-06-04T08:38:47.865184Z",
     "iopub.status.idle": "2025-06-04T08:38:47.870759Z",
     "shell.execute_reply": "2025-06-04T08:38:47.870239Z",
     "shell.execute_reply.started": "2025-06-04T08:38:47.865314Z"
    }
   },
   "outputs": [],
   "source": [
    "with open(\"../tables/dp1_field_tracts.tex\", \"w\") as f:\n",
    "    f.write(r\"\"\"%%%%% This table is auto generated from data, DO NOT EDIT\n",
    "\\begin{deluxetable}{lp4.5cm}}\n",
    "\\caption{Tract coverage of each DP1 field. The size of a tract is larger than the LSSTCam field of view; however, since each observed field extends across more than one tract, each field covers multiple tracts.}.\n",
    "\\label{tab:dp1_tracts}\n",
    "\\tablehead{\n",
    "  \\colhead{\\textbf{Field Code}} & \\colhead{\\textbf{Tract ID}} \n",
    "}\n",
    "\\startdata\n",
    "\"\"\")\n",
    "    for field in fields:\n",
    "        if field == 'slew_icrs':\n",
    "            continue\n",
    "        latexName = field.replace('_', '\\\\_')\n",
    "        tracts = f'{fields[field]}'\n",
    "        f.write(f'{latexName}&{tracts.strip('{}')}\\\\\\\\\\n')\n",
    "    f.write(r\"\"\"\\enddata\n",
    "\\end{deluxetable}\n",
    "\"\"\")\n",
    "f.close()"
   ]
  },
  {
   "cell_type": "markdown",
   "id": "606c55cb-6ed9-48af-b90d-5e64067c1af3",
   "metadata": {},
   "source": [
    "### Number of raw images per field and band"
   ]
  },
  {
   "cell_type": "code",
   "execution_count": 7,
   "id": "d10bdaf7-ce71-458c-a65a-6bed86eca439",
   "metadata": {
    "execution": {
     "iopub.execute_input": "2025-06-04T08:38:47.871420Z",
     "iopub.status.busy": "2025-06-04T08:38:47.871288Z",
     "iopub.status.idle": "2025-06-04T08:38:48.120279Z",
     "shell.execute_reply": "2025-06-04T08:38:48.119773Z",
     "shell.execute_reply.started": "2025-06-04T08:38:47.871407Z"
    }
   },
   "outputs": [],
   "source": [
    "fields = defaultdict(list)\n",
    "with butler.query() as base_query:\n",
    "    processed_visit_query = base_query.join_dataset_search(\"raw\")\n",
    "    for row in processed_visit_query.general([\"band\",\"detector\"], \"visit.target_name\"):\n",
    "        fields[row[\"visit.target_name\"]].append(row[\"band\"])"
   ]
  },
  {
   "cell_type": "code",
   "execution_count": 14,
   "id": "286358f7-a3f4-4820-b07f-ecee0b6118cf",
   "metadata": {
    "execution": {
     "iopub.execute_input": "2025-06-04T08:41:59.180761Z",
     "iopub.status.busy": "2025-06-04T08:41:59.180425Z",
     "iopub.status.idle": "2025-06-04T08:41:59.199821Z",
     "shell.execute_reply": "2025-06-04T08:41:59.199506Z",
     "shell.execute_reply.started": "2025-06-04T08:41:59.180744Z"
    }
   },
   "outputs": [],
   "source": [
    "bandCounts = {'u':0, 'g':0, 'r':0, 'i':0, 'z':0, 'y':0}\n",
    "rawCounts = {}\n",
    "for field in fields.keys():\n",
    "    rawCounts[field] = copy.deepcopy(bandCounts)\n",
    "    \n",
    "for field in fields.keys():\n",
    "    for band in bandCounts.keys():\n",
    "        rawCounts[field][band] += np.sum(np.array(fields[field]) == band)\n",
    "        if field == 'slew_icrs':\n",
    "            rawCounts['ECDFS'][band] += np.sum(np.array(fields[field]) == band)"
   ]
  },
  {
   "cell_type": "code",
   "execution_count": 16,
   "id": "1d7998bb-b928-491d-aa02-13de64c0dfc7",
   "metadata": {
    "execution": {
     "iopub.execute_input": "2025-06-04T08:42:00.380125Z",
     "iopub.status.busy": "2025-06-04T08:42:00.379770Z",
     "iopub.status.idle": "2025-06-04T08:42:00.386712Z",
     "shell.execute_reply": "2025-06-04T08:42:00.386361Z",
     "shell.execute_reply.started": "2025-06-04T08:42:00.380106Z"
    }
   },
   "outputs": [],
   "source": [
    "fieldOrder = ['47_Tuc', 'ECDFS', 'EDFS_comcam', 'Fornax_dSph', 'Rubin_SV_095_-25', 'Rubin_SV_38_7', 'Seagull']\n",
    "bandTotalCounts = {'u':0, 'g':0, 'r':0, 'i':0, 'z':0, 'y':0}\n",
    "with open(\"../tables/dp1_raw_counts.tex\", \"w\") as f:\n",
    "    f.write(r\"\"\"%%%%% This table is auto generated from data, DO NOT EDIT\n",
    "\\setlength{\\tabcolsep}{6pt}  % default is 6pt\n",
    "\\begin{deluxetable}{lccccccc}\n",
    "\\tablecaption{Number of \\texttt{rawImages} per field and band.\n",
    "\\label{tab:rawbreakdown} }\n",
    "\n",
    "\\tablehead{\n",
    "  \\colhead{\\textbf{Field Code}} & \\multicolumn{6}{c}{\\textbf{Band}} & \\textbf{Total}\\\\\n",
    "  \\cline{2-7}\n",
    "   &u&g&r&i&z&y& \n",
    "}\n",
    "\\startdata\n",
    "\"\"\")\n",
    "    for fieldName in fieldOrder:\n",
    "        if fieldName == 'slew_icrs':\n",
    "            continue\n",
    "        latexName = fieldName.replace('_', '\\\\_')\n",
    "        f.write(f'{latexName}')\n",
    "        total = 0\n",
    "        for band in ['u','g','r','i','z','y']:\n",
    "            total += rawCounts[fieldName][band]\n",
    "            bandTotalCounts[band] += rawCounts[fieldName][band]\n",
    "            f.write(f'&{rawCounts[fieldName][band]}')\n",
    "        f.write(f'&{total}\\\\\\\\\\n')\n",
    "    f.write('\\\\cline{1-8}\\n')\n",
    "    f.write('Total')\n",
    "    bandTotal = 0\n",
    "    for band in ['u','g','r','i','z','y']:\n",
    "        bandTotal += bandTotalCounts[band]\n",
    "        f.write(f'&{bandTotalCounts[band]}')\n",
    "    f.write(f'&{bandTotal}\\\\\\\\\\n')\n",
    "    f.write(r\"\"\"\\enddata\n",
    "\\end{deluxetable}\n",
    "\"\"\")\n",
    "f.close()"
   ]
  },
  {
   "cell_type": "code",
   "execution_count": 3,
   "id": "5ee2af7b-1285-4e74-aca0-994909dded00",
   "metadata": {
    "execution": {
     "iopub.execute_input": "2025-06-05T10:59:48.440653Z",
     "iopub.status.busy": "2025-06-05T10:59:48.439677Z",
     "iopub.status.idle": "2025-06-05T10:59:48.748669Z",
     "shell.execute_reply": "2025-06-05T10:59:48.748029Z",
     "shell.execute_reply.started": "2025-06-05T10:59:48.440633Z"
    }
   },
   "outputs": [
    {
     "ename": "DimensionNameError",
     "evalue": "\"No such dimension '*', available dimensions: {band, healpix1, healpix2, healpix3, healpix4, healpix5, healpix6, healpix7, healpix8, healpix9, healpix10, healpix11, healpix12, healpix13, healpix14, healpix15, healpix16, healpix17, htm1, htm2, htm3, htm4, htm5, htm6, htm7, htm8, htm9, htm10, htm11, htm12, htm13, htm14, htm15, htm16, htm17, htm18, htm19, htm20, htm21, htm22, htm23, htm24, instrument, skymap, day_obs, detector, group, physical_filter, subfilter, tract, visit_system, exposure, patch, visit, visit_definition, visit_detector_region, visit_system_membership}\"",
     "output_type": "error",
     "traceback": [
      "\u001B[0;31m---------------------------------------------------------------------------\u001B[0m",
      "\u001B[0;31mKeyError\u001B[0m                                  Traceback (most recent call last)",
      "File \u001B[0;32m/opt/lsst/software/stack/conda/envs/lsst-scipipe-10.0.0/share/eups/Linux64/daf_butler/gba999a1353+5b4b832828/python/lsst/daf/butler/registry/sql_registry.py:2293\u001B[0m, in \u001B[0;36mSqlRegistry.queryDimensionRecords\u001B[0;34m(self, element, dataId, datasets, collections, where, bind, check, **kwargs)\u001B[0m\n\u001B[1;32m   2292\u001B[0m \u001B[38;5;28;01mtry\u001B[39;00m:\n\u001B[0;32m-> 2293\u001B[0m     element \u001B[38;5;241m=\u001B[39m \u001B[38;5;28;43mself\u001B[39;49m\u001B[38;5;241;43m.\u001B[39;49m\u001B[43mdimensions\u001B[49m\u001B[43m[\u001B[49m\u001B[43melement\u001B[49m\u001B[43m]\u001B[49m\n\u001B[1;32m   2294\u001B[0m \u001B[38;5;28;01mexcept\u001B[39;00m \u001B[38;5;167;01mKeyError\u001B[39;00m \u001B[38;5;28;01mas\u001B[39;00m e:\n",
      "File \u001B[0;32m/opt/lsst/software/stack/conda/envs/lsst-scipipe-10.0.0/share/eups/Linux64/daf_butler/gba999a1353+5b4b832828/python/lsst/daf/butler/dimensions/_universe.py:248\u001B[0m, in \u001B[0;36mDimensionUniverse.__getitem__\u001B[0;34m(self, name)\u001B[0m\n\u001B[1;32m    247\u001B[0m \u001B[38;5;28;01mdef\u001B[39;00m\u001B[38;5;250m \u001B[39m\u001B[38;5;21m__getitem__\u001B[39m(\u001B[38;5;28mself\u001B[39m, name: \u001B[38;5;28mstr\u001B[39m) \u001B[38;5;241m-\u001B[39m\u001B[38;5;241m>\u001B[39m DimensionElement:\n\u001B[0;32m--> 248\u001B[0m     \u001B[38;5;28;01mreturn\u001B[39;00m \u001B[38;5;28;43mself\u001B[39;49m\u001B[38;5;241;43m.\u001B[39;49m\u001B[43m_elements\u001B[49m\u001B[43m[\u001B[49m\u001B[43mname\u001B[49m\u001B[43m]\u001B[49m\n",
      "File \u001B[0;32m/opt/lsst/software/stack/conda/envs/lsst-scipipe-10.0.0/share/eups/Linux64/daf_butler/gba999a1353+5b4b832828/python/lsst/daf/butler/_named.py:379\u001B[0m, in \u001B[0;36mNameMappingSetView.__getitem__\u001B[0;34m(self, key)\u001B[0m\n\u001B[1;32m    378\u001B[0m \u001B[38;5;28;01mif\u001B[39;00m \u001B[38;5;28misinstance\u001B[39m(key, \u001B[38;5;28mstr\u001B[39m):\n\u001B[0;32m--> 379\u001B[0m     \u001B[38;5;28;01mreturn\u001B[39;00m \u001B[38;5;28;43mself\u001B[39;49m\u001B[38;5;241;43m.\u001B[39;49m\u001B[43m_mapping\u001B[49m\u001B[43m[\u001B[49m\u001B[43mkey\u001B[49m\u001B[43m]\u001B[49m\n\u001B[1;32m    380\u001B[0m \u001B[38;5;28;01melse\u001B[39;00m:\n",
      "\u001B[0;31mKeyError\u001B[0m: '*'",
      "\nThe above exception was the direct cause of the following exception:\n",
      "\u001B[0;31mDimensionNameError\u001B[0m                        Traceback (most recent call last)",
      "Cell \u001B[0;32mIn[3], line 1\u001B[0m\n\u001B[0;32m----> 1\u001B[0m \u001B[43mregistry\u001B[49m\u001B[38;5;241;43m.\u001B[39;49m\u001B[43mqueryDimensionRecords\u001B[49m\u001B[43m(\u001B[49m\u001B[38;5;124;43m'\u001B[39;49m\u001B[38;5;124;43m*\u001B[39;49m\u001B[38;5;124;43m'\u001B[39;49m\u001B[43m)\u001B[49m\n",
      "File \u001B[0;32m/opt/lsst/software/stack/conda/envs/lsst-scipipe-10.0.0/share/eups/Linux64/daf_butler/gba999a1353+5b4b832828/python/lsst/daf/butler/_registry_shim.py:365\u001B[0m, in \u001B[0;36mRegistryShim.queryDimensionRecords\u001B[0;34m(self, element, dataId, datasets, collections, where, bind, check, **kwargs)\u001B[0m\n\u001B[1;32m    352\u001B[0m \u001B[38;5;28;01mdef\u001B[39;00m\u001B[38;5;250m \u001B[39m\u001B[38;5;21mqueryDimensionRecords\u001B[39m(\n\u001B[1;32m    353\u001B[0m     \u001B[38;5;28mself\u001B[39m,\n\u001B[1;32m    354\u001B[0m     element: DimensionElement \u001B[38;5;241m|\u001B[39m \u001B[38;5;28mstr\u001B[39m,\n\u001B[0;32m   (...)\u001B[0m\n\u001B[1;32m    363\u001B[0m ) \u001B[38;5;241m-\u001B[39m\u001B[38;5;241m>\u001B[39m DimensionRecordQueryResults:\n\u001B[1;32m    364\u001B[0m     \u001B[38;5;66;03m# Docstring inherited from a base class.\u001B[39;00m\n\u001B[0;32m--> 365\u001B[0m     \u001B[38;5;28;01mreturn\u001B[39;00m \u001B[38;5;28;43mself\u001B[39;49m\u001B[38;5;241;43m.\u001B[39;49m\u001B[43m_registry\u001B[49m\u001B[38;5;241;43m.\u001B[39;49m\u001B[43mqueryDimensionRecords\u001B[49m\u001B[43m(\u001B[49m\n\u001B[1;32m    366\u001B[0m \u001B[43m        \u001B[49m\u001B[43melement\u001B[49m\u001B[43m,\u001B[49m\n\u001B[1;32m    367\u001B[0m \u001B[43m        \u001B[49m\u001B[43mdataId\u001B[49m\u001B[38;5;241;43m=\u001B[39;49m\u001B[43mdataId\u001B[49m\u001B[43m,\u001B[49m\n\u001B[1;32m    368\u001B[0m \u001B[43m        \u001B[49m\u001B[43mdatasets\u001B[49m\u001B[38;5;241;43m=\u001B[39;49m\u001B[43mdatasets\u001B[49m\u001B[43m,\u001B[49m\n\u001B[1;32m    369\u001B[0m \u001B[43m        \u001B[49m\u001B[43mcollections\u001B[49m\u001B[38;5;241;43m=\u001B[39;49m\u001B[43mcollections\u001B[49m\u001B[43m,\u001B[49m\n\u001B[1;32m    370\u001B[0m \u001B[43m        \u001B[49m\u001B[43mwhere\u001B[49m\u001B[38;5;241;43m=\u001B[39;49m\u001B[43mwhere\u001B[49m\u001B[43m,\u001B[49m\n\u001B[1;32m    371\u001B[0m \u001B[43m        \u001B[49m\u001B[43mbind\u001B[49m\u001B[38;5;241;43m=\u001B[39;49m\u001B[43mbind\u001B[49m\u001B[43m,\u001B[49m\n\u001B[1;32m    372\u001B[0m \u001B[43m        \u001B[49m\u001B[43mcheck\u001B[49m\u001B[38;5;241;43m=\u001B[39;49m\u001B[43mcheck\u001B[49m\u001B[43m,\u001B[49m\n\u001B[1;32m    373\u001B[0m \u001B[43m        \u001B[49m\u001B[38;5;241;43m*\u001B[39;49m\u001B[38;5;241;43m*\u001B[39;49m\u001B[43mkwargs\u001B[49m\u001B[43m,\u001B[49m\n\u001B[1;32m    374\u001B[0m \u001B[43m    \u001B[49m\u001B[43m)\u001B[49m\n",
      "File \u001B[0;32m/opt/lsst/software/stack/conda/envs/lsst-scipipe-10.0.0/share/eups/Linux64/daf_butler/gba999a1353+5b4b832828/python/lsst/daf/butler/registry/sql_registry.py:2295\u001B[0m, in \u001B[0;36mSqlRegistry.queryDimensionRecords\u001B[0;34m(self, element, dataId, datasets, collections, where, bind, check, **kwargs)\u001B[0m\n\u001B[1;32m   2293\u001B[0m         element \u001B[38;5;241m=\u001B[39m \u001B[38;5;28mself\u001B[39m\u001B[38;5;241m.\u001B[39mdimensions[element]\n\u001B[1;32m   2294\u001B[0m     \u001B[38;5;28;01mexcept\u001B[39;00m \u001B[38;5;167;01mKeyError\u001B[39;00m \u001B[38;5;28;01mas\u001B[39;00m e:\n\u001B[0;32m-> 2295\u001B[0m         \u001B[38;5;28;01mraise\u001B[39;00m DimensionNameError(\n\u001B[1;32m   2296\u001B[0m             \u001B[38;5;124mf\u001B[39m\u001B[38;5;124m\"\u001B[39m\u001B[38;5;124mNo such dimension \u001B[39m\u001B[38;5;124m'\u001B[39m\u001B[38;5;132;01m{\u001B[39;00melement\u001B[38;5;132;01m}\u001B[39;00m\u001B[38;5;124m'\u001B[39m\u001B[38;5;124m, available dimensions: \u001B[39m\u001B[38;5;124m\"\u001B[39m \u001B[38;5;241m+\u001B[39m \u001B[38;5;28mstr\u001B[39m(\u001B[38;5;28mself\u001B[39m\u001B[38;5;241m.\u001B[39mdimensions\u001B[38;5;241m.\u001B[39melements)\n\u001B[1;32m   2297\u001B[0m         ) \u001B[38;5;28;01mfrom\u001B[39;00m\u001B[38;5;250m \u001B[39m\u001B[38;5;21;01me\u001B[39;00m\n\u001B[1;32m   2298\u001B[0m doomed_by: \u001B[38;5;28mlist\u001B[39m[\u001B[38;5;28mstr\u001B[39m] \u001B[38;5;241m=\u001B[39m []\n\u001B[1;32m   2299\u001B[0m data_id \u001B[38;5;241m=\u001B[39m \u001B[38;5;28mself\u001B[39m\u001B[38;5;241m.\u001B[39m_standardize_query_data_id_args(dataId, doomed_by\u001B[38;5;241m=\u001B[39mdoomed_by, \u001B[38;5;241m*\u001B[39m\u001B[38;5;241m*\u001B[39mkwargs)\n",
      "\u001B[0;31mDimensionNameError\u001B[0m: \"No such dimension '*', available dimensions: {band, healpix1, healpix2, healpix3, healpix4, healpix5, healpix6, healpix7, healpix8, healpix9, healpix10, healpix11, healpix12, healpix13, healpix14, healpix15, healpix16, healpix17, htm1, htm2, htm3, htm4, htm5, htm6, htm7, htm8, htm9, htm10, htm11, htm12, htm13, htm14, htm15, htm16, htm17, htm18, htm19, htm20, htm21, htm22, htm23, htm24, instrument, skymap, day_obs, detector, group, physical_filter, subfilter, tract, visit_system, exposure, patch, visit, visit_definition, visit_detector_region, visit_system_membership}\""
     ]
    }
   ],
   "source": [
    "registry.queryDimensionRecords('*')"
   ]
  },
  {
   "cell_type": "code",
   "execution_count": null,
   "id": "2e88ace0-8a1b-4034-8ad3-b375cb8a0837",
   "metadata": {},
   "outputs": [],
   "source": []
  }
 ],
 "metadata": {
  "kernelspec": {
   "display_name": "LSST",
   "language": "python",
   "name": "lsst"
  },
  "language_info": {
   "codemirror_mode": {
    "name": "ipython",
    "version": 3
   },
   "file_extension": ".py",
   "mimetype": "text/x-python",
   "name": "python",
   "nbconvert_exporter": "python",
   "pygments_lexer": "ipython3",
   "version": "3.12.10"
  }
 },
 "nbformat": 4,
 "nbformat_minor": 5
}
