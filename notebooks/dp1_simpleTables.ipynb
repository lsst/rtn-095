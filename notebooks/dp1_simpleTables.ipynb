{
 "cells": [
  {
   "cell_type": "markdown",
   "id": "062ea44c-9f60-4559-b9b0-c014d64e86f2",
   "metadata": {},
   "source": [
    "<img align=\"left\" src = https://project.lsst.org/sites/default/files/Rubin-O-Logo_0.png width=250 style=\"padding: 10px\"\n",
    "alt=\"Rubin Observatory logo, a graphical representation of turning stars into data.\"> <br><br>\n",
    "**Description:** Generate simple tables for the _Rubin Observatory DP1_ paper. <br>\n",
    "**Authors:** James Mullaney <br>\n",
    "**Last verified to run:** 2025-05-14 <br>\n",
    "**LSST Science Pipelines version:** v29.0.0<br>\n",
    "**Container size:** medium <br>"
   ]
  },
  {
   "cell_type": "markdown",
   "id": "2ba91708-7d3a-4033-9d0f-1a15903a0cbe",
   "metadata": {},
   "source": [
    "# Simple Table Generation\n",
    "Some tables in the DP1 paper draw in a lot of data and necessitate their own notebooks. However, there are a number of relatively \"simple\" tables that can all be generated in a single notebook."
   ]
  },
  {
   "cell_type": "markdown",
   "id": "88732af7-c524-4d16-b956-80fc0584220f",
   "metadata": {},
   "source": [
    "## Setup"
   ]
  },
  {
   "cell_type": "code",
   "execution_count": 1,
   "id": "73adc1a2-8d06-4a8e-82a3-848b5918280c",
   "metadata": {
    "execution": {
     "iopub.execute_input": "2025-07-01T14:35:16.012420Z",
     "iopub.status.busy": "2025-07-01T14:35:16.012294Z",
     "iopub.status.idle": "2025-07-01T14:35:17.011169Z",
     "shell.execute_reply": "2025-07-01T14:35:17.010690Z",
     "shell.execute_reply.started": "2025-07-01T14:35:16.012405Z"
    }
   },
   "outputs": [],
   "source": [
    "from lsst.daf.butler import Butler\n",
    "from collections import defaultdict\n",
    "import numpy as np\n",
    "import copy"
   ]
  },
  {
   "cell_type": "markdown",
   "id": "f1f21b2e-0506-482d-8b8c-b99e125dfca8",
   "metadata": {},
   "source": [
    "## DP1 Butler"
   ]
  },
  {
   "cell_type": "code",
   "execution_count": 2,
   "id": "758d8c2d-0138-4c89-84bc-7d25c2d0cc4a",
   "metadata": {
    "execution": {
     "iopub.execute_input": "2025-07-01T14:35:17.833374Z",
     "iopub.status.busy": "2025-07-01T14:35:17.833023Z",
     "iopub.status.idle": "2025-07-01T14:35:18.602281Z",
     "shell.execute_reply": "2025-07-01T14:35:18.601807Z",
     "shell.execute_reply.started": "2025-07-01T14:35:17.833355Z"
    }
   },
   "outputs": [],
   "source": [
    "instrument = 'LSSTComCam'\n",
    "collections = ['LSSTComCam/DP1/defaults', \n",
    "               'LSSTComCam/runs/DRP/DP1/v29_0_0/DM-50260',\n",
    "               'skymaps', ]\n",
    "skymap = 'lsst_cells_v1'\n",
    "butler = Butler(\"/repo/dp1\",\n",
    "                instrument=instrument, \n",
    "                collections=collections, \n",
    "                skymap=skymap)\n",
    "registry = butler.registry\n",
    "skymap = butler.get('skyMap', skymap=skymap)"
   ]
  },
  {
   "cell_type": "markdown",
   "id": "46e98174-f2aa-44ca-9e66-7be31a090ffe",
   "metadata": {},
   "source": [
    "## Tables"
   ]
  },
  {
   "cell_type": "markdown",
   "id": "66d88995-d73b-4916-b600-cb29a0614374",
   "metadata": {},
   "source": [
    "### Available dimensions"
   ]
  },
  {
   "cell_type": "code",
   "execution_count": 3,
   "id": "f1668186-3246-42bb-9772-3fbfe96fc2b4",
   "metadata": {
    "execution": {
     "iopub.execute_input": "2025-07-01T14:35:19.009142Z",
     "iopub.status.busy": "2025-07-01T14:35:19.008462Z",
     "iopub.status.idle": "2025-07-01T14:35:19.170696Z",
     "shell.execute_reply": "2025-07-01T14:35:19.170208Z",
     "shell.execute_reply.started": "2025-07-01T14:35:19.009123Z"
    }
   },
   "outputs": [],
   "source": [
    "dimensionDescriptions = {\n",
    "    'day_obs':'A day and night of observations that rolls over during daylight hours.',\n",
    "    'visit':\"A sequence of observations processed together; synonymous with ``exposure'' in DP1.\", \n",
    "    'exposure':'A single exposure of all nine ComCam detectors.',\n",
    "    'instrument':'The instrument name.',\n",
    "    'detector':'A ComCam detector.',\n",
    "    'skymap':'A set of tracts and patches that subdivide the sky into rectangular regions with simple projections and intentional overlaps.',\n",
    "    'tract':'A large rectangular region of the sky.',\n",
    "    'patch':'A rectangular region within a tract.',\n",
    "    'physical_filter':'An astronomical filter',\n",
    "    'band':'An astronomicial wave band.',\n",
    "}\n",
    "\n",
    "detectors = [record.id for record in list(registry.queryDimensionRecords('detector'))]\n",
    "skymap = list(registry.queryDimensionRecords('skymap'))[0].name\n",
    "patches = set([record.id for record in list(registry.queryDimensionRecords('patch', datasets='template_coadd'))])\n",
    "dimensionValues = {\n",
    "    'day_obs':'YYYYMMDD',\n",
    "    'visit':'YYYYMMDD\\\\#\\\\#\\\\#\\\\#\\\\#',\n",
    "    'exposure':'YYYYMMDD\\\\#\\\\#\\\\#\\\\#\\\\#',\n",
    "    'instrument':'LSSTComCam',\n",
    "    'detector':f'{min(detectors)} - {max(detectors)}',\n",
    "    'skymap':f'\\\\texttt{{{skymap.replace('_','\\\\_')}}}',\n",
    "    'tract':'See Table \\\\ref{tab:dp1_tracts}',\n",
    "    'patch':f'{min(patches)} - {max(patches)}',\n",
    "    'physical_filter': 'u_02, g_01, i_06, r_03, z_03, y_04',\n",
    "    'band':'u, g, r, i, z, y',\n",
    "}"
   ]
  },
  {
   "cell_type": "code",
   "execution_count": 13,
   "id": "25213647-b2b0-43de-8d09-4243f14d4203",
   "metadata": {
    "execution": {
     "iopub.execute_input": "2025-07-01T14:37:43.821860Z",
     "iopub.status.busy": "2025-07-01T14:37:43.821520Z",
     "iopub.status.idle": "2025-07-01T14:37:43.827360Z",
     "shell.execute_reply": "2025-07-01T14:37:43.826964Z",
     "shell.execute_reply.started": "2025-07-01T14:37:43.821842Z"
    }
   },
   "outputs": [],
   "source": [
    "with open(\"../tables/dp1_dimension_summary.tex\", \"w\") as f:\n",
    "    f.write(r\"\"\"%%%%% This table is auto generated from data, DO NOT EDIT\n",
    "\\begin{deluxetable}{lp{3.5cm}p{8cm}}\n",
    "\\caption{Descriptions of and valid values for the key data dimensions in DP1. YYYYMMDD signifies date and \\# signifies a single 0-9 digit.\n",
    "\\label{tab:dp1_dimensions} }\n",
    "\\tablehead{\n",
    "  \\colhead{\\textbf{Dimension}} & \\colhead{\\textbf{Format/Valid values}} & \\colhead{\\textbf{Description}}\\\\ \n",
    "}\n",
    "\\startdata\n",
    "\"\"\")\n",
    "    for dimension in dimensionValues:\n",
    "        latexName = dimension.replace('_', '\\\\_')\n",
    "        f.write(f'\\\\texttt{{{latexName}}}&{dimensionValues[dimension]}&{dimensionDescriptions[dimension]}\\\\\\\\\\n')\n",
    "    f.write(r\"\"\"\\enddata\n",
    "\\end{deluxetable}\n",
    "\"\"\")\n",
    "f.close()"
   ]
  },
  {
   "cell_type": "markdown",
   "id": "54e52d59-c167-43ea-9fd7-8a13d82409c2",
   "metadata": {},
   "source": [
    "### Tracts covering each field"
   ]
  },
  {
   "cell_type": "code",
   "execution_count": 15,
   "id": "7ec12532-3558-4d12-9008-d0db1b4a72b5",
   "metadata": {
    "execution": {
     "iopub.execute_input": "2025-07-01T15:10:17.156311Z",
     "iopub.status.busy": "2025-07-01T15:10:17.155947Z",
     "iopub.status.idle": "2025-07-01T15:10:17.331063Z",
     "shell.execute_reply": "2025-07-01T15:10:17.330512Z",
     "shell.execute_reply.started": "2025-07-01T15:10:17.156292Z"
    }
   },
   "outputs": [],
   "source": [
    "fields = defaultdict(set)\n",
    "with butler.query() as base_query:\n",
    "    processed_visit_query = base_query.join_dataset_search(\"visit_summary\").where('visit > 0')\n",
    "    for row in processed_visit_query.general([\"tract\", \"visit\"], \"visit.target_name\"):\n",
    "        fields[row[\"visit.target_name\"]].add(row[\"tract\"])"
   ]
  },
  {
   "cell_type": "code",
   "execution_count": 16,
   "id": "d92c9ef4-8022-4a23-bb52-198e37fe5da8",
   "metadata": {
    "execution": {
     "iopub.execute_input": "2025-07-01T15:10:19.237196Z",
     "iopub.status.busy": "2025-07-01T15:10:19.236846Z",
     "iopub.status.idle": "2025-07-01T15:10:19.246574Z",
     "shell.execute_reply": "2025-07-01T15:10:19.245803Z",
     "shell.execute_reply.started": "2025-07-01T15:10:19.237176Z"
    }
   },
   "outputs": [],
   "source": [
    "with open(\"../tables/dp1_field_tracts.tex\", \"w\") as f:\n",
    "    f.write(r\"\"\"%%%%% This table is auto generated from data, DO NOT EDIT\n",
    "\\begin{deluxetable}{lp4.5cm}}\n",
    "\\caption{Tract coverage of each DP1 field. \n",
    "\\label{tab:dp1_tracts}}\n",
    "\\tablehead{\n",
    "  \\colhead{\\textbf{Field Code}} & \\colhead{\\textbf{Tract ID}} \n",
    "}\n",
    "\\startdata\n",
    "\"\"\")\n",
    "    for field in fields:\n",
    "        if field == 'slew_icrs':\n",
    "            continue\n",
    "        latexName = field.replace('_', '\\\\_')\n",
    "        tracts = f'{np.array2string(np.sort(list(fields[field])), separator=', ')}'\n",
    "        f.write(f'{latexName}&{tracts.strip('[]')}\\\\\\\\\\n')\n",
    "    f.write(r\"\"\"\\enddata\n",
    "\\end{deluxetable}\n",
    "\"\"\")\n",
    "f.close()"
   ]
  },
  {
   "cell_type": "markdown",
   "id": "606c55cb-6ed9-48af-b90d-5e64067c1af3",
   "metadata": {},
   "source": [
    "### Number of raw images per field and band"
   ]
  },
  {
   "cell_type": "code",
   "execution_count": 7,
   "id": "d10bdaf7-ce71-458c-a65a-6bed86eca439",
   "metadata": {
    "execution": {
     "iopub.execute_input": "2025-07-01T14:35:22.047939Z",
     "iopub.status.busy": "2025-07-01T14:35:22.047623Z",
     "iopub.status.idle": "2025-07-01T14:35:22.281420Z",
     "shell.execute_reply": "2025-07-01T14:35:22.280571Z",
     "shell.execute_reply.started": "2025-07-01T14:35:22.047922Z"
    }
   },
   "outputs": [],
   "source": [
    "fields = defaultdict(list)\n",
    "with butler.query() as base_query:\n",
    "    processed_visit_query = base_query.join_dataset_search(\"raw\")\n",
    "    for row in processed_visit_query.general([\"band\",\"detector\"], \"visit.target_name\"):\n",
    "        fields[row[\"visit.target_name\"]].append(row[\"band\"])"
   ]
  },
  {
   "cell_type": "code",
   "execution_count": 8,
   "id": "286358f7-a3f4-4820-b07f-ecee0b6118cf",
   "metadata": {
    "execution": {
     "iopub.execute_input": "2025-07-01T14:35:22.601379Z",
     "iopub.status.busy": "2025-07-01T14:35:22.600956Z",
     "iopub.status.idle": "2025-07-01T14:35:22.624059Z",
     "shell.execute_reply": "2025-07-01T14:35:22.623645Z",
     "shell.execute_reply.started": "2025-07-01T14:35:22.601357Z"
    }
   },
   "outputs": [],
   "source": [
    "bandCounts = {'u':0, 'g':0, 'r':0, 'i':0, 'z':0, 'y':0}\n",
    "rawCounts = {}\n",
    "for field in fields.keys():\n",
    "    rawCounts[field] = copy.deepcopy(bandCounts)\n",
    "    \n",
    "for field in fields.keys():\n",
    "    for band in bandCounts.keys():\n",
    "        rawCounts[field][band] += np.sum(np.array(fields[field]) == band)\n",
    "        if field == 'slew_icrs':\n",
    "            rawCounts['ECDFS'][band] += np.sum(np.array(fields[field]) == band)"
   ]
  },
  {
   "cell_type": "code",
   "execution_count": 14,
   "id": "1d7998bb-b928-491d-aa02-13de64c0dfc7",
   "metadata": {
    "execution": {
     "iopub.execute_input": "2025-07-01T14:43:17.066781Z",
     "iopub.status.busy": "2025-07-01T14:43:17.066422Z",
     "iopub.status.idle": "2025-07-01T14:43:17.109870Z",
     "shell.execute_reply": "2025-07-01T14:43:17.108960Z",
     "shell.execute_reply.started": "2025-07-01T14:43:17.066762Z"
    }
   },
   "outputs": [],
   "source": [
    "fieldOrder = ['47_Tuc', 'ECDFS', 'EDFS_comcam', 'Fornax_dSph', 'Rubin_SV_095_-25', 'Rubin_SV_38_7', 'Seagull']\n",
    "bandTotalCounts = {'u':0, 'g':0, 'r':0, 'i':0, 'z':0, 'y':0}\n",
    "with open(\"../tables/rawbreakdown.tex\", \"w\") as f:\n",
    "    f.write(r\"\"\"%%%%% This table is auto generated from data, DO NOT EDIT\n",
    "\\setlength{\\tabcolsep}{6pt}  % default is 6pt\n",
    "\\begin{deluxetable}{lccccccc}\n",
    "\\tablecaption{Number of \\texttt{rawImages} per field and band.\n",
    "\\label{tab:rawbreakdown} }\n",
    "\n",
    "\\tablehead{\n",
    "  \\colhead{\\textbf{Field Code}} & \\multicolumn{6}{c}{\\textbf{Band}} & \\textbf{Total}\\\\\n",
    "  \\cline{2-7}\n",
    "   &u&g&r&i&z&y& \n",
    "}\n",
    "\\startdata\n",
    "\"\"\")\n",
    "    for fieldName in fieldOrder:\n",
    "        if fieldName == 'slew_icrs':\n",
    "            continue\n",
    "        latexName = fieldName.replace('_', '\\\\_')\n",
    "        f.write(f'{latexName}')\n",
    "        total = 0\n",
    "        for band in ['u','g','r','i','z','y']:\n",
    "            total += rawCounts[fieldName][band]\n",
    "            bandTotalCounts[band] += rawCounts[fieldName][band]\n",
    "            f.write(f'&{rawCounts[fieldName][band]}')\n",
    "        f.write(f'&{total}\\\\\\\\\\n')\n",
    "    f.write('\\\\cline{1-8}\\n')\n",
    "    f.write('Total')\n",
    "    bandTotal = 0\n",
    "    for band in ['u','g','r','i','z','y']:\n",
    "        bandTotal += bandTotalCounts[band]\n",
    "        f.write(f'&{bandTotalCounts[band]}')\n",
    "    f.write(f'&{bandTotal}\\\\\\\\\\n')\n",
    "    f.write(r\"\"\"\\enddata\n",
    "\\end{deluxetable}\n",
    "\"\"\")\n",
    "f.close()"
   ]
  },
  {
   "cell_type": "markdown",
   "id": "c326f4af-fdc8-4e13-b174-9ad15adb958e",
   "metadata": {},
   "source": [
    "## Number and primary dimensions of each type of dataset"
   ]
  },
  {
   "cell_type": "code",
   "execution_count": 10,
   "id": "a7e26bbd-eb6f-4b27-b4ec-3537cba0e65f",
   "metadata": {
    "execution": {
     "iopub.execute_input": "2025-07-01T14:35:24.095776Z",
     "iopub.status.busy": "2025-07-01T14:35:24.095448Z",
     "iopub.status.idle": "2025-07-01T14:35:24.098428Z",
     "shell.execute_reply": "2025-07-01T14:35:24.098040Z",
     "shell.execute_reply.started": "2025-07-01T14:35:24.095758Z"
    }
   },
   "outputs": [],
   "source": [
    "required = registry.getDatasetType('visit_detector_table').dimensions.required"
   ]
  },
  {
   "cell_type": "code",
   "execution_count": 11,
   "id": "b9ab5cff-0623-4853-9f92-1d96b81aa8b6",
   "metadata": {
    "execution": {
     "iopub.execute_input": "2025-07-01T14:35:24.519013Z",
     "iopub.status.busy": "2025-07-01T14:35:24.518677Z",
     "iopub.status.idle": "2025-07-01T14:35:24.522641Z",
     "shell.execute_reply": "2025-07-01T14:35:24.522147Z",
     "shell.execute_reply.started": "2025-07-01T14:35:24.518995Z"
    }
   },
   "outputs": [],
   "source": [
    "datasetTypes = {'raw':'raw',\n",
    "                'visit_image':'visit_image',\n",
    "                'deep_coadd':'deep_coadd',\n",
    "                'template_coadd':'template_coadd',\n",
    "                'difference_image':'difference_image',\n",
    "                'Source':'source',\n",
    "                'Object':'object',\n",
    "                'ForcedSource':'object_forced_source',\n",
    "                'DiaSource':'dia_source',\n",
    "                'DiaObject':'dia_object',\n",
    "                'ForcedSourceOnDiaObject':'dia_object_forced_source',\n",
    "                'CCDVisit':'visit_detector_table',\n",
    "                'SSObject':'ss_object',\n",
    "                'SSSource':'ss_source',\n",
    "                'Visit':'visit_table',\n",
    "               }"
   ]
  },
  {
   "cell_type": "code",
   "execution_count": 12,
   "id": "95abc921-58eb-48e2-9c43-de3396943bbd",
   "metadata": {
    "execution": {
     "iopub.execute_input": "2025-07-01T14:35:25.136557Z",
     "iopub.status.busy": "2025-07-01T14:35:25.136217Z",
     "iopub.status.idle": "2025-07-01T14:35:27.617679Z",
     "shell.execute_reply": "2025-07-01T14:35:27.617003Z",
     "shell.execute_reply.started": "2025-07-01T14:35:25.136538Z"
    }
   },
   "outputs": [],
   "source": [
    "with open(\"../tables/dp1_butler_datasets.tex\", \"w\") as f:\n",
    "    f.write(r\"\"\"%%%%% This table is auto generated from data, DO NOT EDIT\n",
    "\\setlength{\\tabcolsep}{6pt}  % default is 6pt\n",
    "\\begin{deluxetable}{llcc}\n",
    "\\tablecaption{The name and number of each type of data product in the Butler and the dimensions required to identify a specific dataset.\n",
    "\\label{tab:butlerdatasets} }\n",
    "\n",
    "\\tablehead{\n",
    "  \\textbf{Data Product} & \n",
    "  \\textbf{Name in Butler} & \n",
    "  \\textbf{Required Dimensions} & \n",
    "  \\textbf{Number in DP1}\\\n",
    "}\n",
    "\\startdata\n",
    "\"\"\")\n",
    "\n",
    "    for datasetType in datasetTypes:\n",
    "        reqDims = registry.getDatasetType(datasetTypes[datasetType]).dimensions.required\n",
    "        reqDimsString = f'{reqDims}'.strip('{}')\n",
    "        if len(reqDims) == 0:\n",
    "            reqDimsString = '--'\n",
    "        nDatasets = len(list(registry.queryDatasets(datasetTypes[datasetType])))\n",
    "        latexName = datasetType.replace('_', '\\\\_')\n",
    "        latexButlerName = datasetTypes[datasetType].replace('_', '\\\\_')\n",
    "        f.write(f'\\\\texttt{{{latexName}}}&\\\\texttt{{{latexButlerName}}}&{reqDimsString}&{nDatasets}\\\\\\\\\\n')\n",
    "    f.write(r\"\"\"\\enddata\n",
    "\\end{deluxetable}\n",
    "\"\"\")\n",
    "f.close()"
   ]
  },
  {
   "cell_type": "code",
   "execution_count": null,
   "id": "680e0bda-1010-442b-8ef4-b6ef94b5447b",
   "metadata": {},
   "outputs": [],
   "source": []
  },
  {
   "cell_type": "code",
   "execution_count": null,
   "id": "061aeb8e-385c-4e36-91e2-fa133792b3bc",
   "metadata": {},
   "outputs": [],
   "source": []
  }
 ],
 "metadata": {
  "kernelspec": {
   "display_name": "LSST",
   "language": "python",
   "name": "lsst"
  },
  "language_info": {
   "codemirror_mode": {
    "name": "ipython",
    "version": 3
   },
   "file_extension": ".py",
   "mimetype": "text/x-python",
   "name": "python",
   "nbconvert_exporter": "python",
   "pygments_lexer": "ipython3",
   "version": "3.12.11"
  }
 },
 "nbformat": 4,
 "nbformat_minor": 5
}
