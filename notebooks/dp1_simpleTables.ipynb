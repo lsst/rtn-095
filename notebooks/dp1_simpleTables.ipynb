{
 "cells": [
  {
   "cell_type": "markdown",
   "id": "062ea44c-9f60-4559-b9b0-c014d64e86f2",
   "metadata": {},
   "source": [
    "<img align=\"left\" src = https://project.lsst.org/sites/default/files/Rubin-O-Logo_0.png width=250 style=\"padding: 10px\"\n",
    "alt=\"Rubin Observatory logo, a graphical representation of turning stars into data.\"> <br><br>\n",
    "**Description:** Generate simple tables for the _Rubin Observatory DP1_ paper. <br>\n",
    "**Authors:** James Mullaney <br>\n",
    "**Last verified to run:** 2025-05-14 <br>\n",
    "**LSST Science Pipelines version:** v29.0.0<br>\n",
    "**Container size:** medium <br>"
   ]
  },
  {
   "cell_type": "markdown",
   "id": "2ba91708-7d3a-4033-9d0f-1a15903a0cbe",
   "metadata": {},
   "source": [
    "# Simple Table Generation\n",
    "Some tables in the DP1 paper draw in a lot of data and necessitate their own notebooks. However, there are a number of relatively \"simple\" tables that can all be generated in a single notebook."
   ]
  },
  {
   "cell_type": "markdown",
   "id": "88732af7-c524-4d16-b956-80fc0584220f",
   "metadata": {},
   "source": [
    "## Setup"
   ]
  },
  {
   "cell_type": "code",
   "execution_count": 70,
   "id": "73adc1a2-8d06-4a8e-82a3-848b5918280c",
   "metadata": {
    "execution": {
     "iopub.execute_input": "2025-05-30T15:48:18.998936Z",
     "iopub.status.busy": "2025-05-30T15:48:18.998607Z",
     "iopub.status.idle": "2025-05-30T15:48:19.001596Z",
     "shell.execute_reply": "2025-05-30T15:48:19.001225Z",
     "shell.execute_reply.started": "2025-05-30T15:48:18.998919Z"
    }
   },
   "outputs": [],
   "source": [
    "from lsst.daf.butler import Butler\n",
    "from collections import defaultdict\n",
    "import numpy as np\n",
    "import copy"
   ]
  },
  {
   "cell_type": "markdown",
   "id": "f1f21b2e-0506-482d-8b8c-b99e125dfca8",
   "metadata": {},
   "source": [
    "## DP1 Butler"
   ]
  },
  {
   "cell_type": "code",
   "execution_count": 2,
   "id": "758d8c2d-0138-4c89-84bc-7d25c2d0cc4a",
   "metadata": {
    "execution": {
     "iopub.execute_input": "2025-05-30T15:05:10.832165Z",
     "iopub.status.busy": "2025-05-30T15:05:10.832013Z",
     "iopub.status.idle": "2025-05-30T15:05:11.552646Z",
     "shell.execute_reply": "2025-05-30T15:05:11.551852Z",
     "shell.execute_reply.started": "2025-05-30T15:05:10.832151Z"
    }
   },
   "outputs": [],
   "source": [
    "instrument = 'LSSTComCam'\n",
    "collections = ['LSSTComCam/DP1/defaults', \n",
    "               'LSSTComCam/runs/DRP/DP1/v29_0_0/DM-50260',\n",
    "               'skymaps', ]\n",
    "skymap = 'lsst_cells_v1'\n",
    "butler = Butler(\"/repo/dp1\",\n",
    "                instrument=instrument, \n",
    "                collections=collections, \n",
    "                skymap=skymap)\n",
    "registry = butler.registry\n",
    "skymap = butler.get('skyMap', skymap=skymap)"
   ]
  },
  {
   "cell_type": "markdown",
   "id": "46e98174-f2aa-44ca-9e66-7be31a090ffe",
   "metadata": {},
   "source": [
    "## Tables"
   ]
  },
  {
   "cell_type": "markdown",
   "id": "66d88995-d73b-4916-b600-cb29a0614374",
   "metadata": {},
   "source": [
    "### Available dimensions"
   ]
  },
  {
   "cell_type": "code",
   "execution_count": 3,
   "id": "f1668186-3246-42bb-9772-3fbfe96fc2b4",
   "metadata": {
    "execution": {
     "iopub.execute_input": "2025-05-30T15:05:20.860467Z",
     "iopub.status.busy": "2025-05-30T15:05:20.858913Z",
     "iopub.status.idle": "2025-05-30T15:05:20.970343Z",
     "shell.execute_reply": "2025-05-30T15:05:20.969607Z",
     "shell.execute_reply.started": "2025-05-30T15:05:20.860435Z"
    }
   },
   "outputs": [],
   "source": [
    "dimensionDescriptions = {\n",
    "    'day_obs':'A day and night of observations that rolls over during daylight hours.',\n",
    "    'visit':\"A sequence of observations processed together; synonymous with ``exposure'' in DP1.\", \n",
    "    'exposure':'A single exposure of all nine ComCam detectors.',\n",
    "    'detector':'A ComCam detector.',\n",
    "    'skymap':'A set of tracts and patches that subdivide the sky into rectangular regions with simple projections and intentional overlaps.',\n",
    "    'tract':'A large rectangular region of the sky.',\n",
    "    'patch':'A rectangular region within a tract.',\n",
    "    'band':'An astronomical filter.',\n",
    "}\n",
    "\n",
    "detectors = [record.id for record in list(registry.queryDimensionRecords('detector'))]\n",
    "skymap = list(registry.queryDimensionRecords('skymap'))[0].name\n",
    "patches = set([record.id for record in list(registry.queryDimensionRecords('patch', datasets='template_coadd'))])\n",
    "dimensionValues = {\n",
    "    'day_obs':'YYYYMMDD',\n",
    "    'visit':'YYYYMMDD\\\\#\\\\#\\\\#\\\\#\\\\#',\n",
    "    'exposure':'YYYYMMDD\\\\#\\\\#\\\\#\\\\#\\\\#',\n",
    "    'detector':f'{min(detectors)} - {max(detectors)}',\n",
    "    'skymap':f'\\\\texttt{{{skymap.replace('_','\\\\_')}}}',\n",
    "    'tract':'See Table X',\n",
    "    'patch':f'{min(patches)} - {max(patches)}',\n",
    "    'band':'u, g, r, i, z, y',\n",
    "}"
   ]
  },
  {
   "cell_type": "code",
   "execution_count": 4,
   "id": "25213647-b2b0-43de-8d09-4243f14d4203",
   "metadata": {
    "execution": {
     "iopub.execute_input": "2025-05-30T15:05:22.757736Z",
     "iopub.status.busy": "2025-05-30T15:05:22.757405Z",
     "iopub.status.idle": "2025-05-30T15:05:22.763814Z",
     "shell.execute_reply": "2025-05-30T15:05:22.763317Z",
     "shell.execute_reply.started": "2025-05-30T15:05:22.757719Z"
    }
   },
   "outputs": [],
   "source": [
    "with open(\"../tables/dp1_dimension_summary.tex\", \"w\") as f:\n",
    "    f.write(r\"\"\"%%%%% This table is auto generated from data, DO NOT EDIT\n",
    "\\begin{deluxetable}{lp{3.5cm}p{8cm}}\n",
    "\\caption{Descriptions of and valid values for the key data dimensions in DP1. \n",
    "\\label{tab:dp1_dimensions} }\n",
    "\\tablehead{\n",
    "  \\colhead{\\textbf{Dimension}} & \\colhead{\\textbf{Format/Valid values}} & \\colhead{\\textbf{Description}}\\\\ \n",
    "}\n",
    "\\startdata\n",
    "\"\"\")\n",
    "    for dimension in dimensionValues:\n",
    "        latexName = dimension.replace('_', '\\\\_')\n",
    "        f.write(f'\\\\texttt{{{latexName}}}&{dimensionValues[dimension]}&{dimensionDescriptions[dimension]}\\\\\\\\\\n')\n",
    "    f.write(r\"\"\"\\enddata\n",
    "\\tablecomments{YYYYMMDD signifies date and \\# signifies a single 0-9 digit.}\n",
    "\\end{deluxetable}\n",
    "\"\"\")\n",
    "f.close()"
   ]
  },
  {
   "cell_type": "markdown",
   "id": "54e52d59-c167-43ea-9fd7-8a13d82409c2",
   "metadata": {},
   "source": [
    "### Tracts covering each field"
   ]
  },
  {
   "cell_type": "code",
   "execution_count": 25,
   "id": "7ec12532-3558-4d12-9008-d0db1b4a72b5",
   "metadata": {
    "execution": {
     "iopub.execute_input": "2025-05-30T15:11:31.133572Z",
     "iopub.status.busy": "2025-05-30T15:11:31.133258Z",
     "iopub.status.idle": "2025-05-30T15:11:31.272470Z",
     "shell.execute_reply": "2025-05-30T15:11:31.271948Z",
     "shell.execute_reply.started": "2025-05-30T15:11:31.133554Z"
    }
   },
   "outputs": [],
   "source": [
    "fields = defaultdict(set)\n",
    "with butler.query() as base_query:\n",
    "    processed_visit_query = base_query.join_dataset_search(\"visit_summary\")\n",
    "    for row in processed_visit_query.general([\"tract\", \"visit\"], \"visit.target_name\"):\n",
    "        fields[row[\"visit.target_name\"]].add(row[\"visit\"])"
   ]
  },
  {
   "cell_type": "code",
   "execution_count": 6,
   "id": "d92c9ef4-8022-4a23-bb52-198e37fe5da8",
   "metadata": {
    "execution": {
     "iopub.execute_input": "2025-05-30T15:05:25.074122Z",
     "iopub.status.busy": "2025-05-30T15:05:25.073770Z",
     "iopub.status.idle": "2025-05-30T15:05:25.079742Z",
     "shell.execute_reply": "2025-05-30T15:05:25.079324Z",
     "shell.execute_reply.started": "2025-05-30T15:05:25.074093Z"
    }
   },
   "outputs": [],
   "source": [
    "with open(\"../tables/dp1_field_tracts.tex\", \"w\") as f:\n",
    "    f.write(r\"\"\"%%%%% This table is auto generated from data, DO NOT EDIT\n",
    "\\begin{deluxetable}{lp4.5cm}}\n",
    "\\caption{Tract coverage of each DP1 field}. \n",
    "\\label{tab:dp1_tracts}\n",
    "\\tablehead{\n",
    "  \\colhead{\\textbf{Field Code}} & \\colhead{\\textbf{Tract ID}} \n",
    "}\n",
    "\\startdata\n",
    "\"\"\")\n",
    "    for field in fields:\n",
    "        if field == 'slew_icrs':\n",
    "            continue\n",
    "        latexName = field.replace('_', '\\\\_')\n",
    "        tracts = f'{fields[field]}'\n",
    "        f.write(f'{latexName}&{tracts.strip('{}')}\\\\\\\\\\n')\n",
    "    f.write(r\"\"\"\\enddata\n",
    "\\end{deluxetable}\n",
    "\"\"\")\n",
    "f.close()"
   ]
  },
  {
   "cell_type": "markdown",
   "id": "606c55cb-6ed9-48af-b90d-5e64067c1af3",
   "metadata": {},
   "source": [
    "### Number of raw images per field and band"
   ]
  },
  {
   "cell_type": "code",
   "execution_count": 34,
   "id": "d10bdaf7-ce71-458c-a65a-6bed86eca439",
   "metadata": {
    "execution": {
     "iopub.execute_input": "2025-05-30T15:14:59.613247Z",
     "iopub.status.busy": "2025-05-30T15:14:59.612597Z",
     "iopub.status.idle": "2025-05-30T15:14:59.768615Z",
     "shell.execute_reply": "2025-05-30T15:14:59.768134Z",
     "shell.execute_reply.started": "2025-05-30T15:14:59.613228Z"
    }
   },
   "outputs": [],
   "source": [
    "fields = defaultdict(set)\n",
    "with butler.query() as base_query:\n",
    "    processed_visit_query = base_query.join_dataset_search(\"visit_summary\")\n",
    "    for row in processed_visit_query.general([\"tract\", \"visit\"], \"visit.target_name\"):\n",
    "        fields[row[\"visit.target_name\"]].add(row[\"visit\"])"
   ]
  },
  {
   "cell_type": "code",
   "execution_count": 74,
   "id": "286358f7-a3f4-4820-b07f-ecee0b6118cf",
   "metadata": {
    "execution": {
     "iopub.execute_input": "2025-05-30T15:50:16.781151Z",
     "iopub.status.busy": "2025-05-30T15:50:16.780814Z",
     "iopub.status.idle": "2025-05-30T15:50:43.551657Z",
     "shell.execute_reply": "2025-05-30T15:50:43.551133Z",
     "shell.execute_reply.started": "2025-05-30T15:50:16.781135Z"
    }
   },
   "outputs": [],
   "source": [
    "bandCounts = {'u':0, 'g':0, 'r':0, 'i':0, 'z':0, 'y':0}\n",
    "rawCounts = {}\n",
    "for field in fields:\n",
    "    rawCounts[field] = copy.deepcopy(bandCounts)\n",
    "    \n",
    "for key in fields.keys():\n",
    "    visits = fields[key]\n",
    "    fieldName = key\n",
    "    if fieldName == 'slew_icrs':\n",
    "        fieldName = 'ECDFS'\n",
    "    for visit in visits:\n",
    "        refs = list(registry.queryDatasets('raw', visit=visit))\n",
    "        rawCounts[fieldName][refs[0].dataId['band']] += len(refs)"
   ]
  },
  {
   "cell_type": "code",
   "execution_count": 95,
   "id": "1d7998bb-b928-491d-aa02-13de64c0dfc7",
   "metadata": {
    "execution": {
     "iopub.execute_input": "2025-05-30T16:39:37.900564Z",
     "iopub.status.busy": "2025-05-30T16:39:37.900351Z",
     "iopub.status.idle": "2025-05-30T16:39:37.927536Z",
     "shell.execute_reply": "2025-05-30T16:39:37.927099Z",
     "shell.execute_reply.started": "2025-05-30T16:39:37.900548Z"
    }
   },
   "outputs": [],
   "source": [
    "bandTotalCounts = {'u':0, 'g':0, 'r':0, 'i':0, 'z':0, 'y':0}\n",
    "with open(\"../tables/dp1_raw_counts.tex\", \"w\") as f:\n",
    "    f.write(r\"\"\"%%%%% This table is auto generated from data, DO NOT EDIT\n",
    "\\setlength{\\tabcolsep}{6pt}  % default is 6pt\n",
    "\\begin{deluxetable}{lccccccc}\n",
    "\\tablecaption{Number of \\texttt{rawImages} per field and band.\n",
    "\\label{tab:rawbreakdown} }\n",
    "\n",
    "\\tablehead{\n",
    "  \\colhead{\\textbf{Field Code}} & \\multicolumn{6}{c}{\\textbf{Band}} & \\textbf{Total}\\\\\n",
    "  \\cline{2-7}\n",
    "   &u&g&r&i&z&y& \n",
    "}\n",
    "\\startdata\n",
    "\"\"\")\n",
    "    for key in rawCounts.keys():\n",
    "        if key == 'slew_icrs':\n",
    "            continue\n",
    "        latexName = key.replace('_', '\\\\_')\n",
    "        f.write(f'{latexName}')\n",
    "        total = 0\n",
    "        for band in ['u','g','r','i','z','y']:\n",
    "            total += rawCounts[key][band]\n",
    "            bandTotalCounts[band] += rawCounts[key][band]\n",
    "            f.write(f'&{rawCounts[key][band]}')\n",
    "        f.write(f'&{total}\\\\\\\\\\n')\n",
    "    f.write('\\\\cline{1-8}\\n')\n",
    "    f.write('Total')\n",
    "    bandTotal = 0\n",
    "    for band in ['u','g','r','i','z','y']:\n",
    "        bandTotal += bandTotalCounts[band]\n",
    "        f.write(f'&{bandTotalCounts[band]}')\n",
    "    f.write(f'&{bandTotal}\\\\\\\\\\n')\n",
    "    f.write(r\"\"\"\\enddata\n",
    "\\end{deluxetable}\n",
    "\"\"\")\n",
    "f.close()"
   ]
  },
  {
   "cell_type": "code",
   "execution_count": null,
   "id": "626d7ffa-f158-40c4-b98a-b288896ff77e",
   "metadata": {},
   "outputs": [],
   "source": []
  }
 ],
 "metadata": {
  "kernelspec": {
   "display_name": "LSST",
   "language": "python",
   "name": "lsst"
  },
  "language_info": {
   "codemirror_mode": {
    "name": "ipython",
    "version": 3
   },
   "file_extension": ".py",
   "mimetype": "text/x-python",
   "name": "python",
   "nbconvert_exporter": "python",
   "pygments_lexer": "ipython3",
   "version": "3.12.10"
  }
 },
 "nbformat": 4,
 "nbformat_minor": 5
}
