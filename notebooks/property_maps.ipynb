{
 "cells": [
  {
   "cell_type": "markdown",
   "id": "a143b17a",
   "metadata": {},
   "source": [
    "<img align=\"left\" src = https://noirlab.edu/public/media/archives/logos/svg/logo250.svg width=250 style=\"background-color:white; padding-right:10px; margin-top:-70px; margin-bottom:-70px;\" alt=\"Rubin Observatory logo, a graphical representation of turning stars into data.\">\n",
    "\n",
    "**Description:** Generate property map plots for _Rubin Observatory DP1_ paper <br>\n",
    "**Contact authors:** Erfan Nourbakhsh <br>\n",
    "**Last verified to run:** 2025-05-06 <br>\n",
    "**LSST Science Piplines version:** w_2025_18 <br>\n",
    "**Container Size:** Medium (or larger) <br>\n",
    "**Location:** This notebook points to files on the S3DF cluster at the USDF. Update paths accordingly if you are running elsewhere."
   ]
  },
  {
   "cell_type": "markdown",
   "id": "0023d42b",
   "metadata": {},
   "source": [
    "### Import required libraries and modules"
   ]
  },
  {
   "cell_type": "code",
   "execution_count": null,
   "id": "16e55ffd",
   "metadata": {},
   "outputs": [],
   "source": [
    "import os\n",
    "from lsst.daf.butler import Butler, DataCoordinate\n",
    "from lsst.analysis.tools.atools import PerTractPropertyMapTool, SurveyWidePropertyMapTool\n",
    "from lsst.analysis.tools.tasks.propertyMapAnalysis import (\n",
    "    PerTractPropertyMapAnalysisConfig,\n",
    "    PerTractPropertyMapAnalysisTask,\n",
    ")"
   ]
  },
  {
   "cell_type": "markdown",
   "id": "a7a3b715",
   "metadata": {},
   "source": [
    "### Set up the paths, data IDs, and map names"
   ]
  },
  {
   "cell_type": "code",
   "execution_count": null,
   "id": "61300661",
   "metadata": {},
   "outputs": [],
   "source": [
    "# Create a directory to store the output plots.\n",
    "user = os.environ[\"USER\"]\n",
    "outputDir = f\"/sdf/home/{user[0]}/{user}/dp1_property_maps\"\n",
    "outputFormat = \"pdf\"\n",
    "os.makedirs(outputDir, exist_ok=True)\n",
    "\n",
    "# Define the repository and collection to be used.\n",
    "repo = \"/repo/dp1\"\n",
    "collection = \"LSSTComCam/runs/DRP/DP1/v29_0_0/DM-50260\"\n",
    "skymapName = \"lsst_cells_v1\"\n",
    "\n",
    "# Make a list for dictionaries of data ID values.\n",
    "dataIds = [\n",
    "    {\"band\": \"g\", \"skymap\": skymapName, \"tract\": 5063},\n",
    "    {\"band\": \"z\", \"skymap\": skymapName, \"tract\": 5063},\n",
    "    {\"band\": \"r\", \"skymap\": skymapName, \"tract\": 10463},\n",
    "]\n",
    "\n",
    "# Make a list of survey property maps to be plotted in the same order as the\n",
    "# data IDs above. These are the ones we used as examples in the DP1 paper.\n",
    "mapNames = [\n",
    "    \"deepCoadd_sky_noise_map_weighted_mean\",\n",
    "    \"deepCoadd_psf_maglim_map_weighted_mean\",\n",
    "    \"deepCoadd_exposure_time_map_sum\",\n",
    "]\n",
    "\n",
    "# Set this to False if you only want the `mapNames` above to be plotted for the\n",
    "# corresponding data IDs.\n",
    "plotAllConfiguredMaps = False"
   ]
  },
  {
   "cell_type": "markdown",
   "id": "e1d64ea0",
   "metadata": {},
   "source": [
    "### Load data for processing and configure the tool"
   ]
  },
  {
   "cell_type": "code",
   "execution_count": null,
   "id": "72a35b9f",
   "metadata": {},
   "outputs": [],
   "source": [
    "# Create a butler object to access the data.\n",
    "butler = Butler(repo, collections=collection)\n",
    "\n",
    "# Configure the plotter.\n",
    "config = PerTractPropertyMapAnalysisConfig()\n",
    "config.projectionKwargs = {\"celestial\": True, \"gridlines\": True, \"min_lon_ticklabel_delta\": 0.12}\n",
    "config.colorbarKwargs = {\"cmap\": \"viridis\"}\n",
    "config.publicationStyle = True\n",
    "\n",
    "# Configure the maps to potentially be plotted. If you want all these maps to\n",
    "# be plotted, regardless of `mapNames`, set `plotAllConfiguredMaps` to True.\n",
    "# The entries in the 'atools' namespace must exactly match the dataset types.\n",
    "config.atools.deepCoadd_dcr_ddec_map_weighted_mean = PerTractPropertyMapTool()\n",
    "config.atools.deepCoadd_dcr_dra_map_weighted_mean = PerTractPropertyMapTool()\n",
    "config.atools.deepCoadd_dcr_e1_map_weighted_mean = PerTractPropertyMapTool()\n",
    "config.atools.deepCoadd_dcr_e2_map_weighted_mean = PerTractPropertyMapTool()\n",
    "config.atools.deepCoadd_epoch_map_min = PerTractPropertyMapTool()\n",
    "config.atools.deepCoadd_epoch_map_max = PerTractPropertyMapTool()\n",
    "config.atools.deepCoadd_epoch_map_mean = PerTractPropertyMapTool()\n",
    "config.atools.deepCoadd_exposure_time_map_sum = PerTractPropertyMapTool()\n",
    "config.atools.deepCoadd_psf_e1_map_weighted_mean = PerTractPropertyMapTool()\n",
    "config.atools.deepCoadd_psf_e2_map_weighted_mean = PerTractPropertyMapTool()\n",
    "config.atools.deepCoadd_psf_maglim_map_weighted_mean = PerTractPropertyMapTool()\n",
    "config.atools.deepCoadd_psf_size_map_weighted_mean = PerTractPropertyMapTool()\n",
    "config.atools.deepCoadd_sky_background_map_weighted_mean = PerTractPropertyMapTool()\n",
    "config.atools.deepCoadd_sky_noise_map_weighted_mean = PerTractPropertyMapTool()"
   ]
  },
  {
   "cell_type": "markdown",
   "id": "0fa8dea2",
   "metadata": {},
   "source": [
    "### Loop over the data IDs and save the plot for each one"
   ]
  },
  {
   "cell_type": "code",
   "execution_count": null,
   "id": "a8205e45",
   "metadata": {},
   "outputs": [],
   "source": [
    "# config.atools.fieldNames\n",
    "for dId, mapName in zip(dataIds, mapNames):\n",
    "    # Standardize the data ID.\n",
    "\tdataId = DataCoordinate.standardize(dId, universe=butler.dimensions)\n",
    "\n",
    "    for name, atool in zip(config.atools.fieldNames, config.atools):\n",
    "        if not plotAllConfiguredMaps and name != mapName:\n",
    "            continue\n",
    "\n",
    "        # Finalize the tool to ensure it is ready for use.\n",
    "        atool.finalize()\n",
    "\n",
    "        # Match task input format: {datasetTypeName: DeferedDataSetHandle}.\n",
    "        inputs = {}\n",
    "        inputs[name] = butler.getDeferred(name, dataId=dataId)\n",
    "\n",
    "        # Get the tract information from the skymap.\n",
    "        skymap = butler.get(\"skyMap\", dataId=dataId)\n",
    "        tract = dataId[\"tract\"]\n",
    "        tractInfo = skymap[tract]\n",
    "\n",
    "        # Even in publication style, where we limit plot details, we still need\n",
    "        # to provide basic plot info for minimal annotations.\n",
    "        plotInfo = PerTractPropertyMapAnalysisTask().parsePlotInfo(inputs, dataId, [name])\n",
    "\n",
    "        # Use the selected tool to process the data.\n",
    "        results = atool(data=inputs, tractInfo=tractInfo, plotConfig=config, plotInfo=plotInfo)\n",
    "\n",
    "        # Pull the figure from the results dictionary and save it.\n",
    "        fig = results[f\"{name}_{atool.produce.plot.getPlotType()}\"]\n",
    "        fig.savefig(figName := f\"{outputDir}/{name}_tract{tract}_{dataId['band']}band.{outputFormat}\")\n",
    "        print(f\"Saved plot to {figName}\")"
   ]
  }
 ],
 "metadata": {
  "language_info": {
   "name": "python"
  }
 },
 "nbformat": 4,
 "nbformat_minor": 5
}
