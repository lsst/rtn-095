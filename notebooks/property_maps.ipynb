{
 "cells": [
  {
   "cell_type": "markdown",
   "id": "a143b17a",
   "metadata": {},
   "source": [
    "<img align=\"left\" src = https://noirlab.edu/public/media/archives/logos/svg/logo250.svg width=250 style=\"background-color:white; padding-right:10px; margin-top:-70px; margin-bottom:-70px;\" alt=\"Rubin Observatory logo, a graphical representation of turning stars into data.\">\n",
    "\n",
    "**Description:** Generate property map plots for _Rubin Observatory DP1_ paper <br>\n",
    "**Contact authors:** Erfan Nourbakhsh <br>\n",
    "**Last verified to run:** 2025-05-06 <br>\n",
    "**LSST Science Piplines version:** w_2025_18 <br>\n",
    "**Container Size:** Medium (or larger) <br>\n",
    "**Location:** This notebook points to files on the S3DF cluster at the USDF. Update paths accordingly if you are running elsewhere."
   ]
  },
  {
   "cell_type": "markdown",
   "id": "0023d42b",
   "metadata": {},
   "source": [
    "### Import required libraries and modules"
   ]
  },
  {
   "cell_type": "code",
   "execution_count": 1,
   "id": "16e55ffd",
   "metadata": {
    "execution": {
     "iopub.execute_input": "2025-05-14T19:40:20.497874Z",
     "iopub.status.busy": "2025-05-14T19:40:20.497723Z",
     "iopub.status.idle": "2025-05-14T19:40:24.518239Z",
     "shell.execute_reply": "2025-05-14T19:40:24.517704Z",
     "shell.execute_reply.started": "2025-05-14T19:40:20.497858Z"
    }
   },
   "outputs": [],
   "source": [
    "import os\n",
    "from lsst.daf.butler import Butler, DataCoordinate\n",
    "from lsst.analysis.tools.atools import PerTractPropertyMapTool, SurveyWidePropertyMapTool\n",
    "from lsst.analysis.tools.tasks.propertyMapAnalysis import PerTractPropertyMapAnalysisConfig, PerTractPropertyMapAnalysisTask\n",
    "\n",
    "from pathlib import Path"
   ]
  },
  {
   "cell_type": "markdown",
   "id": "a7a3b715",
   "metadata": {},
   "source": [
    "### Set up the paths, data IDs, and map names"
   ]
  },
  {
   "cell_type": "code",
   "execution_count": 2,
   "id": "a08eea9a-9222-49a6-ad27-07c60e20d8ef",
   "metadata": {
    "execution": {
     "iopub.execute_input": "2025-05-14T19:40:24.519330Z",
     "iopub.status.busy": "2025-05-14T19:40:24.518811Z",
     "iopub.status.idle": "2025-05-14T19:40:24.544190Z",
     "shell.execute_reply": "2025-05-14T19:40:24.543356Z",
     "shell.execute_reply.started": "2025-05-14T19:40:24.519313Z"
    }
   },
   "outputs": [],
   "source": [
    "# Create a directory to store the output plots.\n",
    "outputDir = str(Path('../figures/dp1_property_maps').resolve())\n",
    "outputFormat = \"pdf\"\n",
    "os.makedirs(outputDir, exist_ok=True)"
   ]
  },
  {
   "cell_type": "code",
   "execution_count": 3,
   "id": "61300661",
   "metadata": {
    "execution": {
     "iopub.execute_input": "2025-05-14T19:40:24.545159Z",
     "iopub.status.busy": "2025-05-14T19:40:24.545009Z",
     "iopub.status.idle": "2025-05-14T19:40:24.548384Z",
     "shell.execute_reply": "2025-05-14T19:40:24.548008Z",
     "shell.execute_reply.started": "2025-05-14T19:40:24.545142Z"
    }
   },
   "outputs": [],
   "source": [
    "# Define the repository and collection to be used.\n",
    "repo = \"/repo/dp1\"\n",
    "collection = \"LSSTComCam/runs/DRP/DP1/v29_0_0/DM-50260\"\n",
    "skymapName = \"lsst_cells_v1\"\n",
    "\n",
    "# Make a list for dictionaries of data ID values.\n",
    "dataIds = [\n",
    "    {\"band\": \"g\", \"skymap\": skymapName, \"tract\": 5063},\n",
    "    {\"band\": \"z\", \"skymap\": skymapName, \"tract\": 5063},\n",
    "    {\"band\": \"r\", \"skymap\": skymapName, \"tract\": 10463},\n",
    "]\n",
    "\n",
    "# Make a list of survey property maps to be plotted in the same order as the\n",
    "# data IDs above. These are the ones we used as examples in the DP1 paper.\n",
    "mapNames = [\n",
    "    \"deepCoadd_sky_noise_map_weighted_mean\",\n",
    "    \"deepCoadd_psf_maglim_map_weighted_mean\",\n",
    "    \"deepCoadd_exposure_time_map_sum\",\n",
    "]\n",
    "\n",
    "# Set this to False if you only want the `mapNames` above to be plotted for the\n",
    "# corresponding data IDs.\n",
    "plotAllConfiguredMaps = False"
   ]
  },
  {
   "cell_type": "markdown",
   "id": "e1d64ea0",
   "metadata": {},
   "source": [
    "### Load data for processing and configure the tool"
   ]
  },
  {
   "cell_type": "code",
   "execution_count": 4,
   "id": "055560ad-088f-4583-9c75-4ecfbc49111c",
   "metadata": {
    "execution": {
     "iopub.execute_input": "2025-05-14T19:40:24.549873Z",
     "iopub.status.busy": "2025-05-14T19:40:24.549591Z",
     "iopub.status.idle": "2025-05-14T19:40:24.881558Z",
     "shell.execute_reply": "2025-05-14T19:40:24.880973Z",
     "shell.execute_reply.started": "2025-05-14T19:40:24.549858Z"
    }
   },
   "outputs": [],
   "source": [
    "# Create a butler object to access the data.\n",
    "butler = Butler(repo, collections=collection)"
   ]
  },
  {
   "cell_type": "code",
   "execution_count": 5,
   "id": "72a35b9f",
   "metadata": {
    "execution": {
     "iopub.execute_input": "2025-05-14T19:40:24.882274Z",
     "iopub.status.busy": "2025-05-14T19:40:24.882131Z",
     "iopub.status.idle": "2025-05-14T19:40:24.886302Z",
     "shell.execute_reply": "2025-05-14T19:40:24.885700Z",
     "shell.execute_reply.started": "2025-05-14T19:40:24.882258Z"
    }
   },
   "outputs": [],
   "source": [
    "# Configure the plotter.\n",
    "config = PerTractPropertyMapAnalysisConfig()\n",
    "config.projectionKwargs = {\"celestial\": True, \"gridlines\": True, \"min_lon_ticklabel_delta\": 0.12}\n",
    "config.colorbarKwargs = {\"cmap\": \"viridis\"}\n",
    "config.publicationStyle = True"
   ]
  },
  {
   "cell_type": "code",
   "execution_count": 6,
   "id": "53feed67-c146-4c73-a958-5471414f2f32",
   "metadata": {
    "execution": {
     "iopub.execute_input": "2025-05-14T19:40:24.887351Z",
     "iopub.status.busy": "2025-05-14T19:40:24.886937Z",
     "iopub.status.idle": "2025-05-14T19:40:24.945689Z",
     "shell.execute_reply": "2025-05-14T19:40:24.945149Z",
     "shell.execute_reply.started": "2025-05-14T19:40:24.887332Z"
    }
   },
   "outputs": [],
   "source": [
    "# Configure the maps to potentially be plotted. If you want all these maps to\n",
    "# be plotted, regardless of `mapNames`, set `plotAllConfiguredMaps` to True.\n",
    "# The entries in the 'atools' namespace must exactly match the dataset types.\n",
    "config.atools.deepCoadd_dcr_ddec_map_weighted_mean = PerTractPropertyMapTool()\n",
    "config.atools.deepCoadd_dcr_dra_map_weighted_mean = PerTractPropertyMapTool()\n",
    "config.atools.deepCoadd_dcr_e1_map_weighted_mean = PerTractPropertyMapTool()\n",
    "config.atools.deepCoadd_dcr_e2_map_weighted_mean = PerTractPropertyMapTool()\n",
    "config.atools.deepCoadd_epoch_map_min = PerTractPropertyMapTool()\n",
    "config.atools.deepCoadd_epoch_map_max = PerTractPropertyMapTool()\n",
    "config.atools.deepCoadd_epoch_map_mean = PerTractPropertyMapTool()\n",
    "config.atools.deepCoadd_exposure_time_map_sum = PerTractPropertyMapTool()\n",
    "config.atools.deepCoadd_psf_e1_map_weighted_mean = PerTractPropertyMapTool()\n",
    "config.atools.deepCoadd_psf_e2_map_weighted_mean = PerTractPropertyMapTool()\n",
    "config.atools.deepCoadd_psf_maglim_map_weighted_mean = PerTractPropertyMapTool()\n",
    "config.atools.deepCoadd_psf_size_map_weighted_mean = PerTractPropertyMapTool()\n",
    "config.atools.deepCoadd_sky_background_map_weighted_mean = PerTractPropertyMapTool()\n",
    "config.atools.deepCoadd_sky_noise_map_weighted_mean = PerTractPropertyMapTool()"
   ]
  },
  {
   "cell_type": "markdown",
   "id": "0fa8dea2",
   "metadata": {},
   "source": [
    "### Loop over the data IDs and save the plot for each one"
   ]
  },
  {
   "cell_type": "code",
   "execution_count": 7,
   "id": "a8205e45",
   "metadata": {
    "execution": {
     "iopub.execute_input": "2025-05-14T19:40:24.946716Z",
     "iopub.status.busy": "2025-05-14T19:40:24.946332Z",
     "iopub.status.idle": "2025-05-14T19:40:29.635179Z",
     "shell.execute_reply": "2025-05-14T19:40:29.634613Z",
     "shell.execute_reply.started": "2025-05-14T19:40:24.946698Z"
    }
   },
   "outputs": [
    {
     "name": "stdout",
     "output_type": "stream",
     "text": [
      "{band: 'g', skymap: 'lsst_cells_v1', tract: 5063}\n"
     ]
    },
    {
     "data": {
      "text/html": [
       "<pre style=\"margin: 0.1em;\n",
       "padding-left: 0.25em;\n",
       "border-left-style: solid;\n",
       "font-family: var(--jp-code-font-family);\n",
       "font-size: var(--jp-code-font-size);\n",
       "line-height: var(--jp-code-line-height);\n",
       "\"><span style=\"color: var(--jp-warn-color2)\">lsst.analysis.tools.actions.plot.propertyMapPlot</span> <span style=\"color: var(--jp-info-color0)\">INFO</span>: Zoom factors are not used in publication-style plots. Only the full-tract map will be plotted.</pre>"
      ],
      "text/plain": [
       "<IPython.core.display.HTML object>"
      ]
     },
     "metadata": {},
     "output_type": "display_data"
    },
    {
     "data": {
      "text/html": [
       "<pre style=\"margin: 0.1em;\n",
       "padding-left: 0.25em;\n",
       "border-left-style: solid;\n",
       "font-family: var(--jp-code-font-family);\n",
       "font-size: var(--jp-code-font-size);\n",
       "line-height: var(--jp-code-line-height);\n",
       "\"><span style=\"color: var(--jp-warn-color2)\">lsst.analysis.tools.actions.plot.propertyMapPlot</span> <span style=\"color: var(--jp-info-color0)\">INFO</span>: Made publication-style per-tract property map plot for dataset type &#x27;deepCoadd_sky_noise_map_weighted_mean&#x27;, tract: 5063, band: &#x27;g&#x27;.</pre>"
      ],
      "text/plain": [
       "<IPython.core.display.HTML object>"
      ]
     },
     "metadata": {},
     "output_type": "display_data"
    },
    {
     "name": "stdout",
     "output_type": "stream",
     "text": [
      "Saved plot to /sdf/data/rubin/user/lguy/lsst/repos/rtn-095/figures/dp1_property_maps/deepCoadd_sky_noise_map_weighted_mean_tract5063_gband.pdf\n",
      "{band: 'z', skymap: 'lsst_cells_v1', tract: 5063}\n"
     ]
    },
    {
     "data": {
      "text/html": [
       "<pre style=\"margin: 0.1em;\n",
       "padding-left: 0.25em;\n",
       "border-left-style: solid;\n",
       "font-family: var(--jp-code-font-family);\n",
       "font-size: var(--jp-code-font-size);\n",
       "line-height: var(--jp-code-line-height);\n",
       "\"><span style=\"color: var(--jp-warn-color2)\">lsst.analysis.tools.actions.plot.propertyMapPlot</span> <span style=\"color: var(--jp-info-color0)\">INFO</span>: Zoom factors are not used in publication-style plots. Only the full-tract map will be plotted.</pre>"
      ],
      "text/plain": [
       "<IPython.core.display.HTML object>"
      ]
     },
     "metadata": {},
     "output_type": "display_data"
    },
    {
     "data": {
      "text/html": [
       "<pre style=\"margin: 0.1em;\n",
       "padding-left: 0.25em;\n",
       "border-left-style: solid;\n",
       "font-family: var(--jp-code-font-family);\n",
       "font-size: var(--jp-code-font-size);\n",
       "line-height: var(--jp-code-line-height);\n",
       "\"><span style=\"color: var(--jp-warn-color2)\">lsst.analysis.tools.actions.plot.propertyMapPlot</span> <span style=\"color: var(--jp-info-color0)\">INFO</span>: Made publication-style per-tract property map plot for dataset type &#x27;deepCoadd_psf_maglim_map_weighted_mean&#x27;, tract: 5063, band: &#x27;z&#x27;.</pre>"
      ],
      "text/plain": [
       "<IPython.core.display.HTML object>"
      ]
     },
     "metadata": {},
     "output_type": "display_data"
    },
    {
     "name": "stdout",
     "output_type": "stream",
     "text": [
      "Saved plot to /sdf/data/rubin/user/lguy/lsst/repos/rtn-095/figures/dp1_property_maps/deepCoadd_psf_maglim_map_weighted_mean_tract5063_zband.pdf\n",
      "{band: 'r', skymap: 'lsst_cells_v1', tract: 10463}\n"
     ]
    },
    {
     "data": {
      "text/html": [
       "<pre style=\"margin: 0.1em;\n",
       "padding-left: 0.25em;\n",
       "border-left-style: solid;\n",
       "font-family: var(--jp-code-font-family);\n",
       "font-size: var(--jp-code-font-size);\n",
       "line-height: var(--jp-code-line-height);\n",
       "\"><span style=\"color: var(--jp-warn-color2)\">lsst.analysis.tools.actions.plot.propertyMapPlot</span> <span style=\"color: var(--jp-info-color0)\">INFO</span>: Zoom factors are not used in publication-style plots. Only the full-tract map will be plotted.</pre>"
      ],
      "text/plain": [
       "<IPython.core.display.HTML object>"
      ]
     },
     "metadata": {},
     "output_type": "display_data"
    },
    {
     "data": {
      "text/html": [
       "<pre style=\"margin: 0.1em;\n",
       "padding-left: 0.25em;\n",
       "border-left-style: solid;\n",
       "font-family: var(--jp-code-font-family);\n",
       "font-size: var(--jp-code-font-size);\n",
       "line-height: var(--jp-code-line-height);\n",
       "\"><span style=\"color: var(--jp-warn-color2)\">lsst.analysis.tools.actions.plot.propertyMapPlot</span> <span style=\"color: var(--jp-info-color0)\">INFO</span>: Made publication-style per-tract property map plot for dataset type &#x27;deepCoadd_exposure_time_map_sum&#x27;, tract: 10463, band: &#x27;r&#x27;.</pre>"
      ],
      "text/plain": [
       "<IPython.core.display.HTML object>"
      ]
     },
     "metadata": {},
     "output_type": "display_data"
    },
    {
     "name": "stdout",
     "output_type": "stream",
     "text": [
      "Saved plot to /sdf/data/rubin/user/lguy/lsst/repos/rtn-095/figures/dp1_property_maps/deepCoadd_exposure_time_map_sum_tract10463_rband.pdf\n"
     ]
    }
   ],
   "source": [
    "# config.atools.fieldNames\n",
    "for dId, mapName in zip(dataIds, mapNames):\n",
    "    # Standardize the data ID.\n",
    "    dataId = DataCoordinate.standardize(dId, universe=butler.dimensions)\n",
    "    print(dataId)\n",
    "\n",
    "    for name, atool in zip(config.atools.fieldNames, config.atools):\n",
    "        if not plotAllConfiguredMaps and name != mapName:\n",
    "            continue\n",
    "    \n",
    "        # Finalize the tool to ensure it is ready for use.\n",
    "        atool.finalize()\n",
    "    \n",
    "        # Match task input format: {datasetTypeName: DeferedDataSetHandle}.\n",
    "        inputs = {}\n",
    "        inputs[name] = butler.getDeferred(name, dataId=dataId)\n",
    "    \n",
    "        # Get the tract information from the skymap.\n",
    "        skymap = butler.get(\"skyMap\", dataId=dataId)\n",
    "        tract = dataId[\"tract\"]\n",
    "        tractInfo = skymap[tract]\n",
    "    \n",
    "        # Even in publication style, where we limit plot details, we still need\n",
    "        # to provide basic plot info for minimal annotations.\n",
    "        plotInfo = PerTractPropertyMapAnalysisTask().parsePlotInfo(inputs, dataId, [name])\n",
    "    \n",
    "        # Use the selected tool to process the data.\n",
    "        results = atool(data=inputs, tractInfo=tractInfo, plotConfig=config, plotInfo=plotInfo)\n",
    "    \n",
    "        # Pull the figure from the results dictionary and save it.\n",
    "        fig = results[f\"{name}_{atool.produce.plot.getPlotType()}\"]\n",
    "        fig.savefig(figName := f\"{outputDir}/{name}_tract{tract}_{dataId['band']}band.{outputFormat}\")\n",
    "        print(f\"Saved plot to {figName}\")"
   ]
  },
  {
   "cell_type": "code",
   "execution_count": null,
   "id": "c9db96c7-0835-425a-a3a2-b5dcbb65742b",
   "metadata": {},
   "outputs": [],
   "source": []
  }
 ],
 "metadata": {
  "kernelspec": {
   "display_name": "LSST",
   "language": "python",
   "name": "lsst"
  },
  "language_info": {
   "codemirror_mode": {
    "name": "ipython",
    "version": 3
   },
   "file_extension": ".py",
   "mimetype": "text/x-python",
   "name": "python",
   "nbconvert_exporter": "python",
   "pygments_lexer": "ipython3",
   "version": "3.12.10"
  }
 },
 "nbformat": 4,
 "nbformat_minor": 5
}
