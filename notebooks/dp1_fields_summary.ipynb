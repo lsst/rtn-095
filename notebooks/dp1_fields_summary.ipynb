{
 "cells": [
  {
   "cell_type": "markdown",
   "id": "e3d0573f-1451-45ef-89cc-8285b3c2a595",
   "metadata": {},
   "source": [
    "# DP1 target fields summary\n",
    "\n",
    "The notebook computes statistics and summaries of all the data in the 7 DP1 fields. It computes a number of parameters to beuse din the paper<br>\n",
    "\n",
    "Tables produced:<br> \n",
    "* Table 2: Summary of the DP1 fields.<br>\n",
    "* Table X: tracts per fields for the datapriducts section <br>\n"
   ]
  },
  {
   "cell_type": "code",
   "execution_count": null,
   "id": "89a6c063-c0a5-47ea-813f-0446375850f1",
   "metadata": {},
   "outputs": [],
   "source": [
    "# Generic python packages\n",
    "import os\n",
    "import csv\n",
    "import requests\n",
    "import yaml\n",
    "import numpy as np\n",
    "import pandas as pd\n",
    "\n",
    "# LSST Science Pipelines \n",
    "from lsst.daf.butler import Butler\n",
    "\n",
    "# Set rubin publication plot style\n",
    "from lsst.utils.plotting import publication_plots, get_multiband_plot_colors\n",
    "import matplotlib.pyplot as plt"
   ]
  },
  {
   "cell_type": "markdown",
   "id": "36f63acb-86a9-42e8-b250-081cae56973b",
   "metadata": {},
   "source": [
    "## Setup"
   ]
  },
  {
   "cell_type": "markdown",
   "id": "f91a6fb8-e50d-49c5-8bcd-1b9ef1f7bf45",
   "metadata": {},
   "source": [
    "### Publication style"
   ]
  },
  {
   "cell_type": "code",
   "execution_count": null,
   "id": "4877a008-4dd7-45fd-863e-f9e1d1cc153f",
   "metadata": {},
   "outputs": [],
   "source": [
    "# Setup publication style\n",
    "publication_plots.set_rubin_plotstyle()\n",
    "colors = get_multiband_plot_colors()\n",
    "bands = colors.keys()  # important to get the right order for plot legends\n",
    "bands_dict = publication_plots.get_band_dicts()\n",
    "%matplotlib inline"
   ]
  },
  {
   "cell_type": "code",
   "execution_count": null,
   "id": "915036ae-e1f0-4b5b-9d9f-344ba98623cb",
   "metadata": {},
   "outputs": [],
   "source": [
    "# Custom formatter: no trailing zeros if not needed\n",
    "def custom_float(x):\n",
    "    if isinstance(x, float):\n",
    "        s = f\"{x:.3f}\" #.rstrip('0').rstrip('.')\n",
    "        return s\n",
    "    return x"
   ]
  },
  {
   "cell_type": "code",
   "execution_count": null,
   "id": "cfcb7f3b-0200-48da-a295-1e801bbd41ea",
   "metadata": {},
   "outputs": [],
   "source": [
    "# Function to round to N significant figures\n",
    "def round_sf(x, sig=3):\n",
    "    return np.round(x, sig - int(np.floor(np.log10(abs(x)))) - 1)"
   ]
  },
  {
   "cell_type": "markdown",
   "id": "cd4f3473-8f73-494e-9680-662457970f51",
   "metadata": {},
   "source": [
    "### DP1 Butler"
   ]
  },
  {
   "cell_type": "code",
   "execution_count": null,
   "id": "42ccfd55-11a5-4c73-9603-6ce816ecd87c",
   "metadata": {},
   "outputs": [],
   "source": [
    "instrument = 'LSSTComCam'\n",
    "collections = ['LSSTComCam/DP1/defaults', \n",
    "               'LSSTComCam/runs/DRP/DP1/v29_0_0/DM-50260',\n",
    "               'skymaps', ]\n",
    "skymap = 'lsst_cells_v1'\n",
    "butler = Butler(\"/repo/dp1\",\n",
    "                instrument=instrument, \n",
    "                collections=collections, \n",
    "                skymap=skymap)\n",
    "registry = butler.registry\n",
    "skymap = butler.get('skyMap', skymap=skymap)"
   ]
  },
  {
   "cell_type": "markdown",
   "id": "f37df99c-31e4-4f04-af2b-a5bbfd423498",
   "metadata": {},
   "source": [
    "### ConsDB for metadata"
   ]
  },
  {
   "cell_type": "code",
   "execution_count": null,
   "id": "563081d9-d898-4b6c-b175-b782cdd9cdc0",
   "metadata": {},
   "outputs": [],
   "source": [
    "#How to get target metadata for all the visits?\n",
    "# butler or consdb?"
   ]
  },
  {
   "cell_type": "code",
   "execution_count": null,
   "id": "9be5fe83-d9cf-4eca-917e-23d92a94c129",
   "metadata": {},
   "outputs": [],
   "source": [
    "# Extract filter and pointing information about the fileds from the DP1 exposures\n",
    "exposures = registry.queryDimensionRecords('exposure')\n",
    "exp_df = pd.DataFrame(columns=['id', 'target', 'physical_filter','ra', 'dec'])\n",
    "for count, info in enumerate(exposures):\n",
    "    try:\n",
    "        exp_df.loc[count] = [info.id, info.target_name, info.physical_filter, \n",
    "                         info.tracking_ra, info.tracking_dec]\n",
    "    except: \n",
    "        print(\">>>   Unexpected error:\", sys.exc_info()[0])\n"
   ]
  },
  {
   "cell_type": "code",
   "execution_count": null,
   "id": "7b5cfbdf-4fe6-4c58-adda-5de065a08183",
   "metadata": {},
   "outputs": [],
   "source": [
    "# Physical filter -> band\n",
    "exp_df['band'] = exp_df['physical_filter'].str.split('_').str[0]"
   ]
  },
  {
   "cell_type": "code",
   "execution_count": null,
   "id": "4599551a-a944-4cc4-90ba-5d01f2b0f3ae",
   "metadata": {},
   "outputs": [],
   "source": [
    "(exp_df)"
   ]
  },
  {
   "cell_type": "code",
   "execution_count": null,
   "id": "e2583c84-a9be-429c-a59e-de308b7655e1",
   "metadata": {},
   "outputs": [],
   "source": [
    "# slew_icrs is the ECDFS field -- combine them\n",
    "exp_df.loc[exp_df['target'] == 'slew_icrs', 'target'] = 'ECDFS'"
   ]
  },
  {
   "cell_type": "code",
   "execution_count": null,
   "id": "aa6bd9ec-868f-4458-890a-087b43375fa6",
   "metadata": {},
   "outputs": [],
   "source": [
    "# List of unique fields in DP1\n",
    "dp1_fields = exp_df.target.unique()\n",
    "assert len(dp1_fields) == 7"
   ]
  },
  {
   "cell_type": "code",
   "execution_count": null,
   "id": "1524f47b-c580-4547-b059-f0425b08dba2",
   "metadata": {},
   "outputs": [],
   "source": [
    "# Number of images for each field, total and per band\n",
    "n_images_all_bands = exp_df.groupby('target').size()\n",
    "n_images_all_bands = n_images_all_bands.rename('Total').reset_index()"
   ]
  },
  {
   "cell_type": "code",
   "execution_count": null,
   "id": "928ace09-869f-4327-a21a-4e212adc7d4a",
   "metadata": {},
   "outputs": [],
   "source": [
    "# Compute the number of exposures per band and set the standard band order\n",
    "n_images_per_band  = exp_df.groupby(['target', 'band']).size().unstack(fill_value=0)[bands]\n",
    "assert n_images_per_band.to_numpy().sum() == exposures.count()"
   ]
  },
  {
   "cell_type": "code",
   "execution_count": null,
   "id": "29a1cead-82d1-4e90-a5a1-c9ea0cb6e583",
   "metadata": {},
   "outputs": [],
   "source": [
    "n_images_summary = pd.merge(n_images_per_band, n_images_all_bands, on='target', how='left')\n",
    "n_images_summary"
   ]
  },
  {
   "cell_type": "code",
   "execution_count": null,
   "id": "4bbd8628-0607-47d8-b60c-899c0694056e",
   "metadata": {},
   "outputs": [],
   "source": [
    "# Manually insert a description column\n",
    "n_images_summary.insert(1, 'Field Name',[\n",
    "    \"47 Tucanae Globular Cluster\",\n",
    "    \"Extended Chandra Deep Field South\",\n",
    "    \"Rubin SV Euclid Deep Field South\",\n",
    "    \"Fornax Dwarf Spheroidal Galaxy\",\n",
    "    \"Rubin SV Low Galactic Latitude Field\",\n",
    "    \"Rubin SV Low Ecliptic Latitude Field\",\n",
    "    \"Seagull Nebula\"])\n",
    "n_images_summary"
   ]
  },
  {
   "cell_type": "code",
   "execution_count": null,
   "id": "cd9696ad-51cc-4563-b7d5-72ed5a938f78",
   "metadata": {},
   "outputs": [],
   "source": [
    "# Compute the median of all pointings per field for the \n",
    "# pointing centers and add to the summary table\n",
    "target_centers = exp_df.groupby('target')[['ra', 'dec']].agg(['median'])\n",
    "target_centers.columns = ['_'.join(col) for col in target_centers.columns]\n",
    "target_centers\n",
    "target_centers = target_centers.map(lambda x: round_sf(x, 4))\n",
    "dp1_targets_summary = pd.merge(n_images_summary, target_centers, on=\"target\")"
   ]
  },
  {
   "cell_type": "code",
   "execution_count": null,
   "id": "3ee21409-8344-4bf3-bc2e-635903268d95",
   "metadata": {},
   "outputs": [],
   "source": [
    "dp1_targets_summary"
   ]
  },
  {
   "cell_type": "code",
   "execution_count": null,
   "id": "13e1586e-7243-4507-9661-86ed4668f15e",
   "metadata": {},
   "outputs": [],
   "source": [
    "# Rename and reorder \n",
    "dp1_targets_summary.rename(columns={\n",
    "    'target': \"Field Code\",\n",
    "    'ra_median': 'RA',\n",
    "    'dec_median': 'DEC'}, inplace=True)\n",
    "\n",
    "# Reorder columns by specifying the new order\n",
    "dp1_targets_summary.insert(2, 'RA', dp1_targets_summary.pop('RA'))\n",
    "dp1_targets_summary.insert(3, 'DEC', dp1_targets_summary.pop('DEC'))\n"
   ]
  },
  {
   "cell_type": "code",
   "execution_count": null,
   "id": "bb2bcd38-3307-4849-bbc8-4c0d29c326a8",
   "metadata": {},
   "outputs": [],
   "source": [
    "# Format the date to produce a latex table\n",
    "# Insert blank colum for nice spacing in table \n",
    "dp1_targets_summary.insert(4, ' ', ' ')\n",
    "\n",
    "# Escape the underscores in the field names and codes\n",
    "dp1_targets_summary.columns = dp1_targets_summary.columns.str.replace('_', r'\\_', regex=False)\n",
    "dp1_targets_summary = dp1_targets_summary.map(lambda x: x.replace('_', r'\\_') if isinstance(x, str) else x)\n",
    "\n",
    "dp1_targets_summary_latex = dp1_targets_summary.to_latex(index=False, \n",
    "                                                         escape=False, \n",
    "                                                         bold_rows=False,\n",
    "                            formatters={col: custom_float \n",
    "                                        for col in dp1_targets_summary.columns}\n",
    "                            )\n",
    "\n",
    "# Remove unnecessary latex\n",
    "data_latex = dp1_targets_summary_latex.split(\"midrule\\n\", 1)[-1]  # Keeps the part after 'midrule'\n",
    "data_latex = data_latex.split(\"\\\\bottomrule\", 1)[0]  # Keeps the part before 'bottomrule'"
   ]
  },
  {
   "cell_type": "code",
   "execution_count": null,
   "id": "58a83e85-036a-4010-add0-efee71e0bd02",
   "metadata": {},
   "outputs": [],
   "source": [
    "dp1_targets_summary"
   ]
  },
  {
   "cell_type": "code",
   "execution_count": null,
   "id": "8185a209-68d2-40c0-943c-c1c6201a661c",
   "metadata": {},
   "outputs": [],
   "source": [
    "data_latex"
   ]
  },
  {
   "cell_type": "code",
   "execution_count": null,
   "id": "c54d02ec-7d8c-4ed7-b982-41a5356a3546",
   "metadata": {},
   "outputs": [],
   "source": [
    "# Export to latex with deulxetable formatting \n",
    "with open(\"../tables/dp1_fields_summary.tex\", \"w\") as f:\n",
    "    f.write(r\"\"\"%%%%% This table is auto generated from data, DO NOT EDIT\n",
    "\\begin{deluxetable}{llcccp{0.5cm}p{0.6cm}p{0.3cm}p{0.3cm}p{0.3cm}p{0.3cm}r}\n",
    "\\caption{DP1 fields and pointing centers with the number of images in each band per field.  \n",
    "ICRS coordinates are in units of decimal degrees. \n",
    "\\label{tab:dp1_fields} }\n",
    "\\tablehead{\n",
    "  \\colhead{\\textbf{Field Code}} & \\colhead{\\textbf{Field Name}} & \\colhead{\\textbf{RA}} & \\colhead{\\textbf{DEC}} \n",
    "  & & \\multicolumn{6}{c}{\\textbf{Band}} & \\colhead{\\textbf{Total}}\\\\\n",
    "  \\cline{3-4} \\cline{6-11} \n",
    "  & & \\colhead{deg}  & \\colhead{deg}  & & u & g & r & i & z & y & \n",
    "}\n",
    "\\startdata\n",
    "\"\"\")\n",
    "    f.write(data_latex)\n",
    "    f.write(r\"\"\"\\enddata\n",
    "\\end{deluxetable}\n",
    "\"\"\")\n",
    "f.close()"
   ]
  }
 ],
 "metadata": {
  "kernelspec": {
   "display_name": "LSST",
   "language": "python",
   "name": "lsst"
  },
  "language_info": {
   "codemirror_mode": {
    "name": "ipython",
    "version": 3
   },
   "file_extension": ".py",
   "mimetype": "text/x-python",
   "name": "python",
   "nbconvert_exporter": "python",
   "pygments_lexer": "ipython3",
   "version": "3.12.10"
  }
 },
 "nbformat": 4,
 "nbformat_minor": 5
}
