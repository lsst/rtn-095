{
 "cells": [
  {
   "cell_type": "markdown",
   "id": "e3d0573f-1451-45ef-89cc-8285b3c2a595",
   "metadata": {},
   "source": [
    "## Notebook to produce DP1 fields and number of images summary table, table 1"
   ]
  },
  {
   "cell_type": "code",
   "execution_count": null,
   "id": "89a6c063-c0a5-47ea-813f-0446375850f1",
   "metadata": {},
   "outputs": [],
   "source": [
    "# Generic python packages\n",
    "import numpy as np\n",
    "import pandas as pd\n",
    "\n",
    "# LSST Science Pipelines \n",
    "from lsst.daf.butler import Butler\n",
    "\n",
    "# Set a standard figure size to use\n",
    "from lsst.utils.plotting import publication_plots, get_multiband_plot_colors"
   ]
  },
  {
   "cell_type": "code",
   "execution_count": null,
   "id": "4877a008-4dd7-45fd-863e-f9e1d1cc153f",
   "metadata": {},
   "outputs": [],
   "source": [
    "# Setyp publication style\n",
    "publication_plots.set_rubin_plotstyle()\n",
    "colors = get_multiband_plot_colors()\n",
    "bands = colors.keys()  # important to get the right order for plot legends"
   ]
  },
  {
   "cell_type": "code",
   "execution_count": null,
   "id": "42ccfd55-11a5-4c73-9603-6ce816ecd87c",
   "metadata": {},
   "outputs": [],
   "source": [
    "# Set up Butller\n",
    "instrument = 'LSSTComCam'\n",
    "collections = ['LSSTComCam/raw/all', \n",
    "               'LSSTComCam/DP1/defaults', \n",
    "               'LSSTComCam/calib',\n",
    "               'LSSTComCam/runs/DRP/DP1/v29_0_0/DM-50260',\n",
    "               'skymaps', ]\n",
    "skymap = 'lsst_cells_v1'\n",
    "butler = Butler(\"/repo/dp1\",\n",
    "                instrument=instrument, \n",
    "                collections=collections, \n",
    "                skymap=skymap)\n",
    "registry = butler.registry\n",
    "skymap = butler.get('skyMap', skymap=skymap)"
   ]
  },
  {
   "cell_type": "code",
   "execution_count": null,
   "id": "5d0a5818-d7d6-4ae1-ace2-d7a7a4268f02",
   "metadata": {},
   "outputs": [],
   "source": [
    "# target fields and description. \n",
    "# This needs to be changed to extract from the data and not hardcoded\n",
    "fields_table = {\n",
    "    \"Field\": ['47_Tuc','ECDFS','EDFS_comcam','Fornax_dSph','Rubin_SV_095_-25','Rubin_SV_38_7','Seagull'],\n",
    "    \"Description\": ['47 Tuc Globular Cluster', 'Extended Chandra Deep Field South', \n",
    "                    \"Rubin Euclid Deep Field South\", \"Fornax Dwarf Spheroidal Galaxy\",\n",
    "                    \"Low Galactic Latitude Field\",  \"Low Ecliptic Latitude Field\", \"Seagull Nebula\"],\n",
    "    \"RA\": [6.02, 53.13, 59.10, 40.00, 95, 37.86, 106.23],\n",
    "    \"DEC\": [-72.08, -28.10, -48.73, -34.45, -25.00, 6.98, -10.51 ]\n",
    "}\n",
    "\n",
    "df_fields = pd.DataFrame(fields_table)"
   ]
  },
  {
   "cell_type": "code",
   "execution_count": null,
   "id": "9be5fe83-d9cf-4eca-917e-23d92a94c129",
   "metadata": {},
   "outputs": [],
   "source": [
    "# Total number of exposures in DP1\n",
    "exposures = registry.queryDimensionRecords('exposure')\n",
    "exposures.count()"
   ]
  },
  {
   "cell_type": "code",
   "execution_count": null,
   "id": "3c44bcf1-8519-4a57-a946-b786e0d451aa",
   "metadata": {},
   "outputs": [],
   "source": [
    "# Extract exposures data into a data frame\n",
    "df = pd.DataFrame(columns=['id', 'target','type', 'reason','filter','ra', 'dec'])\n",
    "for count, info in enumerate(exposures):\n",
    "    try:\n",
    "        df.loc[count] = [info.id, info.target_name, info.observation_type,\n",
    "                         info.observation_reason, info.physical_filter, \n",
    "                         info.tracking_ra, info.tracking_dec]\n",
    "    except: \n",
    "        print(\">>>   Unexpected error:\", sys.exc_info()[0])\n",
    "assert len(df) == exposures.count()"
   ]
  },
  {
   "cell_type": "code",
   "execution_count": null,
   "id": "6c6ec6b2-8afe-415b-92ae-b8b3f07fe2a4",
   "metadata": {},
   "outputs": [],
   "source": [
    "# Physical filter -> band\n",
    "df['band'] = df['filter'].str.split('_').str[0]"
   ]
  },
  {
   "cell_type": "code",
   "execution_count": null,
   "id": "928ace09-869f-4327-a21a-4e212adc7d4a",
   "metadata": {},
   "outputs": [],
   "source": [
    "table = df.groupby(['target', 'band']).size().unstack(fill_value=0)[bands]\n",
    "table"
   ]
  },
  {
   "cell_type": "code",
   "execution_count": null,
   "id": "bb2bcd38-3307-4849-bbc8-4c0d29c326a8",
   "metadata": {},
   "outputs": [],
   "source": [
    "latex_code = table.to_latex(index=True, header=True)\n",
    "with open(\"../tables/dp1_visit-summary.tex\", \"w\") as f:\n",
    "    f.write(latex_code)"
   ]
  }
 ],
 "metadata": {
  "kernelspec": {
   "display_name": "LSST",
   "language": "python",
   "name": "lsst"
  },
  "language_info": {
   "codemirror_mode": {
    "name": "ipython",
    "version": 3
   },
   "file_extension": ".py",
   "mimetype": "text/x-python",
   "name": "python",
   "nbconvert_exporter": "python",
   "pygments_lexer": "ipython3",
   "version": "3.12.9"
  }
 },
 "nbformat": 4,
 "nbformat_minor": 5
}
