{
 "cells": [
  {
   "cell_type": "markdown",
   "id": "e3d0573f-1451-45ef-89cc-8285b3c2a595",
   "metadata": {},
   "source": [
    "# DP1 target fields summary\n",
    "\n",
    "The notebook produces table 2 -- Summary of the DP1 fields"
   ]
  },
  {
   "cell_type": "code",
   "execution_count": 1,
   "id": "89a6c063-c0a5-47ea-813f-0446375850f1",
   "metadata": {
    "execution": {
     "iopub.execute_input": "2025-04-27T23:06:10.754675Z",
     "iopub.status.busy": "2025-04-27T23:06:10.754459Z",
     "iopub.status.idle": "2025-04-27T23:06:12.388194Z",
     "shell.execute_reply": "2025-04-27T23:06:12.387674Z",
     "shell.execute_reply.started": "2025-04-27T23:06:10.754659Z"
    }
   },
   "outputs": [],
   "source": [
    "# Generic python packages\n",
    "import os\n",
    "import csv\n",
    "import requests\n",
    "import yaml\n",
    "import pandas as pd\n",
    "\n",
    "# LSST Science Pipelines \n",
    "from lsst.daf.butler import Butler\n",
    "\n",
    "# Set a standard figure size to use\n",
    "from lsst.utils.plotting import publication_plots, get_multiband_plot_colors\n",
    "import matplotlib.pyplot as plt"
   ]
  },
  {
   "cell_type": "code",
   "execution_count": 2,
   "id": "4877a008-4dd7-45fd-863e-f9e1d1cc153f",
   "metadata": {
    "execution": {
     "iopub.execute_input": "2025-04-27T23:06:12.389187Z",
     "iopub.status.busy": "2025-04-27T23:06:12.388821Z",
     "iopub.status.idle": "2025-04-27T23:06:12.398370Z",
     "shell.execute_reply": "2025-04-27T23:06:12.397937Z",
     "shell.execute_reply.started": "2025-04-27T23:06:12.389172Z"
    }
   },
   "outputs": [
    {
     "name": "stdout",
     "output_type": "stream",
     "text": [
      "Set up Rubin matplotlib plot style.\n",
      "This includes dicts for colors (bandpass colors for white background),\n",
      "  colors_black (bandpass colors for black background), symbols, and line_styles,\n",
      "  keyed on band (ugrizy).\n"
     ]
    }
   ],
   "source": [
    "# Setup publication style\n",
    "publication_plots.set_rubin_plotstyle()\n",
    "colors = get_multiband_plot_colors()\n",
    "bands = colors.keys()  # important to get the right order for plot legends\n",
    "bands_dict = publication_plots.get_band_dicts()\n",
    "%matplotlib inline"
   ]
  },
  {
   "cell_type": "code",
   "execution_count": 3,
   "id": "915036ae-e1f0-4b5b-9d9f-344ba98623cb",
   "metadata": {
    "execution": {
     "iopub.execute_input": "2025-04-27T23:06:12.398934Z",
     "iopub.status.busy": "2025-04-27T23:06:12.398804Z",
     "iopub.status.idle": "2025-04-27T23:06:12.405303Z",
     "shell.execute_reply": "2025-04-27T23:06:12.404951Z",
     "shell.execute_reply.started": "2025-04-27T23:06:12.398921Z"
    }
   },
   "outputs": [],
   "source": [
    "# Custom formatter: no trailing zeros if not needed\n",
    "def custom_float(x):\n",
    "    if isinstance(x, float):\n",
    "        s = f\"{x:.6f}\".rstrip('0').rstrip('.')\n",
    "        return s\n",
    "    return x"
   ]
  },
  {
   "cell_type": "code",
   "execution_count": 4,
   "id": "42ccfd55-11a5-4c73-9603-6ce816ecd87c",
   "metadata": {
    "execution": {
     "iopub.execute_input": "2025-04-27T23:06:12.406761Z",
     "iopub.status.busy": "2025-04-27T23:06:12.406612Z",
     "iopub.status.idle": "2025-04-27T23:06:12.995239Z",
     "shell.execute_reply": "2025-04-27T23:06:12.994731Z",
     "shell.execute_reply.started": "2025-04-27T23:06:12.406744Z"
    }
   },
   "outputs": [],
   "source": [
    "# Set up Butler\n",
    "instrument = 'LSSTComCam'\n",
    "collections = ['LSSTComCam/DP1/defaults', \n",
    "               'LSSTComCam/runs/DRP/DP1/v29_0_0/DM-50260',\n",
    "               'skymaps', ]\n",
    "skymap = 'lsst_cells_v1'\n",
    "butler = Butler(\"/repo/dp1\",\n",
    "                instrument=instrument, \n",
    "                collections=collections, \n",
    "                skymap=skymap)\n",
    "registry = butler.registry\n",
    "skymap = butler.get('skyMap', skymap=skymap)"
   ]
  },
  {
   "cell_type": "code",
   "execution_count": 5,
   "id": "9be5fe83-d9cf-4eca-917e-23d92a94c129",
   "metadata": {
    "execution": {
     "iopub.execute_input": "2025-04-27T23:06:12.996179Z",
     "iopub.status.busy": "2025-04-27T23:06:12.995770Z",
     "iopub.status.idle": "2025-04-27T23:06:14.010489Z",
     "shell.execute_reply": "2025-04-27T23:06:14.009958Z",
     "shell.execute_reply.started": "2025-04-27T23:06:12.996164Z"
    }
   },
   "outputs": [],
   "source": [
    "# Extract filter and pointing information about the fileds from the DP1 exposures\n",
    "exposures = registry.queryDimensionRecords('exposure')\n",
    "exp_df = pd.DataFrame(columns=['id', 'target', 'physical_filter','ra', 'dec'])\n",
    "for count, info in enumerate(exposures):\n",
    "    try:\n",
    "        exp_df.loc[count] = [info.id, info.target_name, info.physical_filter, \n",
    "                         info.tracking_ra, info.tracking_dec]\n",
    "    except: \n",
    "        print(\">>>   Unexpected error:\", sys.exc_info()[0])"
   ]
  },
  {
   "cell_type": "code",
   "execution_count": 6,
   "id": "7b5cfbdf-4fe6-4c58-adda-5de065a08183",
   "metadata": {
    "execution": {
     "iopub.execute_input": "2025-04-27T23:06:14.011151Z",
     "iopub.status.busy": "2025-04-27T23:06:14.011014Z",
     "iopub.status.idle": "2025-04-27T23:06:14.015035Z",
     "shell.execute_reply": "2025-04-27T23:06:14.014674Z",
     "shell.execute_reply.started": "2025-04-27T23:06:14.011138Z"
    }
   },
   "outputs": [],
   "source": [
    "# Physical filter -> band\n",
    "exp_df['band'] = exp_df['physical_filter'].str.split('_').str[0]"
   ]
  },
  {
   "cell_type": "code",
   "execution_count": 7,
   "id": "aa6bd9ec-868f-4458-890a-087b43375fa6",
   "metadata": {
    "execution": {
     "iopub.execute_input": "2025-04-27T23:06:14.015670Z",
     "iopub.status.busy": "2025-04-27T23:06:14.015451Z",
     "iopub.status.idle": "2025-04-27T23:06:14.031547Z",
     "shell.execute_reply": "2025-04-27T23:06:14.031085Z",
     "shell.execute_reply.started": "2025-04-27T23:06:14.015657Z"
    }
   },
   "outputs": [],
   "source": [
    "# List of fields in DP1\n",
    "dp1_fields = exp_df.target.unique()"
   ]
  },
  {
   "cell_type": "code",
   "execution_count": 8,
   "id": "022b9799-0a86-47ae-a864-9c4476e22ea8",
   "metadata": {
    "execution": {
     "iopub.execute_input": "2025-04-27T23:06:14.031972Z",
     "iopub.status.busy": "2025-04-27T23:06:14.031854Z",
     "iopub.status.idle": "2025-04-27T23:06:14.050483Z",
     "shell.execute_reply": "2025-04-27T23:06:14.049978Z",
     "shell.execute_reply.started": "2025-04-27T23:06:14.031960Z"
    }
   },
   "outputs": [],
   "source": [
    "# Load the FBS yaml file with target pointing centers\n",
    "# This file has been copied to this repo from \n",
    "# https://github.com/lsst-ts/ts_config_ocs/blob/develop/Scheduler/feature_scheduler/maintel/fieldsurvey_centers.yaml\n",
    "file_path = '../data/field_survey_centers.yaml'\n",
    "\n",
    "try:\n",
    "    # Open the file and load the YAML data\n",
    "    with open(file_path, 'r') as file:\n",
    "        targets = yaml.safe_load(file)\n",
    "\n",
    "        if 'comcam_sv_targets' in targets:\n",
    "            comcam_sv_targets = targets['comcam_sv_targets']\n",
    "\n",
    "except FileNotFoundError:\n",
    "    print(f\"Error: The file at {file_path} was not found.\")\n",
    "except yaml.YAMLError as e:\n",
    "    print(f\"Error parsing the YAML file: {e}\")"
   ]
  },
  {
   "cell_type": "code",
   "execution_count": 9,
   "id": "5e8b040a-f837-4b4b-8b25-e978e4729d4f",
   "metadata": {
    "execution": {
     "iopub.execute_input": "2025-04-27T23:06:14.051073Z",
     "iopub.status.busy": "2025-04-27T23:06:14.050946Z",
     "iopub.status.idle": "2025-04-27T23:06:14.057771Z",
     "shell.execute_reply": "2025-04-27T23:06:14.057418Z",
     "shell.execute_reply.started": "2025-04-27T23:06:14.051061Z"
    }
   },
   "outputs": [],
   "source": [
    "# Extract the FBS pointing centers for the fields in DP1\n",
    "# Slew ICRS is not in the list\n",
    "dp1_fields_and_centers = {field: pointing_center for field, pointing_center in comcam_sv_targets.items() if field in dp1_fields}"
   ]
  },
  {
   "cell_type": "code",
   "execution_count": 10,
   "id": "1524f47b-c580-4547-b059-f0425b08dba2",
   "metadata": {
    "execution": {
     "iopub.execute_input": "2025-04-27T23:06:14.058348Z",
     "iopub.status.busy": "2025-04-27T23:06:14.058220Z",
     "iopub.status.idle": "2025-04-27T23:06:14.072054Z",
     "shell.execute_reply": "2025-04-27T23:06:14.071643Z",
     "shell.execute_reply.started": "2025-04-27T23:06:14.058336Z"
    }
   },
   "outputs": [],
   "source": [
    "# Statistics on the pointings \n",
    "stats = exp_df.groupby('target').size()\n",
    "stats\n",
    "\n",
    "# Group by and calculate various statistics\n",
    "field_stats = exp_df.groupby('target')[['ra','dec']].agg([\n",
    "    'count', 'mean', 'median', 'std', 'min',   'max',    \n",
    "\n",
    "])"
   ]
  },
  {
   "cell_type": "code",
   "execution_count": 11,
   "id": "3c44bcf1-8519-4a57-a946-b786e0d451aa",
   "metadata": {
    "execution": {
     "iopub.execute_input": "2025-04-27T23:06:14.072593Z",
     "iopub.status.busy": "2025-04-27T23:06:14.072469Z",
     "iopub.status.idle": "2025-04-27T23:06:14.083913Z",
     "shell.execute_reply": "2025-04-27T23:06:14.083551Z",
     "shell.execute_reply.started": "2025-04-27T23:06:14.072581Z"
    }
   },
   "outputs": [],
   "source": [
    "# Add slew_icrs to the list of DP1 fields, use the median ra, dec for all science-grade visits included \n",
    "# slew_icrs_ra, slew_icrs_dec = exp_df[exp_df['target'] == 'slew_icrs'].groupby('target')[['ra', 'dec']].median().iloc[0].to_list()\n",
    "slew_icrs_ra = field_stats.loc['slew_icrs', 'ra']['median']\n",
    "slew_icrs_ra\n",
    "slew_icrs_dec = field_stats.loc['slew_icrs', 'dec']['median']\n",
    "dp1_fields_and_centers['slew_icrs'] = {'description': 'Engineering pointing',\n",
    "                                       'ra': f\"{slew_icrs_ra:.4g}\", 'dec':f\"{slew_icrs_dec:.4g}\"}"
   ]
  },
  {
   "cell_type": "code",
   "execution_count": 12,
   "id": "ba7b392f-b3b4-471d-9d8f-61c1e03f79a7",
   "metadata": {
    "execution": {
     "iopub.execute_input": "2025-04-27T23:06:14.084421Z",
     "iopub.status.busy": "2025-04-27T23:06:14.084301Z",
     "iopub.status.idle": "2025-04-27T23:06:14.095619Z",
     "shell.execute_reply": "2025-04-27T23:06:14.095217Z",
     "shell.execute_reply.started": "2025-04-27T23:06:14.084409Z"
    }
   },
   "outputs": [],
   "source": [
    "# Add in a description for the paper table \n",
    "# Download from github and update adding field descriptions - TODO"
   ]
  },
  {
   "cell_type": "code",
   "execution_count": 13,
   "id": "741d264f-8e45-42a2-bc02-a420d430979a",
   "metadata": {
    "execution": {
     "iopub.execute_input": "2025-04-27T23:06:14.096251Z",
     "iopub.status.busy": "2025-04-27T23:06:14.096126Z",
     "iopub.status.idle": "2025-04-27T23:06:14.112247Z",
     "shell.execute_reply": "2025-04-27T23:06:14.111857Z",
     "shell.execute_reply.started": "2025-04-27T23:06:14.096239Z"
    }
   },
   "outputs": [
    {
     "data": {
      "text/html": [
       "<div>\n",
       "<style scoped>\n",
       "    .dataframe tbody tr th:only-of-type {\n",
       "        vertical-align: middle;\n",
       "    }\n",
       "\n",
       "    .dataframe tbody tr th {\n",
       "        vertical-align: top;\n",
       "    }\n",
       "\n",
       "    .dataframe thead th {\n",
       "        text-align: right;\n",
       "    }\n",
       "</style>\n",
       "<table border=\"1\" class=\"dataframe\">\n",
       "  <thead>\n",
       "    <tr style=\"text-align: right;\">\n",
       "      <th></th>\n",
       "      <th>field</th>\n",
       "      <th>description</th>\n",
       "      <th>ra</th>\n",
       "      <th>dec</th>\n",
       "    </tr>\n",
       "  </thead>\n",
       "  <tbody>\n",
       "    <tr>\n",
       "      <th>5</th>\n",
       "      <td>47_Tuc</td>\n",
       "      <td>47 Tucanae Globular Cluster</td>\n",
       "      <td>6.022329</td>\n",
       "      <td>-72.081444</td>\n",
       "    </tr>\n",
       "    <tr>\n",
       "      <th>1</th>\n",
       "      <td>ECDFS</td>\n",
       "      <td>Extended Chandra Deep Field South</td>\n",
       "      <td>53.125</td>\n",
       "      <td>-28.1</td>\n",
       "    </tr>\n",
       "    <tr>\n",
       "      <th>2</th>\n",
       "      <td>EDFS_comcam</td>\n",
       "      <td>Rubin SV Euclid Deep Field South</td>\n",
       "      <td>59.1004</td>\n",
       "      <td>-48.73</td>\n",
       "    </tr>\n",
       "    <tr>\n",
       "      <th>4</th>\n",
       "      <td>Fornax_dSph</td>\n",
       "      <td>Fornax Dwarf Spheroidal Galaxy</td>\n",
       "      <td>39.9971</td>\n",
       "      <td>-34.4492</td>\n",
       "    </tr>\n",
       "    <tr>\n",
       "      <th>0</th>\n",
       "      <td>Rubin_SV_095_-25</td>\n",
       "      <td>Rubin SV Low Galactic Latitude Field</td>\n",
       "      <td>95.0</td>\n",
       "      <td>-25.0</td>\n",
       "    </tr>\n",
       "    <tr>\n",
       "      <th>3</th>\n",
       "      <td>Rubin_SV_38_7</td>\n",
       "      <td>Rubin SV Low Ecliptic Latitude Field</td>\n",
       "      <td>37.86</td>\n",
       "      <td>6.98</td>\n",
       "    </tr>\n",
       "    <tr>\n",
       "      <th>6</th>\n",
       "      <td>Seagull</td>\n",
       "      <td>Seagull Nebula</td>\n",
       "      <td>106.23</td>\n",
       "      <td>-10.51</td>\n",
       "    </tr>\n",
       "    <tr>\n",
       "      <th>7</th>\n",
       "      <td>slew_icrs</td>\n",
       "      <td>Engineering pointing</td>\n",
       "      <td>53.17</td>\n",
       "      <td>-28.07</td>\n",
       "    </tr>\n",
       "  </tbody>\n",
       "</table>\n",
       "</div>"
      ],
      "text/plain": [
       "              field                           description        ra        dec\n",
       "5            47_Tuc           47 Tucanae Globular Cluster  6.022329 -72.081444\n",
       "1             ECDFS     Extended Chandra Deep Field South    53.125      -28.1\n",
       "2       EDFS_comcam      Rubin SV Euclid Deep Field South   59.1004     -48.73\n",
       "4       Fornax_dSph        Fornax Dwarf Spheroidal Galaxy   39.9971   -34.4492\n",
       "0  Rubin_SV_095_-25  Rubin SV Low Galactic Latitude Field      95.0      -25.0\n",
       "3     Rubin_SV_38_7  Rubin SV Low Ecliptic Latitude Field     37.86       6.98\n",
       "6           Seagull                        Seagull Nebula    106.23     -10.51\n",
       "7         slew_icrs                  Engineering pointing     53.17     -28.07"
      ]
     },
     "execution_count": 13,
     "metadata": {},
     "output_type": "execute_result"
    }
   ],
   "source": [
    "df_fields_summary = pd.DataFrame.from_dict(dp1_fields_and_centers, orient='index')\n",
    "df_fields_summary.reset_index(inplace=True)\n",
    "df_fields_summary.rename(columns={'index': 'field'}, inplace=True)\n",
    "df_fields_summary= df_fields_summary.sort_values(by='field')\n",
    "df_fields_summary"
   ]
  },
  {
   "cell_type": "code",
   "execution_count": 14,
   "id": "928ace09-869f-4327-a21a-4e212adc7d4a",
   "metadata": {
    "execution": {
     "iopub.execute_input": "2025-04-27T23:06:14.112770Z",
     "iopub.status.busy": "2025-04-27T23:06:14.112638Z",
     "iopub.status.idle": "2025-04-27T23:06:14.123732Z",
     "shell.execute_reply": "2025-04-27T23:06:14.123370Z",
     "shell.execute_reply.started": "2025-04-27T23:06:14.112758Z"
    }
   },
   "outputs": [
    {
     "data": {
      "text/html": [
       "<div>\n",
       "<style scoped>\n",
       "    .dataframe tbody tr th:only-of-type {\n",
       "        vertical-align: middle;\n",
       "    }\n",
       "\n",
       "    .dataframe tbody tr th {\n",
       "        vertical-align: top;\n",
       "    }\n",
       "\n",
       "    .dataframe thead th {\n",
       "        text-align: right;\n",
       "    }\n",
       "</style>\n",
       "<table border=\"1\" class=\"dataframe\">\n",
       "  <thead>\n",
       "    <tr style=\"text-align: right;\">\n",
       "      <th>band</th>\n",
       "      <th>u</th>\n",
       "      <th>g</th>\n",
       "      <th>r</th>\n",
       "      <th>i</th>\n",
       "      <th>z</th>\n",
       "      <th>y</th>\n",
       "    </tr>\n",
       "    <tr>\n",
       "      <th>target</th>\n",
       "      <th></th>\n",
       "      <th></th>\n",
       "      <th></th>\n",
       "      <th></th>\n",
       "      <th></th>\n",
       "      <th></th>\n",
       "    </tr>\n",
       "  </thead>\n",
       "  <tbody>\n",
       "    <tr>\n",
       "      <th>47_Tuc</th>\n",
       "      <td>6</td>\n",
       "      <td>10</td>\n",
       "      <td>32</td>\n",
       "      <td>19</td>\n",
       "      <td>0</td>\n",
       "      <td>5</td>\n",
       "    </tr>\n",
       "    <tr>\n",
       "      <th>ECDFS</th>\n",
       "      <td>25</td>\n",
       "      <td>212</td>\n",
       "      <td>206</td>\n",
       "      <td>121</td>\n",
       "      <td>125</td>\n",
       "      <td>30</td>\n",
       "    </tr>\n",
       "    <tr>\n",
       "      <th>EDFS_comcam</th>\n",
       "      <td>20</td>\n",
       "      <td>61</td>\n",
       "      <td>87</td>\n",
       "      <td>42</td>\n",
       "      <td>42</td>\n",
       "      <td>20</td>\n",
       "    </tr>\n",
       "    <tr>\n",
       "      <th>Fornax_dSph</th>\n",
       "      <td>0</td>\n",
       "      <td>5</td>\n",
       "      <td>25</td>\n",
       "      <td>12</td>\n",
       "      <td>0</td>\n",
       "      <td>0</td>\n",
       "    </tr>\n",
       "    <tr>\n",
       "      <th>Rubin_SV_095_-25</th>\n",
       "      <td>33</td>\n",
       "      <td>82</td>\n",
       "      <td>84</td>\n",
       "      <td>23</td>\n",
       "      <td>60</td>\n",
       "      <td>10</td>\n",
       "    </tr>\n",
       "    <tr>\n",
       "      <th>Rubin_SV_38_7</th>\n",
       "      <td>0</td>\n",
       "      <td>44</td>\n",
       "      <td>40</td>\n",
       "      <td>55</td>\n",
       "      <td>20</td>\n",
       "      <td>0</td>\n",
       "    </tr>\n",
       "    <tr>\n",
       "      <th>Seagull</th>\n",
       "      <td>10</td>\n",
       "      <td>37</td>\n",
       "      <td>43</td>\n",
       "      <td>0</td>\n",
       "      <td>10</td>\n",
       "      <td>0</td>\n",
       "    </tr>\n",
       "    <tr>\n",
       "      <th>slew_icrs</th>\n",
       "      <td>18</td>\n",
       "      <td>18</td>\n",
       "      <td>31</td>\n",
       "      <td>41</td>\n",
       "      <td>28</td>\n",
       "      <td>0</td>\n",
       "    </tr>\n",
       "  </tbody>\n",
       "</table>\n",
       "</div>"
      ],
      "text/plain": [
       "band               u    g    r    i    z   y\n",
       "target                                      \n",
       "47_Tuc             6   10   32   19    0   5\n",
       "ECDFS             25  212  206  121  125  30\n",
       "EDFS_comcam       20   61   87   42   42  20\n",
       "Fornax_dSph        0    5   25   12    0   0\n",
       "Rubin_SV_095_-25  33   82   84   23   60  10\n",
       "Rubin_SV_38_7      0   44   40   55   20   0\n",
       "Seagull           10   37   43    0   10   0\n",
       "slew_icrs         18   18   31   41   28   0"
      ]
     },
     "execution_count": 14,
     "metadata": {},
     "output_type": "execute_result"
    }
   ],
   "source": [
    "exp_summary_table = table = exp_df.groupby(['target', 'band']).size().unstack(fill_value=0)[bands]\n",
    "exp_summary_table"
   ]
  },
  {
   "cell_type": "code",
   "execution_count": 20,
   "id": "eeaabdc0-1c92-4c46-8f0a-6bb488d3daa0",
   "metadata": {
    "execution": {
     "iopub.execute_input": "2025-04-27T23:08:10.666062Z",
     "iopub.status.busy": "2025-04-27T23:08:10.665670Z",
     "iopub.status.idle": "2025-04-27T23:08:10.672030Z",
     "shell.execute_reply": "2025-04-27T23:08:10.671545Z",
     "shell.execute_reply.started": "2025-04-27T23:08:10.666046Z"
    }
   },
   "outputs": [],
   "source": [
    "# Check all targets/fields sum to total number of exposures\n",
    "# The summary table contains the number of exposures. SHould it contain the number of visits? There are a few less?\n",
    "total_sum = exp_summary_table.to_numpy().sum()\n",
    "assert total_sum == exposures.count()"
   ]
  },
  {
   "cell_type": "code",
   "execution_count": 15,
   "id": "bc83a79a-4b17-40f3-a511-4d4b76693dc9",
   "metadata": {
    "execution": {
     "iopub.execute_input": "2025-04-27T23:06:14.124264Z",
     "iopub.status.busy": "2025-04-27T23:06:14.124139Z",
     "iopub.status.idle": "2025-04-27T23:06:14.131467Z",
     "shell.execute_reply": "2025-04-27T23:06:14.131129Z",
     "shell.execute_reply.started": "2025-04-27T23:06:14.124252Z"
    }
   },
   "outputs": [
    {
     "data": {
      "text/html": [
       "<div>\n",
       "<style scoped>\n",
       "    .dataframe tbody tr th:only-of-type {\n",
       "        vertical-align: middle;\n",
       "    }\n",
       "\n",
       "    .dataframe tbody tr th {\n",
       "        vertical-align: top;\n",
       "    }\n",
       "\n",
       "    .dataframe thead th {\n",
       "        text-align: right;\n",
       "    }\n",
       "</style>\n",
       "<table border=\"1\" class=\"dataframe\">\n",
       "  <thead>\n",
       "    <tr style=\"text-align: right;\">\n",
       "      <th></th>\n",
       "      <th>field</th>\n",
       "      <th>description</th>\n",
       "      <th>ra</th>\n",
       "      <th>dec</th>\n",
       "      <th>u</th>\n",
       "      <th>g</th>\n",
       "      <th>r</th>\n",
       "      <th>i</th>\n",
       "      <th>z</th>\n",
       "      <th>y</th>\n",
       "    </tr>\n",
       "  </thead>\n",
       "  <tbody>\n",
       "    <tr>\n",
       "      <th>0</th>\n",
       "      <td>47_Tuc</td>\n",
       "      <td>47 Tucanae Globular Cluster</td>\n",
       "      <td>6.022329</td>\n",
       "      <td>-72.081444</td>\n",
       "      <td>6</td>\n",
       "      <td>10</td>\n",
       "      <td>32</td>\n",
       "      <td>19</td>\n",
       "      <td>0</td>\n",
       "      <td>5</td>\n",
       "    </tr>\n",
       "    <tr>\n",
       "      <th>1</th>\n",
       "      <td>ECDFS</td>\n",
       "      <td>Extended Chandra Deep Field South</td>\n",
       "      <td>53.125</td>\n",
       "      <td>-28.1</td>\n",
       "      <td>25</td>\n",
       "      <td>212</td>\n",
       "      <td>206</td>\n",
       "      <td>121</td>\n",
       "      <td>125</td>\n",
       "      <td>30</td>\n",
       "    </tr>\n",
       "    <tr>\n",
       "      <th>2</th>\n",
       "      <td>EDFS_comcam</td>\n",
       "      <td>Rubin SV Euclid Deep Field South</td>\n",
       "      <td>59.1004</td>\n",
       "      <td>-48.73</td>\n",
       "      <td>20</td>\n",
       "      <td>61</td>\n",
       "      <td>87</td>\n",
       "      <td>42</td>\n",
       "      <td>42</td>\n",
       "      <td>20</td>\n",
       "    </tr>\n",
       "    <tr>\n",
       "      <th>3</th>\n",
       "      <td>Fornax_dSph</td>\n",
       "      <td>Fornax Dwarf Spheroidal Galaxy</td>\n",
       "      <td>39.9971</td>\n",
       "      <td>-34.4492</td>\n",
       "      <td>0</td>\n",
       "      <td>5</td>\n",
       "      <td>25</td>\n",
       "      <td>12</td>\n",
       "      <td>0</td>\n",
       "      <td>0</td>\n",
       "    </tr>\n",
       "    <tr>\n",
       "      <th>4</th>\n",
       "      <td>Rubin_SV_095_-25</td>\n",
       "      <td>Rubin SV Low Galactic Latitude Field</td>\n",
       "      <td>95.0</td>\n",
       "      <td>-25.0</td>\n",
       "      <td>33</td>\n",
       "      <td>82</td>\n",
       "      <td>84</td>\n",
       "      <td>23</td>\n",
       "      <td>60</td>\n",
       "      <td>10</td>\n",
       "    </tr>\n",
       "    <tr>\n",
       "      <th>5</th>\n",
       "      <td>Rubin_SV_38_7</td>\n",
       "      <td>Rubin SV Low Ecliptic Latitude Field</td>\n",
       "      <td>37.86</td>\n",
       "      <td>6.98</td>\n",
       "      <td>0</td>\n",
       "      <td>44</td>\n",
       "      <td>40</td>\n",
       "      <td>55</td>\n",
       "      <td>20</td>\n",
       "      <td>0</td>\n",
       "    </tr>\n",
       "    <tr>\n",
       "      <th>6</th>\n",
       "      <td>Seagull</td>\n",
       "      <td>Seagull Nebula</td>\n",
       "      <td>106.23</td>\n",
       "      <td>-10.51</td>\n",
       "      <td>10</td>\n",
       "      <td>37</td>\n",
       "      <td>43</td>\n",
       "      <td>0</td>\n",
       "      <td>10</td>\n",
       "      <td>0</td>\n",
       "    </tr>\n",
       "    <tr>\n",
       "      <th>7</th>\n",
       "      <td>slew_icrs</td>\n",
       "      <td>Engineering pointing</td>\n",
       "      <td>53.17</td>\n",
       "      <td>-28.07</td>\n",
       "      <td>18</td>\n",
       "      <td>18</td>\n",
       "      <td>31</td>\n",
       "      <td>41</td>\n",
       "      <td>28</td>\n",
       "      <td>0</td>\n",
       "    </tr>\n",
       "  </tbody>\n",
       "</table>\n",
       "</div>"
      ],
      "text/plain": [
       "              field                           description        ra  \\\n",
       "0            47_Tuc           47 Tucanae Globular Cluster  6.022329   \n",
       "1             ECDFS     Extended Chandra Deep Field South    53.125   \n",
       "2       EDFS_comcam      Rubin SV Euclid Deep Field South   59.1004   \n",
       "3       Fornax_dSph        Fornax Dwarf Spheroidal Galaxy   39.9971   \n",
       "4  Rubin_SV_095_-25  Rubin SV Low Galactic Latitude Field      95.0   \n",
       "5     Rubin_SV_38_7  Rubin SV Low Ecliptic Latitude Field     37.86   \n",
       "6           Seagull                        Seagull Nebula    106.23   \n",
       "7         slew_icrs                  Engineering pointing     53.17   \n",
       "\n",
       "         dec   u    g    r    i    z   y  \n",
       "0 -72.081444   6   10   32   19    0   5  \n",
       "1      -28.1  25  212  206  121  125  30  \n",
       "2     -48.73  20   61   87   42   42  20  \n",
       "3   -34.4492   0    5   25   12    0   0  \n",
       "4      -25.0  33   82   84   23   60  10  \n",
       "5       6.98   0   44   40   55   20   0  \n",
       "6     -10.51  10   37   43    0   10   0  \n",
       "7     -28.07  18   18   31   41   28   0  "
      ]
     },
     "execution_count": 15,
     "metadata": {},
     "output_type": "execute_result"
    }
   ],
   "source": [
    "# Join on field/target \n",
    "result = pd.merge(df_fields_summary, exp_summary_table, how='left', left_on='field', right_on='target')\n",
    "result"
   ]
  },
  {
   "cell_type": "code",
   "execution_count": 16,
   "id": "bb2bcd38-3307-4849-bbc8-4c0d29c326a8",
   "metadata": {
    "execution": {
     "iopub.execute_input": "2025-04-27T23:06:14.132006Z",
     "iopub.status.busy": "2025-04-27T23:06:14.131880Z",
     "iopub.status.idle": "2025-04-27T23:06:14.195949Z",
     "shell.execute_reply": "2025-04-27T23:06:14.195421Z",
     "shell.execute_reply.started": "2025-04-27T23:06:14.131994Z"
    }
   },
   "outputs": [],
   "source": [
    "# Format the date to produce a latex table\n",
    "#Insert blank colum for nice spacing in table \n",
    "result.insert(4, ' ', ' ')\n",
    "\n",
    "# Escape the underscores in the field names and codes\n",
    "result.columns = result.columns.str.replace('_', r'\\_', regex=False)\n",
    "result = result.map(lambda x: x.replace('_', r'\\_') if isinstance(x, str) else x)\n",
    "\n",
    "data_latex = result.to_latex(index=False, escape=False, bold_rows=False,\n",
    "                            formatters={col: custom_float for col in result.columns}\n",
    "                            )\n",
    "\n",
    "# Remove unnecessary latex\n",
    "res = data_latex.split(\"midrule\\n\", 1)[-1]  # Keeps the part after 'midrule'\n",
    "res = res.split(\"\\\\bottomrule\", 1)[0]  # Keeps the part before 'bottomrule'"
   ]
  },
  {
   "cell_type": "code",
   "execution_count": 17,
   "id": "c54d02ec-7d8c-4ed7-b982-41a5356a3546",
   "metadata": {
    "execution": {
     "iopub.execute_input": "2025-04-27T23:06:14.196890Z",
     "iopub.status.busy": "2025-04-27T23:06:14.196501Z",
     "iopub.status.idle": "2025-04-27T23:06:14.201275Z",
     "shell.execute_reply": "2025-04-27T23:06:14.200845Z",
     "shell.execute_reply.started": "2025-04-27T23:06:14.196875Z"
    }
   },
   "outputs": [],
   "source": [
    "# Export to latex with deulxetable formatting \n",
    "\n",
    "with open(\"../tables/dp1_fields1.tex\", \"w\") as f:\n",
    "    f.write(r\"\"\"%%%%% This table is auto generated from data, DO NOT EDIT\n",
    "\\begin{deluxetable}{llcccp{0.5cm}p{0.5cm}p{0.5cm}p{0.5cm}p{0.5cm}p{0.5cm}}\n",
    "\\caption{DP1 fields and pointing centers with the number of images in each band per field.  \n",
    "ICRS coordinates are in units of decimal degrees. \n",
    "\\textcolor{red}{N IMAGES to be updated when data processing complete} \\label{tab:dp1_fields} }\n",
    "\\tablehead{\n",
    "  \\colhead{\\textbf{Field Code}} & \\colhead{\\textbf{Field Name}} & \\colhead{\\textbf{RA}} & \\colhead{\\textbf{DEC}} \n",
    "  & & \\multicolumn{6}{c}{\\textbf{Band}}\\\\\n",
    "  \\cline{3-4} \\cline{6-11} \n",
    "  & & \\colhead{deg}  & \\colhead{deg}  & & u & g & r & i & z & y \n",
    "}\n",
    "\\startdata\n",
    "\"\"\")\n",
    "    f.write(res)\n",
    "    f.write(r\"\"\"\\enddata\n",
    "\\end{deluxetable}\n",
    "\"\"\")\n",
    "f.close()"
   ]
  },
  {
   "cell_type": "markdown",
   "id": "8067d9c1-c865-4e2d-bbd2-e84d07d529a5",
   "metadata": {},
   "source": [
    "# Plot of target fields "
   ]
  }
 ],
 "metadata": {
  "kernelspec": {
   "display_name": "LSST",
   "language": "python",
   "name": "lsst"
  },
  "language_info": {
   "codemirror_mode": {
    "name": "ipython",
    "version": 3
   },
   "file_extension": ".py",
   "mimetype": "text/x-python",
   "name": "python",
   "nbconvert_exporter": "python",
   "pygments_lexer": "ipython3",
   "version": "3.12.9"
  }
 },
 "nbformat": 4,
 "nbformat_minor": 5
}
