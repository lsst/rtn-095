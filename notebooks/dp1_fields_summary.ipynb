{
 "cells": [
  {
   "cell_type": "markdown",
   "id": "e3d0573f-1451-45ef-89cc-8285b3c2a595",
   "metadata": {},
   "source": [
    "# DP1 target fields summary\n",
    "\n",
    "The notebook computes statistics and summaries of all the data in the 7 DP1 fields. It computes a number of parameters to beuse din the paper<br>\n",
    "\n",
    "Tables produced:<br> \n",
    "* Table 2: Summary of the DP1 fields.<br>\n",
    "* Table X: tracts per fields for the datapriducts section <br>\n",
    "\n",
    "Figures Produced: <br>\n",
    "* Figure X: DP1 fields superimposed on survey baseline"
   ]
  },
  {
   "cell_type": "markdown",
   "id": "36f63acb-86a9-42e8-b250-081cae56973b",
   "metadata": {},
   "source": [
    "## Setup"
   ]
  },
  {
   "cell_type": "code",
   "execution_count": 1,
   "id": "89a6c063-c0a5-47ea-813f-0446375850f1",
   "metadata": {
    "execution": {
     "iopub.execute_input": "2025-05-14T16:20:20.061923Z",
     "iopub.status.busy": "2025-05-14T16:20:20.061651Z",
     "iopub.status.idle": "2025-05-14T16:20:22.164984Z",
     "shell.execute_reply": "2025-05-14T16:20:22.164413Z",
     "shell.execute_reply.started": "2025-05-14T16:20:20.061906Z"
    }
   },
   "outputs": [],
   "source": [
    "# Generic python packages\n",
    "import os\n",
    "import csv\n",
    "import requests\n",
    "import yaml\n",
    "import numpy as np\n",
    "import pandas as pd\n",
    "from pathlib import Path\n",
    "\n",
    "# LSST Science Pipelines \n",
    "from lsst.daf.butler import Butler\n",
    "\n",
    "# RSP\n",
    "from lsst.rsp import get_tap_service\n",
    "\n",
    "# Rubin scheduler\n",
    "from rubin_scheduler.scheduler.utils import get_current_footprint\n",
    "from rubin_scheduler.data.scheduler_download_data import scheduler_download_data\n",
    "import healpy as hp\n",
    "from rubin_nights.connections import get_access_token\n",
    "from rubin_nights.consdb_query import ConsDbTap\n",
    "\n",
    "# Set rubin publication plot style\n",
    "from lsst.utils.plotting import publication_plots, get_multiband_plot_colors\n",
    "import matplotlib.pyplot as plt\n",
    "import colorcet as cc\n",
    "from matplotlib.patches import Patch\n",
    "\n",
    "import warnings\n",
    "warnings.filterwarnings(\"ignore\", category=UserWarning)"
   ]
  },
  {
   "cell_type": "markdown",
   "id": "403a6b88-1ddb-4ae0-a27e-fb48c85bf9ac",
   "metadata": {},
   "source": [
    "### Install dependencies"
   ]
  },
  {
   "cell_type": "code",
   "execution_count": 2,
   "id": "acb794a1-63f3-4666-a137-5b32e0257471",
   "metadata": {
    "execution": {
     "iopub.execute_input": "2025-05-14T16:20:22.165912Z",
     "iopub.status.busy": "2025-05-14T16:20:22.165541Z",
     "iopub.status.idle": "2025-05-14T16:20:34.762694Z",
     "shell.execute_reply": "2025-05-14T16:20:34.762200Z",
     "shell.execute_reply.started": "2025-05-14T16:20:22.165897Z"
    }
   },
   "outputs": [
    {
     "name": "stdout",
     "output_type": "stream",
     "text": [
      "Downloading file: https://s3df.slac.stanford.edu/data/rubin/sim-data/rubin_sim_data/scheduler_2023_10_16.tgz\n"
     ]
    },
    {
     "data": {
      "application/vnd.jupyter.widget-view+json": {
       "model_id": "e1a755e406c148858b7c9656d70ae092",
       "version_major": 2,
       "version_minor": 0
      },
      "text/plain": [
       "  0%|          | 0.00/141M [00:00<?, ?iB/s]"
      ]
     },
     "metadata": {},
     "output_type": "display_data"
    },
    {
     "name": "stdout",
     "output_type": "stream",
     "text": [
      "Writing to /sdf/data/rubin/user/lguy/lsst/repos/rtn-095-sp-2112/scheduler_data/scheduler_2023_10_16.tgz\n",
      "Downloading file: https://s3df.slac.stanford.edu/data/rubin/sim-data/rubin_sim_data/site_models_2023_10_02.tgz\n"
     ]
    },
    {
     "data": {
      "application/vnd.jupyter.widget-view+json": {
       "model_id": "b58d08f756964f2993c917bf7e74187b",
       "version_major": 2,
       "version_minor": 0
      },
      "text/plain": [
       "  0%|          | 0.00/85.5M [00:00<?, ?iB/s]"
      ]
     },
     "metadata": {},
     "output_type": "display_data"
    },
    {
     "name": "stdout",
     "output_type": "stream",
     "text": [
      "Writing to /sdf/data/rubin/user/lguy/lsst/repos/rtn-095-sp-2112/scheduler_data/site_models_2023_10_02.tgz\n",
      "Downloading file: https://s3df.slac.stanford.edu/data/rubin/sim-data/rubin_sim_data/skybrightness_pre_2024_11_19.tgz\n"
     ]
    },
    {
     "data": {
      "application/vnd.jupyter.widget-view+json": {
       "model_id": "3f558e450b414ccaa2194870754ee0d8",
       "version_major": 2,
       "version_minor": 0
      },
      "text/plain": [
       "  0%|          | 0.00/198M [00:00<?, ?iB/s]"
      ]
     },
     "metadata": {},
     "output_type": "display_data"
    },
    {
     "name": "stdout",
     "output_type": "stream",
     "text": [
      "Writing to /sdf/data/rubin/user/lguy/lsst/repos/rtn-095-sp-2112/scheduler_data/skybrightness_pre_2024_11_19.tgz\n",
      "Downloading file: https://s3df.slac.stanford.edu/data/rubin/sim-data/rubin_sim_data/utils_2023_11_02.tgz\n"
     ]
    },
    {
     "data": {
      "application/vnd.jupyter.widget-view+json": {
       "model_id": "8539b38b052049fe948ec6699d2e71a1",
       "version_major": 2,
       "version_minor": 0
      },
      "text/plain": [
       "  0%|          | 0.00/24.4k [00:00<?, ?iB/s]"
      ]
     },
     "metadata": {},
     "output_type": "display_data"
    },
    {
     "name": "stdout",
     "output_type": "stream",
     "text": [
      "Writing to /sdf/data/rubin/user/lguy/lsst/repos/rtn-095-sp-2112/scheduler_data/utils_2023_11_02.tgz\n",
      "Current/updated data versions:\n",
      "scheduler\t\tscheduler_2023_10_16.tgz\n",
      "site_models\tsite_models_2023_10_02.tgz\n",
      "skybrightness_pre\tskybrightness_pre_2024_11_19.tgz\n",
      "utils\t\tutils_2023_11_02.tgz\n"
     ]
    }
   ],
   "source": [
    "# Install the scheduler data if not already done \n",
    "\n",
    "# Set the scheduler data path\n",
    "data_dir = Path('../scheduler_data')\n",
    "os.environ['RUBIN_SIM_DATA_DIR'] = str(data_dir.resolve())\n",
    "assert os.getenv('RUBIN_SIM_DATA_DIR') == str(data_dir.resolve())\n",
    "\n",
    "# Run the install script\n",
    "%run /opt/lsst/software/stack/conda/envs/lsst-scipipe-10.0.0/bin/scheduler_download_data"
   ]
  },
  {
   "cell_type": "markdown",
   "id": "f91a6fb8-e50d-49c5-8bcd-1b9ef1f7bf45",
   "metadata": {},
   "source": [
    "### Set publication style"
   ]
  },
  {
   "cell_type": "code",
   "execution_count": 3,
   "id": "4877a008-4dd7-45fd-863e-f9e1d1cc153f",
   "metadata": {
    "execution": {
     "iopub.execute_input": "2025-05-14T16:20:34.763454Z",
     "iopub.status.busy": "2025-05-14T16:20:34.763312Z",
     "iopub.status.idle": "2025-05-14T16:20:34.775231Z",
     "shell.execute_reply": "2025-05-14T16:20:34.774762Z",
     "shell.execute_reply.started": "2025-05-14T16:20:34.763440Z"
    }
   },
   "outputs": [
    {
     "name": "stdout",
     "output_type": "stream",
     "text": [
      "Set up Rubin matplotlib plot style.\n",
      "This includes dicts for colors (bandpass colors for white background),\n",
      "  colors_black (bandpass colors for black background), symbols, and line_styles,\n",
      "  keyed on band (ugrizy).\n"
     ]
    }
   ],
   "source": [
    "# Setup publication style\n",
    "publication_plots.set_rubin_plotstyle()\n",
    "colors = get_multiband_plot_colors()\n",
    "bands = colors.keys()  # important to get the right order for plot legends\n",
    "bands_dict = publication_plots.get_band_dicts()\n",
    "%matplotlib inline"
   ]
  },
  {
   "cell_type": "markdown",
   "id": "68c53da7-1c5a-486b-bb94-3615c00ab8e9",
   "metadata": {},
   "source": [
    "### Define utility functions"
   ]
  },
  {
   "cell_type": "code",
   "execution_count": 4,
   "id": "915036ae-e1f0-4b5b-9d9f-344ba98623cb",
   "metadata": {
    "execution": {
     "iopub.execute_input": "2025-05-14T16:20:34.775874Z",
     "iopub.status.busy": "2025-05-14T16:20:34.775743Z",
     "iopub.status.idle": "2025-05-14T16:20:34.778250Z",
     "shell.execute_reply": "2025-05-14T16:20:34.777808Z",
     "shell.execute_reply.started": "2025-05-14T16:20:34.775861Z"
    }
   },
   "outputs": [],
   "source": [
    "# Custom formatter: no trailing zeros if not needed\n",
    "def custom_float(x):\n",
    "    if isinstance(x, float):\n",
    "        s = f\"{x:.3f}\" #.rstrip('0').rstrip('.')\n",
    "        return s\n",
    "    return x"
   ]
  },
  {
   "cell_type": "code",
   "execution_count": 5,
   "id": "cfcb7f3b-0200-48da-a295-1e801bbd41ea",
   "metadata": {
    "execution": {
     "iopub.execute_input": "2025-05-14T16:20:34.778858Z",
     "iopub.status.busy": "2025-05-14T16:20:34.778727Z",
     "iopub.status.idle": "2025-05-14T16:20:34.785238Z",
     "shell.execute_reply": "2025-05-14T16:20:34.784856Z",
     "shell.execute_reply.started": "2025-05-14T16:20:34.778845Z"
    }
   },
   "outputs": [],
   "source": [
    "# Function to round to N significant figures\n",
    "def round_sf(x, sig=3):\n",
    "    return np.round(x, sig - int(np.floor(np.log10(abs(x)))) - 1)"
   ]
  },
  {
   "cell_type": "markdown",
   "id": "3dd09f93-a961-4248-b917-18f68501cc18",
   "metadata": {},
   "source": [
    "### Define paths"
   ]
  },
  {
   "cell_type": "code",
   "execution_count": 6,
   "id": "fb134c48-094a-4ce6-8237-fde543ac39cb",
   "metadata": {
    "execution": {
     "iopub.execute_input": "2025-05-14T16:20:34.785786Z",
     "iopub.status.busy": "2025-05-14T16:20:34.785663Z",
     "iopub.status.idle": "2025-05-14T16:20:34.793471Z",
     "shell.execute_reply": "2025-05-14T16:20:34.793005Z",
     "shell.execute_reply.started": "2025-05-14T16:20:34.785775Z"
    }
   },
   "outputs": [],
   "source": [
    "# Set up the figures, data and tables paths\n",
    "figures_path = str(Path('../figures').resolve())\n",
    "tables_path = str(Path('../tables').resolve())\n",
    "\n",
    "# Where are we running\n",
    "api_base = os.getenv(\"EXTERNAL_INSTANCE_URL\")"
   ]
  },
  {
   "cell_type": "markdown",
   "id": "897de5a6-f805-4b3a-8663-4b6fb0892e4e",
   "metadata": {},
   "source": [
    "### Set up DP1 Butler"
   ]
  },
  {
   "cell_type": "code",
   "execution_count": 7,
   "id": "42ccfd55-11a5-4c73-9603-6ce816ecd87c",
   "metadata": {
    "execution": {
     "iopub.execute_input": "2025-05-14T16:20:34.794031Z",
     "iopub.status.busy": "2025-05-14T16:20:34.793905Z",
     "iopub.status.idle": "2025-05-14T16:20:35.521036Z",
     "shell.execute_reply": "2025-05-14T16:20:35.520516Z",
     "shell.execute_reply.started": "2025-05-14T16:20:34.794020Z"
    }
   },
   "outputs": [],
   "source": [
    "instrument = 'LSSTComCam'\n",
    "collections = ['LSSTComCam/DP1/defaults', \n",
    "               'LSSTComCam/runs/DRP/DP1/v29_0_0/DM-50260',\n",
    "               'skymaps', ]\n",
    "skymap = 'lsst_cells_v1'\n",
    "butler = Butler(\"/repo/dp1\",\n",
    "                instrument=instrument, \n",
    "                collections=collections, \n",
    "                skymap=skymap)\n",
    "registry = butler.registry\n",
    "skymap = butler.get('skyMap', skymap=skymap)"
   ]
  },
  {
   "cell_type": "markdown",
   "id": "fbe4b005-e095-4d67-b899-cfd36ec04406",
   "metadata": {},
   "source": [
    "## Analyse the DP1 target fields "
   ]
  },
  {
   "cell_type": "code",
   "execution_count": 8,
   "id": "9be5fe83-d9cf-4eca-917e-23d92a94c129",
   "metadata": {
    "execution": {
     "iopub.execute_input": "2025-05-14T16:20:35.522040Z",
     "iopub.status.busy": "2025-05-14T16:20:35.521571Z",
     "iopub.status.idle": "2025-05-14T16:20:36.563520Z",
     "shell.execute_reply": "2025-05-14T16:20:36.563008Z",
     "shell.execute_reply.started": "2025-05-14T16:20:35.522025Z"
    }
   },
   "outputs": [],
   "source": [
    "# Extract filter and pointing information about the fileds from the DP1 exposures in the Butler\n",
    "exposures = registry.queryDimensionRecords('exposure')\n",
    "exp_df = pd.DataFrame(columns=['id', 'target', 'physical_filter','ra', 'dec'])\n",
    "for count, info in enumerate(exposures):\n",
    "    try:\n",
    "        exp_df.loc[count] = [info.id, info.target_name, info.physical_filter, \n",
    "                         info.tracking_ra, info.tracking_dec,]\n",
    "    except: \n",
    "        print(\">>>   Unexpected error:\", sys.exc_info()[0])\n"
   ]
  },
  {
   "cell_type": "code",
   "execution_count": 9,
   "id": "7b5cfbdf-4fe6-4c58-adda-5de065a08183",
   "metadata": {
    "execution": {
     "iopub.execute_input": "2025-05-14T16:20:36.564205Z",
     "iopub.status.busy": "2025-05-14T16:20:36.564056Z",
     "iopub.status.idle": "2025-05-14T16:20:36.568103Z",
     "shell.execute_reply": "2025-05-14T16:20:36.567736Z",
     "shell.execute_reply.started": "2025-05-14T16:20:36.564191Z"
    }
   },
   "outputs": [],
   "source": [
    "# Physical filter -> band\n",
    "exp_df['band'] = exp_df['physical_filter'].str.split('_').str[0]"
   ]
  },
  {
   "cell_type": "code",
   "execution_count": 10,
   "id": "055b86d2-49c9-4410-b4a6-a8baa3f52a95",
   "metadata": {
    "execution": {
     "iopub.execute_input": "2025-05-14T16:20:36.570136Z",
     "iopub.status.busy": "2025-05-14T16:20:36.569842Z",
     "iopub.status.idle": "2025-05-14T16:20:36.585578Z",
     "shell.execute_reply": "2025-05-14T16:20:36.585173Z",
     "shell.execute_reply.started": "2025-05-14T16:20:36.570122Z"
    }
   },
   "outputs": [
    {
     "data": {
      "text/html": [
       "<div>\n",
       "<style scoped>\n",
       "    .dataframe tbody tr th:only-of-type {\n",
       "        vertical-align: middle;\n",
       "    }\n",
       "\n",
       "    .dataframe tbody tr th {\n",
       "        vertical-align: top;\n",
       "    }\n",
       "\n",
       "    .dataframe thead th {\n",
       "        text-align: right;\n",
       "    }\n",
       "</style>\n",
       "<table border=\"1\" class=\"dataframe\">\n",
       "  <thead>\n",
       "    <tr style=\"text-align: right;\">\n",
       "      <th></th>\n",
       "      <th>id</th>\n",
       "      <th>target</th>\n",
       "      <th>physical_filter</th>\n",
       "      <th>ra</th>\n",
       "      <th>dec</th>\n",
       "      <th>band</th>\n",
       "    </tr>\n",
       "  </thead>\n",
       "  <tbody>\n",
       "    <tr>\n",
       "      <th>0</th>\n",
       "      <td>2024110800245</td>\n",
       "      <td>slew_icrs</td>\n",
       "      <td>i_06</td>\n",
       "      <td>53.327236</td>\n",
       "      <td>-28.072055</td>\n",
       "      <td>i</td>\n",
       "    </tr>\n",
       "    <tr>\n",
       "      <th>1</th>\n",
       "      <td>2024110800246</td>\n",
       "      <td>slew_icrs</td>\n",
       "      <td>r_03</td>\n",
       "      <td>53.327425</td>\n",
       "      <td>-28.072347</td>\n",
       "      <td>r</td>\n",
       "    </tr>\n",
       "    <tr>\n",
       "      <th>2</th>\n",
       "      <td>2024110800247</td>\n",
       "      <td>slew_icrs</td>\n",
       "      <td>r_03</td>\n",
       "      <td>53.141378</td>\n",
       "      <td>-28.131211</td>\n",
       "      <td>r</td>\n",
       "    </tr>\n",
       "    <tr>\n",
       "      <th>3</th>\n",
       "      <td>2024110800248</td>\n",
       "      <td>slew_icrs</td>\n",
       "      <td>i_06</td>\n",
       "      <td>53.141304</td>\n",
       "      <td>-28.131213</td>\n",
       "      <td>i</td>\n",
       "    </tr>\n",
       "    <tr>\n",
       "      <th>4</th>\n",
       "      <td>2024110800249</td>\n",
       "      <td>slew_icrs</td>\n",
       "      <td>i_06</td>\n",
       "      <td>53.188483</td>\n",
       "      <td>-28.208666</td>\n",
       "      <td>i</td>\n",
       "    </tr>\n",
       "    <tr>\n",
       "      <th>...</th>\n",
       "      <td>...</td>\n",
       "      <td>...</td>\n",
       "      <td>...</td>\n",
       "      <td>...</td>\n",
       "      <td>...</td>\n",
       "      <td>...</td>\n",
       "    </tr>\n",
       "    <tr>\n",
       "      <th>1787</th>\n",
       "      <td>2024121100607</td>\n",
       "      <td>Seagull</td>\n",
       "      <td>r_03</td>\n",
       "      <td>106.262882</td>\n",
       "      <td>-10.700520</td>\n",
       "      <td>r</td>\n",
       "    </tr>\n",
       "    <tr>\n",
       "      <th>1788</th>\n",
       "      <td>2024121100608</td>\n",
       "      <td>Seagull</td>\n",
       "      <td>r_03</td>\n",
       "      <td>106.272920</td>\n",
       "      <td>-10.496384</td>\n",
       "      <td>r</td>\n",
       "    </tr>\n",
       "    <tr>\n",
       "      <th>1789</th>\n",
       "      <td>2024121100609</td>\n",
       "      <td>Seagull</td>\n",
       "      <td>r_03</td>\n",
       "      <td>106.360054</td>\n",
       "      <td>-10.420939</td>\n",
       "      <td>r</td>\n",
       "    </tr>\n",
       "    <tr>\n",
       "      <th>1790</th>\n",
       "      <td>2024121100610</td>\n",
       "      <td>Seagull</td>\n",
       "      <td>r_03</td>\n",
       "      <td>106.394204</td>\n",
       "      <td>-10.512472</td>\n",
       "      <td>r</td>\n",
       "    </tr>\n",
       "    <tr>\n",
       "      <th>1791</th>\n",
       "      <td>2024121100611</td>\n",
       "      <td>Seagull</td>\n",
       "      <td>r_03</td>\n",
       "      <td>106.398960</td>\n",
       "      <td>-10.505149</td>\n",
       "      <td>r</td>\n",
       "    </tr>\n",
       "  </tbody>\n",
       "</table>\n",
       "<p>1792 rows × 6 columns</p>\n",
       "</div>"
      ],
      "text/plain": [
       "                 id     target physical_filter          ra        dec band\n",
       "0     2024110800245  slew_icrs            i_06   53.327236 -28.072055    i\n",
       "1     2024110800246  slew_icrs            r_03   53.327425 -28.072347    r\n",
       "2     2024110800247  slew_icrs            r_03   53.141378 -28.131211    r\n",
       "3     2024110800248  slew_icrs            i_06   53.141304 -28.131213    i\n",
       "4     2024110800249  slew_icrs            i_06   53.188483 -28.208666    i\n",
       "...             ...        ...             ...         ...        ...  ...\n",
       "1787  2024121100607    Seagull            r_03  106.262882 -10.700520    r\n",
       "1788  2024121100608    Seagull            r_03  106.272920 -10.496384    r\n",
       "1789  2024121100609    Seagull            r_03  106.360054 -10.420939    r\n",
       "1790  2024121100610    Seagull            r_03  106.394204 -10.512472    r\n",
       "1791  2024121100611    Seagull            r_03  106.398960 -10.505149    r\n",
       "\n",
       "[1792 rows x 6 columns]"
      ]
     },
     "execution_count": 10,
     "metadata": {},
     "output_type": "execute_result"
    }
   ],
   "source": [
    "exp_df"
   ]
  },
  {
   "cell_type": "code",
   "execution_count": 11,
   "id": "eb18cc03-f3e4-4ed2-a4a2-2eee2bb77026",
   "metadata": {
    "execution": {
     "iopub.execute_input": "2025-05-14T16:20:36.586282Z",
     "iopub.status.busy": "2025-05-14T16:20:36.586138Z",
     "iopub.status.idle": "2025-05-14T16:20:36.624984Z",
     "shell.execute_reply": "2025-05-14T16:20:36.624604Z",
     "shell.execute_reply.started": "2025-05-14T16:20:36.586268Z"
    }
   },
   "outputs": [],
   "source": [
    "## Summarise  the fields"
   ]
  },
  {
   "cell_type": "code",
   "execution_count": 12,
   "id": "e2583c84-a9be-429c-a59e-de308b7655e1",
   "metadata": {
    "execution": {
     "iopub.execute_input": "2025-05-14T16:20:36.625765Z",
     "iopub.status.busy": "2025-05-14T16:20:36.625437Z",
     "iopub.status.idle": "2025-05-14T16:20:36.632141Z",
     "shell.execute_reply": "2025-05-14T16:20:36.631770Z",
     "shell.execute_reply.started": "2025-05-14T16:20:36.625750Z"
    }
   },
   "outputs": [],
   "source": [
    "# slew_icrs is the ECDFS field -- combine them\n",
    "exp_df.loc[exp_df['target'] == 'slew_icrs', 'target'] = 'ECDFS'"
   ]
  },
  {
   "cell_type": "code",
   "execution_count": 13,
   "id": "aa6bd9ec-868f-4458-890a-087b43375fa6",
   "metadata": {
    "execution": {
     "iopub.execute_input": "2025-05-14T16:20:36.632814Z",
     "iopub.status.busy": "2025-05-14T16:20:36.632680Z",
     "iopub.status.idle": "2025-05-14T16:20:36.640786Z",
     "shell.execute_reply": "2025-05-14T16:20:36.640426Z",
     "shell.execute_reply.started": "2025-05-14T16:20:36.632800Z"
    }
   },
   "outputs": [],
   "source": [
    "# List of unique fields in DP1\n",
    "dp1_fields = exp_df.target.unique()\n",
    "assert len(dp1_fields) == 7"
   ]
  },
  {
   "cell_type": "code",
   "execution_count": 14,
   "id": "1524f47b-c580-4547-b059-f0425b08dba2",
   "metadata": {
    "execution": {
     "iopub.execute_input": "2025-05-14T16:20:36.641449Z",
     "iopub.status.busy": "2025-05-14T16:20:36.641205Z",
     "iopub.status.idle": "2025-05-14T16:20:36.647553Z",
     "shell.execute_reply": "2025-05-14T16:20:36.647200Z",
     "shell.execute_reply.started": "2025-05-14T16:20:36.641435Z"
    }
   },
   "outputs": [],
   "source": [
    "# Number of images for each field, total and per band\n",
    "n_images_all_bands = exp_df.groupby('target').size()\n",
    "n_images_all_bands = n_images_all_bands.rename('Total').reset_index()"
   ]
  },
  {
   "cell_type": "code",
   "execution_count": 15,
   "id": "928ace09-869f-4327-a21a-4e212adc7d4a",
   "metadata": {
    "execution": {
     "iopub.execute_input": "2025-05-14T16:20:36.648208Z",
     "iopub.status.busy": "2025-05-14T16:20:36.647968Z",
     "iopub.status.idle": "2025-05-14T16:20:36.661899Z",
     "shell.execute_reply": "2025-05-14T16:20:36.661520Z",
     "shell.execute_reply.started": "2025-05-14T16:20:36.648194Z"
    }
   },
   "outputs": [],
   "source": [
    "# Compute the number of exposures per band and set the standard band order\n",
    "n_images_per_band  = exp_df.groupby(['target', 'band']).size().unstack(fill_value=0)[bands]\n",
    "assert n_images_per_band.to_numpy().sum() == exposures.count()"
   ]
  },
  {
   "cell_type": "code",
   "execution_count": 16,
   "id": "29a1cead-82d1-4e90-a5a1-c9ea0cb6e583",
   "metadata": {
    "execution": {
     "iopub.execute_input": "2025-05-14T16:20:36.662492Z",
     "iopub.status.busy": "2025-05-14T16:20:36.662359Z",
     "iopub.status.idle": "2025-05-14T16:20:36.669234Z",
     "shell.execute_reply": "2025-05-14T16:20:36.668860Z",
     "shell.execute_reply.started": "2025-05-14T16:20:36.662479Z"
    }
   },
   "outputs": [
    {
     "data": {
      "text/html": [
       "<div>\n",
       "<style scoped>\n",
       "    .dataframe tbody tr th:only-of-type {\n",
       "        vertical-align: middle;\n",
       "    }\n",
       "\n",
       "    .dataframe tbody tr th {\n",
       "        vertical-align: top;\n",
       "    }\n",
       "\n",
       "    .dataframe thead th {\n",
       "        text-align: right;\n",
       "    }\n",
       "</style>\n",
       "<table border=\"1\" class=\"dataframe\">\n",
       "  <thead>\n",
       "    <tr style=\"text-align: right;\">\n",
       "      <th></th>\n",
       "      <th>target</th>\n",
       "      <th>u</th>\n",
       "      <th>g</th>\n",
       "      <th>r</th>\n",
       "      <th>i</th>\n",
       "      <th>z</th>\n",
       "      <th>y</th>\n",
       "      <th>Total</th>\n",
       "    </tr>\n",
       "  </thead>\n",
       "  <tbody>\n",
       "    <tr>\n",
       "      <th>0</th>\n",
       "      <td>47_Tuc</td>\n",
       "      <td>6</td>\n",
       "      <td>10</td>\n",
       "      <td>32</td>\n",
       "      <td>19</td>\n",
       "      <td>0</td>\n",
       "      <td>5</td>\n",
       "      <td>72</td>\n",
       "    </tr>\n",
       "    <tr>\n",
       "      <th>1</th>\n",
       "      <td>ECDFS</td>\n",
       "      <td>43</td>\n",
       "      <td>230</td>\n",
       "      <td>237</td>\n",
       "      <td>162</td>\n",
       "      <td>153</td>\n",
       "      <td>30</td>\n",
       "      <td>855</td>\n",
       "    </tr>\n",
       "    <tr>\n",
       "      <th>2</th>\n",
       "      <td>EDFS_comcam</td>\n",
       "      <td>20</td>\n",
       "      <td>61</td>\n",
       "      <td>87</td>\n",
       "      <td>42</td>\n",
       "      <td>42</td>\n",
       "      <td>20</td>\n",
       "      <td>272</td>\n",
       "    </tr>\n",
       "    <tr>\n",
       "      <th>3</th>\n",
       "      <td>Fornax_dSph</td>\n",
       "      <td>0</td>\n",
       "      <td>5</td>\n",
       "      <td>25</td>\n",
       "      <td>12</td>\n",
       "      <td>0</td>\n",
       "      <td>0</td>\n",
       "      <td>42</td>\n",
       "    </tr>\n",
       "    <tr>\n",
       "      <th>4</th>\n",
       "      <td>Rubin_SV_095_-25</td>\n",
       "      <td>33</td>\n",
       "      <td>82</td>\n",
       "      <td>84</td>\n",
       "      <td>23</td>\n",
       "      <td>60</td>\n",
       "      <td>10</td>\n",
       "      <td>292</td>\n",
       "    </tr>\n",
       "    <tr>\n",
       "      <th>5</th>\n",
       "      <td>Rubin_SV_38_7</td>\n",
       "      <td>0</td>\n",
       "      <td>44</td>\n",
       "      <td>40</td>\n",
       "      <td>55</td>\n",
       "      <td>20</td>\n",
       "      <td>0</td>\n",
       "      <td>159</td>\n",
       "    </tr>\n",
       "    <tr>\n",
       "      <th>6</th>\n",
       "      <td>Seagull</td>\n",
       "      <td>10</td>\n",
       "      <td>37</td>\n",
       "      <td>43</td>\n",
       "      <td>0</td>\n",
       "      <td>10</td>\n",
       "      <td>0</td>\n",
       "      <td>100</td>\n",
       "    </tr>\n",
       "  </tbody>\n",
       "</table>\n",
       "</div>"
      ],
      "text/plain": [
       "             target   u    g    r    i    z   y  Total\n",
       "0            47_Tuc   6   10   32   19    0   5     72\n",
       "1             ECDFS  43  230  237  162  153  30    855\n",
       "2       EDFS_comcam  20   61   87   42   42  20    272\n",
       "3       Fornax_dSph   0    5   25   12    0   0     42\n",
       "4  Rubin_SV_095_-25  33   82   84   23   60  10    292\n",
       "5     Rubin_SV_38_7   0   44   40   55   20   0    159\n",
       "6           Seagull  10   37   43    0   10   0    100"
      ]
     },
     "execution_count": 16,
     "metadata": {},
     "output_type": "execute_result"
    }
   ],
   "source": [
    "n_images_summary = pd.merge(n_images_per_band, n_images_all_bands, on='target', how='left')\n",
    "n_images_summary"
   ]
  },
  {
   "cell_type": "code",
   "execution_count": 17,
   "id": "4bbd8628-0607-47d8-b60c-899c0694056e",
   "metadata": {
    "execution": {
     "iopub.execute_input": "2025-05-14T16:20:36.669917Z",
     "iopub.status.busy": "2025-05-14T16:20:36.669787Z",
     "iopub.status.idle": "2025-05-14T16:20:36.679157Z",
     "shell.execute_reply": "2025-05-14T16:20:36.678797Z",
     "shell.execute_reply.started": "2025-05-14T16:20:36.669904Z"
    }
   },
   "outputs": [
    {
     "data": {
      "text/html": [
       "<div>\n",
       "<style scoped>\n",
       "    .dataframe tbody tr th:only-of-type {\n",
       "        vertical-align: middle;\n",
       "    }\n",
       "\n",
       "    .dataframe tbody tr th {\n",
       "        vertical-align: top;\n",
       "    }\n",
       "\n",
       "    .dataframe thead th {\n",
       "        text-align: right;\n",
       "    }\n",
       "</style>\n",
       "<table border=\"1\" class=\"dataframe\">\n",
       "  <thead>\n",
       "    <tr style=\"text-align: right;\">\n",
       "      <th></th>\n",
       "      <th>target</th>\n",
       "      <th>Field Name</th>\n",
       "      <th>u</th>\n",
       "      <th>g</th>\n",
       "      <th>r</th>\n",
       "      <th>i</th>\n",
       "      <th>z</th>\n",
       "      <th>y</th>\n",
       "      <th>Total</th>\n",
       "    </tr>\n",
       "  </thead>\n",
       "  <tbody>\n",
       "    <tr>\n",
       "      <th>0</th>\n",
       "      <td>47_Tuc</td>\n",
       "      <td>47 Tucanae Globular Cluster</td>\n",
       "      <td>6</td>\n",
       "      <td>10</td>\n",
       "      <td>32</td>\n",
       "      <td>19</td>\n",
       "      <td>0</td>\n",
       "      <td>5</td>\n",
       "      <td>72</td>\n",
       "    </tr>\n",
       "    <tr>\n",
       "      <th>1</th>\n",
       "      <td>ECDFS</td>\n",
       "      <td>Extended Chandra Deep Field South</td>\n",
       "      <td>43</td>\n",
       "      <td>230</td>\n",
       "      <td>237</td>\n",
       "      <td>162</td>\n",
       "      <td>153</td>\n",
       "      <td>30</td>\n",
       "      <td>855</td>\n",
       "    </tr>\n",
       "    <tr>\n",
       "      <th>2</th>\n",
       "      <td>EDFS_comcam</td>\n",
       "      <td>Rubin SV Euclid Deep Field South</td>\n",
       "      <td>20</td>\n",
       "      <td>61</td>\n",
       "      <td>87</td>\n",
       "      <td>42</td>\n",
       "      <td>42</td>\n",
       "      <td>20</td>\n",
       "      <td>272</td>\n",
       "    </tr>\n",
       "    <tr>\n",
       "      <th>3</th>\n",
       "      <td>Fornax_dSph</td>\n",
       "      <td>Fornax Dwarf Spheroidal Galaxy</td>\n",
       "      <td>0</td>\n",
       "      <td>5</td>\n",
       "      <td>25</td>\n",
       "      <td>12</td>\n",
       "      <td>0</td>\n",
       "      <td>0</td>\n",
       "      <td>42</td>\n",
       "    </tr>\n",
       "    <tr>\n",
       "      <th>4</th>\n",
       "      <td>Rubin_SV_095_-25</td>\n",
       "      <td>Rubin SV Low Galactic Latitude Field</td>\n",
       "      <td>33</td>\n",
       "      <td>82</td>\n",
       "      <td>84</td>\n",
       "      <td>23</td>\n",
       "      <td>60</td>\n",
       "      <td>10</td>\n",
       "      <td>292</td>\n",
       "    </tr>\n",
       "    <tr>\n",
       "      <th>5</th>\n",
       "      <td>Rubin_SV_38_7</td>\n",
       "      <td>Rubin SV Low Ecliptic Latitude Field</td>\n",
       "      <td>0</td>\n",
       "      <td>44</td>\n",
       "      <td>40</td>\n",
       "      <td>55</td>\n",
       "      <td>20</td>\n",
       "      <td>0</td>\n",
       "      <td>159</td>\n",
       "    </tr>\n",
       "    <tr>\n",
       "      <th>6</th>\n",
       "      <td>Seagull</td>\n",
       "      <td>Seagull Nebula</td>\n",
       "      <td>10</td>\n",
       "      <td>37</td>\n",
       "      <td>43</td>\n",
       "      <td>0</td>\n",
       "      <td>10</td>\n",
       "      <td>0</td>\n",
       "      <td>100</td>\n",
       "    </tr>\n",
       "  </tbody>\n",
       "</table>\n",
       "</div>"
      ],
      "text/plain": [
       "             target                            Field Name   u    g    r    i  \\\n",
       "0            47_Tuc           47 Tucanae Globular Cluster   6   10   32   19   \n",
       "1             ECDFS     Extended Chandra Deep Field South  43  230  237  162   \n",
       "2       EDFS_comcam      Rubin SV Euclid Deep Field South  20   61   87   42   \n",
       "3       Fornax_dSph        Fornax Dwarf Spheroidal Galaxy   0    5   25   12   \n",
       "4  Rubin_SV_095_-25  Rubin SV Low Galactic Latitude Field  33   82   84   23   \n",
       "5     Rubin_SV_38_7  Rubin SV Low Ecliptic Latitude Field   0   44   40   55   \n",
       "6           Seagull                        Seagull Nebula  10   37   43    0   \n",
       "\n",
       "     z   y  Total  \n",
       "0    0   5     72  \n",
       "1  153  30    855  \n",
       "2   42  20    272  \n",
       "3    0   0     42  \n",
       "4   60  10    292  \n",
       "5   20   0    159  \n",
       "6   10   0    100  "
      ]
     },
     "execution_count": 17,
     "metadata": {},
     "output_type": "execute_result"
    }
   ],
   "source": [
    "# Manually insert a description column\n",
    "n_images_summary.insert(1, 'Field Name',[\n",
    "    \"47 Tucanae Globular Cluster\",\n",
    "    \"Extended Chandra Deep Field South\",\n",
    "    \"Rubin SV Euclid Deep Field South\",\n",
    "    \"Fornax Dwarf Spheroidal Galaxy\",\n",
    "    \"Rubin SV Low Galactic Latitude Field\",\n",
    "    \"Rubin SV Low Ecliptic Latitude Field\",\n",
    "    \"Seagull Nebula\"])\n",
    "n_images_summary"
   ]
  },
  {
   "cell_type": "code",
   "execution_count": 18,
   "id": "cd9696ad-51cc-4563-b7d5-72ed5a938f78",
   "metadata": {
    "execution": {
     "iopub.execute_input": "2025-05-14T16:20:36.679710Z",
     "iopub.status.busy": "2025-05-14T16:20:36.679581Z",
     "iopub.status.idle": "2025-05-14T16:20:36.688595Z",
     "shell.execute_reply": "2025-05-14T16:20:36.688233Z",
     "shell.execute_reply.started": "2025-05-14T16:20:36.679696Z"
    }
   },
   "outputs": [],
   "source": [
    "# Compute the median of all pointings per field for the \n",
    "# pointing centers and add to the summary table\n",
    "target_centers = exp_df.groupby('target')[['ra', 'dec']].agg(['median'])\n",
    "target_centers.columns = ['_'.join(col) for col in target_centers.columns]\n",
    "target_centers\n",
    "target_centers = target_centers.map(lambda x: round_sf(x, 4))\n",
    "dp1_targets_summary = pd.merge(n_images_summary, target_centers, on=\"target\")"
   ]
  },
  {
   "cell_type": "code",
   "execution_count": 19,
   "id": "3ee21409-8344-4bf3-bc2e-635903268d95",
   "metadata": {
    "execution": {
     "iopub.execute_input": "2025-05-14T16:20:36.689115Z",
     "iopub.status.busy": "2025-05-14T16:20:36.688983Z",
     "iopub.status.idle": "2025-05-14T16:20:36.697251Z",
     "shell.execute_reply": "2025-05-14T16:20:36.696882Z",
     "shell.execute_reply.started": "2025-05-14T16:20:36.689103Z"
    }
   },
   "outputs": [
    {
     "data": {
      "text/html": [
       "<div>\n",
       "<style scoped>\n",
       "    .dataframe tbody tr th:only-of-type {\n",
       "        vertical-align: middle;\n",
       "    }\n",
       "\n",
       "    .dataframe tbody tr th {\n",
       "        vertical-align: top;\n",
       "    }\n",
       "\n",
       "    .dataframe thead th {\n",
       "        text-align: right;\n",
       "    }\n",
       "</style>\n",
       "<table border=\"1\" class=\"dataframe\">\n",
       "  <thead>\n",
       "    <tr style=\"text-align: right;\">\n",
       "      <th></th>\n",
       "      <th>target</th>\n",
       "      <th>Field Name</th>\n",
       "      <th>u</th>\n",
       "      <th>g</th>\n",
       "      <th>r</th>\n",
       "      <th>i</th>\n",
       "      <th>z</th>\n",
       "      <th>y</th>\n",
       "      <th>Total</th>\n",
       "      <th>ra_median</th>\n",
       "      <th>dec_median</th>\n",
       "    </tr>\n",
       "  </thead>\n",
       "  <tbody>\n",
       "    <tr>\n",
       "      <th>0</th>\n",
       "      <td>47_Tuc</td>\n",
       "      <td>47 Tucanae Globular Cluster</td>\n",
       "      <td>6</td>\n",
       "      <td>10</td>\n",
       "      <td>32</td>\n",
       "      <td>19</td>\n",
       "      <td>0</td>\n",
       "      <td>5</td>\n",
       "      <td>72</td>\n",
       "      <td>6.128</td>\n",
       "      <td>-72.090</td>\n",
       "    </tr>\n",
       "    <tr>\n",
       "      <th>1</th>\n",
       "      <td>ECDFS</td>\n",
       "      <td>Extended Chandra Deep Field South</td>\n",
       "      <td>43</td>\n",
       "      <td>230</td>\n",
       "      <td>237</td>\n",
       "      <td>162</td>\n",
       "      <td>153</td>\n",
       "      <td>30</td>\n",
       "      <td>855</td>\n",
       "      <td>53.160</td>\n",
       "      <td>-28.100</td>\n",
       "    </tr>\n",
       "    <tr>\n",
       "      <th>2</th>\n",
       "      <td>EDFS_comcam</td>\n",
       "      <td>Rubin SV Euclid Deep Field South</td>\n",
       "      <td>20</td>\n",
       "      <td>61</td>\n",
       "      <td>87</td>\n",
       "      <td>42</td>\n",
       "      <td>42</td>\n",
       "      <td>20</td>\n",
       "      <td>272</td>\n",
       "      <td>59.150</td>\n",
       "      <td>-48.730</td>\n",
       "    </tr>\n",
       "    <tr>\n",
       "      <th>3</th>\n",
       "      <td>Fornax_dSph</td>\n",
       "      <td>Fornax Dwarf Spheroidal Galaxy</td>\n",
       "      <td>0</td>\n",
       "      <td>5</td>\n",
       "      <td>25</td>\n",
       "      <td>12</td>\n",
       "      <td>0</td>\n",
       "      <td>0</td>\n",
       "      <td>42</td>\n",
       "      <td>40.080</td>\n",
       "      <td>-34.450</td>\n",
       "    </tr>\n",
       "    <tr>\n",
       "      <th>4</th>\n",
       "      <td>Rubin_SV_095_-25</td>\n",
       "      <td>Rubin SV Low Galactic Latitude Field</td>\n",
       "      <td>33</td>\n",
       "      <td>82</td>\n",
       "      <td>84</td>\n",
       "      <td>23</td>\n",
       "      <td>60</td>\n",
       "      <td>10</td>\n",
       "      <td>292</td>\n",
       "      <td>95.040</td>\n",
       "      <td>-25.000</td>\n",
       "    </tr>\n",
       "    <tr>\n",
       "      <th>5</th>\n",
       "      <td>Rubin_SV_38_7</td>\n",
       "      <td>Rubin SV Low Ecliptic Latitude Field</td>\n",
       "      <td>0</td>\n",
       "      <td>44</td>\n",
       "      <td>40</td>\n",
       "      <td>55</td>\n",
       "      <td>20</td>\n",
       "      <td>0</td>\n",
       "      <td>159</td>\n",
       "      <td>37.980</td>\n",
       "      <td>7.015</td>\n",
       "    </tr>\n",
       "    <tr>\n",
       "      <th>6</th>\n",
       "      <td>Seagull</td>\n",
       "      <td>Seagull Nebula</td>\n",
       "      <td>10</td>\n",
       "      <td>37</td>\n",
       "      <td>43</td>\n",
       "      <td>0</td>\n",
       "      <td>10</td>\n",
       "      <td>0</td>\n",
       "      <td>100</td>\n",
       "      <td>106.300</td>\n",
       "      <td>-10.510</td>\n",
       "    </tr>\n",
       "  </tbody>\n",
       "</table>\n",
       "</div>"
      ],
      "text/plain": [
       "             target                            Field Name   u    g    r    i  \\\n",
       "0            47_Tuc           47 Tucanae Globular Cluster   6   10   32   19   \n",
       "1             ECDFS     Extended Chandra Deep Field South  43  230  237  162   \n",
       "2       EDFS_comcam      Rubin SV Euclid Deep Field South  20   61   87   42   \n",
       "3       Fornax_dSph        Fornax Dwarf Spheroidal Galaxy   0    5   25   12   \n",
       "4  Rubin_SV_095_-25  Rubin SV Low Galactic Latitude Field  33   82   84   23   \n",
       "5     Rubin_SV_38_7  Rubin SV Low Ecliptic Latitude Field   0   44   40   55   \n",
       "6           Seagull                        Seagull Nebula  10   37   43    0   \n",
       "\n",
       "     z   y  Total  ra_median  dec_median  \n",
       "0    0   5     72      6.128     -72.090  \n",
       "1  153  30    855     53.160     -28.100  \n",
       "2   42  20    272     59.150     -48.730  \n",
       "3    0   0     42     40.080     -34.450  \n",
       "4   60  10    292     95.040     -25.000  \n",
       "5   20   0    159     37.980       7.015  \n",
       "6   10   0    100    106.300     -10.510  "
      ]
     },
     "execution_count": 19,
     "metadata": {},
     "output_type": "execute_result"
    }
   ],
   "source": [
    "dp1_targets_summary"
   ]
  },
  {
   "cell_type": "code",
   "execution_count": 20,
   "id": "13e1586e-7243-4507-9661-86ed4668f15e",
   "metadata": {
    "execution": {
     "iopub.execute_input": "2025-05-14T16:20:36.697856Z",
     "iopub.status.busy": "2025-05-14T16:20:36.697717Z",
     "iopub.status.idle": "2025-05-14T16:20:36.704635Z",
     "shell.execute_reply": "2025-05-14T16:20:36.704271Z",
     "shell.execute_reply.started": "2025-05-14T16:20:36.697842Z"
    }
   },
   "outputs": [],
   "source": [
    "# Rename and reorder \n",
    "dp1_targets_summary.rename(columns={\n",
    "    'target': \"Field Code\",\n",
    "    'ra_median': 'RA',\n",
    "    'dec_median': 'DEC'}, inplace=True)\n",
    "\n",
    "# Reorder columns by specifying the new order\n",
    "dp1_targets_summary.insert(2, 'RA', dp1_targets_summary.pop('RA'))\n",
    "dp1_targets_summary.insert(3, 'DEC', dp1_targets_summary.pop('DEC'))\n"
   ]
  },
  {
   "cell_type": "code",
   "execution_count": 21,
   "id": "bb2bcd38-3307-4849-bbc8-4c0d29c326a8",
   "metadata": {
    "execution": {
     "iopub.execute_input": "2025-05-14T16:20:36.705187Z",
     "iopub.status.busy": "2025-05-14T16:20:36.705052Z",
     "iopub.status.idle": "2025-05-14T16:20:36.768413Z",
     "shell.execute_reply": "2025-05-14T16:20:36.767957Z",
     "shell.execute_reply.started": "2025-05-14T16:20:36.705175Z"
    }
   },
   "outputs": [],
   "source": [
    "# Format the date to produce a latex table\n",
    "# Insert blank colum for nice spacing in table \n",
    "dp1_targets_summary.insert(4, ' ', ' ')\n",
    "\n",
    "# Escape the underscores in the field names and codes\n",
    "dp1_targets_summary.columns = dp1_targets_summary.columns.str.replace('_', r'\\_', regex=False)\n",
    "dp1_targets_summary = dp1_targets_summary.map(lambda x: x.replace('_', r'\\_') if isinstance(x, str) else x)\n",
    "\n",
    "dp1_targets_summary_latex = dp1_targets_summary.to_latex(index=False, \n",
    "                                                         escape=False, \n",
    "                                                         bold_rows=False,\n",
    "                            formatters={col: custom_float \n",
    "                                        for col in dp1_targets_summary.columns}\n",
    "                            )\n",
    "\n",
    "# Remove unnecessary latex\n",
    "data_latex = dp1_targets_summary_latex.split(\"midrule\\n\", 1)[-1]  # Keeps the part after 'midrule'\n",
    "data_latex = data_latex.split(\"\\\\bottomrule\", 1)[0]  # Keeps the part before 'bottomrule'"
   ]
  },
  {
   "cell_type": "code",
   "execution_count": 22,
   "id": "58a83e85-036a-4010-add0-efee71e0bd02",
   "metadata": {
    "execution": {
     "iopub.execute_input": "2025-05-14T16:20:36.769197Z",
     "iopub.status.busy": "2025-05-14T16:20:36.768923Z",
     "iopub.status.idle": "2025-05-14T16:20:36.776364Z",
     "shell.execute_reply": "2025-05-14T16:20:36.776014Z",
     "shell.execute_reply.started": "2025-05-14T16:20:36.769183Z"
    }
   },
   "outputs": [
    {
     "data": {
      "text/html": [
       "<div>\n",
       "<style scoped>\n",
       "    .dataframe tbody tr th:only-of-type {\n",
       "        vertical-align: middle;\n",
       "    }\n",
       "\n",
       "    .dataframe tbody tr th {\n",
       "        vertical-align: top;\n",
       "    }\n",
       "\n",
       "    .dataframe thead th {\n",
       "        text-align: right;\n",
       "    }\n",
       "</style>\n",
       "<table border=\"1\" class=\"dataframe\">\n",
       "  <thead>\n",
       "    <tr style=\"text-align: right;\">\n",
       "      <th></th>\n",
       "      <th>Field Code</th>\n",
       "      <th>Field Name</th>\n",
       "      <th>RA</th>\n",
       "      <th>DEC</th>\n",
       "      <th></th>\n",
       "      <th>u</th>\n",
       "      <th>g</th>\n",
       "      <th>r</th>\n",
       "      <th>i</th>\n",
       "      <th>z</th>\n",
       "      <th>y</th>\n",
       "      <th>Total</th>\n",
       "    </tr>\n",
       "  </thead>\n",
       "  <tbody>\n",
       "    <tr>\n",
       "      <th>0</th>\n",
       "      <td>47\\_Tuc</td>\n",
       "      <td>47 Tucanae Globular Cluster</td>\n",
       "      <td>6.128</td>\n",
       "      <td>-72.090</td>\n",
       "      <td></td>\n",
       "      <td>6</td>\n",
       "      <td>10</td>\n",
       "      <td>32</td>\n",
       "      <td>19</td>\n",
       "      <td>0</td>\n",
       "      <td>5</td>\n",
       "      <td>72</td>\n",
       "    </tr>\n",
       "    <tr>\n",
       "      <th>1</th>\n",
       "      <td>ECDFS</td>\n",
       "      <td>Extended Chandra Deep Field South</td>\n",
       "      <td>53.160</td>\n",
       "      <td>-28.100</td>\n",
       "      <td></td>\n",
       "      <td>43</td>\n",
       "      <td>230</td>\n",
       "      <td>237</td>\n",
       "      <td>162</td>\n",
       "      <td>153</td>\n",
       "      <td>30</td>\n",
       "      <td>855</td>\n",
       "    </tr>\n",
       "    <tr>\n",
       "      <th>2</th>\n",
       "      <td>EDFS\\_comcam</td>\n",
       "      <td>Rubin SV Euclid Deep Field South</td>\n",
       "      <td>59.150</td>\n",
       "      <td>-48.730</td>\n",
       "      <td></td>\n",
       "      <td>20</td>\n",
       "      <td>61</td>\n",
       "      <td>87</td>\n",
       "      <td>42</td>\n",
       "      <td>42</td>\n",
       "      <td>20</td>\n",
       "      <td>272</td>\n",
       "    </tr>\n",
       "    <tr>\n",
       "      <th>3</th>\n",
       "      <td>Fornax\\_dSph</td>\n",
       "      <td>Fornax Dwarf Spheroidal Galaxy</td>\n",
       "      <td>40.080</td>\n",
       "      <td>-34.450</td>\n",
       "      <td></td>\n",
       "      <td>0</td>\n",
       "      <td>5</td>\n",
       "      <td>25</td>\n",
       "      <td>12</td>\n",
       "      <td>0</td>\n",
       "      <td>0</td>\n",
       "      <td>42</td>\n",
       "    </tr>\n",
       "    <tr>\n",
       "      <th>4</th>\n",
       "      <td>Rubin\\_SV\\_095\\_-25</td>\n",
       "      <td>Rubin SV Low Galactic Latitude Field</td>\n",
       "      <td>95.040</td>\n",
       "      <td>-25.000</td>\n",
       "      <td></td>\n",
       "      <td>33</td>\n",
       "      <td>82</td>\n",
       "      <td>84</td>\n",
       "      <td>23</td>\n",
       "      <td>60</td>\n",
       "      <td>10</td>\n",
       "      <td>292</td>\n",
       "    </tr>\n",
       "    <tr>\n",
       "      <th>5</th>\n",
       "      <td>Rubin\\_SV\\_38\\_7</td>\n",
       "      <td>Rubin SV Low Ecliptic Latitude Field</td>\n",
       "      <td>37.980</td>\n",
       "      <td>7.015</td>\n",
       "      <td></td>\n",
       "      <td>0</td>\n",
       "      <td>44</td>\n",
       "      <td>40</td>\n",
       "      <td>55</td>\n",
       "      <td>20</td>\n",
       "      <td>0</td>\n",
       "      <td>159</td>\n",
       "    </tr>\n",
       "    <tr>\n",
       "      <th>6</th>\n",
       "      <td>Seagull</td>\n",
       "      <td>Seagull Nebula</td>\n",
       "      <td>106.300</td>\n",
       "      <td>-10.510</td>\n",
       "      <td></td>\n",
       "      <td>10</td>\n",
       "      <td>37</td>\n",
       "      <td>43</td>\n",
       "      <td>0</td>\n",
       "      <td>10</td>\n",
       "      <td>0</td>\n",
       "      <td>100</td>\n",
       "    </tr>\n",
       "  </tbody>\n",
       "</table>\n",
       "</div>"
      ],
      "text/plain": [
       "            Field Code                            Field Name       RA     DEC  \\\n",
       "0              47\\_Tuc           47 Tucanae Globular Cluster    6.128 -72.090   \n",
       "1                ECDFS     Extended Chandra Deep Field South   53.160 -28.100   \n",
       "2         EDFS\\_comcam      Rubin SV Euclid Deep Field South   59.150 -48.730   \n",
       "3         Fornax\\_dSph        Fornax Dwarf Spheroidal Galaxy   40.080 -34.450   \n",
       "4  Rubin\\_SV\\_095\\_-25  Rubin SV Low Galactic Latitude Field   95.040 -25.000   \n",
       "5     Rubin\\_SV\\_38\\_7  Rubin SV Low Ecliptic Latitude Field   37.980   7.015   \n",
       "6              Seagull                        Seagull Nebula  106.300 -10.510   \n",
       "\n",
       "       u    g    r    i    z   y  Total  \n",
       "0      6   10   32   19    0   5     72  \n",
       "1     43  230  237  162  153  30    855  \n",
       "2     20   61   87   42   42  20    272  \n",
       "3      0    5   25   12    0   0     42  \n",
       "4     33   82   84   23   60  10    292  \n",
       "5      0   44   40   55   20   0    159  \n",
       "6     10   37   43    0   10   0    100  "
      ]
     },
     "execution_count": 22,
     "metadata": {},
     "output_type": "execute_result"
    }
   ],
   "source": [
    "dp1_targets_summary"
   ]
  },
  {
   "cell_type": "code",
   "execution_count": 23,
   "id": "c54d02ec-7d8c-4ed7-b982-41a5356a3546",
   "metadata": {
    "execution": {
     "iopub.execute_input": "2025-05-14T16:20:36.776892Z",
     "iopub.status.busy": "2025-05-14T16:20:36.776767Z",
     "iopub.status.idle": "2025-05-14T16:20:36.785776Z",
     "shell.execute_reply": "2025-05-14T16:20:36.785423Z",
     "shell.execute_reply.started": "2025-05-14T16:20:36.776880Z"
    }
   },
   "outputs": [],
   "source": [
    "# Export to latex with deulxetable formatting \n",
    "with open(\"../tables/dp1_fields_summary.tex\", \"w\") as f:\n",
    "    f.write(r\"\"\"%%%%% This table is auto generated from data, DO NOT EDIT\n",
    "\\begin{deluxetable}{llcccp{0.5cm}p{0.6cm}p{0.3cm}p{0.3cm}p{0.3cm}p{0.3cm}r}\n",
    "\\caption{DP1 fields and pointing centers with the number of images in each band per field.  \n",
    "ICRS coordinates are in units of decimal degrees. \n",
    "\\label{tab:dp1_fields} }\n",
    "\\tablehead{\n",
    "  \\colhead{\\textbf{Field Code}} & \\colhead{\\textbf{Field Name}} & \\colhead{\\textbf{RA}} & \\colhead{\\textbf{DEC}} \n",
    "  & & \\multicolumn{6}{c}{\\textbf{Band}} & \\colhead{\\textbf{Total}}\\\\\n",
    "  \\cline{3-4} \\cline{6-11} \n",
    "  & & \\colhead{deg}  & \\colhead{deg}  & & u & g & r & i & z & y & \n",
    "}\n",
    "\\startdata\n",
    "\"\"\")\n",
    "    f.write(data_latex)\n",
    "    f.write(r\"\"\"\\enddata\n",
    "\\end{deluxetable}\n",
    "\"\"\")\n",
    "f.close()"
   ]
  },
  {
   "cell_type": "markdown",
   "id": "4a1be5aa-9e79-4580-a4c8-df03a8db8ddd",
   "metadata": {
    "execution": {
     "iopub.execute_input": "2025-05-13T15:25:19.347536Z",
     "iopub.status.busy": "2025-05-13T15:25:19.347395Z",
     "iopub.status.idle": "2025-05-13T15:25:19.350395Z",
     "shell.execute_reply": "2025-05-13T15:25:19.350004Z",
     "shell.execute_reply.started": "2025-05-13T15:25:19.347522Z"
    }
   },
   "source": [
    "## Figure showing DP1 fields with baseline survey areas in background"
   ]
  },
  {
   "cell_type": "code",
   "execution_count": 24,
   "id": "320d494a-995c-45f3-9547-c93b6d92d785",
   "metadata": {
    "execution": {
     "iopub.execute_input": "2025-05-14T16:20:36.786392Z",
     "iopub.status.busy": "2025-05-14T16:20:36.786262Z",
     "iopub.status.idle": "2025-05-14T16:20:39.427730Z",
     "shell.execute_reply": "2025-05-14T16:20:39.427258Z",
     "shell.execute_reply.started": "2025-05-14T16:20:36.786380Z"
    }
   },
   "outputs": [
    {
     "data": {
      "text/html": [
       "<pre style=\"margin: 0.1em;\n",
       "padding-left: 0.25em;\n",
       "border-left-style: solid;\n",
       "font-family: var(--jp-code-font-family);\n",
       "font-size: var(--jp-code-font-size);\n",
       "line-height: var(--jp-code-line-height);\n",
       "\"><span style=\"color: var(--jp-warn-color2)\">healpy</span> <span style=\"color: var(--jp-info-color0)\">INFO</span>: Sigma is 254.796540 arcmin (0.074117 rad) </pre>"
      ],
      "text/plain": [
       "<IPython.core.display.HTML object>"
      ]
     },
     "metadata": {},
     "output_type": "display_data"
    },
    {
     "data": {
      "text/html": [
       "<pre style=\"margin: 0.1em;\n",
       "padding-left: 0.25em;\n",
       "border-left-style: solid;\n",
       "font-family: var(--jp-code-font-family);\n",
       "font-size: var(--jp-code-font-size);\n",
       "line-height: var(--jp-code-line-height);\n",
       "\"><span style=\"color: var(--jp-warn-color2)\">healpy</span> <span style=\"color: var(--jp-info-color0)\">INFO</span>: -&gt; fwhm is 600.000000 arcmin</pre>"
      ],
      "text/plain": [
       "<IPython.core.display.HTML object>"
      ]
     },
     "metadata": {},
     "output_type": "display_data"
    },
    {
     "data": {
      "text/html": [
       "<pre style=\"margin: 0.1em;\n",
       "padding-left: 0.25em;\n",
       "border-left-style: solid;\n",
       "font-family: var(--jp-code-font-family);\n",
       "font-size: var(--jp-code-font-size);\n",
       "line-height: var(--jp-code-line-height);\n",
       "\"><span style=\"color: var(--jp-warn-color2)\">healpy</span> <span style=\"color: var(--jp-info-color0)\">INFO</span>: Sigma is 0.000000 arcmin (0.000000 rad) </pre>"
      ],
      "text/plain": [
       "<IPython.core.display.HTML object>"
      ]
     },
     "metadata": {},
     "output_type": "display_data"
    },
    {
     "data": {
      "text/html": [
       "<pre style=\"margin: 0.1em;\n",
       "padding-left: 0.25em;\n",
       "border-left-style: solid;\n",
       "font-family: var(--jp-code-font-family);\n",
       "font-size: var(--jp-code-font-size);\n",
       "line-height: var(--jp-code-line-height);\n",
       "\"><span style=\"color: var(--jp-warn-color2)\">healpy</span> <span style=\"color: var(--jp-info-color0)\">INFO</span>: -&gt; fwhm is 0.000000 arcmin</pre>"
      ],
      "text/plain": [
       "<IPython.core.display.HTML object>"
      ]
     },
     "metadata": {},
     "output_type": "display_data"
    },
    {
     "data": {
      "text/plain": [
       "array(['', 'LMC_SMC', 'bulgy', 'dusty_plane', 'euclid_overlap', 'lowdust',\n",
       "       'nes', 'scp', 'virgo'], dtype='<U20')"
      ]
     },
     "execution_count": 24,
     "metadata": {},
     "output_type": "execute_result"
    }
   ],
   "source": [
    "footprint_hp, labels = get_current_footprint(nside=64)\n",
    "np.unique(labels)"
   ]
  },
  {
   "cell_type": "code",
   "execution_count": 25,
   "id": "7074ba39-6255-4ef3-a8ff-d1e47bbd10db",
   "metadata": {
    "execution": {
     "iopub.execute_input": "2025-05-14T16:20:39.428375Z",
     "iopub.status.busy": "2025-05-14T16:20:39.428239Z",
     "iopub.status.idle": "2025-05-14T16:20:39.430970Z",
     "shell.execute_reply": "2025-05-14T16:20:39.430557Z",
     "shell.execute_reply.started": "2025-05-14T16:20:39.428361Z"
    }
   },
   "outputs": [],
   "source": [
    "# Refactor this into the rubin plotstyle\n",
    "region_dict = {'scp': 0, 'nes': 3, 'dusty_plane': 4, 'gpwfd': 6, 'lowdust': 7} # better for viridis"
   ]
  },
  {
   "cell_type": "code",
   "execution_count": 26,
   "id": "28df06dd-13fe-4b83-9c90-6aceb9fb2428",
   "metadata": {
    "execution": {
     "iopub.execute_input": "2025-05-14T16:20:39.431563Z",
     "iopub.status.busy": "2025-05-14T16:20:39.431430Z",
     "iopub.status.idle": "2025-05-14T16:20:39.442559Z",
     "shell.execute_reply": "2025-05-14T16:20:39.442150Z",
     "shell.execute_reply.started": "2025-05-14T16:20:39.431551Z"
    }
   },
   "outputs": [
    {
     "data": {
      "text/plain": [
       "7"
      ]
     },
     "execution_count": 26,
     "metadata": {},
     "output_type": "execute_result"
    }
   ],
   "source": [
    "max(region_dict.values())"
   ]
  },
  {
   "cell_type": "code",
   "execution_count": 27,
   "id": "f7d5fbb4-479b-491e-bdd2-03b1621e5f61",
   "metadata": {
    "execution": {
     "iopub.execute_input": "2025-05-14T16:20:39.443160Z",
     "iopub.status.busy": "2025-05-14T16:20:39.443023Z",
     "iopub.status.idle": "2025-05-14T16:20:41.295019Z",
     "shell.execute_reply": "2025-05-14T16:20:41.294573Z",
     "shell.execute_reply.started": "2025-05-14T16:20:39.443147Z"
    }
   },
   "outputs": [
    {
     "data": {
      "text/html": [
       "<pre style=\"margin: 0.1em;\n",
       "padding-left: 0.25em;\n",
       "border-left-style: solid;\n",
       "font-family: var(--jp-code-font-family);\n",
       "font-size: var(--jp-code-font-size);\n",
       "line-height: var(--jp-code-line-height);\n",
       "\"><span style=\"color: var(--jp-warn-color2)\">healpy</span> <span style=\"color: var(--jp-info-color0)\">INFO</span>: 0.0 180.0 -180.0 180.0</pre>"
      ],
      "text/plain": [
       "<IPython.core.display.HTML object>"
      ]
     },
     "metadata": {},
     "output_type": "display_data"
    },
    {
     "data": {
      "text/html": [
       "<pre style=\"margin: 0.1em;\n",
       "padding-left: 0.25em;\n",
       "border-left-style: solid;\n",
       "font-family: var(--jp-code-font-family);\n",
       "font-size: var(--jp-code-font-size);\n",
       "line-height: var(--jp-code-line-height);\n",
       "\"><span style=\"color: var(--jp-warn-color2)\">healpy</span> <span style=\"color: var(--jp-info-color0)\">INFO</span>: The interval between parallels is 30 deg -0.00&#x27;.</pre>"
      ],
      "text/plain": [
       "<IPython.core.display.HTML object>"
      ]
     },
     "metadata": {},
     "output_type": "display_data"
    },
    {
     "data": {
      "text/html": [
       "<pre style=\"margin: 0.1em;\n",
       "padding-left: 0.25em;\n",
       "border-left-style: solid;\n",
       "font-family: var(--jp-code-font-family);\n",
       "font-size: var(--jp-code-font-size);\n",
       "line-height: var(--jp-code-line-height);\n",
       "\"><span style=\"color: var(--jp-warn-color2)\">healpy</span> <span style=\"color: var(--jp-info-color0)\">INFO</span>: The interval between meridians is 30 deg -0.00&#x27;.</pre>"
      ],
      "text/plain": [
       "<IPython.core.display.HTML object>"
      ]
     },
     "metadata": {},
     "output_type": "display_data"
    },
    {
     "data": {
      "image/png": "[encoded data removed]",
      "text/plain": [
       "<Figure size 1275x810 with 1 Axes>"
      ]
     },
     "metadata": {},
     "output_type": "display_data"
    }
   ],
   "source": [
    "# Plot \n",
    "total_fp = np.zeros(len(labels))\n",
    "cmap = 'viridis'\n",
    "norm = plt.Normalize(vmin=0, vmax=max(region_dict.values()))\n",
    "\n",
    "total_fp = np.where(labels == 'scp', region_dict['scp'], total_fp)\n",
    "total_fp = np.where(labels == 'nes', region_dict['nes'], total_fp)\n",
    "total_fp = np.where((labels == 'dusty_plane'), region_dict['dusty_plane'], total_fp)\n",
    "total_fp = np.where(((labels == 'bulgy') | (labels == 'LMC_SMC')), region_dict['gpwfd'], total_fp)\n",
    "total_fp = np.where(((labels == 'euclid_overlap') | (labels == 'lowdust') | (labels == 'virgo')), region_dict['lowdust'], total_fp)\n",
    "total_fp = np.where(labels == '', np.nan, total_fp)\n",
    "\n",
    "norm = plt.Normalize(vmin=0, vmax=7)\n",
    "hp.mollview(total_fp, badcolor='white', cmap=cmap, norm=norm, cbar=False, title=None)\n",
    "hp.graticule(alpha=0.5)\n",
    "\n",
    "ax = plt.gca()\n",
    "im = ax.get_images()[0]\n",
    "\n",
    "legend_elements = [Patch(facecolor=im.get_cmap()(norm(region_dict['scp'])), label=\"SCP\"),\n",
    "                   Patch(facecolor=im.get_cmap()(norm(region_dict['nes'])), label=\"NES\"),\n",
    "                   Patch(facecolor=im.get_cmap()(norm(region_dict['dusty_plane'])), label=\"Dusty Plane\"),\n",
    "                   Patch(facecolor=im.get_cmap()(norm(region_dict['gpwfd'])), label=\"GP/MC WFD\"),\n",
    "                   Patch(facecolor=im.get_cmap()(norm(region_dict['lowdust'])), label=\"LowDust WFD\")]\n",
    "ax.legend(handles=legend_elements, loc=(0.14, -0.1), ncols=5)\n",
    "\n",
    "for counter, (i, target) in enumerate(dp1_targets_summary.iterrows()):\n",
    "    name = target['Field Code'].replace(\"\\\\\", '')\n",
    "    sign = 2 * (counter % 2) + 1\n",
    "    hp.projscatter(target.RA, target.DEC, lonlat=True, facecolor='black', \n",
    "                   marker='o', edgecolors='white' )\n",
    "    if name.startswith('Rubin'):\n",
    "        hp.projtext(target['RA'] + 20, target['DEC'] + 5, name,  lonlat=True)\n",
    "    elif name.startswith('ECDFS'):\n",
    "        hp.projtext(target['RA'] + 38, target['DEC'] -5 , name, lonlat=True)\n",
    "    else:\n",
    "        hp.projtext(target['RA'] + 3, target['DEC'] + 5, name, lonlat=True)\n",
    "\n",
    "plt_path = os.path.join(figures_path, \"dp1_fields_with_survey_fp.pdf\")\n",
    "plt.savefig(plt_path, format='pdf', bbox_inches='tight')"
   ]
  },
  {
   "cell_type": "code",
   "execution_count": 28,
   "id": "4c1869ef-ea0a-440b-8726-7af42f6eea02",
   "metadata": {
    "execution": {
     "iopub.execute_input": "2025-05-14T16:20:41.296025Z",
     "iopub.status.busy": "2025-05-14T16:20:41.295558Z",
     "iopub.status.idle": "2025-05-14T16:20:41.299027Z",
     "shell.execute_reply": "2025-05-14T16:20:41.298659Z",
     "shell.execute_reply.started": "2025-05-14T16:20:41.296011Z"
    }
   },
   "outputs": [
    {
     "data": {
      "text/plain": [
       "<function matplotlib.pyplot.close(fig: \"None | int | str | Figure | Literal['all']\" = None) -> 'None'>"
      ]
     },
     "execution_count": 28,
     "metadata": {},
     "output_type": "execute_result"
    }
   ],
   "source": [
    "plt.close"
   ]
  }
 ],
 "metadata": {
  "kernelspec": {
   "display_name": "LSST",
   "language": "python",
   "name": "lsst"
  },
  "language_info": {
   "codemirror_mode": {
    "name": "ipython",
    "version": 3
   },
   "file_extension": ".py",
   "mimetype": "text/x-python",
   "name": "python",
   "nbconvert_exporter": "python",
   "pygments_lexer": "ipython3",
   "version": "3.12.10"
  }
 },
 "nbformat": 4,
 "nbformat_minor": 5
}
