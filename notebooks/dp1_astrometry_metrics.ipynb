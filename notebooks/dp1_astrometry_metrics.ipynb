{
 "cells": [
  {
   "cell_type": "markdown",
   "id": "4af81251-2d4d-4eeb-893c-8012bca37cdc",
   "metadata": {
    "execution": {
     "iopub.execute_input": "2025-07-18T15:01:13.591354Z",
     "iopub.status.busy": "2025-07-18T15:01:13.591022Z",
     "iopub.status.idle": "2025-07-18T15:01:13.604343Z",
     "shell.execute_reply": "2025-07-18T15:01:13.603856Z",
     "shell.execute_reply.started": "2025-07-18T15:01:13.591328Z"
    }
   },
   "source": [
    "<img align=\"left\" src = https://project.lsst.org/sites/default/files/Rubin-O-Logo_0.png width=250 style=\"padding: 10px\" alt=\"Rubin Observatory logo, a graphical representation of turning stars into data.\"> <br><br>\n",
    "**Description:** Make plots showing the astrometry metrics.<br>\n",
    "**Authors:** Clare Saunders<br>\n",
    "**Last verified to run:** 2025-07-18<br>\n",
    "**LSST Science Pipelines version:** v29.0.1<br>\n",
    "**Container size:** medium"
   ]
  },
  {
   "cell_type": "markdown",
   "id": "8997e30b-6114-45e6-938c-5eac97b1836a",
   "metadata": {},
   "source": [
    "## Setup:"
   ]
  },
  {
   "cell_type": "code",
   "execution_count": null,
   "id": "9e10b285-8718-4ed5-ad26-fb1a9981624f",
   "metadata": {},
   "outputs": [],
   "source": [
    "from lsst.daf.butler import Butler\n",
    "import numpy as np\n",
    "import matplotlib.pyplot as plt\n",
    "\n",
    "from lsst.utils.plotting import (publication_plots, divergent_cmap, accent_color, stars_color)\n",
    "publication_plots.set_rubin_plotstyle()"
   ]
  },
  {
   "cell_type": "markdown",
   "id": "fc888750-f9b5-4c59-bb76-a2c081b38cf7",
   "metadata": {},
   "source": [
    "## Butler:"
   ]
  },
  {
   "cell_type": "code",
   "execution_count": null,
   "id": "fda57fd5-f855-424e-95a7-f93717146198",
   "metadata": {},
   "outputs": [],
   "source": [
    "repo = '/repo/dp1'\n",
    "instrument = 'LSSTComCam'\n",
    "collections = 'LSSTComCam/DP1'\n",
    "skymapname = 'lsst_cells_v1'\n",
    "butler = Butler(repo,instrument=instrument, \n",
    "                collections=collections, \n",
    "                skymap=skymapname)"
   ]
  },
  {
   "cell_type": "markdown",
   "id": "d09ea1fe-d371-4e1d-bc2c-d095c542f7fd",
   "metadata": {},
   "source": [
    "## Gather data needed for AM1 and dmL2AstroErr"
   ]
  },
  {
   "cell_type": "code",
   "execution_count": null,
   "id": "f5bfdc8e-8384-4d50-ac7d-f6c1e5e8eaff",
   "metadata": {},
   "outputs": [],
   "source": [
    "# AM1 and dmL2AstroErr\n",
    "catalog = \"recalibrated_star_association_metrics\"\n",
    "\n",
    "info = list(butler.registry.queryDatasets(catalog))\n",
    "\n",
    "dataID = []\n",
    "for run in info:\n",
    "    dataID.append(run.dataId)\n",
    "dataID = list(set(dataID))\n",
    "\n",
    "\n",
    "AM1 = {}\n",
    "dmL2AstroErr = {}\n",
    "\n",
    "for dat in dataID:\n",
    "    cat = butler.get(catalog, dat)\n",
    "            \n",
    "    for i in range(len(cat['stellarAstrometricRepeatability1'])):\n",
    "        A = cat['stellarAstrometricRepeatability1'][i]\n",
    "    \n",
    "        if \"AM1\" in A.metric_name.metric:\n",
    "            name = str(dat['tract'])+\"_\"+ A.metric_name.metric[0]\n",
    "            AM1.update({name:A.quantity.value})\n",
    "    for j in range(len(cat['stellarAstrometricSelfRepeatabilityRA'])):\n",
    "        B = cat['stellarAstrometricSelfRepeatabilityRA'][j]\n",
    "        if \"dmL2AstroErr_RA\" in B.metric_name.metric:\n",
    "            name = str(dat['tract'])+\"_\"+ B.metric_name.metric[0]\n",
    "            dmL2AstroErr.update({name:B.quantity.value})\n"
   ]
  },
  {
   "cell_type": "markdown",
   "id": "2a5954df-c9a3-49f4-b42d-746062921033",
   "metadata": {
    "execution": {
     "iopub.execute_input": "2025-07-18T15:57:29.351727Z",
     "iopub.status.busy": "2025-07-18T15:57:29.351435Z",
     "iopub.status.idle": "2025-07-18T15:57:29.354313Z",
     "shell.execute_reply": "2025-07-18T15:57:29.353984Z",
     "shell.execute_reply.started": "2025-07-18T15:57:29.351711Z"
    }
   },
   "source": [
    "## Gather data needed for dmL1AstroErr"
   ]
  },
  {
   "cell_type": "code",
   "execution_count": null,
   "id": "07231fc3-d4f2-4011-b867-904293ae2d17",
   "metadata": {},
   "outputs": [],
   "source": [
    "# dmL1AstroErr\n",
    "catalog = \"single_visit_star_association_metrics\"\n",
    "\n",
    "info = list(butler.registry.queryDatasets(catalog))\n",
    "\n",
    "dataID = []\n",
    "for run in info:\n",
    "    dataID.append(run.dataId)\n",
    "dataID = list(set(dataID))\n",
    "\n",
    "dmL1AstroErr = {}\n",
    "\n",
    "for dat in dataID:\n",
    "    cat = butler.get(catalog, dat)\n",
    "    \n",
    "    for j in range(len(cat['stellarAstrometricSelfRepeatabilityRA'])):\n",
    "        B = cat['stellarAstrometricSelfRepeatabilityRA'][j]\n",
    "        if \"dmL2AstroErr_RA\" in B.metric_name.metric:\n",
    "            name = str(dat['tract'])+\"_\"+ B.metric_name.metric[0]\n",
    "            dmL1AstroErr.update({name:B.quantity.value})\n",
    "   "
   ]
  },
  {
   "cell_type": "markdown",
   "id": "047f712b-69f0-4dd7-a0dc-236382914784",
   "metadata": {},
   "source": [
    "### Make AM1 plot:"
   ]
  },
  {
   "cell_type": "code",
   "execution_count": null,
   "id": "83a6ae15-e47b-4848-b18d-e8fae301ac2e",
   "metadata": {},
   "outputs": [],
   "source": [
    "am1 = np.array([AM1[tract] for tract in AM1])\n",
    "am1 = am1[np.isfinite(am1)]\n",
    "\n",
    "am1Median = np.median(am1)\n",
    "\n",
    "plt.hist(am1, bins=np.linspace(0, 30, 31), color=stars_color())\n",
    "ylim = plt.ylim(0, 15)\n",
    "plt.axvline(am1Median, linestyle='--', label='AM1 median = %.1f mas'%(am1Median),\n",
    "        color=accent_color())\n",
    "plt.ylim(ylim)\n",
    "plt.ylabel('Number of tracts')\n",
    "plt.xlabel('AM1 (mas)')\n",
    "plt.legend()\n",
    "plt.savefig('../figures/Astrometry_AM1.pdf')\n"
   ]
  },
  {
   "cell_type": "markdown",
   "id": "b9d3fce8-2a22-4ad9-9416-79575a4e1050",
   "metadata": {},
   "source": [
    "### Make plot showing dmL1AstroErr and dmL2AstroErr:"
   ]
  },
  {
   "cell_type": "code",
   "execution_count": null,
   "id": "ff9317e6-2cff-4c86-8ff6-f96492078aae",
   "metadata": {},
   "outputs": [],
   "source": [
    "dml2AstroErr_arr = np.array(list(dmL2AstroErr.values()))\n",
    "dml2AstroErr_arr = dml2AstroErr_arr[np.isfinite(dml2AstroErr_arr)]\n",
    "\n",
    "dml2AstroErr_Median = np.median(dml2AstroErr_arr)\n",
    "\n",
    "plt.hist(dml2AstroErr_arr, bins=np.linspace(0, 30, 31),\n",
    "        label='Per-tract values after final calibration', color=stars_color())\n",
    "\n",
    "dml1AstroErr_arr = np.array(list(dmL1AstroErr.values()))\n",
    "dml1AstroErr_arr = dml1AstroErr_arr[np.isfinite(dml1AstroErr_arr)]\n",
    "\n",
    "dml1AstroErr_Median = np.median(dml1AstroErr_arr)\n",
    "\n",
    "plt.hist(dml1AstroErr_arr, bins=np.linspace(0, 30, 31), facecolor='None', histtype='step',\n",
    "         edgecolor=accent_color(), label='Per-tract values after initial calibration')\n",
    "\n",
    "plt.axvline(dml2AstroErr_Median, linestyle='--', color='k',\n",
    "            label='Median after final calibration = %.1f mas'%(dml2AstroErr_Median))\n",
    "plt.axvline(dml1AstroErr_Median, linestyle='-.', color='k',\n",
    "            label='Median after initial calibration = %.1f mas'%(dml1AstroErr_Median))\n",
    "#plt.ylim(ylim)\n",
    "plt.ylabel('Number of tracts')\n",
    "plt.xlabel('Mean repeatability in RA per tract (mas)')\n",
    "plt.legend(fontsize=8)\n",
    "plt.savefig('../figures/Astrometry_dmAstroErr.pdf')\n",
    "plt.show()"
   ]
  },
  {
   "cell_type": "markdown",
   "id": "d4c7de80-13c5-42a4-8a92-4e5249cf4083",
   "metadata": {},
   "source": [
    "## Gather AA1 data:\n",
    "This was run on DP1 data, but outside the DP1 pipeline, and is in a separate collection"
   ]
  },
  {
   "cell_type": "code",
   "execution_count": null,
   "id": "ae1a9471-58af-4cb9-bfd6-cfbf48756a1e",
   "metadata": {},
   "outputs": [],
   "source": [
    "butler2 = Butler(\"/repo/main\", collections='u/csaunder/DM-50629')"
   ]
  },
  {
   "cell_type": "code",
   "execution_count": null,
   "id": "c9193870-020e-4f5a-8f70-d884d1c63d09",
   "metadata": {},
   "outputs": [],
   "source": [
    "targetRefCatDeltaMetricsRefs = list(butler2.registry.queryDatasets('sourceTable_visit_gaia_dr3_20230707_match_astrom_metrics',\n",
    "                                                                  findFirst=True))"
   ]
  },
  {
   "cell_type": "code",
   "execution_count": null,
   "id": "708120c3-723f-4b3c-bedd-327f0cb3c84b",
   "metadata": {},
   "outputs": [],
   "source": [
    "aa1_ra = {}\n",
    "aa1_dec = {}\n",
    "for metricsRef in targetRefCatDeltaMetricsRefs:\n",
    "    metrics = butler2.get(metricsRef)\n",
    "    for metric in metrics['astromDiffMetrics']:\n",
    "        if \"AA1_RA\" == metric.metric_name.metric:\n",
    "            name = str(metricsRef.dataId['visit'])\n",
    "            aa1_ra.update({name:metric.quantity.value})\n",
    "\n",
    "        if \"AA1_Dec\" == metric.metric_name.metric:\n",
    "            name = str(metricsRef.dataId['visit'])\n",
    "            aa1_dec.update({name:metric.quantity.value})"
   ]
  },
  {
   "cell_type": "markdown",
   "id": "cacac264-fe15-4060-bdb8-ca7500ce78ed",
   "metadata": {},
   "source": [
    "### Make AA1 figure"
   ]
  },
  {
   "cell_type": "code",
   "execution_count": null,
   "id": "df6dc229-96fa-4a19-b4e5-85e4e527deb0",
   "metadata": {},
   "outputs": [],
   "source": [
    "fig, subs = plt.subplots(1, 2, sharex=True, sharey=True, figsize=(7, 4.5))\n",
    "subs[0].hist(np.array(list(aa1_ra.values())), bins=30, color=stars_color())\n",
    "subs[1].hist(np.array(list(aa1_dec.values())), bins=30, color=stars_color())\n",
    "ra_median = np.median(np.array(list(aa1_ra.values())))\n",
    "subs[0].axvline(ra_median, color=accent_color(), linestyle='--', \n",
    "               label=f'Median for all visits={ra_median:.2f} mas')\n",
    "dec_median = np.median(np.array(list(aa1_dec.values())))\n",
    "subs[1].axvline(dec_median, color=accent_color(), linestyle='--', \n",
    "               label=f'Median for all visits={dec_median:.2f} mas')\n",
    "subs[0].legend(fontsize=8)\n",
    "subs[1].legend(fontsize=8)\n",
    "subs[0].set_xlim(-10, 10)\n",
    "subs[0].set_ylabel('Number of tracts')\n",
    "subs[0].set_xlabel('$\\\\delta RA$ (mas)')\n",
    "subs[1].set_xlabel('$\\\\delta Dec$ (mas)')\n",
    "fig.savefig('../figures/Astrometry_AA1.pdf')"
   ]
  },
  {
   "cell_type": "code",
   "execution_count": null,
   "id": "ae88b152-21ab-47af-9eed-9fc16583ce6a",
   "metadata": {},
   "outputs": [],
   "source": []
  }
 ],
 "metadata": {
  "kernelspec": {
   "display_name": "LSST",
   "language": "python",
   "name": "lsst"
  },
  "language_info": {
   "codemirror_mode": {
    "name": "ipython",
    "version": 3
   },
   "file_extension": ".py",
   "mimetype": "text/x-python",
   "name": "python",
   "nbconvert_exporter": "python",
   "pygments_lexer": "ipython3",
   "version": "3.12.11"
  }
 },
 "nbformat": 4,
 "nbformat_minor": 5
}
