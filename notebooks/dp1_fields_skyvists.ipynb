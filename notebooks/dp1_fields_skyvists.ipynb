{
 "cells": [
  {
   "cell_type": "markdown",
   "id": "e3d0573f-1451-45ef-89cc-8285b3c2a595",
   "metadata": {},
   "source": [
    "<img align=\"left\" src = https://project.lsst.org/sites/default/files/Rubin-O-Logo_0.png width=250 style=\"padding: 10px\"\n",
    "alt=\"Rubin Observatory logo, a graphical representation of turning stars into data.\"> <br><br>\n",
    "**Description:** Generate sky visit plots for the seven _Rubin Observatory DP1_ fields. <br>\n",
    "**Authors:** Lauren MacArthur, Leanne Guy, <br>\n",
    "**Last verified to run:** 2025-05-25 <br>\n",
    "**LSST Science Pipelines version:** v29.0.1<br>\n",
    "**Container size:** medium <br>"
   ]
  },
  {
   "cell_type": "code",
   "execution_count": null,
   "id": "89a6c063-c0a5-47ea-813f-0446375850f1",
   "metadata": {},
   "outputs": [],
   "source": [
    "# Generic python packages\n",
    "import os\n",
    "import csv\n",
    "import requests\n",
    "import yaml\n",
    "import numpy as np\n",
    "import pandas as pd\n",
    "import subprocess\n",
    "from pathlib import Path\n",
    "\n",
    "# LSST Science Pipelines \n",
    "from lsst.daf.butler import Butler\n",
    "\n",
    "# Set rubin publication plot style\n",
    "from lsst.utils.plotting import publication_plots, get_multiband_plot_colors\n",
    "import matplotlib.pyplot as plt\n",
    "\n",
    "import logging"
   ]
  },
  {
   "cell_type": "markdown",
   "id": "f91a6fb8-e50d-49c5-8bcd-1b9ef1f7bf45",
   "metadata": {},
   "source": [
    "### Publication style"
   ]
  },
  {
   "cell_type": "code",
   "execution_count": null,
   "id": "4877a008-4dd7-45fd-863e-f9e1d1cc153f",
   "metadata": {},
   "outputs": [],
   "source": [
    "# Setup publication style\n",
    "publication_plots.set_rubin_plotstyle()\n",
    "colors = get_multiband_plot_colors()\n",
    "bands = colors.keys()  # important to get the right order for plot legends\n",
    "bands_dict = publication_plots.get_band_dicts()\n",
    "%matplotlib inline"
   ]
  },
  {
   "cell_type": "code",
   "execution_count": null,
   "id": "e320f7ce-8b6b-46c2-8c54-34b63342c85d",
   "metadata": {},
   "outputs": [],
   "source": [
    "# Force to unpushed updated color scheme.\n",
    "colors ={\"u\": \"#48A8D4\",\n",
    "         \"g\": \"#31DE1F\",\n",
    "         \"r\": \"#B52626\",\n",
    "         \"i\": \"#2915A4\",\n",
    "         \"z\": \"#AD03EA\",\n",
    "         \"y\": \"#2D0201\",\n",
    "}"
   ]
  },
  {
   "cell_type": "code",
   "execution_count": null,
   "id": "5d4329c5-bff0-4ebc-b179-e0d18952bc8d",
   "metadata": {},
   "outputs": [],
   "source": [
    "# Set up the figures, data and tables paths\n",
    "figures_path = Path('../figures')\n",
    "tables_path = Path('../tables')"
   ]
  },
  {
   "cell_type": "markdown",
   "id": "cd4f3473-8f73-494e-9680-662457970f51",
   "metadata": {},
   "source": [
    "### DP1 Butler"
   ]
  },
  {
   "cell_type": "code",
   "execution_count": null,
   "id": "42ccfd55-11a5-4c73-9603-6ce816ecd87c",
   "metadata": {},
   "outputs": [],
   "source": [
    "repo = '/repo/dp1'\n",
    "instrument = 'LSSTComCam'\n",
    "collections = 'LSSTComCam/DP1'\n",
    "skymapname = 'lsst_cells_v1'\n",
    "butler = Butler(repo,instrument=instrument, \n",
    "                collections=collections, \n",
    "                skymap=skymapname)\n",
    "registry = butler.registry\n",
    "skymap = butler.get('skyMap', skymap=skymapname)"
   ]
  },
  {
   "cell_type": "markdown",
   "id": "184c9340-f937-46bb-9adc-4f98b536dc0e",
   "metadata": {
    "execution": {
     "iopub.execute_input": "2025-05-31T19:54:46.201816Z",
     "iopub.status.busy": "2025-05-31T19:54:46.201091Z",
     "iopub.status.idle": "2025-05-31T19:54:46.203989Z",
     "shell.execute_reply": "2025-05-31T19:54:46.203558Z",
     "shell.execute_reply.started": "2025-05-31T19:54:46.201798Z"
    }
   },
   "source": [
    "## Command to generate visit sky map\n",
    "\n",
    "showVisitSkyMap.py dp1 --collections collection --skymapName lsst\\_cells\\_v1 --saveFile filepath.png --tracts tract --showPatch <br>\n",
    "\n",
    "This code will be updated to use the official version once it is merged"
   ]
  },
  {
   "cell_type": "code",
   "execution_count": null,
   "id": "4ca907ea-3da1-47ad-9eb7-87e1e15f9a1e",
   "metadata": {},
   "outputs": [],
   "source": [
    "#script = \"$SKYMAP_DIR/doc/_static/skymap/showVisitSkyMap.py'\n",
    "script = \"../bin/showVisitSkyMap.py\""
   ]
  },
  {
   "cell_type": "code",
   "execution_count": null,
   "id": "e18d0232-c6d3-410c-96ac-87f11560f421",
   "metadata": {},
   "outputs": [],
   "source": [
    "# Fields and tracts dictionary  -- update to extract from data\n",
    "fields_tracts = {\n",
    "    \"47Tuc\": [\"453\", \"454\"],\n",
    "    \"Fornax_dSph\": [\"4016\", \"4017\", \"4217\", \"4218\"],\n",
    "    \"ECDFS\": [\"4848\", \"4849\", \"5063\", \"5064\"],\n",
    "    \"EDFS\": [\"2234\", \"2393\", \"2394\"],\n",
    "    \"RubinSV_95_-25\": [\"5305\", \"5306\", \"5625\", \"5626\"],\n",
    "    \"Seagull\": [\"7610\", \"7611\", \"7849\", \"7850\"],\n",
    "    \"RubinSV_38_7\": [\"10463\", \"10464\", \"10704\", \"10705\"]\n",
    "}"
   ]
  },
  {
   "cell_type": "code",
   "execution_count": null,
   "id": "e301740d-e196-4231-a618-3183b12bd3e2",
   "metadata": {},
   "outputs": [],
   "source": [
    "# Loop over all fields and make the map\n",
    "for field, tracts in fields_tracts.items():\n",
    "    filename = figures_path / f\"showVisit_DP1_{field}.pdf\"\n",
    "    print(f\"Making sky visit map for Field: {field} with Tracts: {tracts} in {filename}\")\n",
    "    subprocess.run([\"python\", script, repo, \n",
    "            \"--collections\", collections,\n",
    "            \"--skymapName\", skymapname,\n",
    "            \"--saveFile\", str(filename),\n",
    "            \"--tracts\", *tracts,\n",
    "            \"--showPatch\" \n",
    "           ])"
   ]
  }
 ],
 "metadata": {
  "kernelspec": {
   "display_name": "LSST",
   "language": "python",
   "name": "lsst"
  },
  "language_info": {
   "codemirror_mode": {
    "name": "ipython",
    "version": 3
   },
   "file_extension": ".py",
   "mimetype": "text/x-python",
   "name": "python",
   "nbconvert_exporter": "python",
   "pygments_lexer": "ipython3",
   "version": "3.12.10"
  }
 },
 "nbformat": 4,
 "nbformat_minor": 5
}
