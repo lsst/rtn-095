{
 "cells": [
  {
   "cell_type": "markdown",
   "id": "963e59a4-cb0a-452b-83d5-ae422a2c3e64",
   "metadata": {},
   "source": [
    "# Accessing Object Table data using the Butler"
   ]
  },
  {
   "cell_type": "markdown",
   "id": "6c8f60e3-bb09-45ff-8db1-360bde8a94ca",
   "metadata": {},
   "source": [
    "## Import necessary modules"
   ]
  },
  {
   "cell_type": "code",
   "execution_count": 1,
   "id": "65e8a459-1a40-43e5-b68d-050f102937b8",
   "metadata": {
    "execution": {
     "iopub.execute_input": "2025-07-10T15:57:02.957034Z",
     "iopub.status.busy": "2025-07-10T15:57:02.956899Z",
     "iopub.status.idle": "2025-07-10T15:57:03.966026Z",
     "shell.execute_reply": "2025-07-10T15:57:03.965544Z",
     "shell.execute_reply.started": "2025-07-10T15:57:02.957017Z"
    }
   },
   "outputs": [],
   "source": [
    "from lsst.daf.butler import Butler\n",
    "from collections import defaultdict\n",
    "import numpy as np\n",
    "from astropy import units as u"
   ]
  },
  {
   "cell_type": "markdown",
   "id": "7988a073-313c-490b-bdef-19fd3d92d57e",
   "metadata": {},
   "source": [
    "## Set up the butler"
   ]
  },
  {
   "cell_type": "code",
   "execution_count": 2,
   "id": "e6f2d2b8-5c6c-413d-82f0-5ea9368cae5a",
   "metadata": {
    "execution": {
     "iopub.execute_input": "2025-07-10T15:57:03.968144Z",
     "iopub.status.busy": "2025-07-10T15:57:03.967996Z",
     "iopub.status.idle": "2025-07-10T15:57:04.589801Z",
     "shell.execute_reply": "2025-07-10T15:57:04.589348Z",
     "shell.execute_reply.started": "2025-07-10T15:57:03.968128Z"
    }
   },
   "outputs": [],
   "source": [
    "instrument = 'LSSTComCam'\n",
    "collections = ['LSSTComCam/DP1/defaults', \n",
    "               'LSSTComCam/runs/DRP/DP1/v29_0_0/DM-50260',\n",
    "               'skymaps', ]\n",
    "skymap = 'lsst_cells_v1'\n",
    "butler = Butler(\"/repo/dp1\",\n",
    "                instrument=instrument, \n",
    "                collections=collections, \n",
    "                skymap=skymap)\n",
    "registry = butler.registry\n",
    "skymap = butler.get('skyMap', skymap=skymap)"
   ]
  },
  {
   "cell_type": "markdown",
   "id": "e7555dae-a3f8-4850-8693-6ff646497379",
   "metadata": {},
   "source": [
    "## Which tracts cover each field?"
   ]
  },
  {
   "cell_type": "code",
   "execution_count": 3,
   "id": "4ba98b03-be71-48ee-a323-d02b9effa830",
   "metadata": {
    "execution": {
     "iopub.execute_input": "2025-07-10T15:57:04.632697Z",
     "iopub.status.busy": "2025-07-10T15:57:04.632557Z",
     "iopub.status.idle": "2025-07-10T15:57:04.812983Z",
     "shell.execute_reply": "2025-07-10T15:57:04.812489Z",
     "shell.execute_reply.started": "2025-07-10T15:57:04.632684Z"
    }
   },
   "outputs": [],
   "source": [
    "fields = defaultdict(set)\n",
    "with butler.query() as base_query:\n",
    "    processed_visit_query = base_query.join_dataset_search(\"visit_summary\").where('visit > 0')\n",
    "    for row in processed_visit_query.general([\"tract\", \"band\"], \"visit.target_name\"):\n",
    "        if row[\"visit.target_name\"] != 'slew_icrs':\n",
    "            fields[row[\"visit.target_name\"]].add(row[\"tract\"])"
   ]
  },
  {
   "cell_type": "markdown",
   "id": "f8b03efa-6427-4d8a-9bef-bc3df4044c7d",
   "metadata": {},
   "source": [
    "## Estimage the median 5\\sigma depth of each field"
   ]
  },
  {
   "cell_type": "code",
   "execution_count": 4,
   "id": "644bd4aa-0fb0-4300-aa91-ca36a6f38568",
   "metadata": {
    "execution": {
     "iopub.execute_input": "2025-07-10T15:57:04.813934Z",
     "iopub.status.busy": "2025-07-10T15:57:04.813613Z",
     "iopub.status.idle": "2025-07-10T16:06:17.656742Z",
     "shell.execute_reply": "2025-07-10T16:06:17.656238Z",
     "shell.execute_reply.started": "2025-07-10T15:57:04.813918Z"
    }
   },
   "outputs": [
    {
     "name": "stderr",
     "output_type": "stream",
     "text": [
      "/opt/lsst/software/stack/conda/envs/lsst-scipipe-10.0.0/lib/python3.12/site-packages/numpy/_core/fromnumeric.py:3860: RuntimeWarning: Mean of empty slice.\n",
      "  return _methods._mean(a, axis=axis, dtype=dtype,\n",
      "/opt/lsst/software/stack/conda/envs/lsst-scipipe-10.0.0/lib/python3.12/site-packages/numpy/_core/_methods.py:145: RuntimeWarning: invalid value encountered in scalar divide\n",
      "  ret = ret.dtype.type(ret / rcount)\n"
     ]
    }
   ],
   "source": [
    "fieldOrder = ['47_Tuc', 'ECDFS', 'EDFS_comcam', 'Fornax_dSph', 'Rubin_SV_095_-25', 'Rubin_SV_38_7', 'Seagull']\n",
    "bands = ['u','g','r','i','z','y']\n",
    "\n",
    "with open(\"dp1_depths.tex\", \"w\") as f:\n",
    "    f.write(r\"\"\"%%%%% This table is auto generated from data, DO NOT EDIT\n",
    "\\setlength{\\tabcolsep}{6pt}  % default is 6pt\n",
    "\\begin{deluxetable}{lcccccc}\n",
    "\\tablecaption{Median $5\\sigma$ coadd detection limits per field and band..\n",
    "\\label{tab:dp1_m5_depths} }\n",
    "\n",
    "\\tablehead{\n",
    "  \\textbf{Field Code} & \\multicolumn{6}{c}{\\textbf{Band}}\\\\\n",
    "  \\cline{2-7}\n",
    "   &u&g&r&i&z&y\n",
    "}\n",
    "\\startdata\n",
    "\"\"\")\n",
    "\n",
    "    for fieldName in fieldOrder:\n",
    "        latexName = fieldName.replace('_', '\\\\_')\n",
    "        medmags = ''\n",
    "        for band in bands:\n",
    "            mags = np.array([])\n",
    "            tracts = fields[fieldName]\n",
    "            for tract in tracts:\n",
    "                columns = [f'{band}_psfFlux',\n",
    "                       f'{band}_psfFluxErr',\n",
    "                       f'{band}_psfFlux_flag',\n",
    "                       f'{band}_extendedness']\n",
    "                table = butler.get('object',\n",
    "                                   tract=tract,\n",
    "                                   skymap='lsst_cells_v1',\n",
    "                                   parameters={'columns':columns})\n",
    "            \n",
    "                sn = table[f'{band}_psfFlux'] / table[f'{band}_psfFluxErr']\n",
    "                if len(table) > 0:\n",
    "                    starSelection = (\n",
    "                        (~table[f'{band}_psfFlux_flag']) &\n",
    "                        (table[f'{band}_extendedness'] <= 0.5) &\n",
    "                        ~table[f'{band}_extendedness'].mask &\n",
    "                        (sn > 4.9) &\n",
    "                        (sn < 5.1))\n",
    "                    mags = np.append(mags,(table[starSelection][f'{band}_psfFlux'] * u.nJy).to_value(u.ABmag))\n",
    "            medmagstr = f'{np.median(mags):.2f}'\n",
    "            if 'nan' in medmagstr:\n",
    "                medmagstr = '-'\n",
    "            medmags = medmags + '&' + medmagstr\n",
    "        f.write(f'{latexName}{medmags}\\\\\\\\\\n')\n",
    "    f.write(r\"\"\"\\enddata\n",
    "\\end{deluxetable}\n",
    "\"\"\")\n",
    "f.close()"
   ]
  },
  {
   "cell_type": "code",
   "execution_count": null,
   "id": "d4a0d309-ca48-40f5-8511-fa976a339b5d",
   "metadata": {},
   "outputs": [],
   "source": []
  }
 ],
 "metadata": {
  "kernelspec": {
   "display_name": "LSST",
   "language": "python",
   "name": "lsst"
  },
  "language_info": {
   "codemirror_mode": {
    "name": "ipython",
    "version": 3
   },
   "file_extension": ".py",
   "mimetype": "text/x-python",
   "name": "python",
   "nbconvert_exporter": "python",
   "pygments_lexer": "ipython3",
   "version": "3.12.11"
  }
 },
 "nbformat": 4,
 "nbformat_minor": 5
}
