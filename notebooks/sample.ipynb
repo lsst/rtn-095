{
 "cells": [
  {
   "cell_type": "markdown",
   "id": "afc80af8-f4e3-428a-8d95-d26611cec537",
   "metadata": {},
   "source": [
    "# Template notebook for DP1 plots and tables"
   ]
  },
  {
   "cell_type": "code",
   "execution_count": null,
   "id": "c184eb6b-8445-40e6-ad23-f79be163065b",
   "metadata": {},
   "outputs": [],
   "source": [
    "# Generic python packages\n",
    "import os\n",
    "\n",
    "from lsst.summit.utils import ConsDbClient\n",
    "from lsst.summit.utils.utils import computeCcdExposureId\n",
    "\n",
    "# LSST Science Pipelines (Stack) packages\n",
    "from lsst.daf.butler import Butler"
   ]
  },
  {
   "cell_type": "code",
   "execution_count": null,
   "id": "d5cdeee6-8a42-4c11-b927-e3c406fe1b95",
   "metadata": {},
   "outputs": [],
   "source": [
    "%matplotlib inline"
   ]
  },
  {
   "cell_type": "markdown",
   "id": "b7ac9c0f-52b4-4380-88bd-61f0257434b3",
   "metadata": {},
   "source": [
    "### Utility Functions"
   ]
  },
  {
   "cell_type": "code",
   "execution_count": null,
   "id": "a459c43d-df7b-4e13-a9f8-f579073bfffd",
   "metadata": {},
   "outputs": [],
   "source": [
    "def to_day_obs_int(dayobs):\n",
    "    return int(dayobs.replace('-', ''))"
   ]
  },
  {
   "cell_type": "markdown",
   "id": "a6fc8694-7d43-4620-bbeb-6b1300fbcda1",
   "metadata": {},
   "source": [
    "# Connecting to the Butler"
   ]
  },
  {
   "cell_type": "code",
   "execution_count": null,
   "id": "8c7ce631-9686-4cf2-85ca-3676ad258d73",
   "metadata": {},
   "outputs": [],
   "source": [
    "repo = '/repo/main'\n",
    "instrument = 'LSSTComCam'"
   ]
  },
  {
   "cell_type": "code",
   "execution_count": null,
   "id": "fd6065ad-3e07-46ce-91a9-3ae64ce18c56",
   "metadata": {},
   "outputs": [],
   "source": [
    "# LSSTComCam DP1 DRP Pilot run \n",
    "collection = 'LSSTComCam/runs/DRP/DP1/w_2025_09/DM-49235'"
   ]
  },
  {
   "cell_type": "code",
   "execution_count": null,
   "id": "cdd79522-b807-47ac-9ec6-3653557cd522",
   "metadata": {},
   "outputs": [],
   "source": [
    "# LSSTComCam DP1 DRP new upcoming pilot\n",
    "# collection = 'LSSTComCam/runs/DRP/DP1/X/DM-49592'"
   ]
  },
  {
   "cell_type": "code",
   "execution_count": null,
   "id": "3612366b-fa48-44b0-b978-662c92aa0bdb",
   "metadata": {},
   "outputs": [],
   "source": [
    "butler = Butler(repo, collections=collection, instrument=instrument)\n",
    "registry = butler.registry"
   ]
  },
  {
   "cell_type": "code",
   "execution_count": null,
   "id": "4d6b024e-8dbf-4038-badf-8fc14b9c0033",
   "metadata": {},
   "outputs": [],
   "source": [
    "# Get the resource usage summary\n",
    "butler.get(\"ResourceUsageSummary\")"
   ]
  },
  {
   "cell_type": "markdown",
   "id": "6bee05d9-2874-4f81-abe8-8a4b3f272863",
   "metadata": {},
   "source": [
    "# Querying to the consolidated database"
   ]
  },
  {
   "cell_type": "code",
   "execution_count": null,
   "id": "fd41731a-f85e-4f37-9485-f9b6fc30b9b3",
   "metadata": {},
   "outputs": [],
   "source": [
    "# Consolidated db endpoint\n",
    "consdb_url = \"http://consdb-pq.consdb:8080/consdb\"\n",
    "os.environ[\"LSST_CONSDB_PQ_URL\"] = consdb_url\n",
    "os.environ[\"no_proxy\"] += \",.consdb\""
   ]
  },
  {
   "cell_type": "code",
   "execution_count": null,
   "id": "ab8cdf8e-793e-43c6-9016-a89666664f4e",
   "metadata": {},
   "outputs": [],
   "source": [
    "# Consdb Client -- the URL can be passed as a parameter or is taken from the env var set above\n",
    "consdb = ConsDbClient()\n",
    "#?consdb\n",
    "consdb.url"
   ]
  },
  {
   "cell_type": "code",
   "execution_count": null,
   "id": "bb48bbc4-9350-49e1-99f6-bd43c68455a4",
   "metadata": {},
   "outputs": [],
   "source": [
    "# Get the instruments/schemas in the consdb \n",
    "schemas = consdb.schema()\n",
    "print(f'schemas:\\n', schemas) "
   ]
  },
  {
   "cell_type": "markdown",
   "id": "82e92183-d267-4974-ad19-8a2a7f379d75",
   "metadata": {},
   "source": [
    "# Accessing an analysis_tools plot with publication mode on"
   ]
  },
  {
   "cell_type": "code",
   "execution_count": 2,
   "id": "2838cf99-1971-4cea-a6e0-60c6eaddfe65",
   "metadata": {
    "execution": {
     "iopub.execute_input": "2025-04-01T19:24:07.231877Z",
     "iopub.status.busy": "2025-04-01T19:24:07.231246Z",
     "iopub.status.idle": "2025-04-01T19:24:07.234332Z",
     "shell.execute_reply": "2025-04-01T19:24:07.233900Z",
     "shell.execute_reply.started": "2025-04-01T19:24:07.231859Z"
    }
   },
   "outputs": [],
   "source": [
    "from lsst.analysis.tools.atools import RhoStatistics\n",
    "atool = RhoStatistics()\n",
    "atool.prep.selectors.snSelector.threshold = 20.0\n",
    "atool.process.calculateActions.rho.treecorr.nbins = 21\n",
    "atool.process.calculateActions.rho.treecorr.min_sep = 0.1\n",
    "atool.process.calculateActions.rho.treecorr.max_sep = 100.0\n",
    "atool.finalize()\n",
    "\n"
   ]
  },
  {
   "cell_type": "markdown",
   "id": "140b6a11-a16e-4658-b0a7-849ee0d2cd6b",
   "metadata": {},
   "source": [
    "# Making a plot using the paper .matplotlib style file"
   ]
  },
  {
   "cell_type": "code",
   "execution_count": null,
   "id": "c8d013f8-e8e6-451a-ac8a-88e6ae633a1f",
   "metadata": {},
   "outputs": [],
   "source": []
  }
 ],
 "metadata": {
  "kernelspec": {
   "display_name": "LSST",
   "language": "python",
   "name": "lsst"
  },
  "language_info": {
   "codemirror_mode": {
    "name": "ipython",
    "version": 3
   },
   "file_extension": ".py",
   "mimetype": "text/x-python",
   "name": "python",
   "nbconvert_exporter": "python",
   "pygments_lexer": "ipython3",
   "version": "3.12.9"
  }
 },
 "nbformat": 4,
 "nbformat_minor": 5
}
