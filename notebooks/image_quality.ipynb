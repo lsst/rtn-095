{
 "cells": [
  {
   "cell_type": "markdown",
   "id": "44436a0a-710e-47ee-88cb-60e3339552e5",
   "metadata": {
    "execution": {
     "iopub.execute_input": "2025-04-24T18:13:21.893995Z",
     "iopub.status.busy": "2025-04-24T18:13:21.893582Z",
     "iopub.status.idle": "2025-04-24T18:13:21.896321Z",
     "shell.execute_reply": "2025-04-24T18:13:21.895928Z",
     "shell.execute_reply.started": "2025-04-24T18:13:21.893971Z"
    }
   },
   "source": [
    "# DP1 delivered image quality\n",
    "\n",
    "Taken from SITCOMTN-149 and applied to DP1 data with pulication customisations"
   ]
  },
  {
   "cell_type": "code",
   "execution_count": null,
   "id": "3136a0f3-5372-400c-b748-48c4f25709b4",
   "metadata": {},
   "outputs": [],
   "source": [
    "import numpy as np\n",
    "import pandas as pd\n",
    "import matplotlib.pyplot as plt\n",
    "from statsmodels.distributions.empirical_distribution import ECDF\n",
    "\n",
    "from lsst.daf.butler import Butler\n",
    "import lsst.geom\n",
    "\n",
    "# Set a standard figure size to use\n",
    "from lsst.utils.plotting import publication_plots\n",
    "from lsst.utils.plotting import get_multiband_plot_colors, get_multiband_plot_symbols, get_multiband_plot_linestyles"
   ]
  },
  {
   "cell_type": "code",
   "execution_count": null,
   "id": "1b411f13-4886-4280-83ba-244682d4eb81",
   "metadata": {},
   "outputs": [],
   "source": [
    "instrument = 'LSSTComCam'\n",
    "collections = ['LSSTComCam/raw/all', \n",
    "               'LSSTComCam/DP1/defaults', \n",
    "               'LSSTComCam/runs/DRP/DP1/v29_0_0/DM-50260' ]\n",
    "skymap = 'lsst_cells_v1'\n",
    "butler = Butler(\"/repo/dp1\",\n",
    "                instrument=instrument, \n",
    "                collections=collections, \n",
    "                skymap=skymap)"
   ]
  },
  {
   "cell_type": "code",
   "execution_count": null,
   "id": "8584dc5f-108d-4053-98a0-251ff39c99ec",
   "metadata": {},
   "outputs": [],
   "source": [
    "# Applying the Rubin DP1 paper custom style sheet to all of the graphs to be created in this notebook\n",
    "publication_plots.set_rubin_plotstyle()\n",
    "bands_dict = publication_plots.get_band_dicts()\n",
    "colors = get_multiband_plot_colors()\n",
    "bands = colors.keys()  # important to get the right order for plot legends\n",
    "%matplotlib inline"
   ]
  },
  {
   "cell_type": "code",
   "execution_count": null,
   "id": "a9fd2572-a3e8-44b8-b53d-4dcb298258fc",
   "metadata": {},
   "outputs": [],
   "source": [
    "visit_detector_table = butler.get(\"visit_detector_table\", storageClass=\"DataFrame\")"
   ]
  },
  {
   "cell_type": "code",
   "execution_count": null,
   "id": "5aa2e7e9-1175-4acd-b9d7-3e3864d0f61e",
   "metadata": {},
   "outputs": [],
   "source": [
    "# Extract and format data for analysis\n",
    "df = visit_detector_table[['detectorId','visitId', 'band', 'psfSigma','seeing']].copy()\n",
    "df[\"psfFwhm\"]=df[\"psfSigma\"]*2.355*0.2\n",
    "df"
   ]
  },
  {
   "cell_type": "code",
   "execution_count": null,
   "id": "591e91f9-7293-4a07-af68-820b1bed2df6",
   "metadata": {},
   "outputs": [],
   "source": [
    "# Best delivered IQ\n",
    "min_row = df.loc[df['psfFwhm'].idxmin()]\n",
    "min_row"
   ]
  },
  {
   "cell_type": "code",
   "execution_count": null,
   "id": "22a418b7-ec72-40b9-b99a-039c86d47aeb",
   "metadata": {},
   "outputs": [],
   "source": [
    "# This is very low -- 0.135 arcsec seeing is not physical.\n",
    "# Should these and other such visits be excluded from the dataset?\n",
    "rows = df[df['visitId'] == 2024112400119]\n",
    "rows"
   ]
  },
  {
   "cell_type": "code",
   "execution_count": null,
   "id": "724eae34-f1f2-48d5-a67e-eb5cdd50c0e7",
   "metadata": {},
   "outputs": [],
   "source": [
    "# Compute and export out the IQ table percentile data\n",
    "percentiles = [25, 50, 75]\n",
    "iq_pctls = df.groupby('band')['psfFwhm'].quantile([p / 100 for p in percentiles]).apply(lambda x: round(x, 2)).unstack()\n",
    "\n",
    "# Sort according to standard band order\n",
    "iq_pctls.index = pd.Categorical(iq_pctls.index, categories=bands, ordered=True)\n",
    "iq_pctls"
   ]
  },
  {
   "cell_type": "code",
   "execution_count": null,
   "id": "85868f06-1f22-42c8-93f0-f71a36362f61",
   "metadata": {},
   "outputs": [],
   "source": [
    "# Write to table for inclusion in latex table \n",
    "iq_pctls.to_csv('../tables/iq_data.csv', index=False)"
   ]
  },
  {
   "cell_type": "code",
   "execution_count": null,
   "id": "c28c40ec-30f1-452d-9cd1-96b1c3dd2ee5",
   "metadata": {},
   "outputs": [],
   "source": [
    "# Extract data from visit table for plotting\n",
    "data = {}\n",
    "for band in bands:\n",
    "    data[band] = np.array(df[df['band'].str.contains(band)]['psfFwhm']) "
   ]
  },
  {
   "cell_type": "code",
   "execution_count": null,
   "id": "107fb8d4-e37e-40eb-96fb-21fa1d5aabb7",
   "metadata": {},
   "outputs": [],
   "source": [
    "# IQ histogram - not for inclusion in the paper but interesting\n",
    "plt.figure()\n",
    "\n",
    "for label, d in data.items():\n",
    "    plt.hist(d, bins=20, alpha=0.5,\n",
    "             linestyle='-',\n",
    "             color = colors[label],\n",
    "             label=label)\n",
    "\n",
    "# Customize plot\n",
    "plt.xlabel('PSF FWHM [arcsec]')\n",
    "plt.ylabel('Fraction of Sensors')\n",
    "plt.grid(True)\n",
    "plt.legend()\n",
    "# plt.xlim(0, 0.9)  \n",
    "# plt.ylim(0, 500) \n",
    "\n",
    "plt.savefig(\"../figures/image_quality_histo.png\", \n",
    "            bbox_inches='tight',  # Trim whitespace around the figure\n",
    "            transparent=True,     # Transparent background\n",
    "            format='png')         # Explicit format specification\n",
    "plt.show()"
   ]
  },
  {
   "cell_type": "code",
   "execution_count": null,
   "id": "a3db265c-217e-4d63-9858-419b13355921",
   "metadata": {},
   "outputs": [],
   "source": [
    "# IQ ECDF --  long tail in the i-band\n",
    "plt.figure()\n",
    "\n",
    "for label, d in data.items():\n",
    "    ecdf = ECDF(d)\n",
    "    plt.plot(ecdf.x, ecdf.y, \n",
    "             linestyle='-',\n",
    "             color = colors[label],\n",
    "             label=label)\n",
    "\n",
    "# Customize plot\n",
    "plt.xlabel('PSF FWHM [arcsec]')\n",
    "plt.ylabel('Fraction of Sensors')\n",
    "plt.grid(True)\n",
    "plt.legend()\n",
    "plt.savefig(\"../figures/image_quality_histo.png\", \n",
    "            bbox_inches='tight',  # Trim whitespace around the figure\n",
    "            transparent=True,     # Transparent background\n",
    "            format='png')         # Explicit format specification\n",
    "plt.show()"
   ]
  },
  {
   "cell_type": "code",
   "execution_count": null,
   "id": "c93c6839-a90e-437c-b875-0cde884547e1",
   "metadata": {},
   "outputs": [],
   "source": [
    "# Investigate the variation by field -- expect to be minimal\n",
    "# TODO"
   ]
  },
  {
   "cell_type": "code",
   "execution_count": null,
   "id": "93a2ec06-8777-4b1d-9210-4e357aeaeb4a",
   "metadata": {},
   "outputs": [],
   "source": [
    "plt.close()"
   ]
  }
 ],
 "metadata": {
  "kernelspec": {
   "display_name": "LSST",
   "language": "python",
   "name": "lsst"
  },
  "language_info": {
   "codemirror_mode": {
    "name": "ipython",
    "version": 3
   },
   "file_extension": ".py",
   "mimetype": "text/x-python",
   "name": "python",
   "nbconvert_exporter": "python",
   "pygments_lexer": "ipython3",
   "version": "3.12.9"
  }
 },
 "nbformat": 4,
 "nbformat_minor": 5
}
